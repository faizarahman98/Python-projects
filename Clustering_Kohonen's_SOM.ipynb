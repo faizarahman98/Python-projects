{
  "cells": [
    {
      "cell_type": "code",
      "execution_count": null,
      "metadata": {
        "id": "m36_uI_fDGd-"
      },
      "outputs": [],
      "source": []
    },
    {
      "cell_type": "markdown",
      "metadata": {
        "id": "_KXGcDHkYjeE"
      },
      "source": [
        "**TITLE: TO IMPLEMENT KOHONEN'S SOM TO MNIST DATA AND STUDY THE CLUSTERING PROCESS WITH RESPECT TO DIFFERENT VALUES OF HYPERPARAMETERS**\n",
        "\n"
      ]
    },
    {
      "cell_type": "markdown",
      "metadata": {
        "id": "ugWt07qCaP8S"
      },
      "source": [
        "**INTRODUCTION**"
      ]
    },
    {
      "cell_type": "markdown",
      "metadata": {
        "id": "FU7ZLrAuaUWS"
      },
      "source": [
        "**INTUTION BEHIND WORKING OF NEURAL NETWORK**\n",
        "\n",
        "It takes several inputs, processes it through multiple neurons from multiple hidden layers, and returns the result using an output layer. This result estimation process is technically known as “Forward Propagation“.\n",
        "\n",
        "Next, we compare the result with actual output. The task is to make the output to the neural network as close to the actual (desired) output. Each of these neurons is contributing some error to the final output. How do you reduce the error?\n",
        "\n",
        "We try to minimize the value/ weight of neurons that are contributing more to the error and this happens while traveling back to the neurons of the neural network and finding where the error lies. This process is known as “Backward Propagation“.\n",
        "\n",
        "In order to reduce this number of iterations to minimize the error, the neural networks use a common algorithm known as “Gradient Descent”, which helps to optimize the task quickly and efficiently.\n",
        "\n",
        "This is how Neural networks work.\n",
        "\n",
        "**Self Organizing Map (or Kohonen Map or SOM)** is a type of Artificial Neural Network which is also inspired by biological models of neural systems from the 1970s. It follows an unsupervised learning approach and trained its network through a competitive learning algorithm. SOM is used for clustering and mapping (or dimensionality reduction) techniques to map multidimensional data onto lower-dimensional which allows people to reduce complex problems for easy interpretation. SOM has two layers, one is the Input layer and the other one is the Output layer. \n",
        "\n",
        "**How do SOM works?**\n",
        "\n",
        "Let’s say an input data of size (m, n) where m is the number of training examples and n is the number of features in each example. First, it initializes the weights of size (n, C) where C is the number of clusters. Then iterating over the input data, for each training example, it updates the winning vector (weight vector with the shortest distance (e.g Euclidean distance) from training example). Weight updation rule is given by : \n",
        "\n",
        "wij = wij(old) + alpha(t) *  (xik - wij(old))\n",
        "\n",
        "where alpha is a learning rate at time t, j denotes the winning vector, i denotes the ith feature of training example and k denotes the kth training example from the input data. After training the SOM network, trained weights are used for clustering new examples. A new example falls in the cluster of winning vectors. \n",
        "\n",
        "**Algorithm**\n",
        "\n",
        "The steps involved are :  \n",
        "\n",
        "1. Weight initialization\n",
        "\n",
        "2. Select a training example\n",
        "\n",
        "3. Compute the winning vector\n",
        "\n",
        "4. Update the winning vector\n",
        "\n",
        "5. Repeat steps 3, 4, 5 for all training examples.\n",
        "\n",
        "6. Clustering the test sample"
      ]
    },
    {
      "cell_type": "markdown",
      "metadata": {
        "id": "03HawyM5apQr"
      },
      "source": [
        "**OBJECTIVES**"
      ]
    },
    {
      "cell_type": "markdown",
      "metadata": {
        "id": "wKUdsgC-arsS"
      },
      "source": [
        "Here, in this analysis our main objective is,\n",
        "\n",
        "To implement Kohonen's SOM to MNIST data and Study the clustering process with respect to different values of hyperparameters."
      ]
    },
    {
      "cell_type": "markdown",
      "metadata": {
        "id": "y1l8qRZBbXlu"
      },
      "source": [
        "**PACKAGES AND LIBRARIES**"
      ]
    },
    {
      "cell_type": "code",
      "execution_count": null,
      "metadata": {
        "id": "J-3yun2NIbTw"
      },
      "outputs": [],
      "source": [
        "#Loading the pandas and numpy that will be used to handle the data.\n",
        "import numpy as np\n",
        "import pandas as pd\n",
        "\n",
        "#Import train_test_split function\n",
        "from sklearn.model_selection import train_test_split\n",
        "\n",
        "#Import package for visualization\n",
        "import seaborn as sns\n",
        "import matplotlib.pyplot as plt"
      ]
    },
    {
      "cell_type": "code",
      "execution_count": null,
      "metadata": {
        "colab": {
          "base_uri": "https://localhost:8080/"
        },
        "id": "CqAK990C5dE-",
        "outputId": "a0e6f359-49b9-4de9-93bb-3e359b8194c1"
      },
      "outputs": [
        {
          "name": "stdout",
          "output_type": "stream",
          "text": [
            "Collecting minisom\n",
            "  Downloading MiniSom-2.3.0.tar.gz (8.8 kB)\n",
            "Building wheels for collected packages: minisom\n",
            "  Building wheel for minisom (setup.py) ... \u001b[?25l\u001b[?25hdone\n",
            "  Created wheel for minisom: filename=MiniSom-2.3.0-py3-none-any.whl size=9018 sha256=28efff6e94e09639e4d5fbe046979a92ecd5a0eafe22994123cedca4f59bc36b\n",
            "  Stored in directory: /root/.cache/pip/wheels/d4/ca/4a/488772b0399fec45ff53132ed14c948dec4b30deee3a532f80\n",
            "Successfully built minisom\n",
            "Installing collected packages: minisom\n",
            "Successfully installed minisom-2.3.0\n"
          ]
        }
      ],
      "source": [
        "pip install minisom"
      ]
    },
    {
      "cell_type": "code",
      "execution_count": null,
      "metadata": {
        "id": "MTzqyvn1LlYJ"
      },
      "outputs": [],
      "source": [
        "#Loading Minisom library and module which we use later for performing Self Organizing Maps.\n",
        "from minisom import MiniSom \n"
      ]
    },
    {
      "cell_type": "markdown",
      "metadata": {
        "id": "wqLIWdEFbuLr"
      },
      "source": [
        "**METHODOLOGY**"
      ]
    },
    {
      "cell_type": "markdown",
      "metadata": {
        "id": "wm6VLJ5dbw0a"
      },
      "source": [
        "Data Description\n",
        "\n",
        "---\n",
        "\n"
      ]
    },
    {
      "cell_type": "code",
      "execution_count": null,
      "metadata": {
        "colab": {
          "base_uri": "https://localhost:8080/",
          "height": 235
        },
        "id": "3QJvo9IBC81a",
        "outputId": "ac578054-d5ec-4cef-bf77-4261bce5c49e"
      },
      "outputs": [
        {
          "data": {
            "text/html": [
              "\n",
              "  <div id=\"df-09dca259-5986-4dec-a364-0f3360eb7dda\">\n",
              "    <div class=\"colab-df-container\">\n",
              "      <div>\n",
              "<style scoped>\n",
              "    .dataframe tbody tr th:only-of-type {\n",
              "        vertical-align: middle;\n",
              "    }\n",
              "\n",
              "    .dataframe tbody tr th {\n",
              "        vertical-align: top;\n",
              "    }\n",
              "\n",
              "    .dataframe thead th {\n",
              "        text-align: right;\n",
              "    }\n",
              "</style>\n",
              "<table border=\"1\" class=\"dataframe\">\n",
              "  <thead>\n",
              "    <tr style=\"text-align: right;\">\n",
              "      <th></th>\n",
              "      <th>label</th>\n",
              "      <th>1x1</th>\n",
              "      <th>1x2</th>\n",
              "      <th>1x3</th>\n",
              "      <th>1x4</th>\n",
              "      <th>1x5</th>\n",
              "      <th>1x6</th>\n",
              "      <th>1x7</th>\n",
              "      <th>1x8</th>\n",
              "      <th>1x9</th>\n",
              "      <th>...</th>\n",
              "      <th>28x19</th>\n",
              "      <th>28x20</th>\n",
              "      <th>28x21</th>\n",
              "      <th>28x22</th>\n",
              "      <th>28x23</th>\n",
              "      <th>28x24</th>\n",
              "      <th>28x25</th>\n",
              "      <th>28x26</th>\n",
              "      <th>28x27</th>\n",
              "      <th>28x28</th>\n",
              "    </tr>\n",
              "  </thead>\n",
              "  <tbody>\n",
              "    <tr>\n",
              "      <th>0</th>\n",
              "      <td>5</td>\n",
              "      <td>0</td>\n",
              "      <td>0</td>\n",
              "      <td>0</td>\n",
              "      <td>0</td>\n",
              "      <td>0</td>\n",
              "      <td>0</td>\n",
              "      <td>0</td>\n",
              "      <td>0</td>\n",
              "      <td>0</td>\n",
              "      <td>...</td>\n",
              "      <td>0.0</td>\n",
              "      <td>0.0</td>\n",
              "      <td>0.0</td>\n",
              "      <td>0.0</td>\n",
              "      <td>0.0</td>\n",
              "      <td>0.0</td>\n",
              "      <td>0.0</td>\n",
              "      <td>0.0</td>\n",
              "      <td>0.0</td>\n",
              "      <td>0.0</td>\n",
              "    </tr>\n",
              "    <tr>\n",
              "      <th>1</th>\n",
              "      <td>0</td>\n",
              "      <td>0</td>\n",
              "      <td>0</td>\n",
              "      <td>0</td>\n",
              "      <td>0</td>\n",
              "      <td>0</td>\n",
              "      <td>0</td>\n",
              "      <td>0</td>\n",
              "      <td>0</td>\n",
              "      <td>0</td>\n",
              "      <td>...</td>\n",
              "      <td>0.0</td>\n",
              "      <td>0.0</td>\n",
              "      <td>0.0</td>\n",
              "      <td>0.0</td>\n",
              "      <td>0.0</td>\n",
              "      <td>0.0</td>\n",
              "      <td>0.0</td>\n",
              "      <td>0.0</td>\n",
              "      <td>0.0</td>\n",
              "      <td>0.0</td>\n",
              "    </tr>\n",
              "    <tr>\n",
              "      <th>2</th>\n",
              "      <td>4</td>\n",
              "      <td>0</td>\n",
              "      <td>0</td>\n",
              "      <td>0</td>\n",
              "      <td>0</td>\n",
              "      <td>0</td>\n",
              "      <td>0</td>\n",
              "      <td>0</td>\n",
              "      <td>0</td>\n",
              "      <td>0</td>\n",
              "      <td>...</td>\n",
              "      <td>0.0</td>\n",
              "      <td>0.0</td>\n",
              "      <td>0.0</td>\n",
              "      <td>0.0</td>\n",
              "      <td>0.0</td>\n",
              "      <td>0.0</td>\n",
              "      <td>0.0</td>\n",
              "      <td>0.0</td>\n",
              "      <td>0.0</td>\n",
              "      <td>0.0</td>\n",
              "    </tr>\n",
              "    <tr>\n",
              "      <th>3</th>\n",
              "      <td>1</td>\n",
              "      <td>0</td>\n",
              "      <td>0</td>\n",
              "      <td>0</td>\n",
              "      <td>0</td>\n",
              "      <td>0</td>\n",
              "      <td>0</td>\n",
              "      <td>0</td>\n",
              "      <td>0</td>\n",
              "      <td>0</td>\n",
              "      <td>...</td>\n",
              "      <td>0.0</td>\n",
              "      <td>0.0</td>\n",
              "      <td>0.0</td>\n",
              "      <td>0.0</td>\n",
              "      <td>0.0</td>\n",
              "      <td>0.0</td>\n",
              "      <td>0.0</td>\n",
              "      <td>0.0</td>\n",
              "      <td>0.0</td>\n",
              "      <td>0.0</td>\n",
              "    </tr>\n",
              "    <tr>\n",
              "      <th>4</th>\n",
              "      <td>9</td>\n",
              "      <td>0</td>\n",
              "      <td>0</td>\n",
              "      <td>0</td>\n",
              "      <td>0</td>\n",
              "      <td>0</td>\n",
              "      <td>0</td>\n",
              "      <td>0</td>\n",
              "      <td>0</td>\n",
              "      <td>0</td>\n",
              "      <td>...</td>\n",
              "      <td>0.0</td>\n",
              "      <td>0.0</td>\n",
              "      <td>0.0</td>\n",
              "      <td>0.0</td>\n",
              "      <td>0.0</td>\n",
              "      <td>0.0</td>\n",
              "      <td>0.0</td>\n",
              "      <td>0.0</td>\n",
              "      <td>0.0</td>\n",
              "      <td>0.0</td>\n",
              "    </tr>\n",
              "  </tbody>\n",
              "</table>\n",
              "<p>5 rows × 785 columns</p>\n",
              "</div>\n",
              "      <button class=\"colab-df-convert\" onclick=\"convertToInteractive('df-09dca259-5986-4dec-a364-0f3360eb7dda')\"\n",
              "              title=\"Convert this dataframe to an interactive table.\"\n",
              "              style=\"display:none;\">\n",
              "        \n",
              "  <svg xmlns=\"http://www.w3.org/2000/svg\" height=\"24px\"viewBox=\"0 0 24 24\"\n",
              "       width=\"24px\">\n",
              "    <path d=\"M0 0h24v24H0V0z\" fill=\"none\"/>\n",
              "    <path d=\"M18.56 5.44l.94 2.06.94-2.06 2.06-.94-2.06-.94-.94-2.06-.94 2.06-2.06.94zm-11 1L8.5 8.5l.94-2.06 2.06-.94-2.06-.94L8.5 2.5l-.94 2.06-2.06.94zm10 10l.94 2.06.94-2.06 2.06-.94-2.06-.94-.94-2.06-.94 2.06-2.06.94z\"/><path d=\"M17.41 7.96l-1.37-1.37c-.4-.4-.92-.59-1.43-.59-.52 0-1.04.2-1.43.59L10.3 9.45l-7.72 7.72c-.78.78-.78 2.05 0 2.83L4 21.41c.39.39.9.59 1.41.59.51 0 1.02-.2 1.41-.59l7.78-7.78 2.81-2.81c.8-.78.8-2.07 0-2.86zM5.41 20L4 18.59l7.72-7.72 1.47 1.35L5.41 20z\"/>\n",
              "  </svg>\n",
              "      </button>\n",
              "      \n",
              "  <style>\n",
              "    .colab-df-container {\n",
              "      display:flex;\n",
              "      flex-wrap:wrap;\n",
              "      gap: 12px;\n",
              "    }\n",
              "\n",
              "    .colab-df-convert {\n",
              "      background-color: #E8F0FE;\n",
              "      border: none;\n",
              "      border-radius: 50%;\n",
              "      cursor: pointer;\n",
              "      display: none;\n",
              "      fill: #1967D2;\n",
              "      height: 32px;\n",
              "      padding: 0 0 0 0;\n",
              "      width: 32px;\n",
              "    }\n",
              "\n",
              "    .colab-df-convert:hover {\n",
              "      background-color: #E2EBFA;\n",
              "      box-shadow: 0px 1px 2px rgba(60, 64, 67, 0.3), 0px 1px 3px 1px rgba(60, 64, 67, 0.15);\n",
              "      fill: #174EA6;\n",
              "    }\n",
              "\n",
              "    [theme=dark] .colab-df-convert {\n",
              "      background-color: #3B4455;\n",
              "      fill: #D2E3FC;\n",
              "    }\n",
              "\n",
              "    [theme=dark] .colab-df-convert:hover {\n",
              "      background-color: #434B5C;\n",
              "      box-shadow: 0px 1px 3px 1px rgba(0, 0, 0, 0.15);\n",
              "      filter: drop-shadow(0px 1px 2px rgba(0, 0, 0, 0.3));\n",
              "      fill: #FFFFFF;\n",
              "    }\n",
              "  </style>\n",
              "\n",
              "      <script>\n",
              "        const buttonEl =\n",
              "          document.querySelector('#df-09dca259-5986-4dec-a364-0f3360eb7dda button.colab-df-convert');\n",
              "        buttonEl.style.display =\n",
              "          google.colab.kernel.accessAllowed ? 'block' : 'none';\n",
              "\n",
              "        async function convertToInteractive(key) {\n",
              "          const element = document.querySelector('#df-09dca259-5986-4dec-a364-0f3360eb7dda');\n",
              "          const dataTable =\n",
              "            await google.colab.kernel.invokeFunction('convertToInteractive',\n",
              "                                                     [key], {});\n",
              "          if (!dataTable) return;\n",
              "\n",
              "          const docLinkHtml = 'Like what you see? Visit the ' +\n",
              "            '<a target=\"_blank\" href=https://colab.research.google.com/notebooks/data_table.ipynb>data table notebook</a>'\n",
              "            + ' to learn more about interactive tables.';\n",
              "          element.innerHTML = '';\n",
              "          dataTable['output_type'] = 'display_data';\n",
              "          await google.colab.output.renderOutput(dataTable, element);\n",
              "          const docLink = document.createElement('div');\n",
              "          docLink.innerHTML = docLinkHtml;\n",
              "          element.appendChild(docLink);\n",
              "        }\n",
              "      </script>\n",
              "    </div>\n",
              "  </div>\n",
              "  "
            ],
            "text/plain": [
              "   label  1x1  1x2  1x3  1x4  1x5  1x6  1x7  1x8  1x9  ...  28x19  28x20  \\\n",
              "0      5    0    0    0    0    0    0    0    0    0  ...    0.0    0.0   \n",
              "1      0    0    0    0    0    0    0    0    0    0  ...    0.0    0.0   \n",
              "2      4    0    0    0    0    0    0    0    0    0  ...    0.0    0.0   \n",
              "3      1    0    0    0    0    0    0    0    0    0  ...    0.0    0.0   \n",
              "4      9    0    0    0    0    0    0    0    0    0  ...    0.0    0.0   \n",
              "\n",
              "   28x21  28x22  28x23  28x24  28x25  28x26  28x27  28x28  \n",
              "0    0.0    0.0    0.0    0.0    0.0    0.0    0.0    0.0  \n",
              "1    0.0    0.0    0.0    0.0    0.0    0.0    0.0    0.0  \n",
              "2    0.0    0.0    0.0    0.0    0.0    0.0    0.0    0.0  \n",
              "3    0.0    0.0    0.0    0.0    0.0    0.0    0.0    0.0  \n",
              "4    0.0    0.0    0.0    0.0    0.0    0.0    0.0    0.0  \n",
              "\n",
              "[5 rows x 785 columns]"
            ]
          },
          "execution_count": 5,
          "metadata": {},
          "output_type": "execute_result"
        }
      ],
      "source": [
        "#load dataset\n",
        "dataset = pd.read_csv(\"/content/mnist_train.csv\")\n",
        "dataset.head()"
      ]
    },
    {
      "cell_type": "markdown",
      "metadata": {
        "id": "B6BmYFmvqbbx"
      },
      "source": [
        "Exploratory Data Analysis\n",
        "\n",
        "---\n",
        "\n"
      ]
    },
    {
      "cell_type": "markdown",
      "metadata": {
        "id": "UzePZi3Kqfje"
      },
      "source": [
        "Now we perform some basic EDA on this dataset. "
      ]
    },
    {
      "cell_type": "code",
      "execution_count": null,
      "metadata": {
        "colab": {
          "base_uri": "https://localhost:8080/"
        },
        "id": "Sd3UDvpVqgrX",
        "outputId": "04aa398f-a546-42bf-8616-6c43e48477a0"
      },
      "outputs": [
        {
          "data": {
            "text/plain": [
              "(16613, 785)"
            ]
          },
          "execution_count": 8,
          "metadata": {},
          "output_type": "execute_result"
        }
      ],
      "source": [
        "#Obtaining the dimension of the dataset.\n",
        "X.shape"
      ]
    },
    {
      "cell_type": "markdown",
      "metadata": {
        "id": "YnKzSG_nqoqf"
      },
      "source": [
        "It is observed that the dataset comprises of 53929 records and 785 columns(variables) which are described in the data description. "
      ]
    },
    {
      "cell_type": "markdown",
      "metadata": {
        "id": "vyCZSNRtqyOV"
      },
      "source": [
        "From the above table, it is observed that there does not exist any null value in the dataset hence we can further proceed with the analysis."
      ]
    },
    {
      "cell_type": "code",
      "execution_count": null,
      "metadata": {
        "colab": {
          "base_uri": "https://localhost:8080/",
          "height": 393
        },
        "id": "rzuYrV66q2WA",
        "outputId": "eeac09d6-4b3f-4d8c-de8a-b0f3003e641b"
      },
      "outputs": [
        {
          "data": {
            "text/html": [
              "\n",
              "  <div id=\"df-da394d55-11dd-4b42-ba97-89b55c1ee81b\">\n",
              "    <div class=\"colab-df-container\">\n",
              "      <div>\n",
              "<style scoped>\n",
              "    .dataframe tbody tr th:only-of-type {\n",
              "        vertical-align: middle;\n",
              "    }\n",
              "\n",
              "    .dataframe tbody tr th {\n",
              "        vertical-align: top;\n",
              "    }\n",
              "\n",
              "    .dataframe thead th {\n",
              "        text-align: right;\n",
              "    }\n",
              "</style>\n",
              "<table border=\"1\" class=\"dataframe\">\n",
              "  <thead>\n",
              "    <tr style=\"text-align: right;\">\n",
              "      <th></th>\n",
              "      <th>label</th>\n",
              "      <th>1x1</th>\n",
              "      <th>1x2</th>\n",
              "      <th>1x3</th>\n",
              "      <th>1x4</th>\n",
              "      <th>1x5</th>\n",
              "      <th>1x6</th>\n",
              "      <th>1x7</th>\n",
              "      <th>1x8</th>\n",
              "      <th>1x9</th>\n",
              "      <th>...</th>\n",
              "      <th>28x19</th>\n",
              "      <th>28x20</th>\n",
              "      <th>28x21</th>\n",
              "      <th>28x22</th>\n",
              "      <th>28x23</th>\n",
              "      <th>28x24</th>\n",
              "      <th>28x25</th>\n",
              "      <th>28x26</th>\n",
              "      <th>28x27</th>\n",
              "      <th>28x28</th>\n",
              "    </tr>\n",
              "  </thead>\n",
              "  <tbody>\n",
              "    <tr>\n",
              "      <th>count</th>\n",
              "      <td>16623.000000</td>\n",
              "      <td>16623.0</td>\n",
              "      <td>16623.0</td>\n",
              "      <td>16623.0</td>\n",
              "      <td>16623.0</td>\n",
              "      <td>16623.0</td>\n",
              "      <td>16623.0</td>\n",
              "      <td>16623.0</td>\n",
              "      <td>16623.0</td>\n",
              "      <td>16623.0</td>\n",
              "      <td>...</td>\n",
              "      <td>16622.000000</td>\n",
              "      <td>16622.000000</td>\n",
              "      <td>16622.000000</td>\n",
              "      <td>16622.000000</td>\n",
              "      <td>16622.000000</td>\n",
              "      <td>16622.0</td>\n",
              "      <td>16622.0</td>\n",
              "      <td>16622.0</td>\n",
              "      <td>16622.0</td>\n",
              "      <td>16622.0</td>\n",
              "    </tr>\n",
              "    <tr>\n",
              "      <th>mean</th>\n",
              "      <td>4.446129</td>\n",
              "      <td>0.0</td>\n",
              "      <td>0.0</td>\n",
              "      <td>0.0</td>\n",
              "      <td>0.0</td>\n",
              "      <td>0.0</td>\n",
              "      <td>0.0</td>\n",
              "      <td>0.0</td>\n",
              "      <td>0.0</td>\n",
              "      <td>0.0</td>\n",
              "      <td>...</td>\n",
              "      <td>0.194983</td>\n",
              "      <td>0.132535</td>\n",
              "      <td>0.089761</td>\n",
              "      <td>0.054326</td>\n",
              "      <td>0.024606</td>\n",
              "      <td>0.0</td>\n",
              "      <td>0.0</td>\n",
              "      <td>0.0</td>\n",
              "      <td>0.0</td>\n",
              "      <td>0.0</td>\n",
              "    </tr>\n",
              "    <tr>\n",
              "      <th>std</th>\n",
              "      <td>2.894710</td>\n",
              "      <td>0.0</td>\n",
              "      <td>0.0</td>\n",
              "      <td>0.0</td>\n",
              "      <td>0.0</td>\n",
              "      <td>0.0</td>\n",
              "      <td>0.0</td>\n",
              "      <td>0.0</td>\n",
              "      <td>0.0</td>\n",
              "      <td>0.0</td>\n",
              "      <td>...</td>\n",
              "      <td>5.925287</td>\n",
              "      <td>4.715930</td>\n",
              "      <td>4.217209</td>\n",
              "      <td>3.056218</td>\n",
              "      <td>1.644453</td>\n",
              "      <td>0.0</td>\n",
              "      <td>0.0</td>\n",
              "      <td>0.0</td>\n",
              "      <td>0.0</td>\n",
              "      <td>0.0</td>\n",
              "    </tr>\n",
              "    <tr>\n",
              "      <th>min</th>\n",
              "      <td>0.000000</td>\n",
              "      <td>0.0</td>\n",
              "      <td>0.0</td>\n",
              "      <td>0.0</td>\n",
              "      <td>0.0</td>\n",
              "      <td>0.0</td>\n",
              "      <td>0.0</td>\n",
              "      <td>0.0</td>\n",
              "      <td>0.0</td>\n",
              "      <td>0.0</td>\n",
              "      <td>...</td>\n",
              "      <td>0.000000</td>\n",
              "      <td>0.000000</td>\n",
              "      <td>0.000000</td>\n",
              "      <td>0.000000</td>\n",
              "      <td>0.000000</td>\n",
              "      <td>0.0</td>\n",
              "      <td>0.0</td>\n",
              "      <td>0.0</td>\n",
              "      <td>0.0</td>\n",
              "      <td>0.0</td>\n",
              "    </tr>\n",
              "    <tr>\n",
              "      <th>25%</th>\n",
              "      <td>2.000000</td>\n",
              "      <td>0.0</td>\n",
              "      <td>0.0</td>\n",
              "      <td>0.0</td>\n",
              "      <td>0.0</td>\n",
              "      <td>0.0</td>\n",
              "      <td>0.0</td>\n",
              "      <td>0.0</td>\n",
              "      <td>0.0</td>\n",
              "      <td>0.0</td>\n",
              "      <td>...</td>\n",
              "      <td>0.000000</td>\n",
              "      <td>0.000000</td>\n",
              "      <td>0.000000</td>\n",
              "      <td>0.000000</td>\n",
              "      <td>0.000000</td>\n",
              "      <td>0.0</td>\n",
              "      <td>0.0</td>\n",
              "      <td>0.0</td>\n",
              "      <td>0.0</td>\n",
              "      <td>0.0</td>\n",
              "    </tr>\n",
              "    <tr>\n",
              "      <th>50%</th>\n",
              "      <td>4.000000</td>\n",
              "      <td>0.0</td>\n",
              "      <td>0.0</td>\n",
              "      <td>0.0</td>\n",
              "      <td>0.0</td>\n",
              "      <td>0.0</td>\n",
              "      <td>0.0</td>\n",
              "      <td>0.0</td>\n",
              "      <td>0.0</td>\n",
              "      <td>0.0</td>\n",
              "      <td>...</td>\n",
              "      <td>0.000000</td>\n",
              "      <td>0.000000</td>\n",
              "      <td>0.000000</td>\n",
              "      <td>0.000000</td>\n",
              "      <td>0.000000</td>\n",
              "      <td>0.0</td>\n",
              "      <td>0.0</td>\n",
              "      <td>0.0</td>\n",
              "      <td>0.0</td>\n",
              "      <td>0.0</td>\n",
              "    </tr>\n",
              "    <tr>\n",
              "      <th>75%</th>\n",
              "      <td>7.000000</td>\n",
              "      <td>0.0</td>\n",
              "      <td>0.0</td>\n",
              "      <td>0.0</td>\n",
              "      <td>0.0</td>\n",
              "      <td>0.0</td>\n",
              "      <td>0.0</td>\n",
              "      <td>0.0</td>\n",
              "      <td>0.0</td>\n",
              "      <td>0.0</td>\n",
              "      <td>...</td>\n",
              "      <td>0.000000</td>\n",
              "      <td>0.000000</td>\n",
              "      <td>0.000000</td>\n",
              "      <td>0.000000</td>\n",
              "      <td>0.000000</td>\n",
              "      <td>0.0</td>\n",
              "      <td>0.0</td>\n",
              "      <td>0.0</td>\n",
              "      <td>0.0</td>\n",
              "      <td>0.0</td>\n",
              "    </tr>\n",
              "    <tr>\n",
              "      <th>max</th>\n",
              "      <td>9.000000</td>\n",
              "      <td>0.0</td>\n",
              "      <td>0.0</td>\n",
              "      <td>0.0</td>\n",
              "      <td>0.0</td>\n",
              "      <td>0.0</td>\n",
              "      <td>0.0</td>\n",
              "      <td>0.0</td>\n",
              "      <td>0.0</td>\n",
              "      <td>0.0</td>\n",
              "      <td>...</td>\n",
              "      <td>254.000000</td>\n",
              "      <td>254.000000</td>\n",
              "      <td>253.000000</td>\n",
              "      <td>253.000000</td>\n",
              "      <td>154.000000</td>\n",
              "      <td>0.0</td>\n",
              "      <td>0.0</td>\n",
              "      <td>0.0</td>\n",
              "      <td>0.0</td>\n",
              "      <td>0.0</td>\n",
              "    </tr>\n",
              "  </tbody>\n",
              "</table>\n",
              "<p>8 rows × 785 columns</p>\n",
              "</div>\n",
              "      <button class=\"colab-df-convert\" onclick=\"convertToInteractive('df-da394d55-11dd-4b42-ba97-89b55c1ee81b')\"\n",
              "              title=\"Convert this dataframe to an interactive table.\"\n",
              "              style=\"display:none;\">\n",
              "        \n",
              "  <svg xmlns=\"http://www.w3.org/2000/svg\" height=\"24px\"viewBox=\"0 0 24 24\"\n",
              "       width=\"24px\">\n",
              "    <path d=\"M0 0h24v24H0V0z\" fill=\"none\"/>\n",
              "    <path d=\"M18.56 5.44l.94 2.06.94-2.06 2.06-.94-2.06-.94-.94-2.06-.94 2.06-2.06.94zm-11 1L8.5 8.5l.94-2.06 2.06-.94-2.06-.94L8.5 2.5l-.94 2.06-2.06.94zm10 10l.94 2.06.94-2.06 2.06-.94-2.06-.94-.94-2.06-.94 2.06-2.06.94z\"/><path d=\"M17.41 7.96l-1.37-1.37c-.4-.4-.92-.59-1.43-.59-.52 0-1.04.2-1.43.59L10.3 9.45l-7.72 7.72c-.78.78-.78 2.05 0 2.83L4 21.41c.39.39.9.59 1.41.59.51 0 1.02-.2 1.41-.59l7.78-7.78 2.81-2.81c.8-.78.8-2.07 0-2.86zM5.41 20L4 18.59l7.72-7.72 1.47 1.35L5.41 20z\"/>\n",
              "  </svg>\n",
              "      </button>\n",
              "      \n",
              "  <style>\n",
              "    .colab-df-container {\n",
              "      display:flex;\n",
              "      flex-wrap:wrap;\n",
              "      gap: 12px;\n",
              "    }\n",
              "\n",
              "    .colab-df-convert {\n",
              "      background-color: #E8F0FE;\n",
              "      border: none;\n",
              "      border-radius: 50%;\n",
              "      cursor: pointer;\n",
              "      display: none;\n",
              "      fill: #1967D2;\n",
              "      height: 32px;\n",
              "      padding: 0 0 0 0;\n",
              "      width: 32px;\n",
              "    }\n",
              "\n",
              "    .colab-df-convert:hover {\n",
              "      background-color: #E2EBFA;\n",
              "      box-shadow: 0px 1px 2px rgba(60, 64, 67, 0.3), 0px 1px 3px 1px rgba(60, 64, 67, 0.15);\n",
              "      fill: #174EA6;\n",
              "    }\n",
              "\n",
              "    [theme=dark] .colab-df-convert {\n",
              "      background-color: #3B4455;\n",
              "      fill: #D2E3FC;\n",
              "    }\n",
              "\n",
              "    [theme=dark] .colab-df-convert:hover {\n",
              "      background-color: #434B5C;\n",
              "      box-shadow: 0px 1px 3px 1px rgba(0, 0, 0, 0.15);\n",
              "      filter: drop-shadow(0px 1px 2px rgba(0, 0, 0, 0.3));\n",
              "      fill: #FFFFFF;\n",
              "    }\n",
              "  </style>\n",
              "\n",
              "      <script>\n",
              "        const buttonEl =\n",
              "          document.querySelector('#df-da394d55-11dd-4b42-ba97-89b55c1ee81b button.colab-df-convert');\n",
              "        buttonEl.style.display =\n",
              "          google.colab.kernel.accessAllowed ? 'block' : 'none';\n",
              "\n",
              "        async function convertToInteractive(key) {\n",
              "          const element = document.querySelector('#df-da394d55-11dd-4b42-ba97-89b55c1ee81b');\n",
              "          const dataTable =\n",
              "            await google.colab.kernel.invokeFunction('convertToInteractive',\n",
              "                                                     [key], {});\n",
              "          if (!dataTable) return;\n",
              "\n",
              "          const docLinkHtml = 'Like what you see? Visit the ' +\n",
              "            '<a target=\"_blank\" href=https://colab.research.google.com/notebooks/data_table.ipynb>data table notebook</a>'\n",
              "            + ' to learn more about interactive tables.';\n",
              "          element.innerHTML = '';\n",
              "          dataTable['output_type'] = 'display_data';\n",
              "          await google.colab.output.renderOutput(dataTable, element);\n",
              "          const docLink = document.createElement('div');\n",
              "          docLink.innerHTML = docLinkHtml;\n",
              "          element.appendChild(docLink);\n",
              "        }\n",
              "      </script>\n",
              "    </div>\n",
              "  </div>\n",
              "  "
            ],
            "text/plain": [
              "              label      1x1      1x2      1x3      1x4      1x5      1x6  \\\n",
              "count  16623.000000  16623.0  16623.0  16623.0  16623.0  16623.0  16623.0   \n",
              "mean       4.446129      0.0      0.0      0.0      0.0      0.0      0.0   \n",
              "std        2.894710      0.0      0.0      0.0      0.0      0.0      0.0   \n",
              "min        0.000000      0.0      0.0      0.0      0.0      0.0      0.0   \n",
              "25%        2.000000      0.0      0.0      0.0      0.0      0.0      0.0   \n",
              "50%        4.000000      0.0      0.0      0.0      0.0      0.0      0.0   \n",
              "75%        7.000000      0.0      0.0      0.0      0.0      0.0      0.0   \n",
              "max        9.000000      0.0      0.0      0.0      0.0      0.0      0.0   \n",
              "\n",
              "           1x7      1x8      1x9  ...         28x19         28x20  \\\n",
              "count  16623.0  16623.0  16623.0  ...  16622.000000  16622.000000   \n",
              "mean       0.0      0.0      0.0  ...      0.194983      0.132535   \n",
              "std        0.0      0.0      0.0  ...      5.925287      4.715930   \n",
              "min        0.0      0.0      0.0  ...      0.000000      0.000000   \n",
              "25%        0.0      0.0      0.0  ...      0.000000      0.000000   \n",
              "50%        0.0      0.0      0.0  ...      0.000000      0.000000   \n",
              "75%        0.0      0.0      0.0  ...      0.000000      0.000000   \n",
              "max        0.0      0.0      0.0  ...    254.000000    254.000000   \n",
              "\n",
              "              28x21         28x22         28x23    28x24    28x25    28x26  \\\n",
              "count  16622.000000  16622.000000  16622.000000  16622.0  16622.0  16622.0   \n",
              "mean       0.089761      0.054326      0.024606      0.0      0.0      0.0   \n",
              "std        4.217209      3.056218      1.644453      0.0      0.0      0.0   \n",
              "min        0.000000      0.000000      0.000000      0.0      0.0      0.0   \n",
              "25%        0.000000      0.000000      0.000000      0.0      0.0      0.0   \n",
              "50%        0.000000      0.000000      0.000000      0.0      0.0      0.0   \n",
              "75%        0.000000      0.000000      0.000000      0.0      0.0      0.0   \n",
              "max      253.000000    253.000000    154.000000      0.0      0.0      0.0   \n",
              "\n",
              "         28x27    28x28  \n",
              "count  16622.0  16622.0  \n",
              "mean       0.0      0.0  \n",
              "std        0.0      0.0  \n",
              "min        0.0      0.0  \n",
              "25%        0.0      0.0  \n",
              "50%        0.0      0.0  \n",
              "75%        0.0      0.0  \n",
              "max        0.0      0.0  \n",
              "\n",
              "[8 rows x 785 columns]"
            ]
          },
          "execution_count": 9,
          "metadata": {},
          "output_type": "execute_result"
        }
      ],
      "source": [
        "#Obtaining the descriptive measure using describe() function\n",
        "dataset.describe()"
      ]
    },
    {
      "cell_type": "code",
      "execution_count": null,
      "metadata": {
        "colab": {
          "base_uri": "https://localhost:8080/"
        },
        "id": "OYNC_zjuthxU",
        "outputId": "14d9f6d6-28f7-4335-a07d-7f54c56d1f9d"
      },
      "outputs": [
        {
          "data": {
            "text/plain": [
              "age             0\n",
              "job             0\n",
              "marital         0\n",
              "education       0\n",
              "default         0\n",
              "housing         0\n",
              "loan            0\n",
              "contact         0\n",
              "month           0\n",
              "day_of_week     0\n",
              "duration        0\n",
              "campaign        0\n",
              "pdays           0\n",
              "previous        0\n",
              "subscription    0\n",
              "poutcome        0\n",
              "dtype: int64"
            ]
          },
          "execution_count": 11,
          "metadata": {},
          "output_type": "execute_result"
        }
      ],
      "source": [
        "#Finding the sum of missing values per column if present\n",
        "dataset.isnull().sum()"
      ]
    },
    {
      "cell_type": "markdown",
      "metadata": {
        "id": "ehl4mUIRtmzv"
      },
      "source": [
        "Thus there are no null values in the dataset."
      ]
    },
    {
      "cell_type": "markdown",
      "metadata": {
        "id": "7BaFDSuqufSe"
      },
      "source": [
        "Data Preprocessing\n",
        "\n",
        "---\n",
        "\n"
      ]
    },
    {
      "cell_type": "code",
      "execution_count": null,
      "metadata": {
        "colab": {
          "base_uri": "https://localhost:8080/"
        },
        "id": "bvOiy39ZKKhc",
        "outputId": "39fda8cc-faf7-4076-eed8-d01480165d5b"
      },
      "outputs": [
        {
          "data": {
            "text/plain": [
              "array([[0., 0., 0., ..., 0., 0., 0.],\n",
              "       [0., 0., 0., ..., 0., 0., 0.],\n",
              "       [0., 0., 0., ..., 0., 0., 0.],\n",
              "       ...,\n",
              "       [0., 0., 0., ..., 0., 0., 0.],\n",
              "       [0., 0., 0., ..., 0., 0., 0.],\n",
              "       [0., 0., 0., ..., 0., 0., 0.]])"
            ]
          },
          "execution_count": 16,
          "metadata": {},
          "output_type": "execute_result"
        }
      ],
      "source": [
        "#output variable is not needed in the problem since it is unsupervised algorithm. \n",
        "#We can remove output variable label and independent variable are stored under X\n",
        "# Defining X variables for the input of SOM\n",
        "X = dataset.iloc[0:16613, 1:785].values\n",
        "X\n"
      ]
    },
    {
      "cell_type": "code",
      "execution_count": null,
      "metadata": {
        "colab": {
          "base_uri": "https://localhost:8080/",
          "height": 423
        },
        "id": "PSzqUZdkJ_3K",
        "outputId": "ae2edab1-ac8b-4405-b753-f5c845749a6f"
      },
      "outputs": [
        {
          "data": {
            "text/html": [
              "\n",
              "  <div id=\"df-bdaef923-de92-4740-a641-f04a589b4995\">\n",
              "    <div class=\"colab-df-container\">\n",
              "      <div>\n",
              "<style scoped>\n",
              "    .dataframe tbody tr th:only-of-type {\n",
              "        vertical-align: middle;\n",
              "    }\n",
              "\n",
              "    .dataframe tbody tr th {\n",
              "        vertical-align: top;\n",
              "    }\n",
              "\n",
              "    .dataframe thead th {\n",
              "        text-align: right;\n",
              "    }\n",
              "</style>\n",
              "<table border=\"1\" class=\"dataframe\">\n",
              "  <thead>\n",
              "    <tr style=\"text-align: right;\">\n",
              "      <th></th>\n",
              "      <th>0</th>\n",
              "      <th>1</th>\n",
              "      <th>2</th>\n",
              "      <th>3</th>\n",
              "      <th>4</th>\n",
              "      <th>5</th>\n",
              "      <th>6</th>\n",
              "      <th>7</th>\n",
              "      <th>8</th>\n",
              "      <th>9</th>\n",
              "      <th>...</th>\n",
              "      <th>774</th>\n",
              "      <th>775</th>\n",
              "      <th>776</th>\n",
              "      <th>777</th>\n",
              "      <th>778</th>\n",
              "      <th>779</th>\n",
              "      <th>780</th>\n",
              "      <th>781</th>\n",
              "      <th>782</th>\n",
              "      <th>783</th>\n",
              "    </tr>\n",
              "  </thead>\n",
              "  <tbody>\n",
              "    <tr>\n",
              "      <th>0</th>\n",
              "      <td>0.0</td>\n",
              "      <td>0.0</td>\n",
              "      <td>0.0</td>\n",
              "      <td>0.0</td>\n",
              "      <td>0.0</td>\n",
              "      <td>0.0</td>\n",
              "      <td>0.0</td>\n",
              "      <td>0.0</td>\n",
              "      <td>0.0</td>\n",
              "      <td>0.0</td>\n",
              "      <td>...</td>\n",
              "      <td>0.0</td>\n",
              "      <td>0.0</td>\n",
              "      <td>0.0</td>\n",
              "      <td>0.0</td>\n",
              "      <td>0.0</td>\n",
              "      <td>0.0</td>\n",
              "      <td>0.0</td>\n",
              "      <td>0.0</td>\n",
              "      <td>0.0</td>\n",
              "      <td>0.0</td>\n",
              "    </tr>\n",
              "    <tr>\n",
              "      <th>1</th>\n",
              "      <td>0.0</td>\n",
              "      <td>0.0</td>\n",
              "      <td>0.0</td>\n",
              "      <td>0.0</td>\n",
              "      <td>0.0</td>\n",
              "      <td>0.0</td>\n",
              "      <td>0.0</td>\n",
              "      <td>0.0</td>\n",
              "      <td>0.0</td>\n",
              "      <td>0.0</td>\n",
              "      <td>...</td>\n",
              "      <td>0.0</td>\n",
              "      <td>0.0</td>\n",
              "      <td>0.0</td>\n",
              "      <td>0.0</td>\n",
              "      <td>0.0</td>\n",
              "      <td>0.0</td>\n",
              "      <td>0.0</td>\n",
              "      <td>0.0</td>\n",
              "      <td>0.0</td>\n",
              "      <td>0.0</td>\n",
              "    </tr>\n",
              "    <tr>\n",
              "      <th>2</th>\n",
              "      <td>0.0</td>\n",
              "      <td>0.0</td>\n",
              "      <td>0.0</td>\n",
              "      <td>0.0</td>\n",
              "      <td>0.0</td>\n",
              "      <td>0.0</td>\n",
              "      <td>0.0</td>\n",
              "      <td>0.0</td>\n",
              "      <td>0.0</td>\n",
              "      <td>0.0</td>\n",
              "      <td>...</td>\n",
              "      <td>0.0</td>\n",
              "      <td>0.0</td>\n",
              "      <td>0.0</td>\n",
              "      <td>0.0</td>\n",
              "      <td>0.0</td>\n",
              "      <td>0.0</td>\n",
              "      <td>0.0</td>\n",
              "      <td>0.0</td>\n",
              "      <td>0.0</td>\n",
              "      <td>0.0</td>\n",
              "    </tr>\n",
              "    <tr>\n",
              "      <th>3</th>\n",
              "      <td>0.0</td>\n",
              "      <td>0.0</td>\n",
              "      <td>0.0</td>\n",
              "      <td>0.0</td>\n",
              "      <td>0.0</td>\n",
              "      <td>0.0</td>\n",
              "      <td>0.0</td>\n",
              "      <td>0.0</td>\n",
              "      <td>0.0</td>\n",
              "      <td>0.0</td>\n",
              "      <td>...</td>\n",
              "      <td>0.0</td>\n",
              "      <td>0.0</td>\n",
              "      <td>0.0</td>\n",
              "      <td>0.0</td>\n",
              "      <td>0.0</td>\n",
              "      <td>0.0</td>\n",
              "      <td>0.0</td>\n",
              "      <td>0.0</td>\n",
              "      <td>0.0</td>\n",
              "      <td>0.0</td>\n",
              "    </tr>\n",
              "    <tr>\n",
              "      <th>4</th>\n",
              "      <td>0.0</td>\n",
              "      <td>0.0</td>\n",
              "      <td>0.0</td>\n",
              "      <td>0.0</td>\n",
              "      <td>0.0</td>\n",
              "      <td>0.0</td>\n",
              "      <td>0.0</td>\n",
              "      <td>0.0</td>\n",
              "      <td>0.0</td>\n",
              "      <td>0.0</td>\n",
              "      <td>...</td>\n",
              "      <td>0.0</td>\n",
              "      <td>0.0</td>\n",
              "      <td>0.0</td>\n",
              "      <td>0.0</td>\n",
              "      <td>0.0</td>\n",
              "      <td>0.0</td>\n",
              "      <td>0.0</td>\n",
              "      <td>0.0</td>\n",
              "      <td>0.0</td>\n",
              "      <td>0.0</td>\n",
              "    </tr>\n",
              "    <tr>\n",
              "      <th>...</th>\n",
              "      <td>...</td>\n",
              "      <td>...</td>\n",
              "      <td>...</td>\n",
              "      <td>...</td>\n",
              "      <td>...</td>\n",
              "      <td>...</td>\n",
              "      <td>...</td>\n",
              "      <td>...</td>\n",
              "      <td>...</td>\n",
              "      <td>...</td>\n",
              "      <td>...</td>\n",
              "      <td>...</td>\n",
              "      <td>...</td>\n",
              "      <td>...</td>\n",
              "      <td>...</td>\n",
              "      <td>...</td>\n",
              "      <td>...</td>\n",
              "      <td>...</td>\n",
              "      <td>...</td>\n",
              "      <td>...</td>\n",
              "      <td>...</td>\n",
              "    </tr>\n",
              "    <tr>\n",
              "      <th>16608</th>\n",
              "      <td>0.0</td>\n",
              "      <td>0.0</td>\n",
              "      <td>0.0</td>\n",
              "      <td>0.0</td>\n",
              "      <td>0.0</td>\n",
              "      <td>0.0</td>\n",
              "      <td>0.0</td>\n",
              "      <td>0.0</td>\n",
              "      <td>0.0</td>\n",
              "      <td>0.0</td>\n",
              "      <td>...</td>\n",
              "      <td>0.0</td>\n",
              "      <td>0.0</td>\n",
              "      <td>0.0</td>\n",
              "      <td>0.0</td>\n",
              "      <td>0.0</td>\n",
              "      <td>0.0</td>\n",
              "      <td>0.0</td>\n",
              "      <td>0.0</td>\n",
              "      <td>0.0</td>\n",
              "      <td>0.0</td>\n",
              "    </tr>\n",
              "    <tr>\n",
              "      <th>16609</th>\n",
              "      <td>0.0</td>\n",
              "      <td>0.0</td>\n",
              "      <td>0.0</td>\n",
              "      <td>0.0</td>\n",
              "      <td>0.0</td>\n",
              "      <td>0.0</td>\n",
              "      <td>0.0</td>\n",
              "      <td>0.0</td>\n",
              "      <td>0.0</td>\n",
              "      <td>0.0</td>\n",
              "      <td>...</td>\n",
              "      <td>0.0</td>\n",
              "      <td>0.0</td>\n",
              "      <td>0.0</td>\n",
              "      <td>0.0</td>\n",
              "      <td>0.0</td>\n",
              "      <td>0.0</td>\n",
              "      <td>0.0</td>\n",
              "      <td>0.0</td>\n",
              "      <td>0.0</td>\n",
              "      <td>0.0</td>\n",
              "    </tr>\n",
              "    <tr>\n",
              "      <th>16610</th>\n",
              "      <td>0.0</td>\n",
              "      <td>0.0</td>\n",
              "      <td>0.0</td>\n",
              "      <td>0.0</td>\n",
              "      <td>0.0</td>\n",
              "      <td>0.0</td>\n",
              "      <td>0.0</td>\n",
              "      <td>0.0</td>\n",
              "      <td>0.0</td>\n",
              "      <td>0.0</td>\n",
              "      <td>...</td>\n",
              "      <td>0.0</td>\n",
              "      <td>0.0</td>\n",
              "      <td>0.0</td>\n",
              "      <td>0.0</td>\n",
              "      <td>0.0</td>\n",
              "      <td>0.0</td>\n",
              "      <td>0.0</td>\n",
              "      <td>0.0</td>\n",
              "      <td>0.0</td>\n",
              "      <td>0.0</td>\n",
              "    </tr>\n",
              "    <tr>\n",
              "      <th>16611</th>\n",
              "      <td>0.0</td>\n",
              "      <td>0.0</td>\n",
              "      <td>0.0</td>\n",
              "      <td>0.0</td>\n",
              "      <td>0.0</td>\n",
              "      <td>0.0</td>\n",
              "      <td>0.0</td>\n",
              "      <td>0.0</td>\n",
              "      <td>0.0</td>\n",
              "      <td>0.0</td>\n",
              "      <td>...</td>\n",
              "      <td>0.0</td>\n",
              "      <td>0.0</td>\n",
              "      <td>0.0</td>\n",
              "      <td>0.0</td>\n",
              "      <td>0.0</td>\n",
              "      <td>0.0</td>\n",
              "      <td>0.0</td>\n",
              "      <td>0.0</td>\n",
              "      <td>0.0</td>\n",
              "      <td>0.0</td>\n",
              "    </tr>\n",
              "    <tr>\n",
              "      <th>16612</th>\n",
              "      <td>0.0</td>\n",
              "      <td>0.0</td>\n",
              "      <td>0.0</td>\n",
              "      <td>0.0</td>\n",
              "      <td>0.0</td>\n",
              "      <td>0.0</td>\n",
              "      <td>0.0</td>\n",
              "      <td>0.0</td>\n",
              "      <td>0.0</td>\n",
              "      <td>0.0</td>\n",
              "      <td>...</td>\n",
              "      <td>0.0</td>\n",
              "      <td>0.0</td>\n",
              "      <td>0.0</td>\n",
              "      <td>0.0</td>\n",
              "      <td>0.0</td>\n",
              "      <td>0.0</td>\n",
              "      <td>0.0</td>\n",
              "      <td>0.0</td>\n",
              "      <td>0.0</td>\n",
              "      <td>0.0</td>\n",
              "    </tr>\n",
              "  </tbody>\n",
              "</table>\n",
              "<p>16613 rows × 784 columns</p>\n",
              "</div>\n",
              "      <button class=\"colab-df-convert\" onclick=\"convertToInteractive('df-bdaef923-de92-4740-a641-f04a589b4995')\"\n",
              "              title=\"Convert this dataframe to an interactive table.\"\n",
              "              style=\"display:none;\">\n",
              "        \n",
              "  <svg xmlns=\"http://www.w3.org/2000/svg\" height=\"24px\"viewBox=\"0 0 24 24\"\n",
              "       width=\"24px\">\n",
              "    <path d=\"M0 0h24v24H0V0z\" fill=\"none\"/>\n",
              "    <path d=\"M18.56 5.44l.94 2.06.94-2.06 2.06-.94-2.06-.94-.94-2.06-.94 2.06-2.06.94zm-11 1L8.5 8.5l.94-2.06 2.06-.94-2.06-.94L8.5 2.5l-.94 2.06-2.06.94zm10 10l.94 2.06.94-2.06 2.06-.94-2.06-.94-.94-2.06-.94 2.06-2.06.94z\"/><path d=\"M17.41 7.96l-1.37-1.37c-.4-.4-.92-.59-1.43-.59-.52 0-1.04.2-1.43.59L10.3 9.45l-7.72 7.72c-.78.78-.78 2.05 0 2.83L4 21.41c.39.39.9.59 1.41.59.51 0 1.02-.2 1.41-.59l7.78-7.78 2.81-2.81c.8-.78.8-2.07 0-2.86zM5.41 20L4 18.59l7.72-7.72 1.47 1.35L5.41 20z\"/>\n",
              "  </svg>\n",
              "      </button>\n",
              "      \n",
              "  <style>\n",
              "    .colab-df-container {\n",
              "      display:flex;\n",
              "      flex-wrap:wrap;\n",
              "      gap: 12px;\n",
              "    }\n",
              "\n",
              "    .colab-df-convert {\n",
              "      background-color: #E8F0FE;\n",
              "      border: none;\n",
              "      border-radius: 50%;\n",
              "      cursor: pointer;\n",
              "      display: none;\n",
              "      fill: #1967D2;\n",
              "      height: 32px;\n",
              "      padding: 0 0 0 0;\n",
              "      width: 32px;\n",
              "    }\n",
              "\n",
              "    .colab-df-convert:hover {\n",
              "      background-color: #E2EBFA;\n",
              "      box-shadow: 0px 1px 2px rgba(60, 64, 67, 0.3), 0px 1px 3px 1px rgba(60, 64, 67, 0.15);\n",
              "      fill: #174EA6;\n",
              "    }\n",
              "\n",
              "    [theme=dark] .colab-df-convert {\n",
              "      background-color: #3B4455;\n",
              "      fill: #D2E3FC;\n",
              "    }\n",
              "\n",
              "    [theme=dark] .colab-df-convert:hover {\n",
              "      background-color: #434B5C;\n",
              "      box-shadow: 0px 1px 3px 1px rgba(0, 0, 0, 0.15);\n",
              "      filter: drop-shadow(0px 1px 2px rgba(0, 0, 0, 0.3));\n",
              "      fill: #FFFFFF;\n",
              "    }\n",
              "  </style>\n",
              "\n",
              "      <script>\n",
              "        const buttonEl =\n",
              "          document.querySelector('#df-bdaef923-de92-4740-a641-f04a589b4995 button.colab-df-convert');\n",
              "        buttonEl.style.display =\n",
              "          google.colab.kernel.accessAllowed ? 'block' : 'none';\n",
              "\n",
              "        async function convertToInteractive(key) {\n",
              "          const element = document.querySelector('#df-bdaef923-de92-4740-a641-f04a589b4995');\n",
              "          const dataTable =\n",
              "            await google.colab.kernel.invokeFunction('convertToInteractive',\n",
              "                                                     [key], {});\n",
              "          if (!dataTable) return;\n",
              "\n",
              "          const docLinkHtml = 'Like what you see? Visit the ' +\n",
              "            '<a target=\"_blank\" href=https://colab.research.google.com/notebooks/data_table.ipynb>data table notebook</a>'\n",
              "            + ' to learn more about interactive tables.';\n",
              "          element.innerHTML = '';\n",
              "          dataTable['output_type'] = 'display_data';\n",
              "          await google.colab.output.renderOutput(dataTable, element);\n",
              "          const docLink = document.createElement('div');\n",
              "          docLink.innerHTML = docLinkHtml;\n",
              "          element.appendChild(docLink);\n",
              "        }\n",
              "      </script>\n",
              "    </div>\n",
              "  </div>\n",
              "  "
            ],
            "text/plain": [
              "       0    1    2    3    4    5    6    7    8    9    ...  774  775  776  \\\n",
              "0      0.0  0.0  0.0  0.0  0.0  0.0  0.0  0.0  0.0  0.0  ...  0.0  0.0  0.0   \n",
              "1      0.0  0.0  0.0  0.0  0.0  0.0  0.0  0.0  0.0  0.0  ...  0.0  0.0  0.0   \n",
              "2      0.0  0.0  0.0  0.0  0.0  0.0  0.0  0.0  0.0  0.0  ...  0.0  0.0  0.0   \n",
              "3      0.0  0.0  0.0  0.0  0.0  0.0  0.0  0.0  0.0  0.0  ...  0.0  0.0  0.0   \n",
              "4      0.0  0.0  0.0  0.0  0.0  0.0  0.0  0.0  0.0  0.0  ...  0.0  0.0  0.0   \n",
              "...    ...  ...  ...  ...  ...  ...  ...  ...  ...  ...  ...  ...  ...  ...   \n",
              "16608  0.0  0.0  0.0  0.0  0.0  0.0  0.0  0.0  0.0  0.0  ...  0.0  0.0  0.0   \n",
              "16609  0.0  0.0  0.0  0.0  0.0  0.0  0.0  0.0  0.0  0.0  ...  0.0  0.0  0.0   \n",
              "16610  0.0  0.0  0.0  0.0  0.0  0.0  0.0  0.0  0.0  0.0  ...  0.0  0.0  0.0   \n",
              "16611  0.0  0.0  0.0  0.0  0.0  0.0  0.0  0.0  0.0  0.0  ...  0.0  0.0  0.0   \n",
              "16612  0.0  0.0  0.0  0.0  0.0  0.0  0.0  0.0  0.0  0.0  ...  0.0  0.0  0.0   \n",
              "\n",
              "       777  778  779  780  781  782  783  \n",
              "0      0.0  0.0  0.0  0.0  0.0  0.0  0.0  \n",
              "1      0.0  0.0  0.0  0.0  0.0  0.0  0.0  \n",
              "2      0.0  0.0  0.0  0.0  0.0  0.0  0.0  \n",
              "3      0.0  0.0  0.0  0.0  0.0  0.0  0.0  \n",
              "4      0.0  0.0  0.0  0.0  0.0  0.0  0.0  \n",
              "...    ...  ...  ...  ...  ...  ...  ...  \n",
              "16608  0.0  0.0  0.0  0.0  0.0  0.0  0.0  \n",
              "16609  0.0  0.0  0.0  0.0  0.0  0.0  0.0  \n",
              "16610  0.0  0.0  0.0  0.0  0.0  0.0  0.0  \n",
              "16611  0.0  0.0  0.0  0.0  0.0  0.0  0.0  \n",
              "16612  0.0  0.0  0.0  0.0  0.0  0.0  0.0  \n",
              "\n",
              "[16613 rows x 784 columns]"
            ]
          },
          "execution_count": 17,
          "metadata": {},
          "output_type": "execute_result"
        }
      ],
      "source": [
        "#Scaling or normalizing the dataset and stored in a dataframe.\n",
        "from sklearn.preprocessing import MinMaxScaler\n",
        "sc = MinMaxScaler(feature_range = (0, 1))\n",
        "X = sc.fit_transform(X)\n",
        "pd.DataFrame(X)"
      ]
    },
    {
      "cell_type": "markdown",
      "metadata": {
        "id": "VLKiaycC8AN4"
      },
      "source": [
        "***MODELLING:***"
      ]
    },
    {
      "cell_type": "markdown",
      "metadata": {
        "id": "iRNo5tge_ol3"
      },
      "source": [
        "\n",
        "\n",
        "\n",
        "\n",
        "\n",
        "\n",
        "\n",
        "\n",
        "**1. Studying the clustering process with respect to different values of hyperparameters.**\n",
        "\n",
        "\n",
        "\n",
        "---\n",
        "\n"
      ]
    },
    {
      "cell_type": "markdown",
      "metadata": {
        "id": "E-tAWkMF_RAy"
      },
      "source": [
        "**CASE 2:**\n",
        "\n",
        "***When hyperparameters are:***\n",
        "\n",
        " Dimension of output layer is 10 x 10\n",
        "\n",
        " Number of iterations that is number of epochs is 20000\n",
        "\n",
        " Sigma, the radius of neghbourhood is 1\n",
        " \n",
        " Learning rate = 0.5"
      ]
    },
    {
      "cell_type": "code",
      "execution_count": null,
      "metadata": {
        "id": "pXAu4y7y7-oA"
      },
      "outputs": [],
      "source": [
        "# Set the hyper parameters\n",
        "som_grid_rows = 10\n",
        "som_grid_columns = 10\n",
        "iterations = 20000\n",
        "sigma = 1\n",
        "learning_rate = 0.5"
      ]
    },
    {
      "cell_type": "code",
      "execution_count": null,
      "metadata": {
        "id": "uyck94Sv8DOj"
      },
      "outputs": [],
      "source": [
        "# define SOM:\n",
        "\n",
        "som = MiniSom(x = som_grid_rows, y = som_grid_columns, input_len=784, sigma=sigma, learning_rate=learning_rate)\n",
        "\n",
        "# Initializing the weights\n",
        "\n",
        "som.random_weights_init(X)\n",
        "\n",
        "# Training\n",
        "\n",
        "som.train_random(X, iterations)"
      ]
    },
    {
      "cell_type": "code",
      "execution_count": null,
      "metadata": {
        "colab": {
          "base_uri": "https://localhost:8080/"
        },
        "id": "hKe2jhlI8FM1",
        "outputId": "1d8ff58d-d5e0-4355-8d05-c9e4fd6877c2"
      },
      "outputs": [
        {
          "data": {
            "text/plain": [
              "array([[0.23883993, 0.41532594, 0.38015202, 0.4050793 , 0.50955906,\n",
              "        0.58021347, 0.44269415, 0.44119743, 0.51405439, 0.27459914],\n",
              "       [0.44170937, 0.71160734, 0.71822386, 0.63405847, 0.7818321 ,\n",
              "        0.76590244, 0.78822631, 0.74728433, 0.83318913, 0.47784039],\n",
              "       [0.57532688, 0.81300569, 0.77103103, 0.79832129, 0.76707733,\n",
              "        0.84194935, 0.71556081, 0.77251477, 0.74967341, 0.50119391],\n",
              "       [0.53435663, 0.85295226, 0.93352819, 0.82393769, 0.93886882,\n",
              "        0.86444611, 0.81524858, 0.73136487, 0.72873363, 0.44733693],\n",
              "       [0.52518196, 0.84622318, 0.89055869, 1.        , 0.84886546,\n",
              "        0.87615293, 0.73802037, 0.77852306, 0.75423025, 0.49517956],\n",
              "       [0.56079589, 0.84980357, 0.84189223, 0.90611104, 0.87164248,\n",
              "        0.79821089, 0.8103701 , 0.85074633, 0.9209583 , 0.6059148 ],\n",
              "       [0.48187537, 0.78136915, 0.8109875 , 0.80053265, 0.8701017 ,\n",
              "        0.78577863, 0.7756069 , 0.84032805, 0.86602354, 0.59681227],\n",
              "       [0.50140556, 0.77327462, 0.82778659, 0.86167565, 0.84695635,\n",
              "        0.82742454, 0.84356724, 0.89780071, 0.95550183, 0.50508084],\n",
              "       [0.4550181 , 0.82832687, 0.95697662, 0.8055887 , 0.82407718,\n",
              "        0.86607576, 0.88983544, 0.99432481, 0.9263142 , 0.62397924],\n",
              "       [0.30586008, 0.50185043, 0.56697309, 0.54248082, 0.48497762,\n",
              "        0.57811523, 0.59349679, 0.54986647, 0.50536057, 0.30332984]])"
            ]
          },
          "execution_count": 22,
          "metadata": {},
          "output_type": "execute_result"
        }
      ],
      "source": [
        "# Returns the distance map from the weights:\n",
        "som.distance_map()"
      ]
    },
    {
      "cell_type": "code",
      "execution_count": null,
      "metadata": {
        "colab": {
          "base_uri": "https://localhost:8080/",
          "height": 269
        },
        "id": "wVBedvAi8IVz",
        "outputId": "89ba7d96-3fa5-49a7-c4da-68b118b30c43"
      },
      "outputs": [
        {
          "data": {
            "image/png": "[encoded data removed]",
            "text/plain": [
              "<Figure size 432x288 with 2 Axes>"
            ]
          },
          "metadata": {
            "needs_background": "light"
          },
          "output_type": "display_data"
        }
      ],
      "source": [
        "from pylab import plot, axis, show, pcolor, colorbar, bone\n",
        "bone()\n",
        "pcolor(som.distance_map().T) # Distance map as background reference\n",
        "colorbar()\n",
        "show()"
      ]
    },
    {
      "cell_type": "markdown",
      "metadata": {
        "id": "mgg3NeAE_0q8"
      },
      "source": [
        "From the above distance map we can measure the distance between the weight vector and winner neuron nd we can say on observing the above map that darker the color is less is the distance, and lighter the color more is the distance."
      ]
    },
    {
      "cell_type": "code",
      "execution_count": null,
      "metadata": {
        "colab": {
          "base_uri": "https://localhost:8080/",
          "height": 324
        },
        "id": "QQiXWsEr8LqC",
        "outputId": "29e85894-323e-45ce-8b27-610ed978bcad"
      },
      "outputs": [
        {
          "name": "stderr",
          "output_type": "stream",
          "text": [
            "/usr/local/lib/python3.7/dist-packages/ipykernel_launcher.py:15: MatplotlibDeprecationWarning: Support for uppercase single-letter colors is deprecated since Matplotlib 3.1 and will be removed in 3.3; please use lowercase instead.\n",
            "  from ipykernel import kernelapp as app\n"
          ]
        },
        {
          "data": {
            "image/png": "[encoded data removed]",
            "text/plain": [
              "<Figure size 432x288 with 2 Axes>"
            ]
          },
          "metadata": {
            "needs_background": "light"
          },
          "output_type": "display_data"
        }
      ],
      "source": [
        "y = dataset.iloc[:,0].values\n",
        "bone()\n",
        "\n",
        "pcolor(som.distance_map().T)\n",
        "\n",
        "colorbar()\n",
        "markers = ['o', 's','m','M','p','P','*','k','X','b'] \n",
        "\n",
        "colors = ['r', 'g','b','c','m','y','k','khaki','mistyrose','hotpink']\n",
        "\n",
        "for i, x in enumerate(X):\n",
        "\n",
        "    w = som.winner(x)\n",
        "\n",
        "    plot(w[0] + 0.5, w[1] + 0.5, markers[y[i]],  markeredgecolor = colors[y[i]],  markerfacecolor = 'None',  markersize = 10,  markeredgewidth = 2)\n",
        "\n",
        "show()"
      ]
    },
    {
      "cell_type": "markdown",
      "metadata": {
        "id": "Kx9ffdwz9VsB"
      },
      "source": [
        "***CASE 2:***\n",
        "\n",
        " ***When hyperparameters are:***\n",
        "\n",
        " Dimension of output layer is 30 X 30\n",
        "\n",
        " Number of iterations that is number of epochs is 10000\n",
        "\n",
        " Sigma, the radius of neghbourhood is 2\n",
        " \n",
        " Learning rate = 0.8"
      ]
    },
    {
      "cell_type": "code",
      "execution_count": null,
      "metadata": {
        "id": "WDSgrNbL9XfK"
      },
      "outputs": [],
      "source": [
        "# Setting different hyper parameters\n",
        "som_grid_rows1 = 30\n",
        "som_grid_columns1 = 30\n",
        "iterations1 = 10000\n",
        "sigma1 = 2\n",
        "learning_rate1 = 0.8"
      ]
    },
    {
      "cell_type": "code",
      "execution_count": null,
      "metadata": {
        "id": "hiXBPyBQ9bCI"
      },
      "outputs": [],
      "source": [
        "# define SOM:\n",
        "\n",
        "som1 = MiniSom(x = som_grid_rows1, y = som_grid_columns1, input_len=784, sigma=sigma1, learning_rate=learning_rate1)\n",
        "\n",
        "# Initializing the weights\n",
        "\n",
        "som1.random_weights_init(X)\n",
        "\n",
        "# Training\n",
        "\n",
        "som1.train_random(X, iterations1)"
      ]
    },
    {
      "cell_type": "code",
      "execution_count": null,
      "metadata": {
        "colab": {
          "base_uri": "https://localhost:8080/"
        },
        "id": "n63VftuE9flg",
        "outputId": "9ef325a4-f0f9-4da8-9f1e-d01d77110586"
      },
      "outputs": [
        {
          "data": {
            "text/plain": [
              "array([[0.26826176, 0.37728906, 0.44367896, 0.50773549, 0.4120792 ,\n",
              "        0.40519541, 0.34130395, 0.36482566, 0.40675961, 0.42075584,\n",
              "        0.35467249, 0.36825417, 0.39420689, 0.35683534, 0.27944983,\n",
              "        0.24235908, 0.26133059, 0.28255653, 0.33591973, 0.39397344,\n",
              "        0.35941574, 0.35005827, 0.33337577, 0.32211964, 0.35972314,\n",
              "        0.3748698 , 0.30937035, 0.3761703 , 0.32463347, 0.26333228],\n",
              "       [0.37858486, 0.6955846 , 0.73289748, 0.76061321, 0.73558522,\n",
              "        0.67453646, 0.57161448, 0.63506235, 0.61279167, 0.61440755,\n",
              "        0.60008815, 0.57317675, 0.59810419, 0.58762656, 0.47584447,\n",
              "        0.39622419, 0.41267871, 0.41068257, 0.48883185, 0.5926949 ,\n",
              "        0.60029015, 0.53952105, 0.50179738, 0.56738255, 0.60792379,\n",
              "        0.58644493, 0.61492808, 0.6004419 , 0.59603687, 0.32879404],\n",
              "       [0.46734553, 0.64122431, 0.77914901, 0.77343572, 0.74273318,\n",
              "        0.69894213, 0.62764197, 0.567172  , 0.59475012, 0.48956089,\n",
              "        0.57510126, 0.56764037, 0.64537188, 0.58301463, 0.50119811,\n",
              "        0.43407063, 0.37769908, 0.42796151, 0.41606159, 0.53077848,\n",
              "        0.65330775, 0.68549301, 0.54838108, 0.57988132, 0.61954449,\n",
              "        0.70449638, 0.67362837, 0.72241313, 0.65849193, 0.42875507],\n",
              "       [0.37061628, 0.72731062, 0.68507684, 0.7313189 , 0.78132309,\n",
              "        0.64027856, 0.65774292, 0.59316277, 0.52546441, 0.51825962,\n",
              "        0.55226797, 0.51983932, 0.54291047, 0.57715069, 0.50241215,\n",
              "        0.38823669, 0.39976376, 0.39756445, 0.43321543, 0.54204107,\n",
              "        0.61899638, 0.61721375, 0.62995631, 0.6107985 , 0.70911384,\n",
              "        0.74497798, 0.72084139, 0.74638218, 0.74919858, 0.41618631],\n",
              "       [0.38359402, 0.64341543, 0.67901598, 0.70226534, 0.83032204,\n",
              "        0.71884014, 0.8183655 , 0.69041394, 0.59161732, 0.5833875 ,\n",
              "        0.57215133, 0.5913631 , 0.56137947, 0.60962019, 0.53869472,\n",
              "        0.41564201, 0.43098844, 0.44909414, 0.47261172, 0.61784515,\n",
              "        0.70336445, 0.63821062, 0.59169474, 0.67818721, 0.76510809,\n",
              "        0.73509824, 0.73338379, 0.77773145, 0.6723941 , 0.40719177],\n",
              "       [0.40170306, 0.64931576, 0.63605654, 0.68276536, 0.67900651,\n",
              "        0.77379325, 0.75502997, 0.78492819, 0.73566044, 0.59125483,\n",
              "        0.6062841 , 0.5615003 , 0.6497714 , 0.67521637, 0.66226191,\n",
              "        0.63799635, 0.63092496, 0.68785145, 0.70155384, 0.77242558,\n",
              "        0.79840475, 0.62265336, 0.604871  , 0.71157339, 0.75102805,\n",
              "        0.68516237, 0.70318786, 0.615112  , 0.59240871, 0.36707583],\n",
              "       [0.40803918, 0.6325663 , 0.61428552, 0.6327412 , 0.6122588 ,\n",
              "        0.60743019, 0.78241171, 0.74742715, 0.62396172, 0.60822818,\n",
              "        0.51241303, 0.50800057, 0.61206431, 0.69764911, 0.87461602,\n",
              "        0.82997589, 0.88101575, 0.86008968, 0.91910666, 0.86630144,\n",
              "        0.74126173, 0.62013559, 0.57230859, 0.67981863, 0.68730021,\n",
              "        0.74237784, 0.6206316 , 0.64504991, 0.6071863 , 0.3448098 ],\n",
              "       [0.44153391, 0.62954652, 0.67063891, 0.65397067, 0.66344902,\n",
              "        0.67464718, 0.65481185, 0.70100243, 0.61618875, 0.48321514,\n",
              "        0.45244578, 0.50142942, 0.61146283, 0.71024108, 0.70899337,\n",
              "        0.76981927, 0.75402297, 0.76464041, 0.67592073, 0.80902989,\n",
              "        0.72541175, 0.67089819, 0.58411247, 0.68905839, 0.7775577 ,\n",
              "        0.7507374 , 0.70675809, 0.72822666, 0.72893237, 0.42884725],\n",
              "       [0.37763984, 0.66092187, 0.74701974, 0.79149049, 0.7541063 ,\n",
              "        0.74048216, 0.79938958, 0.66704564, 0.57369906, 0.52724205,\n",
              "        0.51093282, 0.56184689, 0.608008  , 0.82533388, 0.68397206,\n",
              "        0.66906418, 0.57759147, 0.67864199, 0.67330509, 0.68684802,\n",
              "        0.69741605, 0.63815778, 0.66264352, 0.8457882 , 0.79024891,\n",
              "        0.80313662, 0.72831973, 0.71779705, 0.69044978, 0.38632614],\n",
              "       [0.44883825, 0.74518291, 0.78442327, 0.78585571, 0.77743406,\n",
              "        0.66744067, 0.64283254, 0.6856935 , 0.58929822, 0.56934968,\n",
              "        0.53631543, 0.55017338, 0.65913237, 0.71664352, 0.75278468,\n",
              "        0.77068713, 0.68354744, 0.62418149, 0.66779873, 0.67650729,\n",
              "        0.66744618, 0.76241658, 0.64827172, 0.6470866 , 0.78990396,\n",
              "        0.79191189, 0.7032004 , 0.7306007 , 0.55678738, 0.33561774],\n",
              "       [0.53798759, 0.69404684, 0.66702296, 0.68386744, 0.61350944,\n",
              "        0.62612969, 0.67056238, 0.6788377 , 0.58890362, 0.50975855,\n",
              "        0.5298595 , 0.51470427, 0.59731257, 0.5701417 , 0.73149608,\n",
              "        0.70731395, 0.74657762, 0.69398884, 0.65590948, 0.71250363,\n",
              "        0.75777173, 0.72674864, 0.70794351, 0.78822704, 0.68475757,\n",
              "        0.66784797, 0.75868579, 0.6188296 , 0.56551776, 0.30957161],\n",
              "       [0.36025992, 0.59526628, 0.5139185 , 0.56412251, 0.64026094,\n",
              "        0.61635558, 0.70008344, 0.69109902, 0.69301355, 0.48633598,\n",
              "        0.56234309, 0.53882542, 0.54916552, 0.59669555, 0.47727261,\n",
              "        0.71511441, 0.76424712, 0.76846753, 0.72144785, 0.76617995,\n",
              "        0.75225167, 0.80031109, 0.81040736, 0.66264615, 0.73591699,\n",
              "        0.69360765, 0.5960814 , 0.54629448, 0.47681869, 0.30013091],\n",
              "       [0.33004099, 0.63503967, 0.53712002, 0.59291221, 0.60777185,\n",
              "        0.6761282 , 0.65653253, 0.83448014, 0.67353668, 0.63502438,\n",
              "        0.55954849, 0.57954943, 0.55030206, 0.53745167, 0.60278341,\n",
              "        0.63538726, 0.7316361 , 0.76227499, 0.7753584 , 0.81057314,\n",
              "        0.8345651 , 0.84923378, 0.75197124, 0.82227185, 0.66282884,\n",
              "        0.6133091 , 0.55191813, 0.46378439, 0.4860652 , 0.31811488],\n",
              "       [0.3961939 , 0.57849698, 0.67685476, 0.66248225, 0.65463181,\n",
              "        0.58777508, 0.71641653, 0.75136475, 0.71169543, 0.67934508,\n",
              "        0.62971417, 0.69272303, 0.53094263, 0.59100543, 0.65775688,\n",
              "        0.66153315, 0.6973753 , 0.60684981, 0.67443898, 0.78441763,\n",
              "        0.83846293, 0.84338591, 0.8451585 , 0.78039881, 0.68907561,\n",
              "        0.57816389, 0.54004327, 0.5172101 , 0.51975684, 0.34175095],\n",
              "       [0.33688578, 0.60071286, 0.65833744, 0.72708392, 0.76541238,\n",
              "        0.61391588, 0.57747217, 0.63568261, 0.7294241 , 0.70662055,\n",
              "        0.70349054, 0.59148258, 0.5846196 , 0.57060885, 0.58334761,\n",
              "        0.62456015, 0.56145781, 0.62039029, 0.58335586, 0.65555718,\n",
              "        0.67019408, 0.67114289, 0.86672988, 0.79711016, 0.67563684,\n",
              "        0.50321086, 0.56321573, 0.61532821, 0.62790563, 0.38192637],\n",
              "       [0.41114945, 0.64298303, 0.6406336 , 0.76989919, 0.63421031,\n",
              "        0.65163987, 0.61737594, 0.62479319, 0.69162359, 0.69609263,\n",
              "        0.65587438, 0.65899965, 0.62411223, 0.49690192, 0.5764898 ,\n",
              "        0.60862416, 0.63473104, 0.58749716, 0.6582198 , 0.61934597,\n",
              "        0.63733102, 0.66824184, 0.80014023, 0.82563301, 0.6457576 ,\n",
              "        0.52159746, 0.5281692 , 0.58703511, 0.658041  , 0.42684751],\n",
              "       [0.36394279, 0.6538774 , 0.75390039, 0.63956497, 0.68776936,\n",
              "        0.639124  , 0.64663905, 0.69361127, 0.69258902, 0.64647995,\n",
              "        0.70806191, 0.65021289, 0.57172521, 0.66649346, 0.67539999,\n",
              "        0.67203493, 0.74246968, 0.73995406, 0.70031159, 0.72141335,\n",
              "        0.77405714, 0.78513634, 0.84239571, 0.73743283, 0.56212928,\n",
              "        0.4858223 , 0.4964657 , 0.57273368, 0.60368591, 0.39356633],\n",
              "       [0.36232531, 0.60166445, 0.69876838, 0.72786565, 0.66307663,\n",
              "        0.64018167, 0.81538498, 0.74762364, 0.79687611, 0.67502824,\n",
              "        0.58349025, 0.62782402, 0.68627333, 0.67507495, 0.73003423,\n",
              "        0.87553204, 0.76869682, 0.83194535, 0.71506214, 0.78074496,\n",
              "        0.84566769, 0.86871859, 0.73982245, 0.64318803, 0.52231841,\n",
              "        0.5129013 , 0.58496994, 0.60012211, 0.63655507, 0.32640723],\n",
              "       [0.38671354, 0.71332288, 0.77655726, 0.73769067, 0.67783957,\n",
              "        0.75916834, 0.86509953, 0.88996742, 0.77500558, 0.706108  ,\n",
              "        0.66463859, 0.60451583, 0.63951202, 0.64715787, 0.73328424,\n",
              "        0.75552594, 0.74965982, 0.69836322, 0.68206009, 0.78711745,\n",
              "        0.74000997, 0.71261745, 0.65648043, 0.47918571, 0.4716882 ,\n",
              "        0.5198078 , 0.58917056, 0.66091929, 0.6063549 , 0.38881076],\n",
              "       [0.4376056 , 0.79135084, 0.80850694, 0.81504345, 0.7450215 ,\n",
              "        0.89663361, 0.8294487 , 0.75335337, 0.79179711, 0.73803148,\n",
              "        0.65745435, 0.56600989, 0.59502889, 0.6490293 , 0.6026259 ,\n",
              "        0.67584598, 0.74524647, 0.71457228, 0.7520663 , 0.65856734,\n",
              "        0.63343536, 0.5687949 , 0.54030189, 0.54450079, 0.47913356,\n",
              "        0.52677057, 0.54115472, 0.56573261, 0.62537165, 0.35310964],\n",
              "       [0.5166878 , 0.84323001, 0.8685662 , 0.84458533, 0.83475397,\n",
              "        0.83193515, 0.7637707 , 0.65336907, 0.55554622, 0.74172699,\n",
              "        0.67499686, 0.7162797 , 0.62092788, 0.53981848, 0.59119887,\n",
              "        0.60118679, 0.62679156, 0.67591965, 0.63132923, 0.62671059,\n",
              "        0.57226632, 0.66658027, 0.61078008, 0.53487023, 0.51476781,\n",
              "        0.48967907, 0.52649008, 0.53317199, 0.51032446, 0.32222595],\n",
              "       [0.52500432, 0.79894862, 0.884649  , 0.81295962, 1.        ,\n",
              "        0.79714666, 0.78755485, 0.64928896, 0.64082091, 0.63756693,\n",
              "        0.66098693, 0.63523765, 0.63749971, 0.57191391, 0.47077933,\n",
              "        0.55422734, 0.56163846, 0.58183305, 0.61145719, 0.61265617,\n",
              "        0.63032506, 0.67380702, 0.66401435, 0.63115548, 0.50259494,\n",
              "        0.58512552, 0.56899571, 0.53167178, 0.58175519, 0.37303553],\n",
              "       [0.39057481, 0.72996546, 0.66729037, 0.78725882, 0.713949  ,\n",
              "        0.71191505, 0.69878981, 0.62462889, 0.57223807, 0.53580961,\n",
              "        0.53233526, 0.55818044, 0.6075999 , 0.59483852, 0.55209526,\n",
              "        0.55129613, 0.55829874, 0.6080835 , 0.63010387, 0.64876034,\n",
              "        0.69823107, 0.64010588, 0.66268231, 0.64251035, 0.65964066,\n",
              "        0.6437701 , 0.64499108, 0.65544273, 0.6703781 , 0.43766398],\n",
              "       [0.4893785 , 0.65551661, 0.69370374, 0.65111387, 0.66000642,\n",
              "        0.57807409, 0.55175593, 0.49189809, 0.47308666, 0.48234675,\n",
              "        0.48702645, 0.45231699, 0.5077392 , 0.57851398, 0.64775369,\n",
              "        0.5425996 , 0.55163819, 0.59853479, 0.62684666, 0.67456113,\n",
              "        0.68297629, 0.67271458, 0.70042049, 0.67891275, 0.70686937,\n",
              "        0.75339066, 0.84623279, 0.79856085, 0.66527   , 0.42327758],\n",
              "       [0.46941175, 0.70264942, 0.68205104, 0.64502697, 0.7030484 ,\n",
              "        0.57351208, 0.49203983, 0.52643777, 0.51834372, 0.5432333 ,\n",
              "        0.53561455, 0.49078568, 0.53600666, 0.61499608, 0.59798205,\n",
              "        0.56860328, 0.55822692, 0.5518837 , 0.64820235, 0.73350135,\n",
              "        0.71968608, 0.71636499, 0.67796912, 0.7037386 , 0.69904225,\n",
              "        0.78432813, 0.83118391, 0.85522412, 0.87199802, 0.45968091],\n",
              "       [0.34693115, 0.52313535, 0.54408295, 0.69735272, 0.63703633,\n",
              "        0.59651232, 0.56787286, 0.5686595 , 0.57308794, 0.63472432,\n",
              "        0.54312775, 0.54284611, 0.52435114, 0.63422184, 0.61754272,\n",
              "        0.6218127 , 0.58368411, 0.70833209, 0.86108302, 0.71256286,\n",
              "        0.71287133, 0.71312243, 0.74535746, 0.68199284, 0.68484557,\n",
              "        0.73786082, 0.88318422, 0.82230338, 0.78186909, 0.52369582],\n",
              "       [0.23352202, 0.43448293, 0.43235711, 0.46629878, 0.56558282,\n",
              "        0.6301645 , 0.57516356, 0.58339786, 0.70476   , 0.55067312,\n",
              "        0.68373159, 0.57130388, 0.59557765, 0.59491657, 0.64195439,\n",
              "        0.650414  , 0.78770084, 0.87235716, 0.84908215, 0.78943406,\n",
              "        0.62483685, 0.61903301, 0.65754646, 0.66422378, 0.69029148,\n",
              "        0.64781405, 0.65363026, 0.71504126, 0.74955792, 0.45609815],\n",
              "       [0.23558218, 0.40795219, 0.46496927, 0.40629089, 0.41737089,\n",
              "        0.49743646, 0.63134981, 0.69161261, 0.6330664 , 0.58920293,\n",
              "        0.55000322, 0.61713835, 0.63821002, 0.60073219, 0.59640773,\n",
              "        0.59136558, 0.68417159, 0.86893059, 0.95254308, 0.71473264,\n",
              "        0.61751784, 0.61070091, 0.5900192 , 0.62375604, 0.56304419,\n",
              "        0.66998477, 0.61753882, 0.64978586, 0.71214999, 0.49983912],\n",
              "       [0.23724276, 0.45499243, 0.45704444, 0.41284416, 0.38494058,\n",
              "        0.384555  , 0.53505883, 0.64904952, 0.6873144 , 0.50960364,\n",
              "        0.58502789, 0.64686243, 0.59816621, 0.5506798 , 0.53218775,\n",
              "        0.50539733, 0.73810526, 0.74002212, 0.75098422, 0.67730472,\n",
              "        0.59844507, 0.55871606, 0.64295734, 0.56036386, 0.59239734,\n",
              "        0.54154074, 0.58860735, 0.69035022, 0.69395497, 0.45922657],\n",
              "       [0.15013431, 0.27823428, 0.34698514, 0.27439745, 0.20674381,\n",
              "        0.2480609 , 0.31068601, 0.43973943, 0.42555861, 0.32271754,\n",
              "        0.34132044, 0.39856556, 0.41895273, 0.33245428, 0.29377273,\n",
              "        0.33817647, 0.35757547, 0.44982001, 0.49417751, 0.43846988,\n",
              "        0.37570756, 0.37165775, 0.36655912, 0.40573775, 0.37533763,\n",
              "        0.3588219 , 0.36828498, 0.39814107, 0.41442284, 0.22364979]])"
            ]
          },
          "execution_count": 32,
          "metadata": {},
          "output_type": "execute_result"
        }
      ],
      "source": [
        "# Returns the distance map from the weights:\n",
        "som1.distance_map()"
      ]
    },
    {
      "cell_type": "code",
      "execution_count": null,
      "metadata": {
        "colab": {
          "base_uri": "https://localhost:8080/",
          "height": 269
        },
        "id": "jD4v4jvt9hRD",
        "outputId": "8e2b12af-4e7e-42a1-925f-1b6156c5fdef"
      },
      "outputs": [
        {
          "data": {
            "image/png": "[encoded data removed]",
            "text/plain": [
              "<Figure size 432x288 with 2 Axes>"
            ]
          },
          "metadata": {
            "needs_background": "light"
          },
          "output_type": "display_data"
        }
      ],
      "source": [
        "from pylab import plot, axis, show, pcolor, colorbar, bone\n",
        "bone()\n",
        "pcolor(som1.distance_map().T) # Distance map as background reference\n",
        "colorbar()\n",
        "show()"
      ]
    },
    {
      "cell_type": "markdown",
      "metadata": {
        "id": "sbkdLvCbALIj"
      },
      "source": [
        "From the above distance map we can measure the distance between the weight vector and winner neuron nd we can say on observing the above map that darker the color is less is the distance, and lighter the color more is the distance."
      ]
    },
    {
      "cell_type": "code",
      "execution_count": null,
      "metadata": {
        "colab": {
          "base_uri": "https://localhost:8080/",
          "height": 269
        },
        "id": "KfxG8Av79jkz",
        "outputId": "7a6d784b-b4ff-457a-e314-6c35be9d4074"
      },
      "outputs": [
        {
          "data": {
            "image/png": "[encoded data removed]",
            "text/plain": [
              "<Figure size 432x288 with 2 Axes>"
            ]
          },
          "metadata": {
            "needs_background": "light"
          },
          "output_type": "display_data"
        }
      ],
      "source": [
        "y = dataset.iloc[:,0].values\n",
        "bone()\n",
        "\n",
        "pcolor(som1.distance_map().T)\n",
        "\n",
        "colorbar()\n",
        "markers = ['o', 's','m','M','p','P','*','k','X','b'] \n",
        "\n",
        "colors = ['r', 'g','b','c','m','y','k','khaki','mistyrose','hotpink']\n",
        "\n",
        "for i, x in enumerate(X):\n",
        "\n",
        "    w = som.winner(x)\n",
        "\n",
        "    plot(w[0] + 0.5, w[1] + 0.5, markers[y[i]],  markeredgecolor = colors[y[i]],  markerfacecolor = 'None',  markersize = 10,  markeredgewidth = 2)\n",
        "\n",
        "show()"
      ]
    },
    {
      "cell_type": "markdown",
      "metadata": {
        "id": "4TVwx-WF8QDp"
      },
      "source": [
        "***CASE 3:***\n",
        "\n",
        " ***When hyperparameters are:***\n",
        "\n",
        " Dimension of output layer is 5 X 5\n",
        "\n",
        " Number of iterations that is number of epochs is 20000\n",
        "\n",
        " Sigma, the radius of neghbourhood is 1\n",
        " \n",
        " Learning rate = 0.5"
      ]
    },
    {
      "cell_type": "code",
      "execution_count": null,
      "metadata": {
        "id": "wYx-6ACF8naC"
      },
      "outputs": [],
      "source": [
        "# Setting different hyper parameters\n",
        "som_grid_rows2 = 5\n",
        "som_grid_columns2 = 5\n",
        "iterations2 = 20000\n",
        "sigma2 = 1\n",
        "learning_rate2= 0.5"
      ]
    },
    {
      "cell_type": "code",
      "execution_count": null,
      "metadata": {
        "id": "E6iGohw-8uiV"
      },
      "outputs": [],
      "source": [
        "# define SOM:\n",
        "\n",
        "som2 = MiniSom(x = som_grid_rows2, y = som_grid_columns2, input_len=784, sigma=sigma2, learning_rate=learning_rate2)\n",
        "\n",
        "# Initializing the weights\n",
        "\n",
        "som2.random_weights_init(X)\n",
        "\n",
        "# Training\n",
        "\n",
        "som2.train_random(X, iterations2)"
      ]
    },
    {
      "cell_type": "code",
      "execution_count": null,
      "metadata": {
        "colab": {
          "base_uri": "https://localhost:8080/"
        },
        "id": "rFvwifbo8zJI",
        "outputId": "e6580ed8-cb2c-4a18-d052-8595d562fc0b"
      },
      "outputs": [
        {
          "data": {
            "text/plain": [
              "array([[0.41172332, 0.58294642, 0.52105626, 0.61625804, 0.4777958 ],\n",
              "       [0.5887916 , 0.9053387 , 0.93489143, 1.        , 0.75126267],\n",
              "       [0.62479282, 0.90686126, 0.88644184, 0.95929727, 0.63987426],\n",
              "       [0.56843769, 0.81246774, 0.79626113, 0.8697423 , 0.4600809 ],\n",
              "       [0.33457914, 0.50150837, 0.50680912, 0.48741514, 0.30297726]])"
            ]
          },
          "execution_count": 27,
          "metadata": {},
          "output_type": "execute_result"
        }
      ],
      "source": [
        "# Returns the distance map from the weights:\n",
        "som2.distance_map()"
      ]
    },
    {
      "cell_type": "code",
      "execution_count": null,
      "metadata": {
        "colab": {
          "base_uri": "https://localhost:8080/",
          "height": 269
        },
        "id": "_MzIZx-380xs",
        "outputId": "f4bf5f3a-cdc8-4739-ea3f-6ec811e484a5"
      },
      "outputs": [
        {
          "data": {
            "image/png": "[encoded data removed]",
            "text/plain": [
              "<Figure size 432x288 with 2 Axes>"
            ]
          },
          "metadata": {
            "needs_background": "light"
          },
          "output_type": "display_data"
        }
      ],
      "source": [
        "from pylab import plot, axis, show, pcolor, colorbar, bone\n",
        "bone()\n",
        "pcolor(som2.distance_map().T) # Distance map as background reference\n",
        "colorbar()\n",
        "show()"
      ]
    },
    {
      "cell_type": "markdown",
      "metadata": {
        "id": "AbIPjELjAev3"
      },
      "source": [
        "From the above distance map we can measure the distance between the weight vector and winner neuron nd we can say on observing the above map that darker the color is less is the distance, and lighter the color more is the distance."
      ]
    },
    {
      "cell_type": "code",
      "execution_count": null,
      "metadata": {
        "colab": {
          "base_uri": "https://localhost:8080/",
          "height": 269
        },
        "id": "C-iKV9pG84E8",
        "outputId": "e0327949-7319-46f1-b61c-1d3924f763b8"
      },
      "outputs": [
        {
          "data": {
            "image/png": "[encoded data removed]",
            "text/plain": [
              "<Figure size 432x288 with 2 Axes>"
            ]
          },
          "metadata": {
            "needs_background": "light"
          },
          "output_type": "display_data"
        }
      ],
      "source": [
        "y = dataset.iloc[:,0].values\n",
        "bone()\n",
        "\n",
        "pcolor(som2.distance_map().T)\n",
        "\n",
        "colorbar()\n",
        "markers = ['o', 's','m','M','p','P','*','k','X','b'] \n",
        "\n",
        "colors = ['r', 'g','b','c','m','y','k','y','mistyrose','hotpink']\n",
        "\n",
        "for i, x in enumerate(X):\n",
        "\n",
        "    w = som.winner(x)\n",
        "\n",
        "    plot(w[0] + 0.5, w[1] + 0.5, markers[y[i]],  markeredgecolor = colors[y[i]],  markerfacecolor = 'None',  markersize = 10,  markeredgewidth = 2)\n",
        "\n",
        "show()"
      ]
    },
    {
      "cell_type": "markdown",
      "metadata": {
        "id": "74X-iFXA0IcZ"
      },
      "source": [
        "**CONCLUSION**"
      ]
    },
    {
      "cell_type": "markdown",
      "metadata": {
        "id": "Y-Jx50Ul0KKm"
      },
      "source": [
        "* From the Basic Explanatory Analysis we observe that there are 4584 rows and 785 columns,and we observe that all the values are the combination of float and integer datatype.\n",
        "* As the algorithmn steps ,fiest here we initialize weights ,then compute the eucledian distance ,we then consider the minimum weight and that partcular neuron is the winner ,then the radius of neighborhood is fixed by default the value is 1 ,and then we update the weights.Here,the hyperparameters are alpha(learning parameter),radius size,sigma and iterations.\n",
        "* For the first case,we observe that the size is 10*10 that is 100 neurons ,with sigma 1 and other hyperparameter value.\n",
        "* For the second case ,we have 30*30 model which is considered to be the best .here we observe wider range of neurons and many cluters that are formed.\n",
        "* For third case we have 5*5 that is 25 neurons ,here it can be onserved that all the neurons are classified without overlaping each other and its easier to interpret.\n",
        "* From the Eucledian distance colorbar plot we can observe that darker the colour smaller the distance and lighter the colour is larger the distance.\n",
        "* As the grid hyperparameter is increased ,it can be observed that we can observe a lot of clusters but a very tight packing complex graph. we can also observe the neurons overlapping because the distance is calculated not really on any particular bases and hence neurons may overlap this is considered as one of the diadvantages of the algorithm."
      ]
    }
  ],
  "metadata": {
    "colab": {
      "provenance": []
    },
    "kernelspec": {
      "display_name": "Python 3",
      "name": "python3"
    },
    "language_info": {
      "name": "python"
    }
  },
  "nbformat": 4,
  "nbformat_minor": 0
}