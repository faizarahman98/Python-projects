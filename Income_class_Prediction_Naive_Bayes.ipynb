{
  "nbformat": 4,
  "nbformat_minor": 0,
  "metadata": {
    "colab": {
      "provenance": []
    },
    "kernelspec": {
      "name": "python3",
      "display_name": "Python 3"
    },
    "language_info": {
      "name": "python"
    }
  },
  "cells": [
    {
      "cell_type": "markdown",
      "metadata": {
        "id": "gswPrfm4rTvg"
      },
      "source": [
        "**TITLE: PREDICTION OF WHETHER THE INCOME EXCEEDS $50K/Year BASED ON CENSUS DATA** "
      ]
    },
    {
      "cell_type": "markdown",
      "metadata": {
        "id": "WE2tl6Purq-_"
      },
      "source": [
        "**INTRODUCTION**"
      ]
    },
    {
      "cell_type": "markdown",
      "metadata": {
        "id": "QM9UzuuCrzi_"
      },
      "source": [
        "Supervised learning is the machine learning task of learning a function that maps an input to an output based on example input-output pairs. It infers a function from labeled training data consisting of a set of training examples. In supervised learning, each example is a pair consisting of an input object (typically a vector) and a desired output value (also called the supervisory signal). A supervised learning algorithm analyzes the training data and produces an inferred function, which can be used for mapping new examples. An optimal scenario will allow for the algorithm to correctly determine the class labels for unseen instances. Here we will be using linear regression for prediction which is one of the most widely used Supervised ML algorithm.\n",
        "\n",
        "In machine learning, Naïve Bayes classification is a straightforward and powerful algorithm for the classification task. Naïve Bayes classification is based on applying Bayes’ theorem with strong independence assumption between the features. Naïve Bayes classification produces good results when we use it for textual data analysis such as Natural Language Processing.\n",
        "\n",
        "Naïve Bayes models are also known as simple Bayes or independent Bayes. All these names refer to the application of Bayes’ theorem in the classifier’s decision rule. Naïve Bayes classifier applies the Bayes’ theorem in practice. This classifier brings the power of Bayes’ theorem to machine learning.\n",
        "\n",
        "Naïve Bayes Classifier uses the Bayes’ theorem to predict membership probabilities for each class such as the probability that given record or data point belongs to a particular class. The class with the highest probability is considered as the most likely class. This is also known as the Maximum A Posteriori (MAP).\n",
        "\n",
        "The MAP for a hypothesis with 2 events A and B is\n",
        "\n",
        "MAP (A)\n",
        "\n",
        "= max (P (A | B))\n",
        "\n",
        "= max (P (B | A) * P (A))/P (B)\n",
        "\n",
        "= max (P (B | A) * P (A))\n",
        "\n",
        "Here, P (B) is evidence probability. It is used to normalize the result. It remains the same, So, removing it would not affect the result.\n",
        "\n",
        "Naive Bayes Classifier assumes that all the features are unrelated to each other. Presence or absence of a feature does not influence the presence or absence of any other feature.\n"
      ]
    },
    {
      "cell_type": "markdown",
      "metadata": {
        "id": "RD8ddVSZzcPu"
      },
      "source": [
        "**PROBLEM STATEMENT**"
      ]
    },
    {
      "cell_type": "markdown",
      "metadata": {
        "id": "ehZzb5xyze0d"
      },
      "source": [
        "We want to predict the  probability whether a person makes over 50K a year and classify them into one of the classes based on their characterstics."
      ]
    },
    {
      "cell_type": "markdown",
      "metadata": {
        "id": "WjqYuS2ysVNN"
      },
      "source": [
        "**PACKAGES AND LIBRARIES**"
      ]
    },
    {
      "cell_type": "code",
      "metadata": {
        "id": "i4qfa2MQww-h"
      },
      "source": [
        "#Importing all the necessary packages and libraries\n",
        "import numpy as np\n",
        "import pandas as pd\n",
        "\n",
        "#For data visualization\n",
        "import matplotlib.pyplot as plt\n",
        "import seaborn as sns\n",
        "import plotly.express as px\n",
        "import plotly.graph_objects as go\n",
        "\n",
        "#Importing the package for splitting the data into train and test ssamples.\n",
        "from sklearn.model_selection import train_test_split\n",
        "\n",
        "#For model evaluation metrics \n",
        "from sklearn.metrics import classification_report \n",
        "\n",
        "#For encoding categorical features from strings to number arrays.\n",
        "from sklearn.preprocessing import OrdinalEncoder \n",
        "\n",
        "#Importing Differnt types of Naive Bayes Classifiers\n",
        "from sklearn.naive_bayes import GaussianNB\n",
        "from sklearn.naive_bayes import CategoricalNB\n",
        "from sklearn.naive_bayes import BernoulliNB"
      ],
      "execution_count": null,
      "outputs": []
    },
    {
      "cell_type": "markdown",
      "metadata": {
        "id": "EQ_r2sE564RP"
      },
      "source": [
        "**DATA DESCRIPTION**"
      ]
    },
    {
      "cell_type": "markdown",
      "metadata": {
        "id": "KWTMK8P-67Re"
      },
      "source": [
        "This data set consist of records of 32560 people and their personal details i.e.total 15 of their characterstics are listed. \n",
        "\n",
        "The characterstics of indiviaduals are,\n",
        "\n",
        "age (age of the person) [Continuous variable]\n",
        "\n",
        "workclass (work class of a person like, govt., private etc.) [Categorical in nature]\n",
        "\n",
        "education (level of education an individual took) [Categorical in nature]\n",
        "\n",
        "fnlwgt [Continuous variable]\n",
        "\n",
        "sex (gender of an individual) [Categorical in nature]\n",
        "\n",
        "race (race of an individual) [Categorical in nature]\n",
        "\n",
        "native_country (native country and idividual belongs to) [Categorical in nature]\n",
        "\n",
        "income (income class to which an individual belong i.e. if he earn <=50K or >50K on yearly basis) [Categorical in nature]\n",
        "\n",
        "education_num [Continuous variable]\n",
        "\n",
        "marital_status (This is the marital status of an individual) [Categorical in nature]\n",
        "\n",
        "occupation (Individual's occupation) [Categorical in nature]\n",
        "\n",
        "relationship [Categorical in nature]\n",
        "\n",
        "hours_per_Week (no. of hours an individual work in a week)\n",
        "[Continuous variable]\n",
        "\n",
        "capital_gain [Continuous variable]\n",
        "\n",
        "capital_loss [Continuous variable]\n",
        "\n"
      ]
    },
    {
      "cell_type": "code",
      "metadata": {
        "id": "cmZYuVXFw1YV"
      },
      "source": [
        "#Importing the adult dataset.\n",
        "data=pd.read_csv(\"/content/adult.csv\")"
      ],
      "execution_count": null,
      "outputs": []
    },
    {
      "cell_type": "markdown",
      "metadata": {
        "id": "4qUgpHpF0pY9"
      },
      "source": [
        "**EXPLORATORY DATA ANALYSIS**"
      ]
    },
    {
      "cell_type": "code",
      "metadata": {
        "colab": {
          "base_uri": "https://localhost:8080/"
        },
        "id": "ZN5GNxWkxp2l",
        "outputId": "418f5ec1-9760-4e04-eca6-940a5206ac7d"
      },
      "source": [
        "#Obtaining the dimension of the dataset.\n",
        "data.shape"
      ],
      "execution_count": null,
      "outputs": [
        {
          "output_type": "execute_result",
          "data": {
            "text/plain": [
              "(32560, 15)"
            ]
          },
          "metadata": {},
          "execution_count": 227
        }
      ]
    },
    {
      "cell_type": "markdown",
      "metadata": {
        "id": "hweir1B91qdd"
      },
      "source": [
        "It is observed that the dataset comprises of 32560 records and 15 columns(variables) which are described in the data description. "
      ]
    },
    {
      "cell_type": "code",
      "metadata": {
        "colab": {
          "base_uri": "https://localhost:8080/"
        },
        "id": "gB455QzlxsnL",
        "outputId": "8a71d81e-7d50-4abb-ee72-64f274fdb485"
      },
      "source": [
        "#Using info() function to understand if there is any null values in the dataset.\n",
        "data.info()"
      ],
      "execution_count": null,
      "outputs": [
        {
          "output_type": "stream",
          "name": "stdout",
          "text": [
            "<class 'pandas.core.frame.DataFrame'>\n",
            "RangeIndex: 32560 entries, 0 to 32559\n",
            "Data columns (total 15 columns):\n",
            " #   Column          Non-Null Count  Dtype \n",
            "---  ------          --------------  ----- \n",
            " 0   39              32560 non-null  int64 \n",
            " 1    State-gov      32560 non-null  object\n",
            " 2    77516          32560 non-null  int64 \n",
            " 3    Bachelors      32560 non-null  object\n",
            " 4    13             32560 non-null  int64 \n",
            " 5    Never-married  32560 non-null  object\n",
            " 6    Adm-clerical   32560 non-null  object\n",
            " 7    Not-in-family  32560 non-null  object\n",
            " 8    White          32560 non-null  object\n",
            " 9    Male           32560 non-null  object\n",
            " 10   2174           32560 non-null  int64 \n",
            " 11   0              32560 non-null  int64 \n",
            " 12   40             32560 non-null  int64 \n",
            " 13   United-States  32560 non-null  object\n",
            " 14   <=50K          32560 non-null  object\n",
            "dtypes: int64(6), object(9)\n",
            "memory usage: 3.7+ MB\n"
          ]
        }
      ]
    },
    {
      "cell_type": "markdown",
      "metadata": {
        "id": "Nf-I5zt6119d"
      },
      "source": [
        "From the above table it is observed that there does not exist any null value in the dataset hence we can further proceed with the analysis."
      ]
    },
    {
      "cell_type": "code",
      "metadata": {
        "colab": {
          "base_uri": "https://localhost:8080/",
          "height": 306
        },
        "id": "1n1cyKeK1NOv",
        "outputId": "9190bfb4-bd43-4650-9407-6904b757e1c6"
      },
      "source": [
        "#Preview the dataset\n",
        "data.head()"
      ],
      "execution_count": null,
      "outputs": [
        {
          "output_type": "execute_result",
          "data": {
            "text/html": [
              "<div>\n",
              "<style scoped>\n",
              "    .dataframe tbody tr th:only-of-type {\n",
              "        vertical-align: middle;\n",
              "    }\n",
              "\n",
              "    .dataframe tbody tr th {\n",
              "        vertical-align: top;\n",
              "    }\n",
              "\n",
              "    .dataframe thead th {\n",
              "        text-align: right;\n",
              "    }\n",
              "</style>\n",
              "<table border=\"1\" class=\"dataframe\">\n",
              "  <thead>\n",
              "    <tr style=\"text-align: right;\">\n",
              "      <th></th>\n",
              "      <th>39</th>\n",
              "      <th>State-gov</th>\n",
              "      <th>77516</th>\n",
              "      <th>Bachelors</th>\n",
              "      <th>13</th>\n",
              "      <th>Never-married</th>\n",
              "      <th>Adm-clerical</th>\n",
              "      <th>Not-in-family</th>\n",
              "      <th>White</th>\n",
              "      <th>Male</th>\n",
              "      <th>2174</th>\n",
              "      <th>0</th>\n",
              "      <th>40</th>\n",
              "      <th>United-States</th>\n",
              "      <th>&lt;=50K</th>\n",
              "    </tr>\n",
              "  </thead>\n",
              "  <tbody>\n",
              "    <tr>\n",
              "      <th>0</th>\n",
              "      <td>50</td>\n",
              "      <td>Self-emp-not-inc</td>\n",
              "      <td>83311</td>\n",
              "      <td>Bachelors</td>\n",
              "      <td>13</td>\n",
              "      <td>Married-civ-spouse</td>\n",
              "      <td>Exec-managerial</td>\n",
              "      <td>Husband</td>\n",
              "      <td>White</td>\n",
              "      <td>Male</td>\n",
              "      <td>0</td>\n",
              "      <td>0</td>\n",
              "      <td>13</td>\n",
              "      <td>United-States</td>\n",
              "      <td>&lt;=50K</td>\n",
              "    </tr>\n",
              "    <tr>\n",
              "      <th>1</th>\n",
              "      <td>38</td>\n",
              "      <td>Private</td>\n",
              "      <td>215646</td>\n",
              "      <td>HS-grad</td>\n",
              "      <td>9</td>\n",
              "      <td>Divorced</td>\n",
              "      <td>Handlers-cleaners</td>\n",
              "      <td>Not-in-family</td>\n",
              "      <td>White</td>\n",
              "      <td>Male</td>\n",
              "      <td>0</td>\n",
              "      <td>0</td>\n",
              "      <td>40</td>\n",
              "      <td>United-States</td>\n",
              "      <td>&lt;=50K</td>\n",
              "    </tr>\n",
              "    <tr>\n",
              "      <th>2</th>\n",
              "      <td>53</td>\n",
              "      <td>Private</td>\n",
              "      <td>234721</td>\n",
              "      <td>11th</td>\n",
              "      <td>7</td>\n",
              "      <td>Married-civ-spouse</td>\n",
              "      <td>Handlers-cleaners</td>\n",
              "      <td>Husband</td>\n",
              "      <td>Black</td>\n",
              "      <td>Male</td>\n",
              "      <td>0</td>\n",
              "      <td>0</td>\n",
              "      <td>40</td>\n",
              "      <td>United-States</td>\n",
              "      <td>&lt;=50K</td>\n",
              "    </tr>\n",
              "    <tr>\n",
              "      <th>3</th>\n",
              "      <td>28</td>\n",
              "      <td>Private</td>\n",
              "      <td>338409</td>\n",
              "      <td>Bachelors</td>\n",
              "      <td>13</td>\n",
              "      <td>Married-civ-spouse</td>\n",
              "      <td>Prof-specialty</td>\n",
              "      <td>Wife</td>\n",
              "      <td>Black</td>\n",
              "      <td>Female</td>\n",
              "      <td>0</td>\n",
              "      <td>0</td>\n",
              "      <td>40</td>\n",
              "      <td>Cuba</td>\n",
              "      <td>&lt;=50K</td>\n",
              "    </tr>\n",
              "    <tr>\n",
              "      <th>4</th>\n",
              "      <td>37</td>\n",
              "      <td>Private</td>\n",
              "      <td>284582</td>\n",
              "      <td>Masters</td>\n",
              "      <td>14</td>\n",
              "      <td>Married-civ-spouse</td>\n",
              "      <td>Exec-managerial</td>\n",
              "      <td>Wife</td>\n",
              "      <td>White</td>\n",
              "      <td>Female</td>\n",
              "      <td>0</td>\n",
              "      <td>0</td>\n",
              "      <td>40</td>\n",
              "      <td>United-States</td>\n",
              "      <td>&lt;=50K</td>\n",
              "    </tr>\n",
              "  </tbody>\n",
              "</table>\n",
              "</div>"
            ],
            "text/plain": [
              "   39          State-gov   77516   Bachelors  ...   0  40   United-States   <=50K\n",
              "0  50   Self-emp-not-inc   83311   Bachelors  ...   0  13   United-States   <=50K\n",
              "1  38            Private  215646     HS-grad  ...   0  40   United-States   <=50K\n",
              "2  53            Private  234721        11th  ...   0  40   United-States   <=50K\n",
              "3  28            Private  338409   Bachelors  ...   0  40            Cuba   <=50K\n",
              "4  37            Private  284582     Masters  ...   0  40   United-States   <=50K\n",
              "\n",
              "[5 rows x 15 columns]"
            ]
          },
          "metadata": {},
          "execution_count": 230
        }
      ]
    },
    {
      "cell_type": "markdown",
      "metadata": {
        "id": "LTWdeTpl73ty"
      },
      "source": [
        "**DATA PRE PROCESSING**"
      ]
    },
    {
      "cell_type": "markdown",
      "metadata": {
        "id": "Eje0Po-h2OZK"
      },
      "source": [
        "We can see that the dataset does not have proper column names. We should give proper names to the columns. "
      ]
    },
    {
      "cell_type": "code",
      "metadata": {
        "colab": {
          "base_uri": "https://localhost:8080/"
        },
        "id": "82QVaotE2C_s",
        "outputId": "9c244eaf-4337-408a-b538-0e70ba6d9f43"
      },
      "source": [
        "#Renaming the columns.\n",
        "col_names = ['age', 'workclass', 'fnlwgt', 'education', 'education_num', 'marital_status', 'occupation', 'relationship',\n",
        "             'race', 'sex', 'capital_gain', 'capital_loss', 'hours_per_week', 'native_country', 'income']\n",
        "\n",
        "data.columns = col_names\n",
        "\n",
        "data.columns"
      ],
      "execution_count": null,
      "outputs": [
        {
          "output_type": "execute_result",
          "data": {
            "text/plain": [
              "Index(['age', 'workclass', 'fnlwgt', 'education', 'education_num',\n",
              "       'marital_status', 'occupation', 'relationship', 'race', 'sex',\n",
              "       'capital_gain', 'capital_loss', 'hours_per_week', 'native_country',\n",
              "       'income'],\n",
              "      dtype='object')"
            ]
          },
          "metadata": {},
          "execution_count": 231
        }
      ]
    },
    {
      "cell_type": "code",
      "metadata": {
        "colab": {
          "base_uri": "https://localhost:8080/",
          "height": 309
        },
        "id": "scIozeh02qqK",
        "outputId": "d53d7b39-f73d-4f2d-ef49-e7a62429c4d7"
      },
      "source": [
        "#Previewing the dataset again\n",
        "data.head()"
      ],
      "execution_count": null,
      "outputs": [
        {
          "output_type": "execute_result",
          "data": {
            "text/html": [
              "<div>\n",
              "<style scoped>\n",
              "    .dataframe tbody tr th:only-of-type {\n",
              "        vertical-align: middle;\n",
              "    }\n",
              "\n",
              "    .dataframe tbody tr th {\n",
              "        vertical-align: top;\n",
              "    }\n",
              "\n",
              "    .dataframe thead th {\n",
              "        text-align: right;\n",
              "    }\n",
              "</style>\n",
              "<table border=\"1\" class=\"dataframe\">\n",
              "  <thead>\n",
              "    <tr style=\"text-align: right;\">\n",
              "      <th></th>\n",
              "      <th>age</th>\n",
              "      <th>workclass</th>\n",
              "      <th>fnlwgt</th>\n",
              "      <th>education</th>\n",
              "      <th>education_num</th>\n",
              "      <th>marital_status</th>\n",
              "      <th>occupation</th>\n",
              "      <th>relationship</th>\n",
              "      <th>race</th>\n",
              "      <th>sex</th>\n",
              "      <th>capital_gain</th>\n",
              "      <th>capital_loss</th>\n",
              "      <th>hours_per_week</th>\n",
              "      <th>native_country</th>\n",
              "      <th>income</th>\n",
              "    </tr>\n",
              "  </thead>\n",
              "  <tbody>\n",
              "    <tr>\n",
              "      <th>0</th>\n",
              "      <td>50</td>\n",
              "      <td>Self-emp-not-inc</td>\n",
              "      <td>83311</td>\n",
              "      <td>Bachelors</td>\n",
              "      <td>13</td>\n",
              "      <td>Married-civ-spouse</td>\n",
              "      <td>Exec-managerial</td>\n",
              "      <td>Husband</td>\n",
              "      <td>White</td>\n",
              "      <td>Male</td>\n",
              "      <td>0</td>\n",
              "      <td>0</td>\n",
              "      <td>13</td>\n",
              "      <td>United-States</td>\n",
              "      <td>&lt;=50K</td>\n",
              "    </tr>\n",
              "    <tr>\n",
              "      <th>1</th>\n",
              "      <td>38</td>\n",
              "      <td>Private</td>\n",
              "      <td>215646</td>\n",
              "      <td>HS-grad</td>\n",
              "      <td>9</td>\n",
              "      <td>Divorced</td>\n",
              "      <td>Handlers-cleaners</td>\n",
              "      <td>Not-in-family</td>\n",
              "      <td>White</td>\n",
              "      <td>Male</td>\n",
              "      <td>0</td>\n",
              "      <td>0</td>\n",
              "      <td>40</td>\n",
              "      <td>United-States</td>\n",
              "      <td>&lt;=50K</td>\n",
              "    </tr>\n",
              "    <tr>\n",
              "      <th>2</th>\n",
              "      <td>53</td>\n",
              "      <td>Private</td>\n",
              "      <td>234721</td>\n",
              "      <td>11th</td>\n",
              "      <td>7</td>\n",
              "      <td>Married-civ-spouse</td>\n",
              "      <td>Handlers-cleaners</td>\n",
              "      <td>Husband</td>\n",
              "      <td>Black</td>\n",
              "      <td>Male</td>\n",
              "      <td>0</td>\n",
              "      <td>0</td>\n",
              "      <td>40</td>\n",
              "      <td>United-States</td>\n",
              "      <td>&lt;=50K</td>\n",
              "    </tr>\n",
              "    <tr>\n",
              "      <th>3</th>\n",
              "      <td>28</td>\n",
              "      <td>Private</td>\n",
              "      <td>338409</td>\n",
              "      <td>Bachelors</td>\n",
              "      <td>13</td>\n",
              "      <td>Married-civ-spouse</td>\n",
              "      <td>Prof-specialty</td>\n",
              "      <td>Wife</td>\n",
              "      <td>Black</td>\n",
              "      <td>Female</td>\n",
              "      <td>0</td>\n",
              "      <td>0</td>\n",
              "      <td>40</td>\n",
              "      <td>Cuba</td>\n",
              "      <td>&lt;=50K</td>\n",
              "    </tr>\n",
              "    <tr>\n",
              "      <th>4</th>\n",
              "      <td>37</td>\n",
              "      <td>Private</td>\n",
              "      <td>284582</td>\n",
              "      <td>Masters</td>\n",
              "      <td>14</td>\n",
              "      <td>Married-civ-spouse</td>\n",
              "      <td>Exec-managerial</td>\n",
              "      <td>Wife</td>\n",
              "      <td>White</td>\n",
              "      <td>Female</td>\n",
              "      <td>0</td>\n",
              "      <td>0</td>\n",
              "      <td>40</td>\n",
              "      <td>United-States</td>\n",
              "      <td>&lt;=50K</td>\n",
              "    </tr>\n",
              "  </tbody>\n",
              "</table>\n",
              "</div>"
            ],
            "text/plain": [
              "   age          workclass  fnlwgt  ... hours_per_week  native_country  income\n",
              "0   50   Self-emp-not-inc   83311  ...             13   United-States   <=50K\n",
              "1   38            Private  215646  ...             40   United-States   <=50K\n",
              "2   53            Private  234721  ...             40   United-States   <=50K\n",
              "3   28            Private  338409  ...             40            Cuba   <=50K\n",
              "4   37            Private  284582  ...             40   United-States   <=50K\n",
              "\n",
              "[5 rows x 15 columns]"
            ]
          },
          "metadata": {},
          "execution_count": 232
        }
      ]
    },
    {
      "cell_type": "markdown",
      "metadata": {
        "id": "endDt31q3_-T"
      },
      "source": [
        "Our study variable in the analysis is Y-income level of a person which takes categories **>50K and <=50K** i.e the person makes over 50K income or less than 50K income."
      ]
    },
    {
      "cell_type": "markdown",
      "metadata": {
        "id": "GOJbRzYcX4ER"
      },
      "source": [
        "CODING CATEGORICAL VARIABLES"
      ]
    },
    {
      "cell_type": "code",
      "metadata": {
        "id": "kgHX9w2XhH7i"
      },
      "source": [
        "#Coding the categories under occupation\n",
        "data['occupation']=np.where(data['occupation'] ==' ?', 'Unknown', data['occupation'])\n"
      ],
      "execution_count": null,
      "outputs": []
    },
    {
      "cell_type": "code",
      "metadata": {
        "id": "OHhFlaBQgaGt"
      },
      "source": [
        "#Coding the categories under marital_status\n",
        "data['marital_status']=np.where(data['marital_status'] ==' Married-civ-spouse', 'Married', data['marital_status'])\n",
        "data['marital_status']=np.where(data['marital_status'] ==' Married-spouse-absent', 'Married', data['marital_status'])\n",
        "data['marital_status']=np.where(data['marital_status'] ==' Married-AF-spouse', 'Married', data['marital_status'])\n",
        "data['marital_status']=np.where(data['marital_status'] ==' Never-married', 'Single', data['marital_status'])"
      ],
      "execution_count": null,
      "outputs": []
    },
    {
      "cell_type": "code",
      "metadata": {
        "id": "fXnXg34YfIfx"
      },
      "source": [
        "#Coding the categories under workclass\n",
        "data['workclass']=np.where(data['workclass'] ==' Self-emp-not-inc', 'Self-Employed', data['workclass'])\n",
        "data['workclass']=np.where(data['workclass'] ==' Self-emp-inc', 'Self-Employed', data['workclass'])\n",
        "data['workclass']=np.where(data['workclass'] ==' Without-pay', 'Self-Employed', data['workclass'])\n",
        "data['workclass']=np.where(data['workclass'] ==' State-gov', 'Government', data['workclass'])\n",
        "data['workclass']=np.where(data['workclass'] ==' Federal-gov', 'Government', data['workclass'])\n",
        "data['workclass']=np.where(data['workclass'] ==' Local-gov', 'Government', data['workclass'])\n",
        "data['workclass']=np.where(data['workclass'] ==' ?', 'Unknown', data['workclass'])"
      ],
      "execution_count": null,
      "outputs": []
    },
    {
      "cell_type": "code",
      "metadata": {
        "id": "hPbcQ2dKcnV5"
      },
      "source": [
        "#Coding the categories under education.\n",
        "data['education']=np.where(data['education'] ==' HS-grad', 'Higher Secondary', data['education'])\n",
        "data['education']=np.where(data['education'] ==' 11th', 'Higher Secondary', data['education'])\n",
        "data['education']=np.where(data['education'] ==' 12th', 'Higher Secondary', data['education'])\n",
        "data['education']=np.where(data['education'] ==' 9th', 'Middle', data['education'])\n",
        "data['education']=np.where(data['education'] ==' 7th-8th', 'Middle', data['education'])\n",
        "data['education']=np.where(data['education'] ==' 10th', 'Middle', data['education'])\n",
        "data['education']=np.where(data['education'] ==' 1st-4th', 'Primary', data['education'])\n",
        "data['education']=np.where(data['education'] ==' 5th-6th', 'Primary', data['education'])\n",
        "data['education']=np.where(data['education'] ==' 9th', 'Middle', data['education'])\n",
        "data['education']=np.where(data['education'] ==' Some-college', ' Bachelors', data['education'])"
      ],
      "execution_count": null,
      "outputs": []
    },
    {
      "cell_type": "code",
      "metadata": {
        "id": "s545a6lWeOzg"
      },
      "source": [
        "#Coding the categories under education.\n",
        "data['sex']=np.where(data['sex'] ==' Female', 0, data['sex'])\n",
        "data['sex']=np.where(data['sex'] ==' Male', 1, data['sex'])\n",
        "\n",
        "#Converting variable sex from object to numeric\n",
        "data['sex']=pd.to_numeric(data['sex'])"
      ],
      "execution_count": null,
      "outputs": []
    },
    {
      "cell_type": "code",
      "metadata": {
        "colab": {
          "base_uri": "https://localhost:8080/",
          "height": 360
        },
        "id": "1wH1WjhMXrYw",
        "outputId": "7c29b266-1e0c-49b7-9deb-a7c22066104b"
      },
      "source": [
        "#Obtaining the dataset.\n",
        "data1.head()"
      ],
      "execution_count": null,
      "outputs": [
        {
          "output_type": "execute_result",
          "data": {
            "text/html": [
              "<div>\n",
              "<style scoped>\n",
              "    .dataframe tbody tr th:only-of-type {\n",
              "        vertical-align: middle;\n",
              "    }\n",
              "\n",
              "    .dataframe tbody tr th {\n",
              "        vertical-align: top;\n",
              "    }\n",
              "\n",
              "    .dataframe thead th {\n",
              "        text-align: right;\n",
              "    }\n",
              "</style>\n",
              "<table border=\"1\" class=\"dataframe\">\n",
              "  <thead>\n",
              "    <tr style=\"text-align: right;\">\n",
              "      <th></th>\n",
              "      <th>age</th>\n",
              "      <th>workclass</th>\n",
              "      <th>fnlwgt</th>\n",
              "      <th>education</th>\n",
              "      <th>education_num</th>\n",
              "      <th>marital_status</th>\n",
              "      <th>occupation</th>\n",
              "      <th>relationship</th>\n",
              "      <th>race</th>\n",
              "      <th>sex</th>\n",
              "      <th>capital_gain</th>\n",
              "      <th>capital_loss</th>\n",
              "      <th>hours_per_week</th>\n",
              "      <th>native_country</th>\n",
              "      <th>income</th>\n",
              "      <th>workclass_ Never-worked</th>\n",
              "      <th>workclass_ Private</th>\n",
              "      <th>workclass_Government</th>\n",
              "      <th>workclass_Self-Employed</th>\n",
              "      <th>workclass_Unknown</th>\n",
              "      <th>education_ Assoc-acdm</th>\n",
              "      <th>education_ Assoc-voc</th>\n",
              "      <th>education_ Bachelors</th>\n",
              "      <th>education_ Doctorate</th>\n",
              "      <th>education_ Masters</th>\n",
              "      <th>education_ Preschool</th>\n",
              "      <th>education_ Prof-school</th>\n",
              "      <th>education_Higher Secondary</th>\n",
              "      <th>education_Middle</th>\n",
              "      <th>education_Primary</th>\n",
              "      <th>marital_status_ Divorced</th>\n",
              "      <th>marital_status_ Separated</th>\n",
              "      <th>marital_status_ Widowed</th>\n",
              "      <th>marital_status_Married</th>\n",
              "      <th>marital_status_Single</th>\n",
              "      <th>occupation_ Adm-clerical</th>\n",
              "      <th>occupation_ Armed-Forces</th>\n",
              "      <th>occupation_ Craft-repair</th>\n",
              "      <th>occupation_ Exec-managerial</th>\n",
              "      <th>occupation_ Farming-fishing</th>\n",
              "      <th>occupation_ Handlers-cleaners</th>\n",
              "      <th>occupation_ Machine-op-inspct</th>\n",
              "      <th>occupation_ Other-service</th>\n",
              "      <th>occupation_ Priv-house-serv</th>\n",
              "      <th>occupation_ Prof-specialty</th>\n",
              "      <th>occupation_ Protective-serv</th>\n",
              "      <th>occupation_ Sales</th>\n",
              "      <th>occupation_ Tech-support</th>\n",
              "      <th>occupation_ Transport-moving</th>\n",
              "      <th>occupation_Unknown</th>\n",
              "      <th>race_ Amer-Indian-Eskimo</th>\n",
              "      <th>race_ Asian-Pac-Islander</th>\n",
              "      <th>race_ Black</th>\n",
              "      <th>race_ Other</th>\n",
              "      <th>race_ White</th>\n",
              "    </tr>\n",
              "  </thead>\n",
              "  <tbody>\n",
              "    <tr>\n",
              "      <th>0</th>\n",
              "      <td>50</td>\n",
              "      <td>Self-Employed</td>\n",
              "      <td>83311</td>\n",
              "      <td>Bachelors</td>\n",
              "      <td>13</td>\n",
              "      <td>Married</td>\n",
              "      <td>Exec-managerial</td>\n",
              "      <td>Husband</td>\n",
              "      <td>White</td>\n",
              "      <td>1</td>\n",
              "      <td>0</td>\n",
              "      <td>0</td>\n",
              "      <td>13</td>\n",
              "      <td>United-States</td>\n",
              "      <td>&lt;=50K</td>\n",
              "      <td>0</td>\n",
              "      <td>0</td>\n",
              "      <td>0</td>\n",
              "      <td>1</td>\n",
              "      <td>0</td>\n",
              "      <td>0</td>\n",
              "      <td>0</td>\n",
              "      <td>1</td>\n",
              "      <td>0</td>\n",
              "      <td>0</td>\n",
              "      <td>0</td>\n",
              "      <td>0</td>\n",
              "      <td>0</td>\n",
              "      <td>0</td>\n",
              "      <td>0</td>\n",
              "      <td>0</td>\n",
              "      <td>0</td>\n",
              "      <td>0</td>\n",
              "      <td>1</td>\n",
              "      <td>0</td>\n",
              "      <td>0</td>\n",
              "      <td>0</td>\n",
              "      <td>0</td>\n",
              "      <td>1</td>\n",
              "      <td>0</td>\n",
              "      <td>0</td>\n",
              "      <td>0</td>\n",
              "      <td>0</td>\n",
              "      <td>0</td>\n",
              "      <td>0</td>\n",
              "      <td>0</td>\n",
              "      <td>0</td>\n",
              "      <td>0</td>\n",
              "      <td>0</td>\n",
              "      <td>0</td>\n",
              "      <td>0</td>\n",
              "      <td>0</td>\n",
              "      <td>0</td>\n",
              "      <td>0</td>\n",
              "      <td>1</td>\n",
              "    </tr>\n",
              "    <tr>\n",
              "      <th>1</th>\n",
              "      <td>38</td>\n",
              "      <td>Private</td>\n",
              "      <td>215646</td>\n",
              "      <td>Higher Secondary</td>\n",
              "      <td>9</td>\n",
              "      <td>Divorced</td>\n",
              "      <td>Handlers-cleaners</td>\n",
              "      <td>Not-in-family</td>\n",
              "      <td>White</td>\n",
              "      <td>1</td>\n",
              "      <td>0</td>\n",
              "      <td>0</td>\n",
              "      <td>40</td>\n",
              "      <td>United-States</td>\n",
              "      <td>&lt;=50K</td>\n",
              "      <td>0</td>\n",
              "      <td>1</td>\n",
              "      <td>0</td>\n",
              "      <td>0</td>\n",
              "      <td>0</td>\n",
              "      <td>0</td>\n",
              "      <td>0</td>\n",
              "      <td>0</td>\n",
              "      <td>0</td>\n",
              "      <td>0</td>\n",
              "      <td>0</td>\n",
              "      <td>0</td>\n",
              "      <td>1</td>\n",
              "      <td>0</td>\n",
              "      <td>0</td>\n",
              "      <td>1</td>\n",
              "      <td>0</td>\n",
              "      <td>0</td>\n",
              "      <td>0</td>\n",
              "      <td>0</td>\n",
              "      <td>0</td>\n",
              "      <td>0</td>\n",
              "      <td>0</td>\n",
              "      <td>0</td>\n",
              "      <td>0</td>\n",
              "      <td>1</td>\n",
              "      <td>0</td>\n",
              "      <td>0</td>\n",
              "      <td>0</td>\n",
              "      <td>0</td>\n",
              "      <td>0</td>\n",
              "      <td>0</td>\n",
              "      <td>0</td>\n",
              "      <td>0</td>\n",
              "      <td>0</td>\n",
              "      <td>0</td>\n",
              "      <td>0</td>\n",
              "      <td>0</td>\n",
              "      <td>0</td>\n",
              "      <td>1</td>\n",
              "    </tr>\n",
              "    <tr>\n",
              "      <th>2</th>\n",
              "      <td>53</td>\n",
              "      <td>Private</td>\n",
              "      <td>234721</td>\n",
              "      <td>Higher Secondary</td>\n",
              "      <td>7</td>\n",
              "      <td>Married</td>\n",
              "      <td>Handlers-cleaners</td>\n",
              "      <td>Husband</td>\n",
              "      <td>Black</td>\n",
              "      <td>1</td>\n",
              "      <td>0</td>\n",
              "      <td>0</td>\n",
              "      <td>40</td>\n",
              "      <td>United-States</td>\n",
              "      <td>&lt;=50K</td>\n",
              "      <td>0</td>\n",
              "      <td>1</td>\n",
              "      <td>0</td>\n",
              "      <td>0</td>\n",
              "      <td>0</td>\n",
              "      <td>0</td>\n",
              "      <td>0</td>\n",
              "      <td>0</td>\n",
              "      <td>0</td>\n",
              "      <td>0</td>\n",
              "      <td>0</td>\n",
              "      <td>0</td>\n",
              "      <td>1</td>\n",
              "      <td>0</td>\n",
              "      <td>0</td>\n",
              "      <td>0</td>\n",
              "      <td>0</td>\n",
              "      <td>0</td>\n",
              "      <td>1</td>\n",
              "      <td>0</td>\n",
              "      <td>0</td>\n",
              "      <td>0</td>\n",
              "      <td>0</td>\n",
              "      <td>0</td>\n",
              "      <td>0</td>\n",
              "      <td>1</td>\n",
              "      <td>0</td>\n",
              "      <td>0</td>\n",
              "      <td>0</td>\n",
              "      <td>0</td>\n",
              "      <td>0</td>\n",
              "      <td>0</td>\n",
              "      <td>0</td>\n",
              "      <td>0</td>\n",
              "      <td>0</td>\n",
              "      <td>0</td>\n",
              "      <td>0</td>\n",
              "      <td>1</td>\n",
              "      <td>0</td>\n",
              "      <td>0</td>\n",
              "    </tr>\n",
              "    <tr>\n",
              "      <th>3</th>\n",
              "      <td>28</td>\n",
              "      <td>Private</td>\n",
              "      <td>338409</td>\n",
              "      <td>Bachelors</td>\n",
              "      <td>13</td>\n",
              "      <td>Married</td>\n",
              "      <td>Prof-specialty</td>\n",
              "      <td>Wife</td>\n",
              "      <td>Black</td>\n",
              "      <td>0</td>\n",
              "      <td>0</td>\n",
              "      <td>0</td>\n",
              "      <td>40</td>\n",
              "      <td>Cuba</td>\n",
              "      <td>&lt;=50K</td>\n",
              "      <td>0</td>\n",
              "      <td>1</td>\n",
              "      <td>0</td>\n",
              "      <td>0</td>\n",
              "      <td>0</td>\n",
              "      <td>0</td>\n",
              "      <td>0</td>\n",
              "      <td>1</td>\n",
              "      <td>0</td>\n",
              "      <td>0</td>\n",
              "      <td>0</td>\n",
              "      <td>0</td>\n",
              "      <td>0</td>\n",
              "      <td>0</td>\n",
              "      <td>0</td>\n",
              "      <td>0</td>\n",
              "      <td>0</td>\n",
              "      <td>0</td>\n",
              "      <td>1</td>\n",
              "      <td>0</td>\n",
              "      <td>0</td>\n",
              "      <td>0</td>\n",
              "      <td>0</td>\n",
              "      <td>0</td>\n",
              "      <td>0</td>\n",
              "      <td>0</td>\n",
              "      <td>0</td>\n",
              "      <td>0</td>\n",
              "      <td>0</td>\n",
              "      <td>1</td>\n",
              "      <td>0</td>\n",
              "      <td>0</td>\n",
              "      <td>0</td>\n",
              "      <td>0</td>\n",
              "      <td>0</td>\n",
              "      <td>0</td>\n",
              "      <td>0</td>\n",
              "      <td>1</td>\n",
              "      <td>0</td>\n",
              "      <td>0</td>\n",
              "    </tr>\n",
              "    <tr>\n",
              "      <th>4</th>\n",
              "      <td>37</td>\n",
              "      <td>Private</td>\n",
              "      <td>284582</td>\n",
              "      <td>Masters</td>\n",
              "      <td>14</td>\n",
              "      <td>Married</td>\n",
              "      <td>Exec-managerial</td>\n",
              "      <td>Wife</td>\n",
              "      <td>White</td>\n",
              "      <td>0</td>\n",
              "      <td>0</td>\n",
              "      <td>0</td>\n",
              "      <td>40</td>\n",
              "      <td>United-States</td>\n",
              "      <td>&lt;=50K</td>\n",
              "      <td>0</td>\n",
              "      <td>1</td>\n",
              "      <td>0</td>\n",
              "      <td>0</td>\n",
              "      <td>0</td>\n",
              "      <td>0</td>\n",
              "      <td>0</td>\n",
              "      <td>0</td>\n",
              "      <td>0</td>\n",
              "      <td>1</td>\n",
              "      <td>0</td>\n",
              "      <td>0</td>\n",
              "      <td>0</td>\n",
              "      <td>0</td>\n",
              "      <td>0</td>\n",
              "      <td>0</td>\n",
              "      <td>0</td>\n",
              "      <td>0</td>\n",
              "      <td>1</td>\n",
              "      <td>0</td>\n",
              "      <td>0</td>\n",
              "      <td>0</td>\n",
              "      <td>0</td>\n",
              "      <td>1</td>\n",
              "      <td>0</td>\n",
              "      <td>0</td>\n",
              "      <td>0</td>\n",
              "      <td>0</td>\n",
              "      <td>0</td>\n",
              "      <td>0</td>\n",
              "      <td>0</td>\n",
              "      <td>0</td>\n",
              "      <td>0</td>\n",
              "      <td>0</td>\n",
              "      <td>0</td>\n",
              "      <td>0</td>\n",
              "      <td>0</td>\n",
              "      <td>0</td>\n",
              "      <td>0</td>\n",
              "      <td>1</td>\n",
              "    </tr>\n",
              "  </tbody>\n",
              "</table>\n",
              "</div>"
            ],
            "text/plain": [
              "   age      workclass  fnlwgt  ... race_ Black  race_ Other race_ White\n",
              "0   50  Self-Employed   83311  ...           0            0           1\n",
              "1   38        Private  215646  ...           0            0           1\n",
              "2   53        Private  234721  ...           1            0           0\n",
              "3   28        Private  338409  ...           1            0           0\n",
              "4   37        Private  284582  ...           0            0           1\n",
              "\n",
              "[5 rows x 55 columns]"
            ]
          },
          "metadata": {},
          "execution_count": 238
        }
      ]
    },
    {
      "cell_type": "code",
      "metadata": {
        "colab": {
          "base_uri": "https://localhost:8080/"
        },
        "id": "aS4DzeQPiJI2",
        "outputId": "272ffd8d-b6a0-4db1-90bc-28d6aab6d5ca"
      },
      "source": [
        "#Checking the data types and if there exist any null values\n",
        "data1.info()"
      ],
      "execution_count": null,
      "outputs": [
        {
          "output_type": "stream",
          "name": "stdout",
          "text": [
            "<class 'pandas.core.frame.DataFrame'>\n",
            "RangeIndex: 32560 entries, 0 to 32559\n",
            "Data columns (total 55 columns):\n",
            " #   Column                         Non-Null Count  Dtype \n",
            "---  ------                         --------------  ----- \n",
            " 0   age                            32560 non-null  int64 \n",
            " 1   workclass                      32560 non-null  object\n",
            " 2   fnlwgt                         32560 non-null  int64 \n",
            " 3   education                      32560 non-null  object\n",
            " 4   education_num                  32560 non-null  int64 \n",
            " 5   marital_status                 32560 non-null  object\n",
            " 6   occupation                     32560 non-null  object\n",
            " 7   relationship                   32560 non-null  object\n",
            " 8   race                           32560 non-null  object\n",
            " 9   sex                            32560 non-null  int64 \n",
            " 10  capital_gain                   32560 non-null  int64 \n",
            " 11  capital_loss                   32560 non-null  int64 \n",
            " 12  hours_per_week                 32560 non-null  int64 \n",
            " 13  native_country                 32560 non-null  object\n",
            " 14  income                         32560 non-null  object\n",
            " 15  workclass_ Never-worked        32560 non-null  uint8 \n",
            " 16  workclass_ Private             32560 non-null  uint8 \n",
            " 17  workclass_Government           32560 non-null  uint8 \n",
            " 18  workclass_Self-Employed        32560 non-null  uint8 \n",
            " 19  workclass_Unknown              32560 non-null  uint8 \n",
            " 20  education_ Assoc-acdm          32560 non-null  uint8 \n",
            " 21  education_ Assoc-voc           32560 non-null  uint8 \n",
            " 22  education_ Bachelors           32560 non-null  uint8 \n",
            " 23  education_ Doctorate           32560 non-null  uint8 \n",
            " 24  education_ Masters             32560 non-null  uint8 \n",
            " 25  education_ Preschool           32560 non-null  uint8 \n",
            " 26  education_ Prof-school         32560 non-null  uint8 \n",
            " 27  education_Higher Secondary     32560 non-null  uint8 \n",
            " 28  education_Middle               32560 non-null  uint8 \n",
            " 29  education_Primary              32560 non-null  uint8 \n",
            " 30  marital_status_ Divorced       32560 non-null  uint8 \n",
            " 31  marital_status_ Separated      32560 non-null  uint8 \n",
            " 32  marital_status_ Widowed        32560 non-null  uint8 \n",
            " 33  marital_status_Married         32560 non-null  uint8 \n",
            " 34  marital_status_Single          32560 non-null  uint8 \n",
            " 35  occupation_ Adm-clerical       32560 non-null  uint8 \n",
            " 36  occupation_ Armed-Forces       32560 non-null  uint8 \n",
            " 37  occupation_ Craft-repair       32560 non-null  uint8 \n",
            " 38  occupation_ Exec-managerial    32560 non-null  uint8 \n",
            " 39  occupation_ Farming-fishing    32560 non-null  uint8 \n",
            " 40  occupation_ Handlers-cleaners  32560 non-null  uint8 \n",
            " 41  occupation_ Machine-op-inspct  32560 non-null  uint8 \n",
            " 42  occupation_ Other-service      32560 non-null  uint8 \n",
            " 43  occupation_ Priv-house-serv    32560 non-null  uint8 \n",
            " 44  occupation_ Prof-specialty     32560 non-null  uint8 \n",
            " 45  occupation_ Protective-serv    32560 non-null  uint8 \n",
            " 46  occupation_ Sales              32560 non-null  uint8 \n",
            " 47  occupation_ Tech-support       32560 non-null  uint8 \n",
            " 48  occupation_ Transport-moving   32560 non-null  uint8 \n",
            " 49  occupation_Unknown             32560 non-null  uint8 \n",
            " 50  race_ Amer-Indian-Eskimo       32560 non-null  uint8 \n",
            " 51  race_ Asian-Pac-Islander       32560 non-null  uint8 \n",
            " 52  race_ Black                    32560 non-null  uint8 \n",
            " 53  race_ Other                    32560 non-null  uint8 \n",
            " 54  race_ White                    32560 non-null  uint8 \n",
            "dtypes: int64(7), object(8), uint8(40)\n",
            "memory usage: 5.0+ MB\n"
          ]
        }
      ]
    },
    {
      "cell_type": "markdown",
      "metadata": {
        "id": "7bxw0CD0iU8i"
      },
      "source": [
        "Thus, now all the necessary dummy variables are created , the categorical variables are coded and there does not exist any null values thus we go for the analysis."
      ]
    },
    {
      "cell_type": "code",
      "metadata": {
        "colab": {
          "base_uri": "https://localhost:8080/",
          "height": 297
        },
        "id": "3-NMGTzm4avV",
        "outputId": "c72cf433-0c0e-4a04-cce4-b6f3abbfe049"
      },
      "source": [
        "#Obtaining the descriptive measure using describe() function\n",
        "data.describe()"
      ],
      "execution_count": null,
      "outputs": [
        {
          "output_type": "execute_result",
          "data": {
            "text/html": [
              "<div>\n",
              "<style scoped>\n",
              "    .dataframe tbody tr th:only-of-type {\n",
              "        vertical-align: middle;\n",
              "    }\n",
              "\n",
              "    .dataframe tbody tr th {\n",
              "        vertical-align: top;\n",
              "    }\n",
              "\n",
              "    .dataframe thead th {\n",
              "        text-align: right;\n",
              "    }\n",
              "</style>\n",
              "<table border=\"1\" class=\"dataframe\">\n",
              "  <thead>\n",
              "    <tr style=\"text-align: right;\">\n",
              "      <th></th>\n",
              "      <th>age</th>\n",
              "      <th>fnlwgt</th>\n",
              "      <th>education_num</th>\n",
              "      <th>sex</th>\n",
              "      <th>capital_gain</th>\n",
              "      <th>capital_loss</th>\n",
              "      <th>hours_per_week</th>\n",
              "    </tr>\n",
              "  </thead>\n",
              "  <tbody>\n",
              "    <tr>\n",
              "      <th>count</th>\n",
              "      <td>32560.000000</td>\n",
              "      <td>3.256000e+04</td>\n",
              "      <td>32560.000000</td>\n",
              "      <td>32560.000000</td>\n",
              "      <td>32560.000000</td>\n",
              "      <td>32560.000000</td>\n",
              "      <td>32560.000000</td>\n",
              "    </tr>\n",
              "    <tr>\n",
              "      <th>mean</th>\n",
              "      <td>38.581634</td>\n",
              "      <td>1.897818e+05</td>\n",
              "      <td>10.080590</td>\n",
              "      <td>0.669195</td>\n",
              "      <td>1077.615172</td>\n",
              "      <td>87.306511</td>\n",
              "      <td>40.437469</td>\n",
              "    </tr>\n",
              "    <tr>\n",
              "      <th>std</th>\n",
              "      <td>13.640642</td>\n",
              "      <td>1.055498e+05</td>\n",
              "      <td>2.572709</td>\n",
              "      <td>0.470510</td>\n",
              "      <td>7385.402999</td>\n",
              "      <td>402.966116</td>\n",
              "      <td>12.347618</td>\n",
              "    </tr>\n",
              "    <tr>\n",
              "      <th>min</th>\n",
              "      <td>17.000000</td>\n",
              "      <td>1.228500e+04</td>\n",
              "      <td>1.000000</td>\n",
              "      <td>0.000000</td>\n",
              "      <td>0.000000</td>\n",
              "      <td>0.000000</td>\n",
              "      <td>1.000000</td>\n",
              "    </tr>\n",
              "    <tr>\n",
              "      <th>25%</th>\n",
              "      <td>28.000000</td>\n",
              "      <td>1.178315e+05</td>\n",
              "      <td>9.000000</td>\n",
              "      <td>0.000000</td>\n",
              "      <td>0.000000</td>\n",
              "      <td>0.000000</td>\n",
              "      <td>40.000000</td>\n",
              "    </tr>\n",
              "    <tr>\n",
              "      <th>50%</th>\n",
              "      <td>37.000000</td>\n",
              "      <td>1.783630e+05</td>\n",
              "      <td>10.000000</td>\n",
              "      <td>1.000000</td>\n",
              "      <td>0.000000</td>\n",
              "      <td>0.000000</td>\n",
              "      <td>40.000000</td>\n",
              "    </tr>\n",
              "    <tr>\n",
              "      <th>75%</th>\n",
              "      <td>48.000000</td>\n",
              "      <td>2.370545e+05</td>\n",
              "      <td>12.000000</td>\n",
              "      <td>1.000000</td>\n",
              "      <td>0.000000</td>\n",
              "      <td>0.000000</td>\n",
              "      <td>45.000000</td>\n",
              "    </tr>\n",
              "    <tr>\n",
              "      <th>max</th>\n",
              "      <td>90.000000</td>\n",
              "      <td>1.484705e+06</td>\n",
              "      <td>16.000000</td>\n",
              "      <td>1.000000</td>\n",
              "      <td>99999.000000</td>\n",
              "      <td>4356.000000</td>\n",
              "      <td>99.000000</td>\n",
              "    </tr>\n",
              "  </tbody>\n",
              "</table>\n",
              "</div>"
            ],
            "text/plain": [
              "                age        fnlwgt  ...  capital_loss  hours_per_week\n",
              "count  32560.000000  3.256000e+04  ...  32560.000000    32560.000000\n",
              "mean      38.581634  1.897818e+05  ...     87.306511       40.437469\n",
              "std       13.640642  1.055498e+05  ...    402.966116       12.347618\n",
              "min       17.000000  1.228500e+04  ...      0.000000        1.000000\n",
              "25%       28.000000  1.178315e+05  ...      0.000000       40.000000\n",
              "50%       37.000000  1.783630e+05  ...      0.000000       40.000000\n",
              "75%       48.000000  2.370545e+05  ...      0.000000       45.000000\n",
              "max       90.000000  1.484705e+06  ...   4356.000000       99.000000\n",
              "\n",
              "[8 rows x 7 columns]"
            ]
          },
          "metadata": {},
          "execution_count": 241
        }
      ]
    },
    {
      "cell_type": "markdown",
      "metadata": {
        "id": "PxgWaWZ84JIN"
      },
      "source": [
        "From th above summary it is observed that the variable age and hour_per_week i.e. the no. of hours they work in a week has mean = meadian, from which we can assume that the age and hour_per _week are normally distributed."
      ]
    },
    {
      "cell_type": "markdown",
      "metadata": {
        "id": "U3PKroJ76o9h"
      },
      "source": [
        "EXPLORING THE STUDY VARIABLE"
      ]
    },
    {
      "cell_type": "code",
      "metadata": {
        "colab": {
          "base_uri": "https://localhost:8080/"
        },
        "id": "INA6tYnU4yUi",
        "outputId": "43fb51cb-8ba0-4565-acd5-1e4214c99c65"
      },
      "source": [
        "#Obtaining the count of person under each income class.\n",
        "data['income'].value_counts()"
      ],
      "execution_count": null,
      "outputs": [
        {
          "output_type": "execute_result",
          "data": {
            "text/plain": [
              " <=50K    24719\n",
              " >50K      7841\n",
              "Name: income, dtype: int64"
            ]
          },
          "metadata": {},
          "execution_count": 242
        }
      ]
    },
    {
      "cell_type": "markdown",
      "metadata": {
        "id": "0oBlNC8n7DRi"
      },
      "source": [
        "Thus, it observed that there are 24719 person who earn less than 50K salary and around more 7841 people makes salary above 50K in a year."
      ]
    },
    {
      "cell_type": "code",
      "metadata": {
        "colab": {
          "base_uri": "https://localhost:8080/",
          "height": 295
        },
        "id": "qUI0qGjk90Nb",
        "outputId": "4b2e2274-3e1d-4e07-c07e-0e91de11405e"
      },
      "source": [
        "#Obtaining the bar plot of people different classes of salary i.e. >50 & <=50.\n",
        "sns.countplot(x='income',data=data, palette=\"pastel\")\n",
        "plt.title(\"BAR PLOT: COUNTS OF PEOPLE MAKE OVER 50K SALARY [FIGURE 1]\")\n",
        "plt.ylabel(\"Counts of each classes\")\n",
        "plt.xlabel(\"SALARY CLASS\")\n",
        "plt.show()"
      ],
      "execution_count": null,
      "outputs": [
        {
          "output_type": "display_data",
          "data": {
            "image/png": "[encoded data removed]",
            "text/plain": [
              "<Figure size 432x288 with 1 Axes>"
            ]
          },
          "metadata": {
            "needs_background": "light"
          }
        }
      ]
    },
    {
      "cell_type": "code",
      "metadata": {
        "colab": {
          "base_uri": "https://localhost:8080/",
          "height": 142
        },
        "id": "JOfFSpwA-H3H",
        "outputId": "2b006b20-f100-492c-f54c-1a9ec21afb69"
      },
      "source": [
        "#Obtaining the average of each class of people with respect to salary.\n",
        "data.groupby('income').mean()"
      ],
      "execution_count": null,
      "outputs": [
        {
          "output_type": "execute_result",
          "data": {
            "text/html": [
              "<div>\n",
              "<style scoped>\n",
              "    .dataframe tbody tr th:only-of-type {\n",
              "        vertical-align: middle;\n",
              "    }\n",
              "\n",
              "    .dataframe tbody tr th {\n",
              "        vertical-align: top;\n",
              "    }\n",
              "\n",
              "    .dataframe thead th {\n",
              "        text-align: right;\n",
              "    }\n",
              "</style>\n",
              "<table border=\"1\" class=\"dataframe\">\n",
              "  <thead>\n",
              "    <tr style=\"text-align: right;\">\n",
              "      <th></th>\n",
              "      <th>age</th>\n",
              "      <th>fnlwgt</th>\n",
              "      <th>education_num</th>\n",
              "      <th>sex</th>\n",
              "      <th>capital_gain</th>\n",
              "      <th>capital_loss</th>\n",
              "      <th>hours_per_week</th>\n",
              "    </tr>\n",
              "    <tr>\n",
              "      <th>income</th>\n",
              "      <th></th>\n",
              "      <th></th>\n",
              "      <th></th>\n",
              "      <th></th>\n",
              "      <th></th>\n",
              "      <th></th>\n",
              "      <th></th>\n",
              "    </tr>\n",
              "  </thead>\n",
              "  <tbody>\n",
              "    <tr>\n",
              "      <th>&lt;=50K</th>\n",
              "      <td>36.783648</td>\n",
              "      <td>190345.429467</td>\n",
              "      <td>9.594927</td>\n",
              "      <td>0.611958</td>\n",
              "      <td>148.670537</td>\n",
              "      <td>53.145071</td>\n",
              "      <td>38.840163</td>\n",
              "    </tr>\n",
              "    <tr>\n",
              "      <th>&gt;50K</th>\n",
              "      <td>44.249841</td>\n",
              "      <td>188005.000000</td>\n",
              "      <td>11.611657</td>\n",
              "      <td>0.849637</td>\n",
              "      <td>4006.142456</td>\n",
              "      <td>195.001530</td>\n",
              "      <td>45.473026</td>\n",
              "    </tr>\n",
              "  </tbody>\n",
              "</table>\n",
              "</div>"
            ],
            "text/plain": [
              "              age         fnlwgt  ...  capital_loss  hours_per_week\n",
              "income                            ...                              \n",
              " <=50K  36.783648  190345.429467  ...     53.145071       38.840163\n",
              " >50K   44.249841  188005.000000  ...    195.001530       45.473026\n",
              "\n",
              "[2 rows x 7 columns]"
            ]
          },
          "metadata": {},
          "execution_count": 244
        }
      ]
    },
    {
      "cell_type": "markdown",
      "metadata": {
        "id": "GF7wY-E1CGcU"
      },
      "source": [
        "Thus, from the above table on observing the age we observe that average age for the class of people earning more than 50K is 44 years which means that the age of most of the people who earns more than 50K lies around the age of 44 years thus we could conclude that their salary is higher because of experience they have. We also observed that the average age of people earning less than 50K is 36 year which means that the age of the people earning below 50K is around 36 years. "
      ]
    },
    {
      "cell_type": "code",
      "metadata": {
        "colab": {
          "base_uri": "https://localhost:8080/",
          "height": 142
        },
        "id": "Bro2aOyz-R1T",
        "outputId": "748156f9-12c8-4dc5-a4ac-573206951d36"
      },
      "source": [
        "#Obtaiing the contingency table.\n",
        "pd.crosstab(data.sex,data.income)"
      ],
      "execution_count": null,
      "outputs": [
        {
          "output_type": "execute_result",
          "data": {
            "text/html": [
              "<div>\n",
              "<style scoped>\n",
              "    .dataframe tbody tr th:only-of-type {\n",
              "        vertical-align: middle;\n",
              "    }\n",
              "\n",
              "    .dataframe tbody tr th {\n",
              "        vertical-align: top;\n",
              "    }\n",
              "\n",
              "    .dataframe thead th {\n",
              "        text-align: right;\n",
              "    }\n",
              "</style>\n",
              "<table border=\"1\" class=\"dataframe\">\n",
              "  <thead>\n",
              "    <tr style=\"text-align: right;\">\n",
              "      <th>income</th>\n",
              "      <th>&lt;=50K</th>\n",
              "      <th>&gt;50K</th>\n",
              "    </tr>\n",
              "    <tr>\n",
              "      <th>sex</th>\n",
              "      <th></th>\n",
              "      <th></th>\n",
              "    </tr>\n",
              "  </thead>\n",
              "  <tbody>\n",
              "    <tr>\n",
              "      <th>0</th>\n",
              "      <td>9592</td>\n",
              "      <td>1179</td>\n",
              "    </tr>\n",
              "    <tr>\n",
              "      <th>1</th>\n",
              "      <td>15127</td>\n",
              "      <td>6662</td>\n",
              "    </tr>\n",
              "  </tbody>\n",
              "</table>\n",
              "</div>"
            ],
            "text/plain": [
              "income   <=50K   >50K\n",
              "sex                  \n",
              "0         9592   1179\n",
              "1        15127   6662"
            ]
          },
          "metadata": {},
          "execution_count": 245
        }
      ]
    },
    {
      "cell_type": "code",
      "metadata": {
        "colab": {
          "base_uri": "https://localhost:8080/",
          "height": 309
        },
        "id": "SJG6d04E-eka",
        "outputId": "d7702692-cd76-4a68-fb47-fab35751986d"
      },
      "source": [
        "#BAR PLOT FOR PEOPLE UNDER SALARY CLASS WITH RESPECT TO GENDER\n",
        "pd.crosstab(data.sex,data.income).plot(kind='bar')\n",
        "plt.title('BAR PLOT: COUNT OF PEOPLE (WRT GENDER) UNDER EACH SALARY CLASS (<=50K & >50K) [FIGURE 2]')\n",
        "plt.xlabel('Gender')\n",
        "plt.ylabel('Frequency of people unde each gender')"
      ],
      "execution_count": null,
      "outputs": [
        {
          "output_type": "execute_result",
          "data": {
            "text/plain": [
              "Text(0, 0.5, 'Frequency of people unde each gender')"
            ]
          },
          "metadata": {},
          "execution_count": 246
        },
        {
          "output_type": "display_data",
          "data": {
            "image/png": "[encoded data removed]",
            "text/plain": [
              "<Figure size 432x288 with 1 Axes>"
            ]
          },
          "metadata": {
            "needs_background": "light"
          }
        }
      ]
    },
    {
      "cell_type": "markdown",
      "metadata": {
        "id": "dBhWrNZqIlpb"
      },
      "source": [
        "Thus, we observed that among the people earing more than 50K 1179 are female and among 6662 are male, thus it is observed more are female who earns more than 50K."
      ]
    },
    {
      "cell_type": "code",
      "metadata": {
        "colab": {
          "base_uri": "https://localhost:8080/",
          "height": 406
        },
        "id": "C5OJNdgH-iVd",
        "outputId": "51ebbe87-486d-4310-8c96-598fa308a24b"
      },
      "source": [
        "#BAR PLOT FOR PEOPLE UNDER SALARY CLASS WITH RESPECT TO RACE\n",
        "pd.crosstab(data.race,data.income).plot(kind='bar')\n",
        "plt.title('BAR PLOT: COUNT OF PEOPLE (WRT RACE) UNDER EACH SALARY CLASS (<=50K & >50K) [FIGURE 3]')\n",
        "plt.xlabel('Race')\n",
        "plt.ylabel('Frequency of people')"
      ],
      "execution_count": null,
      "outputs": [
        {
          "output_type": "execute_result",
          "data": {
            "text/plain": [
              "Text(0, 0.5, 'Frequency of people')"
            ]
          },
          "metadata": {},
          "execution_count": 247
        },
        {
          "output_type": "display_data",
          "data": {
            "image/png": "[encoded data removed]",
            "text/plain": [
              "<Figure size 432x288 with 1 Axes>"
            ]
          },
          "metadata": {
            "needs_background": "light"
          }
        }
      ]
    },
    {
      "cell_type": "markdown",
      "metadata": {
        "id": "tk-RH0SmLtir"
      },
      "source": [
        "Thus it is observed from the above figure that most of the people are whites and among whites more of them earns salary below 50K and very few of them earns salary above 50K which could be due to that very less among all are experienced and educated and hence very few earn more than 50K."
      ]
    },
    {
      "cell_type": "markdown",
      "metadata": {
        "id": "ELzVlxv6LeW5"
      },
      "source": [
        "**ANALYSIS**"
      ]
    },
    {
      "cell_type": "code",
      "metadata": {
        "id": "qEo8PN1kx1ST",
        "colab": {
          "base_uri": "https://localhost:8080/"
        },
        "outputId": "82c8f7f1-681b-4fa8-e45d-49455f0c36c5"
      },
      "source": [
        "#Installing the plotly package\n",
        "!pip install plotly"
      ],
      "execution_count": null,
      "outputs": [
        {
          "output_type": "stream",
          "name": "stdout",
          "text": [
            "Requirement already satisfied: plotly in /usr/local/lib/python3.7/dist-packages (4.4.1)\n",
            "Requirement already satisfied: retrying>=1.3.3 in /usr/local/lib/python3.7/dist-packages (from plotly) (1.3.3)\n",
            "Requirement already satisfied: six in /usr/local/lib/python3.7/dist-packages (from plotly) (1.15.0)\n"
          ]
        }
      ]
    },
    {
      "cell_type": "markdown",
      "metadata": {
        "id": "RuwV0cp4MeZS"
      },
      "source": [
        "**NAIVE BAYES CLASSIFIER: APPROACH 1**"
      ]
    },
    {
      "cell_type": "markdown",
      "metadata": {
        "id": "ewhmuGuGMlBx"
      },
      "source": [
        "GAUSSIAN NAIVE BAYES CLASSIFIER"
      ]
    },
    {
      "cell_type": "code",
      "metadata": {
        "id": "Ww2NERqo__Z7"
      },
      "source": [
        "#Splitting the dataset into study and independent variables.\n",
        "X=data[['age','hours_per_week']]#continuous variables\n",
        "y=data['income'].values"
      ],
      "execution_count": null,
      "outputs": []
    },
    {
      "cell_type": "code",
      "metadata": {
        "id": "iaO96QY_yCK5"
      },
      "source": [
        "#Creating a function that will handle sample splitting, model fitting and report printing\n",
        "def mfunc(X, y, typ):\n",
        "#Splitting the data into train and test data.\n",
        "  X_train, X_test, y_train, y_test = train_test_split(X, y, test_size=0.2,random_state=0)\n",
        "#Fitting the model\n",
        "  model = typ\n",
        "  clf = model.fit(X_train, y_train)\n",
        "#Predicting class labels in a test data\n",
        "  pred_labels = model.predict(X_test)\n",
        "#Printing the model attributes\n",
        "  print('Classes:', clf.classes_) #class labels known to the classifier\n",
        "  if str(typ)=='GaussianNB()':\n",
        "    print('Class Priors: ',clf.class_prior_) # prior probability of each class.\n",
        "# Use score method to get accuracy of the model\n",
        "  print('--------------------------------------------------------')\n",
        "  score = model.score(X_test, y_test)\n",
        "  print('Accuracy Score: ', score)\n",
        "  print('--------------------------------------------------------')\n",
        "# Look at classification report to evaluate the model\n",
        "  print(classification_report(y_test, pred_labels))\n",
        "# Return relevant data for chart plotting\n",
        "  return X_train, X_test, y_train, y_test, clf, pred_labels"
      ],
      "execution_count": null,
      "outputs": []
    },
    {
      "cell_type": "code",
      "metadata": {
        "colab": {
          "base_uri": "https://localhost:8080/"
        },
        "id": "n_S1oj6ddVlO",
        "outputId": "493961cd-af49-47d5-ee96-0de9fa61f44b"
      },
      "source": [
        "# Fit the model and print the result.\n",
        "X_train, X_test, y_train, y_test, clf, pred_labels = mfunc(X, y, GaussianNB())"
      ],
      "execution_count": null,
      "outputs": [
        {
          "output_type": "stream",
          "name": "stdout",
          "text": [
            "Classes: [' <=50K' ' >50K']\n",
            "--------------------------------------------------------\n",
            "Accuracy Score:  0.7613636363636364\n",
            "--------------------------------------------------------\n",
            "              precision    recall  f1-score   support\n",
            "\n",
            "       <=50K       0.77      0.98      0.86      4957\n",
            "        >50K       0.50      0.07      0.12      1555\n",
            "\n",
            "    accuracy                           0.76      6512\n",
            "   macro avg       0.64      0.52      0.49      6512\n",
            "weighted avg       0.71      0.76      0.68      6512\n",
            "\n"
          ]
        }
      ]
    },
    {
      "cell_type": "markdown",
      "metadata": {
        "id": "mXkdJTZyjL0n"
      },
      "source": [
        "From the above table it is observed that the precision for both the class '<=50K' is  0.77 and class '>50K' is 0.50 which indicates that the model is good in classifying the groups as a correct one\n",
        "\n",
        "Also we observe that recall for the class '<=50K' is 0.98 and class '>50K' is 0.07 which indicates that the ability of a classifier to make correct prediction is  good in case of people earnin<=50K but not in case of people earnin >50K. \n",
        "\n",
        "It is observed that F1score is 0.86  and 0.12 respectively for each of a group of people making <=50K and people making >50K which indicates that more weight is given to precision and less weight is given to recall.\n",
        "\n",
        "Since we observe that both the average measures are not equal therefore our classification is not balanced.\n",
        "\n",
        "Also we observe that the accuracy measure is .76 thus our model is good.\n",
        "\n",
        "Thus from all the above results we conclude that our binary classifier is moderately good."
      ]
    },
    {
      "cell_type": "markdown",
      "metadata": {
        "id": "g2LVhNJjMvDy"
      },
      "source": [
        "BERNUOLLI NAIVE BAYES CLASSIFIER"
      ]
    },
    {
      "cell_type": "code",
      "metadata": {
        "id": "v4iaSHk_MuUm"
      },
      "source": [
        "#Splitting the dataset into study and independent variables.\n",
        "X=data[['sex']]#continuous variables\n",
        "y=data['income'].values"
      ],
      "execution_count": null,
      "outputs": []
    },
    {
      "cell_type": "code",
      "metadata": {
        "id": "UlVFocgYMwq4"
      },
      "source": [
        "#Creating a function that will handle sample splitting, model fitting and report printing\n",
        "def mfunc(X, y, typ):\n",
        "#Splitting the data into train and test data.\n",
        "  X_train, X_test, y_train, y_test = train_test_split(X, y, test_size=0.2,random_state=0)\n",
        "#Fitting the model\n",
        "  model = typ\n",
        "  clf = model.fit(X_train, y_train)\n",
        "#Predicting class labels in a test data\n",
        "  pred_labels = model.predict(X_test)\n",
        "#Printing the model attributes\n",
        "  print('Classes:', clf.classes_) #class labels known to the classifier\n",
        "  if str(typ)=='BernoulliNB()':\n",
        "    print('Class Priors: ',clf.class_prior_) # prior probability of each class.\n",
        "  else:\n",
        "    print('Class Log Priors: ',clf.class_log_prior_)\n",
        "# Use score method to get accuracy of the model\n",
        "  print('--------------------------------------------------------')\n",
        "  score = model.score(X_test, y_test)\n",
        "  print('Accuracy Score: ', score)\n",
        "  print('--------------------------------------------------------')\n",
        "# Look at classification report to evaluate the model\n",
        "  print(classification_report(y_test, pred_labels))\n",
        "# Return relevant data for chart plotting\n",
        "  return X_train, X_test, y_train, y_test, clf, pred_labels"
      ],
      "execution_count": null,
      "outputs": []
    },
    {
      "cell_type": "code",
      "metadata": {
        "colab": {
          "base_uri": "https://localhost:8080/"
        },
        "id": "3l1qrwHjM26i",
        "outputId": "c7eed65c-c1ab-46b5-e1c1-8ec54fa4d5a1"
      },
      "source": [
        "# Fit the model and print the result\n",
        "X_train, X_test, y_train, y_test, clf, pred_labels = mfunc(X, y, BernoulliNB())"
      ],
      "execution_count": null,
      "outputs": [
        {
          "output_type": "stream",
          "name": "stdout",
          "text": [
            "Classes: [' <=50K' ' >50K']\n",
            "Class Log Priors:  [-0.27618009 -1.42161605]\n",
            "--------------------------------------------------------\n",
            "Accuracy Score:  0.7612100737100738\n",
            "--------------------------------------------------------\n",
            "              precision    recall  f1-score   support\n",
            "\n",
            "       <=50K       0.76      1.00      0.86      4957\n",
            "        >50K       0.00      0.00      0.00      1555\n",
            "\n",
            "    accuracy                           0.76      6512\n",
            "   macro avg       0.38      0.50      0.43      6512\n",
            "weighted avg       0.58      0.76      0.66      6512\n",
            "\n"
          ]
        },
        {
          "output_type": "stream",
          "name": "stderr",
          "text": [
            "/usr/local/lib/python3.7/dist-packages/sklearn/metrics/_classification.py:1272: UndefinedMetricWarning:\n",
            "\n",
            "Precision and F-score are ill-defined and being set to 0.0 in labels with no predicted samples. Use `zero_division` parameter to control this behavior.\n",
            "\n"
          ]
        }
      ]
    },
    {
      "cell_type": "markdown",
      "metadata": {
        "id": "02o_eba92s7-"
      },
      "source": [
        "From the above table it is observed that the precision for both the class '<=50K' is 0.76 and class '>50K' is 0 which indicates that the model is good in classifying in people earning <=50K in the correct group while model is not good at classifying in people earning <=50K in the correct group\n",
        "\n",
        "Also we observe that recall for the class '<=50K' is 1and class '>50K' is 0 which indicates that the ability of a classifier to make correct prediction is  good in case of people earning <=50K and is bad in case of classifying people earning >50K. \n",
        "\n",
        "It is observed that F1score is 0.86  and 0 respectively for each of a group of people making <=50K and people making >50K which indicates that more weight is given to precision and less weight is given to recall.\n",
        "\n",
        "Since we observe that both the average measures are not equal therefore our classification is not balanced.\n",
        "\n",
        "Also we observe that the accuracy measure is .76 thus our model is good.\n",
        "\n",
        "Thus from all the above results we conclude that our binary classifier is moderately good."
      ]
    },
    {
      "cell_type": "markdown",
      "metadata": {
        "id": "ROSO3TvhP2aH"
      },
      "source": [
        "MUTINOMIAL NAIVE BAYES CLASSIFIER"
      ]
    },
    {
      "cell_type": "code",
      "metadata": {
        "id": "f9crQry6P2t-"
      },
      "source": [
        "#Splitting the dataset into study and independent variables.\n",
        "X=data[['marital_status','education']]#continuous variables\n",
        "y=data['income'].values"
      ],
      "execution_count": null,
      "outputs": []
    },
    {
      "cell_type": "code",
      "metadata": {
        "id": "cFPJg01_xqZY"
      },
      "source": [
        "#Encoding the categorical variables\n",
        "enc = OrdinalEncoder()\n",
        "X = enc.fit_transform(X)"
      ],
      "execution_count": null,
      "outputs": []
    },
    {
      "cell_type": "code",
      "metadata": {
        "id": "JYIxUyT6P3rY"
      },
      "source": [
        "#Creating a function that will handle sample splitting, model fitting and report printing\n",
        "def mfunc(X, y, typ):\n",
        "#Splitting the data into train and test data.\n",
        "  X_train, X_test, y_train, y_test = train_test_split(X, y, test_size=0.2,random_state=0)\n",
        "#Fitting the model\n",
        "  model = typ\n",
        "  clf = model.fit(X_train, y_train)\n",
        "#Predicting class labels in a test data\n",
        "  pred_labels = model.predict(X_test)\n",
        "#Printing the model attributes\n",
        "  print('Classes:', clf.classes_) #class labels known to the classifier\n",
        "  if str(typ)=='CategoricalNB()':\n",
        "    print('Class Priors: ',clf.class_prior_) # prior probability of each class.\n",
        "  else:\n",
        "    print('Class Log Priors: ',clf.class_log_prior_)\n",
        "# Use score method to get accuracy of the model\n",
        "  print('--------------------------------------------------------')\n",
        "  score = model.score(X_test, y_test)\n",
        "  print('Accuracy Score: ', score)\n",
        "  print('--------------------------------------------------------')\n",
        "# Look at classification report to evaluate the model\n",
        "  print(classification_report(y_test, pred_labels))\n",
        "# Return relevant data for chart plotting\n",
        "  return X_train, X_test, y_train, y_test, clf, pred_labels"
      ],
      "execution_count": null,
      "outputs": []
    },
    {
      "cell_type": "code",
      "metadata": {
        "id": "wZSBb1rIP9Br",
        "colab": {
          "base_uri": "https://localhost:8080/"
        },
        "outputId": "2b3eeabf-bfae-43ce-f584-7fbaeb894499"
      },
      "source": [
        "# Fit the model and print the result\n",
        "X_train, X_test, y_train, y_test, clf, pred_labels = mfunc(X, y, CategoricalNB())"
      ],
      "execution_count": null,
      "outputs": [
        {
          "output_type": "stream",
          "name": "stdout",
          "text": [
            "Classes: [' <=50K' ' >50K']\n",
            "Class Log Priors:  [-0.27618009 -1.42161605]\n",
            "--------------------------------------------------------\n",
            "Accuracy Score:  0.7910012285012284\n",
            "--------------------------------------------------------\n",
            "              precision    recall  f1-score   support\n",
            "\n",
            "       <=50K       0.79      0.98      0.88      4957\n",
            "        >50K       0.78      0.17      0.28      1555\n",
            "\n",
            "    accuracy                           0.79      6512\n",
            "   macro avg       0.79      0.58      0.58      6512\n",
            "weighted avg       0.79      0.79      0.74      6512\n",
            "\n"
          ]
        }
      ]
    },
    {
      "cell_type": "markdown",
      "metadata": {
        "id": "d8tXlK2I2Xlw"
      },
      "source": [
        "From the above table it is observed that the precision for both the class '<=50K' is 0.79 and class '>50K' is 0.78 which indicates the good case thus the  ability of a classifier not to make a wrong prediction is good. \n",
        "\n",
        "Also we observe that recall for the class '<=50K' is 0.98 and class '>50K' is 0.17 which indicates that the ability of a classifier to make correct prediction is  good. \n",
        "\n",
        "It is observed that F1score is 0.88  and 0.28 respectively for each of a group of people making <=50K and people making >50K which indicates that more weight is given to precision and less weight is given to recall.\n",
        "\n",
        "Since we observe that both the average measures are not equal therefore our classification is not balanced.\n",
        "\n",
        "Also we observe that the accuracy measure is .79 thus our model is good.\n",
        "\n",
        "Thus from all the above results we conclude that our binary classifier is moderately good."
      ]
    },
    {
      "cell_type": "markdown",
      "metadata": {
        "id": "Zjw3T24Meg7g"
      },
      "source": [
        "**NAIVE BAYES CLASSIFIER: APPROACH 2 (HYBRID)**"
      ]
    },
    {
      "cell_type": "code",
      "metadata": {
        "id": "8Z4xl08Xej8_"
      },
      "source": [
        "#Selecting data for modelling\n",
        "X_G=data[['age','hours_per_week']]#Continuous variables\n",
        "X_C=data[['capital_gain','education']]#Categorical variables\n",
        "y=data['income'].values\n"
      ],
      "execution_count": null,
      "outputs": []
    },
    {
      "cell_type": "code",
      "metadata": {
        "id": "jF1moH7CezhV"
      },
      "source": [
        "#Encoding the categorical variables\n",
        "enc = OrdinalEncoder()\n",
        "X_C = enc.fit_transform(X_C)"
      ],
      "execution_count": null,
      "outputs": []
    },
    {
      "cell_type": "code",
      "metadata": {
        "id": "4FUi4kwofJHr"
      },
      "source": [
        "#Combining all the four variables into one array\n",
        "X=np.c_[X_G,X_C[:,0].ravel(),X_C[:,1].ravel()]"
      ],
      "execution_count": null,
      "outputs": []
    },
    {
      "cell_type": "code",
      "metadata": {
        "id": "-q5P5NwbfeZo"
      },
      "source": [
        "#Splitting the data into training and testing samples\n",
        "X_train, X_test, y_train, y_test = train_test_split(X,y,test_size=0.2,random_state=0)"
      ],
      "execution_count": null,
      "outputs": []
    },
    {
      "cell_type": "code",
      "metadata": {
        "id": "ls_U7CGXf6Tv"
      },
      "source": [
        "#Fitting the models\n",
        "\n",
        "#Now we use the gaussian model for continuous independent variable.\n",
        "model_G = GaussianNB()\n",
        "clf_G = model_G.fit(X_train[:,0:2],y_train)\n",
        "\n",
        "#Categorical model for discrete independent variable.\n",
        "model_C =CategoricalNB()\n",
        "clf_C = model_C.fit(X_train[:,2:4],y_train)"
      ],
      "execution_count": null,
      "outputs": []
    },
    {
      "cell_type": "code",
      "metadata": {
        "id": "NGRzvlSHg8Sm"
      },
      "source": [
        "#Getting probability predictions from each model\n",
        "\n",
        "#On training data\n",
        "G_train_probas = model_G.predict_proba(X_train[:,0:2])\n",
        "C_train_probas = model_G.predict_proba(X_train[:,2:4])\n",
        "\n",
        "#On testing data\n",
        "G_test_probas = model_G.predict_proba(X_test[:,0:2])\n",
        "C_test_probas = model_G.predict_proba(X_test[:,2:4])"
      ],
      "execution_count": null,
      "outputs": []
    },
    {
      "cell_type": "code",
      "metadata": {
        "id": "fCPczOqPhlRz"
      },
      "source": [
        "#Combining probabilities predicted for class 1 from both the models into a 2D array.\n",
        "X_new_train = np.c_[(G_train_probas[:,1],C_train_probas[:,1])]\n",
        "X_new_test = np.c_[(G_test_probas[:,1],C_test_probas[:,1])]"
      ],
      "execution_count": null,
      "outputs": []
    },
    {
      "cell_type": "code",
      "metadata": {
        "id": "JQjsnD-wibz9"
      },
      "source": [
        "#Fitting gaussian model on X_new\n",
        "model = GaussianNB()\n",
        "clf = model.fit(X_new_train,y_train)"
      ],
      "execution_count": null,
      "outputs": []
    },
    {
      "cell_type": "code",
      "metadata": {
        "colab": {
          "base_uri": "https://localhost:8080/"
        },
        "id": "AZhmjGhLivV1",
        "outputId": "aad65fee-c1e1-4dbc-f509-df5bab375465"
      },
      "source": [
        "#Predict class labels on test data\n",
        "pred_labels = model.predict(X_new_test)\n",
        "pred_labels"
      ],
      "execution_count": null,
      "outputs": [
        {
          "output_type": "execute_result",
          "data": {
            "text/plain": [
              "array([' <=50K', ' <=50K', ' <=50K', ..., ' <=50K', ' <=50K', ' <=50K'],\n",
              "      dtype='<U6')"
            ]
          },
          "metadata": {},
          "execution_count": 268
        }
      ]
    },
    {
      "cell_type": "code",
      "metadata": {
        "colab": {
          "base_uri": "https://localhost:8080/"
        },
        "id": "BLO4NklRjEZ1",
        "outputId": "9ae6c719-3d2a-4ce4-b90e-7d2de2e7c7dd"
      },
      "source": [
        "#Obtaining the results from the model built using hybrid approach.\n",
        "print('Classes: ', clf.classes_) #gives class labels known to the classifier\n",
        "print('Class Priors: ',clf.class_prior_) #probability of each calss\n",
        "\n",
        "#Obtaing the accuracy of the model using score method.\n",
        "print(\"-------------------------------------------------------------------------\")\n",
        "score = model.score(X_new_test,y_test)\n",
        "print(\"Accuracy Score: \", score)\n",
        "print(\"-------------------------------------------------------------------------\")\n",
        "\n",
        "#Obtaining the classification report to evaluate the model\n",
        "print(classification_report(y_test,pred_labels))"
      ],
      "execution_count": null,
      "outputs": [
        {
          "output_type": "stream",
          "name": "stdout",
          "text": [
            "Classes:  [' <=50K' ' >50K']\n",
            "Class Priors:  [0.75867629 0.24132371]\n",
            "-------------------------------------------------------------------------\n",
            "Accuracy Score:  0.7628992628992629\n",
            "-------------------------------------------------------------------------\n",
            "              precision    recall  f1-score   support\n",
            "\n",
            "       <=50K       0.79      0.93      0.86      4957\n",
            "        >50K       0.51      0.23      0.32      1555\n",
            "\n",
            "    accuracy                           0.76      6512\n",
            "   macro avg       0.65      0.58      0.59      6512\n",
            "weighted avg       0.73      0.76      0.73      6512\n",
            "\n"
          ]
        }
      ]
    },
    {
      "cell_type": "markdown",
      "metadata": {
        "id": "J5jlpUYkz3M0"
      },
      "source": [
        "From the above table it is observed that the precision for both the class '<=50K' is 0.78 and class '>50K' is 0.49 which indicates the good case thus the  ability of a classifier not to make a wrong prediction is good. \n",
        "\n",
        "Also we observe that recall for the class '<=50K' is 0.94 and class '>50K' is 0.17 which indicates that the ability of a classifier to make correct prediction is  good. \n",
        "\n",
        "It is observed that F1score is 0.86  and 0.25 respectively for each of a group of people making <=50K and people making >50K which indicates that more weight is given to precision and less weight is given to recall.\n",
        "\n",
        "Since we observe that both the average measures are not equal therefore our classification is not balanced.\n",
        "\n",
        "Also we observe that the accuracy measure is .75 thus our model is good.\n",
        "\n",
        "Thus from all the above results we conclude that our binary classifier is moderately good."
      ]
    },
    {
      "cell_type": "markdown",
      "metadata": {
        "id": "o6hW2d6Q39Ue"
      },
      "source": [
        "**CONCLUSION**"
      ]
    },
    {
      "cell_type": "markdown",
      "metadata": {
        "id": "uSkqhUO74AkB"
      },
      "source": [
        "On comparison we observed that both the approaches of buiding the naive bayes classifier gives almost the same result and it is obtained that our classifier Is moderately good."
      ]
    }
  ]
}