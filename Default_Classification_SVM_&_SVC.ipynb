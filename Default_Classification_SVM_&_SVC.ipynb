{
  "nbformat": 4,
  "nbformat_minor": 0,
  "metadata": {
    "colab": {
      "provenance": []
    },
    "kernelspec": {
      "name": "python3",
      "display_name": "Python 3"
    },
    "language_info": {
      "name": "python"
    }
  },
  "cells": [
    {
      "cell_type": "markdown",
      "metadata": {
        "id": "E3ovQ-eXyX15"
      },
      "source": [
        "**TITLE: CLASSIFICATION DEFAULT OF CREDIT CARD HOLDERS IN A BANK IN TAIWAN, 2005** "
      ]
    },
    {
      "cell_type": "markdown",
      "metadata": {
        "id": "8dXKE6HRyaQI"
      },
      "source": [
        "**INTRODUCTION**"
      ]
    },
    {
      "cell_type": "markdown",
      "metadata": {
        "id": "xByifC6FyeOx"
      },
      "source": [
        "Support Vector Machine(SVM) is a supervised machine learning algorithm used for both classification and regression. Though we say regression problems as well its best suited for classification. The objective of SVM algorithm is to find a hyperplane in an N-dimensional space that distinctly classifies the data points. The dimension of the hyperplane depends upon the number of features. If the number of input features is two, then the hyperplane is just a line. If the number of input features is three, then the hyperplane becomes a 2-D plane. It becomes difficult to imagine when the number of features exceeds three. \n",
        "\n",
        "The objective of the support vector machine algorithm is to find a hyperplane in an N-dimensional space(N — the number of features) that distinctly classifies the data points.\n",
        "\n",
        "To separate the two classes of data points, there are many possible hyperplanes that could be chosen. Our objective is to find a plane that has the maximum margin, i.e the maximum distance between data points of both classes. Maximizing the margin distance provides some reinforcement so that future data points can be classified with more confidence.\n",
        "\n",
        "Hyperplanes and Support Vectors\n",
        "\n",
        "Hyperplanes are decision boundaries that help classify the data points. Data points falling on either side of the hyperplane can be attributed to different classes. Also, the dimension of the hyperplane depends upon the number of features. If the number of input features is 2, then the hyperplane is just a line. If the number of input features is 3, then the hyperplane becomes a two-dimensional plane. It becomes difficult to imagine when the number of features exceeds 3.\n",
        "\n",
        "Support vectors are data points that are closer to the hyperplane and influence the position and orientation of the hyperplane. Using these support vectors, we maximize the margin of the classifier. Deleting the support vectors will change the position of the hyperplane. These are the points that help us build our SVM."
      ]
    },
    {
      "cell_type": "markdown",
      "metadata": {
        "id": "VdgZyk3gyh2A"
      },
      "source": [
        "**OBJECTIVE**"
      ]
    },
    {
      "cell_type": "markdown",
      "metadata": {
        "id": "LM0WMYTyyiwJ"
      },
      "source": [
        "To classify the clients as per the default of credit card holders in a bank in Taiwan, 2005 based on various othere explanotory variables using Support vector machine."
      ]
    },
    {
      "cell_type": "markdown",
      "metadata": {
        "id": "sTboNXIDylVR"
      },
      "source": [
        "**BUSINESS GOAL**"
      ]
    },
    {
      "cell_type": "markdown",
      "metadata": {
        "id": "zg_DKf69ypNQ"
      },
      "source": [
        "Sometimes credit card-issuing banks in order to gain large amount of market share issue credit cards to unqualified clients without suffient information about their ability of repayment of the bills. When the card holders overuse their cards to consume servises and goods irrespective of their repayment ability of the bills, they accumulate a heavy debts.\n",
        "\n",
        "In the area of consumer finance it is pivotal for the card issuing banks to be able to estimate the chance for a card holder to become default for risk analysis and approving the credit card applications.\n",
        "\n",
        "We are required to build a classification algorithm using support vector machine which would help bank to classify the clientsaccording to the default of credit card holders based on various other explainatory variables. "
      ]
    },
    {
      "cell_type": "markdown",
      "metadata": {
        "id": "sQienfZIytCR"
      },
      "source": [
        "**PACKAGES AND LIBRARIES**"
      ]
    },
    {
      "cell_type": "code",
      "metadata": {
        "id": "qZrTJ6kFyxIE"
      },
      "source": [
        "#Loading the pandas and numpy that will be used to handle the data.\n",
        "import pandas as pd\n",
        "import numpy as np\n",
        "\n",
        "#Loading matplotlib and seaborn which is required to perform the exploratory data analysis.\n",
        "import seaborn as sns \n",
        "import matplotlib.pyplot as plt\n",
        "\n",
        "#Importing the SVM from sk\n",
        "from sklearn.svm import SVC"
      ],
      "execution_count": null,
      "outputs": []
    },
    {
      "cell_type": "markdown",
      "metadata": {
        "id": "UIPNE345yzXB"
      },
      "source": [
        "**DATA DESCRIPTION**"
      ]
    },
    {
      "cell_type": "markdown",
      "metadata": {
        "id": "VF6iG9M3y4qJ"
      },
      "source": [
        "The dataset ‘Default of credit card clients’ consists of informations about transactions from April 2005 to September 2005 of 30000 clients who were credit holders in a bank in Taiwan. This dataset has binary response variable ‘default.payment.next.month’ that takes the value 1 if the corresponding client has default payment and -1 otherwise. Out of 30000 clients 6636(22.12%) were with default payment. There are 23 other independent or explanatory variables:\n",
        "\n",
        "LIMIT_BAL: Amount of the given credit(NT dollar), it includes both the individual consumer credit as well as the person’s family credit\n",
        "\n",
        "SEX: 1=male and 2= female\n",
        "\n",
        "EDUCATION: 1= graduate school, 2= university,3=high-school , 4=others\n",
        "\n",
        "MARRIAGE: Marital status. 1=married,2=single, 3= others\n",
        "\n",
        "AGE: Age of the client\n",
        "\n",
        "PAY_1-PAY_6: History of past payments from April to September 2005. \n",
        "Like PAY_1=The repayment status in September, …., \n",
        "PAY_6=The repayment status of April 2005. The scaling of the status is as follows -2= no transactions history,-1=paid duly,0=revolving ,1=payment delay for one month ,2= payment delay for 2 months ,….,9=payment delay for 9 months or more.\n",
        "\n",
        "BILL_AMT1-BILL_AMT6: Amount of bill statement (NT dollar).\n",
        "BILL_AMT1=amount of bill statement in September ,…., \n",
        "BILL_AMT6= amount of bill statement in April 2005.\n",
        "\n",
        "PAY_AMT1-PAY_AMT6:Amount of previous payment(NT dollar).\n",
        "PAY_AMT1=amount paid in September ,…., PAY_AMT6=amount paid in April 2005.\n",
        "\n",
        "Y-Default payment next month\n",
        "\n",
        "What is default?\n",
        "\n",
        "When a customer accepts a credit card from a bank or issuer, he/she agrees to certain terms and condition such as he/she needs to make their minimum payment by the due date listed on their credit card statements. If the consumer fails to make the payment for the debt by the due date, the issuer mark the credit card as default and might charge a penulty rate, decreasing credit limit and and in case of serious delniquency, close the account.\n",
        "\n",
        "How credit default happens?\n",
        "\n",
        "Sometimes credit card-issuing banks in order to gain large amount of market share issue credit cards to unqualified clients without suffient information about their ability of repayment of the bills. When the card holders overuse their cards to consume servises and goods irrespective of their repayment ability of the bills, they accumulate a heavy debts.\n",
        "\n",
        "In the area of consumer finance it is pivotal for the card issuing banks to be able to estimate the chance for a card holder to become default for risk analysis and approving the credit card applications.\n",
        "\n"
      ]
    },
    {
      "cell_type": "code",
      "metadata": {
        "colab": {
          "base_uri": "https://localhost:8080/",
          "height": 496
        },
        "id": "fjphSOA5y8qI",
        "outputId": "7532186d-80a5-4999-9656-531fe654ee7f"
      },
      "source": [
        "#Loading the required dataset.\n",
        "data=pd.read_csv(\"/content/default of credit card clients.csv\")\n",
        "\n",
        "#Viewing 'bank' data set.\n",
        "data"
      ],
      "execution_count": null,
      "outputs": [
        {
          "output_type": "execute_result",
          "data": {
            "text/html": [
              "<div>\n",
              "<style scoped>\n",
              "    .dataframe tbody tr th:only-of-type {\n",
              "        vertical-align: middle;\n",
              "    }\n",
              "\n",
              "    .dataframe tbody tr th {\n",
              "        vertical-align: top;\n",
              "    }\n",
              "\n",
              "    .dataframe thead th {\n",
              "        text-align: right;\n",
              "    }\n",
              "</style>\n",
              "<table border=\"1\" class=\"dataframe\">\n",
              "  <thead>\n",
              "    <tr style=\"text-align: right;\">\n",
              "      <th></th>\n",
              "      <th>ID</th>\n",
              "      <th>LIMIT_BAL</th>\n",
              "      <th>SEX</th>\n",
              "      <th>EDUCATION</th>\n",
              "      <th>MARRIAGE</th>\n",
              "      <th>AGE</th>\n",
              "      <th>PAY_0</th>\n",
              "      <th>PAY_2</th>\n",
              "      <th>PAY_3</th>\n",
              "      <th>PAY_4</th>\n",
              "      <th>PAY_5</th>\n",
              "      <th>PAY_6</th>\n",
              "      <th>BILL_AMT1</th>\n",
              "      <th>BILL_AMT2</th>\n",
              "      <th>BILL_AMT3</th>\n",
              "      <th>BILL_AMT4</th>\n",
              "      <th>BILL_AMT5</th>\n",
              "      <th>BILL_AMT6</th>\n",
              "      <th>PAY_AMT1</th>\n",
              "      <th>PAY_AMT2</th>\n",
              "      <th>PAY_AMT3</th>\n",
              "      <th>PAY_AMT4</th>\n",
              "      <th>PAY_AMT5</th>\n",
              "      <th>PAY_AMT6</th>\n",
              "      <th>default payment next month</th>\n",
              "    </tr>\n",
              "  </thead>\n",
              "  <tbody>\n",
              "    <tr>\n",
              "      <th>0</th>\n",
              "      <td>1</td>\n",
              "      <td>20000.0</td>\n",
              "      <td>2.0</td>\n",
              "      <td>2.0</td>\n",
              "      <td>1.0</td>\n",
              "      <td>24.0</td>\n",
              "      <td>2.0</td>\n",
              "      <td>2.0</td>\n",
              "      <td>-1.0</td>\n",
              "      <td>-1.0</td>\n",
              "      <td>-2.0</td>\n",
              "      <td>-2.0</td>\n",
              "      <td>3913.0</td>\n",
              "      <td>3102.0</td>\n",
              "      <td>689.0</td>\n",
              "      <td>0.0</td>\n",
              "      <td>0.0</td>\n",
              "      <td>0.0</td>\n",
              "      <td>0.0</td>\n",
              "      <td>689.0</td>\n",
              "      <td>0.0</td>\n",
              "      <td>0.0</td>\n",
              "      <td>0.0</td>\n",
              "      <td>0.0</td>\n",
              "      <td>1.0</td>\n",
              "    </tr>\n",
              "    <tr>\n",
              "      <th>1</th>\n",
              "      <td>2</td>\n",
              "      <td>120000.0</td>\n",
              "      <td>2.0</td>\n",
              "      <td>2.0</td>\n",
              "      <td>2.0</td>\n",
              "      <td>26.0</td>\n",
              "      <td>-1.0</td>\n",
              "      <td>2.0</td>\n",
              "      <td>0.0</td>\n",
              "      <td>0.0</td>\n",
              "      <td>0.0</td>\n",
              "      <td>2.0</td>\n",
              "      <td>2682.0</td>\n",
              "      <td>1725.0</td>\n",
              "      <td>2682.0</td>\n",
              "      <td>3272.0</td>\n",
              "      <td>3455.0</td>\n",
              "      <td>3261.0</td>\n",
              "      <td>0.0</td>\n",
              "      <td>1000.0</td>\n",
              "      <td>1000.0</td>\n",
              "      <td>1000.0</td>\n",
              "      <td>0.0</td>\n",
              "      <td>2000.0</td>\n",
              "      <td>1.0</td>\n",
              "    </tr>\n",
              "    <tr>\n",
              "      <th>2</th>\n",
              "      <td>3</td>\n",
              "      <td>90000.0</td>\n",
              "      <td>2.0</td>\n",
              "      <td>2.0</td>\n",
              "      <td>2.0</td>\n",
              "      <td>34.0</td>\n",
              "      <td>0.0</td>\n",
              "      <td>0.0</td>\n",
              "      <td>0.0</td>\n",
              "      <td>0.0</td>\n",
              "      <td>0.0</td>\n",
              "      <td>0.0</td>\n",
              "      <td>29239.0</td>\n",
              "      <td>14027.0</td>\n",
              "      <td>13559.0</td>\n",
              "      <td>14331.0</td>\n",
              "      <td>14948.0</td>\n",
              "      <td>15549.0</td>\n",
              "      <td>1518.0</td>\n",
              "      <td>1500.0</td>\n",
              "      <td>1000.0</td>\n",
              "      <td>1000.0</td>\n",
              "      <td>1000.0</td>\n",
              "      <td>5000.0</td>\n",
              "      <td>0.0</td>\n",
              "    </tr>\n",
              "    <tr>\n",
              "      <th>3</th>\n",
              "      <td>4</td>\n",
              "      <td>50000.0</td>\n",
              "      <td>2.0</td>\n",
              "      <td>2.0</td>\n",
              "      <td>1.0</td>\n",
              "      <td>37.0</td>\n",
              "      <td>0.0</td>\n",
              "      <td>0.0</td>\n",
              "      <td>0.0</td>\n",
              "      <td>0.0</td>\n",
              "      <td>0.0</td>\n",
              "      <td>0.0</td>\n",
              "      <td>46990.0</td>\n",
              "      <td>48233.0</td>\n",
              "      <td>49291.0</td>\n",
              "      <td>28314.0</td>\n",
              "      <td>28959.0</td>\n",
              "      <td>29547.0</td>\n",
              "      <td>2000.0</td>\n",
              "      <td>2019.0</td>\n",
              "      <td>1200.0</td>\n",
              "      <td>1100.0</td>\n",
              "      <td>1069.0</td>\n",
              "      <td>1000.0</td>\n",
              "      <td>0.0</td>\n",
              "    </tr>\n",
              "    <tr>\n",
              "      <th>4</th>\n",
              "      <td>5</td>\n",
              "      <td>50000.0</td>\n",
              "      <td>1.0</td>\n",
              "      <td>2.0</td>\n",
              "      <td>1.0</td>\n",
              "      <td>57.0</td>\n",
              "      <td>-1.0</td>\n",
              "      <td>0.0</td>\n",
              "      <td>-1.0</td>\n",
              "      <td>0.0</td>\n",
              "      <td>0.0</td>\n",
              "      <td>0.0</td>\n",
              "      <td>8617.0</td>\n",
              "      <td>5670.0</td>\n",
              "      <td>35835.0</td>\n",
              "      <td>20940.0</td>\n",
              "      <td>19146.0</td>\n",
              "      <td>19131.0</td>\n",
              "      <td>2000.0</td>\n",
              "      <td>36681.0</td>\n",
              "      <td>10000.0</td>\n",
              "      <td>9000.0</td>\n",
              "      <td>689.0</td>\n",
              "      <td>679.0</td>\n",
              "      <td>0.0</td>\n",
              "    </tr>\n",
              "    <tr>\n",
              "      <th>...</th>\n",
              "      <td>...</td>\n",
              "      <td>...</td>\n",
              "      <td>...</td>\n",
              "      <td>...</td>\n",
              "      <td>...</td>\n",
              "      <td>...</td>\n",
              "      <td>...</td>\n",
              "      <td>...</td>\n",
              "      <td>...</td>\n",
              "      <td>...</td>\n",
              "      <td>...</td>\n",
              "      <td>...</td>\n",
              "      <td>...</td>\n",
              "      <td>...</td>\n",
              "      <td>...</td>\n",
              "      <td>...</td>\n",
              "      <td>...</td>\n",
              "      <td>...</td>\n",
              "      <td>...</td>\n",
              "      <td>...</td>\n",
              "      <td>...</td>\n",
              "      <td>...</td>\n",
              "      <td>...</td>\n",
              "      <td>...</td>\n",
              "      <td>...</td>\n",
              "    </tr>\n",
              "    <tr>\n",
              "      <th>10973</th>\n",
              "      <td>10974</td>\n",
              "      <td>80000.0</td>\n",
              "      <td>2.0</td>\n",
              "      <td>2.0</td>\n",
              "      <td>2.0</td>\n",
              "      <td>48.0</td>\n",
              "      <td>0.0</td>\n",
              "      <td>0.0</td>\n",
              "      <td>0.0</td>\n",
              "      <td>2.0</td>\n",
              "      <td>0.0</td>\n",
              "      <td>0.0</td>\n",
              "      <td>60261.0</td>\n",
              "      <td>60129.0</td>\n",
              "      <td>57488.0</td>\n",
              "      <td>47846.0</td>\n",
              "      <td>48464.0</td>\n",
              "      <td>48940.0</td>\n",
              "      <td>2234.0</td>\n",
              "      <td>5311.0</td>\n",
              "      <td>0.0</td>\n",
              "      <td>1787.0</td>\n",
              "      <td>1700.0</td>\n",
              "      <td>1500.0</td>\n",
              "      <td>0.0</td>\n",
              "    </tr>\n",
              "    <tr>\n",
              "      <th>10974</th>\n",
              "      <td>10975</td>\n",
              "      <td>30000.0</td>\n",
              "      <td>1.0</td>\n",
              "      <td>2.0</td>\n",
              "      <td>2.0</td>\n",
              "      <td>29.0</td>\n",
              "      <td>2.0</td>\n",
              "      <td>2.0</td>\n",
              "      <td>2.0</td>\n",
              "      <td>2.0</td>\n",
              "      <td>2.0</td>\n",
              "      <td>2.0</td>\n",
              "      <td>21959.0</td>\n",
              "      <td>24685.0</td>\n",
              "      <td>24983.0</td>\n",
              "      <td>25375.0</td>\n",
              "      <td>25923.0</td>\n",
              "      <td>25358.0</td>\n",
              "      <td>3400.0</td>\n",
              "      <td>1000.0</td>\n",
              "      <td>1100.0</td>\n",
              "      <td>1100.0</td>\n",
              "      <td>0.0</td>\n",
              "      <td>2100.0</td>\n",
              "      <td>0.0</td>\n",
              "    </tr>\n",
              "    <tr>\n",
              "      <th>10975</th>\n",
              "      <td>10976</td>\n",
              "      <td>200000.0</td>\n",
              "      <td>2.0</td>\n",
              "      <td>2.0</td>\n",
              "      <td>2.0</td>\n",
              "      <td>24.0</td>\n",
              "      <td>0.0</td>\n",
              "      <td>0.0</td>\n",
              "      <td>0.0</td>\n",
              "      <td>0.0</td>\n",
              "      <td>0.0</td>\n",
              "      <td>0.0</td>\n",
              "      <td>21447.0</td>\n",
              "      <td>23429.0</td>\n",
              "      <td>26158.0</td>\n",
              "      <td>29486.0</td>\n",
              "      <td>27166.0</td>\n",
              "      <td>25954.0</td>\n",
              "      <td>2649.0</td>\n",
              "      <td>3500.0</td>\n",
              "      <td>4008.0</td>\n",
              "      <td>1098.0</td>\n",
              "      <td>1500.0</td>\n",
              "      <td>1000.0</td>\n",
              "      <td>0.0</td>\n",
              "    </tr>\n",
              "    <tr>\n",
              "      <th>10976</th>\n",
              "      <td>10977</td>\n",
              "      <td>200000.0</td>\n",
              "      <td>1.0</td>\n",
              "      <td>1.0</td>\n",
              "      <td>1.0</td>\n",
              "      <td>49.0</td>\n",
              "      <td>-1.0</td>\n",
              "      <td>-1.0</td>\n",
              "      <td>-1.0</td>\n",
              "      <td>-1.0</td>\n",
              "      <td>-1.0</td>\n",
              "      <td>-1.0</td>\n",
              "      <td>390.0</td>\n",
              "      <td>390.0</td>\n",
              "      <td>390.0</td>\n",
              "      <td>390.0</td>\n",
              "      <td>390.0</td>\n",
              "      <td>390.0</td>\n",
              "      <td>390.0</td>\n",
              "      <td>390.0</td>\n",
              "      <td>390.0</td>\n",
              "      <td>390.0</td>\n",
              "      <td>390.0</td>\n",
              "      <td>390.0</td>\n",
              "      <td>0.0</td>\n",
              "    </tr>\n",
              "    <tr>\n",
              "      <th>10977</th>\n",
              "      <td>109</td>\n",
              "      <td>NaN</td>\n",
              "      <td>NaN</td>\n",
              "      <td>NaN</td>\n",
              "      <td>NaN</td>\n",
              "      <td>NaN</td>\n",
              "      <td>NaN</td>\n",
              "      <td>NaN</td>\n",
              "      <td>NaN</td>\n",
              "      <td>NaN</td>\n",
              "      <td>NaN</td>\n",
              "      <td>NaN</td>\n",
              "      <td>NaN</td>\n",
              "      <td>NaN</td>\n",
              "      <td>NaN</td>\n",
              "      <td>NaN</td>\n",
              "      <td>NaN</td>\n",
              "      <td>NaN</td>\n",
              "      <td>NaN</td>\n",
              "      <td>NaN</td>\n",
              "      <td>NaN</td>\n",
              "      <td>NaN</td>\n",
              "      <td>NaN</td>\n",
              "      <td>NaN</td>\n",
              "      <td>NaN</td>\n",
              "    </tr>\n",
              "  </tbody>\n",
              "</table>\n",
              "<p>10978 rows × 25 columns</p>\n",
              "</div>"
            ],
            "text/plain": [
              "          ID  LIMIT_BAL  SEX  ...  PAY_AMT5  PAY_AMT6  default payment next month\n",
              "0          1    20000.0  2.0  ...       0.0       0.0                         1.0\n",
              "1          2   120000.0  2.0  ...       0.0    2000.0                         1.0\n",
              "2          3    90000.0  2.0  ...    1000.0    5000.0                         0.0\n",
              "3          4    50000.0  2.0  ...    1069.0    1000.0                         0.0\n",
              "4          5    50000.0  1.0  ...     689.0     679.0                         0.0\n",
              "...      ...        ...  ...  ...       ...       ...                         ...\n",
              "10973  10974    80000.0  2.0  ...    1700.0    1500.0                         0.0\n",
              "10974  10975    30000.0  1.0  ...       0.0    2100.0                         0.0\n",
              "10975  10976   200000.0  2.0  ...    1500.0    1000.0                         0.0\n",
              "10976  10977   200000.0  1.0  ...     390.0     390.0                         0.0\n",
              "10977    109        NaN  NaN  ...       NaN       NaN                         NaN\n",
              "\n",
              "[10978 rows x 25 columns]"
            ]
          },
          "metadata": {},
          "execution_count": 2
        }
      ]
    },
    {
      "cell_type": "markdown",
      "metadata": {
        "id": "EXnL2PNUy5ui"
      },
      "source": [
        "**EXPLORATORY DATA ANALYSIS**"
      ]
    },
    {
      "cell_type": "code",
      "metadata": {
        "colab": {
          "base_uri": "https://localhost:8080/"
        },
        "id": "VIdYXcJfzBHw",
        "outputId": "35bc7742-0187-42aa-98a3-8d6af24ecd34"
      },
      "source": [
        "#Obtaining the dimension of the dataset.\n",
        "data.shape"
      ],
      "execution_count": null,
      "outputs": [
        {
          "output_type": "execute_result",
          "data": {
            "text/plain": [
              "(10978, 25)"
            ]
          },
          "metadata": {},
          "execution_count": 3
        }
      ]
    },
    {
      "cell_type": "markdown",
      "metadata": {
        "id": "yLOceP0fzFgC"
      },
      "source": [
        "It is observed that the dataset comprises of 30000 records and 25 columns(variables) which are described in the data description. "
      ]
    },
    {
      "cell_type": "code",
      "metadata": {
        "colab": {
          "base_uri": "https://localhost:8080/"
        },
        "id": "Jzf5ltzZzGJg",
        "outputId": "7b716849-a120-40ea-c1f1-3fc6984d173e"
      },
      "source": [
        "#Using info() function to understand if ther is any null values in the dataset.\n",
        "data.info()"
      ],
      "execution_count": null,
      "outputs": [
        {
          "output_type": "stream",
          "name": "stdout",
          "text": [
            "<class 'pandas.core.frame.DataFrame'>\n",
            "RangeIndex: 10978 entries, 0 to 10977\n",
            "Data columns (total 25 columns):\n",
            " #   Column                      Non-Null Count  Dtype  \n",
            "---  ------                      --------------  -----  \n",
            " 0   ID                          10978 non-null  int64  \n",
            " 1   LIMIT_BAL                   10977 non-null  float64\n",
            " 2   SEX                         10977 non-null  float64\n",
            " 3   EDUCATION                   10977 non-null  float64\n",
            " 4   MARRIAGE                    10977 non-null  float64\n",
            " 5   AGE                         10977 non-null  float64\n",
            " 6   PAY_0                       10977 non-null  float64\n",
            " 7   PAY_2                       10977 non-null  float64\n",
            " 8   PAY_3                       10977 non-null  float64\n",
            " 9   PAY_4                       10977 non-null  float64\n",
            " 10  PAY_5                       10977 non-null  float64\n",
            " 11  PAY_6                       10977 non-null  float64\n",
            " 12  BILL_AMT1                   10977 non-null  float64\n",
            " 13  BILL_AMT2                   10977 non-null  float64\n",
            " 14  BILL_AMT3                   10977 non-null  float64\n",
            " 15  BILL_AMT4                   10977 non-null  float64\n",
            " 16  BILL_AMT5                   10977 non-null  float64\n",
            " 17  BILL_AMT6                   10977 non-null  float64\n",
            " 18  PAY_AMT1                    10977 non-null  float64\n",
            " 19  PAY_AMT2                    10977 non-null  float64\n",
            " 20  PAY_AMT3                    10977 non-null  float64\n",
            " 21  PAY_AMT4                    10977 non-null  float64\n",
            " 22  PAY_AMT5                    10977 non-null  float64\n",
            " 23  PAY_AMT6                    10977 non-null  float64\n",
            " 24  default payment next month  10977 non-null  float64\n",
            "dtypes: float64(24), int64(1)\n",
            "memory usage: 2.1 MB\n"
          ]
        }
      ]
    },
    {
      "cell_type": "markdown",
      "metadata": {
        "id": "Z2NYSQIXzISg"
      },
      "source": [
        "From the above table it is observed that there exist null value in the dataset hence we try to remove the null values from the dataset."
      ]
    },
    {
      "cell_type": "code",
      "metadata": {
        "id": "2h4ftBK3jdqq"
      },
      "source": [
        "#Removing the null values\n",
        "data=data.dropna()"
      ],
      "execution_count": null,
      "outputs": []
    },
    {
      "cell_type": "code",
      "metadata": {
        "colab": {
          "base_uri": "https://localhost:8080/",
          "height": 496
        },
        "id": "VSezVZ0Yj4Fm",
        "outputId": "247a0f41-a808-4de2-fb96-d4f5e1c0a81d"
      },
      "source": [
        "#Viewing the datset.\n",
        "data"
      ],
      "execution_count": null,
      "outputs": [
        {
          "output_type": "execute_result",
          "data": {
            "text/html": [
              "<div>\n",
              "<style scoped>\n",
              "    .dataframe tbody tr th:only-of-type {\n",
              "        vertical-align: middle;\n",
              "    }\n",
              "\n",
              "    .dataframe tbody tr th {\n",
              "        vertical-align: top;\n",
              "    }\n",
              "\n",
              "    .dataframe thead th {\n",
              "        text-align: right;\n",
              "    }\n",
              "</style>\n",
              "<table border=\"1\" class=\"dataframe\">\n",
              "  <thead>\n",
              "    <tr style=\"text-align: right;\">\n",
              "      <th></th>\n",
              "      <th>ID</th>\n",
              "      <th>LIMIT_BAL</th>\n",
              "      <th>SEX</th>\n",
              "      <th>EDUCATION</th>\n",
              "      <th>MARRIAGE</th>\n",
              "      <th>AGE</th>\n",
              "      <th>PAY_0</th>\n",
              "      <th>PAY_2</th>\n",
              "      <th>PAY_3</th>\n",
              "      <th>PAY_4</th>\n",
              "      <th>PAY_5</th>\n",
              "      <th>PAY_6</th>\n",
              "      <th>BILL_AMT1</th>\n",
              "      <th>BILL_AMT2</th>\n",
              "      <th>BILL_AMT3</th>\n",
              "      <th>BILL_AMT4</th>\n",
              "      <th>BILL_AMT5</th>\n",
              "      <th>BILL_AMT6</th>\n",
              "      <th>PAY_AMT1</th>\n",
              "      <th>PAY_AMT2</th>\n",
              "      <th>PAY_AMT3</th>\n",
              "      <th>PAY_AMT4</th>\n",
              "      <th>PAY_AMT5</th>\n",
              "      <th>PAY_AMT6</th>\n",
              "      <th>default payment next month</th>\n",
              "    </tr>\n",
              "  </thead>\n",
              "  <tbody>\n",
              "    <tr>\n",
              "      <th>0</th>\n",
              "      <td>1</td>\n",
              "      <td>20000.0</td>\n",
              "      <td>2.0</td>\n",
              "      <td>2.0</td>\n",
              "      <td>1.0</td>\n",
              "      <td>24.0</td>\n",
              "      <td>2.0</td>\n",
              "      <td>2.0</td>\n",
              "      <td>-1.0</td>\n",
              "      <td>-1.0</td>\n",
              "      <td>-2.0</td>\n",
              "      <td>-2.0</td>\n",
              "      <td>3913.0</td>\n",
              "      <td>3102.0</td>\n",
              "      <td>689.0</td>\n",
              "      <td>0.0</td>\n",
              "      <td>0.0</td>\n",
              "      <td>0.0</td>\n",
              "      <td>0.0</td>\n",
              "      <td>689.0</td>\n",
              "      <td>0.0</td>\n",
              "      <td>0.0</td>\n",
              "      <td>0.0</td>\n",
              "      <td>0.0</td>\n",
              "      <td>1.0</td>\n",
              "    </tr>\n",
              "    <tr>\n",
              "      <th>1</th>\n",
              "      <td>2</td>\n",
              "      <td>120000.0</td>\n",
              "      <td>2.0</td>\n",
              "      <td>2.0</td>\n",
              "      <td>2.0</td>\n",
              "      <td>26.0</td>\n",
              "      <td>-1.0</td>\n",
              "      <td>2.0</td>\n",
              "      <td>0.0</td>\n",
              "      <td>0.0</td>\n",
              "      <td>0.0</td>\n",
              "      <td>2.0</td>\n",
              "      <td>2682.0</td>\n",
              "      <td>1725.0</td>\n",
              "      <td>2682.0</td>\n",
              "      <td>3272.0</td>\n",
              "      <td>3455.0</td>\n",
              "      <td>3261.0</td>\n",
              "      <td>0.0</td>\n",
              "      <td>1000.0</td>\n",
              "      <td>1000.0</td>\n",
              "      <td>1000.0</td>\n",
              "      <td>0.0</td>\n",
              "      <td>2000.0</td>\n",
              "      <td>1.0</td>\n",
              "    </tr>\n",
              "    <tr>\n",
              "      <th>2</th>\n",
              "      <td>3</td>\n",
              "      <td>90000.0</td>\n",
              "      <td>2.0</td>\n",
              "      <td>2.0</td>\n",
              "      <td>2.0</td>\n",
              "      <td>34.0</td>\n",
              "      <td>0.0</td>\n",
              "      <td>0.0</td>\n",
              "      <td>0.0</td>\n",
              "      <td>0.0</td>\n",
              "      <td>0.0</td>\n",
              "      <td>0.0</td>\n",
              "      <td>29239.0</td>\n",
              "      <td>14027.0</td>\n",
              "      <td>13559.0</td>\n",
              "      <td>14331.0</td>\n",
              "      <td>14948.0</td>\n",
              "      <td>15549.0</td>\n",
              "      <td>1518.0</td>\n",
              "      <td>1500.0</td>\n",
              "      <td>1000.0</td>\n",
              "      <td>1000.0</td>\n",
              "      <td>1000.0</td>\n",
              "      <td>5000.0</td>\n",
              "      <td>0.0</td>\n",
              "    </tr>\n",
              "    <tr>\n",
              "      <th>3</th>\n",
              "      <td>4</td>\n",
              "      <td>50000.0</td>\n",
              "      <td>2.0</td>\n",
              "      <td>2.0</td>\n",
              "      <td>1.0</td>\n",
              "      <td>37.0</td>\n",
              "      <td>0.0</td>\n",
              "      <td>0.0</td>\n",
              "      <td>0.0</td>\n",
              "      <td>0.0</td>\n",
              "      <td>0.0</td>\n",
              "      <td>0.0</td>\n",
              "      <td>46990.0</td>\n",
              "      <td>48233.0</td>\n",
              "      <td>49291.0</td>\n",
              "      <td>28314.0</td>\n",
              "      <td>28959.0</td>\n",
              "      <td>29547.0</td>\n",
              "      <td>2000.0</td>\n",
              "      <td>2019.0</td>\n",
              "      <td>1200.0</td>\n",
              "      <td>1100.0</td>\n",
              "      <td>1069.0</td>\n",
              "      <td>1000.0</td>\n",
              "      <td>0.0</td>\n",
              "    </tr>\n",
              "    <tr>\n",
              "      <th>4</th>\n",
              "      <td>5</td>\n",
              "      <td>50000.0</td>\n",
              "      <td>1.0</td>\n",
              "      <td>2.0</td>\n",
              "      <td>1.0</td>\n",
              "      <td>57.0</td>\n",
              "      <td>-1.0</td>\n",
              "      <td>0.0</td>\n",
              "      <td>-1.0</td>\n",
              "      <td>0.0</td>\n",
              "      <td>0.0</td>\n",
              "      <td>0.0</td>\n",
              "      <td>8617.0</td>\n",
              "      <td>5670.0</td>\n",
              "      <td>35835.0</td>\n",
              "      <td>20940.0</td>\n",
              "      <td>19146.0</td>\n",
              "      <td>19131.0</td>\n",
              "      <td>2000.0</td>\n",
              "      <td>36681.0</td>\n",
              "      <td>10000.0</td>\n",
              "      <td>9000.0</td>\n",
              "      <td>689.0</td>\n",
              "      <td>679.0</td>\n",
              "      <td>0.0</td>\n",
              "    </tr>\n",
              "    <tr>\n",
              "      <th>...</th>\n",
              "      <td>...</td>\n",
              "      <td>...</td>\n",
              "      <td>...</td>\n",
              "      <td>...</td>\n",
              "      <td>...</td>\n",
              "      <td>...</td>\n",
              "      <td>...</td>\n",
              "      <td>...</td>\n",
              "      <td>...</td>\n",
              "      <td>...</td>\n",
              "      <td>...</td>\n",
              "      <td>...</td>\n",
              "      <td>...</td>\n",
              "      <td>...</td>\n",
              "      <td>...</td>\n",
              "      <td>...</td>\n",
              "      <td>...</td>\n",
              "      <td>...</td>\n",
              "      <td>...</td>\n",
              "      <td>...</td>\n",
              "      <td>...</td>\n",
              "      <td>...</td>\n",
              "      <td>...</td>\n",
              "      <td>...</td>\n",
              "      <td>...</td>\n",
              "    </tr>\n",
              "    <tr>\n",
              "      <th>10972</th>\n",
              "      <td>10973</td>\n",
              "      <td>50000.0</td>\n",
              "      <td>2.0</td>\n",
              "      <td>3.0</td>\n",
              "      <td>2.0</td>\n",
              "      <td>22.0</td>\n",
              "      <td>0.0</td>\n",
              "      <td>0.0</td>\n",
              "      <td>0.0</td>\n",
              "      <td>0.0</td>\n",
              "      <td>0.0</td>\n",
              "      <td>0.0</td>\n",
              "      <td>50089.0</td>\n",
              "      <td>41382.0</td>\n",
              "      <td>36995.0</td>\n",
              "      <td>17726.0</td>\n",
              "      <td>13623.0</td>\n",
              "      <td>13781.0</td>\n",
              "      <td>1798.0</td>\n",
              "      <td>1117.0</td>\n",
              "      <td>4749.0</td>\n",
              "      <td>500.0</td>\n",
              "      <td>508.0</td>\n",
              "      <td>250.0</td>\n",
              "      <td>0.0</td>\n",
              "    </tr>\n",
              "    <tr>\n",
              "      <th>10973</th>\n",
              "      <td>10974</td>\n",
              "      <td>80000.0</td>\n",
              "      <td>2.0</td>\n",
              "      <td>2.0</td>\n",
              "      <td>2.0</td>\n",
              "      <td>48.0</td>\n",
              "      <td>0.0</td>\n",
              "      <td>0.0</td>\n",
              "      <td>0.0</td>\n",
              "      <td>2.0</td>\n",
              "      <td>0.0</td>\n",
              "      <td>0.0</td>\n",
              "      <td>60261.0</td>\n",
              "      <td>60129.0</td>\n",
              "      <td>57488.0</td>\n",
              "      <td>47846.0</td>\n",
              "      <td>48464.0</td>\n",
              "      <td>48940.0</td>\n",
              "      <td>2234.0</td>\n",
              "      <td>5311.0</td>\n",
              "      <td>0.0</td>\n",
              "      <td>1787.0</td>\n",
              "      <td>1700.0</td>\n",
              "      <td>1500.0</td>\n",
              "      <td>0.0</td>\n",
              "    </tr>\n",
              "    <tr>\n",
              "      <th>10974</th>\n",
              "      <td>10975</td>\n",
              "      <td>30000.0</td>\n",
              "      <td>1.0</td>\n",
              "      <td>2.0</td>\n",
              "      <td>2.0</td>\n",
              "      <td>29.0</td>\n",
              "      <td>2.0</td>\n",
              "      <td>2.0</td>\n",
              "      <td>2.0</td>\n",
              "      <td>2.0</td>\n",
              "      <td>2.0</td>\n",
              "      <td>2.0</td>\n",
              "      <td>21959.0</td>\n",
              "      <td>24685.0</td>\n",
              "      <td>24983.0</td>\n",
              "      <td>25375.0</td>\n",
              "      <td>25923.0</td>\n",
              "      <td>25358.0</td>\n",
              "      <td>3400.0</td>\n",
              "      <td>1000.0</td>\n",
              "      <td>1100.0</td>\n",
              "      <td>1100.0</td>\n",
              "      <td>0.0</td>\n",
              "      <td>2100.0</td>\n",
              "      <td>0.0</td>\n",
              "    </tr>\n",
              "    <tr>\n",
              "      <th>10975</th>\n",
              "      <td>10976</td>\n",
              "      <td>200000.0</td>\n",
              "      <td>2.0</td>\n",
              "      <td>2.0</td>\n",
              "      <td>2.0</td>\n",
              "      <td>24.0</td>\n",
              "      <td>0.0</td>\n",
              "      <td>0.0</td>\n",
              "      <td>0.0</td>\n",
              "      <td>0.0</td>\n",
              "      <td>0.0</td>\n",
              "      <td>0.0</td>\n",
              "      <td>21447.0</td>\n",
              "      <td>23429.0</td>\n",
              "      <td>26158.0</td>\n",
              "      <td>29486.0</td>\n",
              "      <td>27166.0</td>\n",
              "      <td>25954.0</td>\n",
              "      <td>2649.0</td>\n",
              "      <td>3500.0</td>\n",
              "      <td>4008.0</td>\n",
              "      <td>1098.0</td>\n",
              "      <td>1500.0</td>\n",
              "      <td>1000.0</td>\n",
              "      <td>0.0</td>\n",
              "    </tr>\n",
              "    <tr>\n",
              "      <th>10976</th>\n",
              "      <td>10977</td>\n",
              "      <td>200000.0</td>\n",
              "      <td>1.0</td>\n",
              "      <td>1.0</td>\n",
              "      <td>1.0</td>\n",
              "      <td>49.0</td>\n",
              "      <td>-1.0</td>\n",
              "      <td>-1.0</td>\n",
              "      <td>-1.0</td>\n",
              "      <td>-1.0</td>\n",
              "      <td>-1.0</td>\n",
              "      <td>-1.0</td>\n",
              "      <td>390.0</td>\n",
              "      <td>390.0</td>\n",
              "      <td>390.0</td>\n",
              "      <td>390.0</td>\n",
              "      <td>390.0</td>\n",
              "      <td>390.0</td>\n",
              "      <td>390.0</td>\n",
              "      <td>390.0</td>\n",
              "      <td>390.0</td>\n",
              "      <td>390.0</td>\n",
              "      <td>390.0</td>\n",
              "      <td>390.0</td>\n",
              "      <td>0.0</td>\n",
              "    </tr>\n",
              "  </tbody>\n",
              "</table>\n",
              "<p>10977 rows × 25 columns</p>\n",
              "</div>"
            ],
            "text/plain": [
              "          ID  LIMIT_BAL  SEX  ...  PAY_AMT5  PAY_AMT6  default payment next month\n",
              "0          1    20000.0  2.0  ...       0.0       0.0                         1.0\n",
              "1          2   120000.0  2.0  ...       0.0    2000.0                         1.0\n",
              "2          3    90000.0  2.0  ...    1000.0    5000.0                         0.0\n",
              "3          4    50000.0  2.0  ...    1069.0    1000.0                         0.0\n",
              "4          5    50000.0  1.0  ...     689.0     679.0                         0.0\n",
              "...      ...        ...  ...  ...       ...       ...                         ...\n",
              "10972  10973    50000.0  2.0  ...     508.0     250.0                         0.0\n",
              "10973  10974    80000.0  2.0  ...    1700.0    1500.0                         0.0\n",
              "10974  10975    30000.0  1.0  ...       0.0    2100.0                         0.0\n",
              "10975  10976   200000.0  2.0  ...    1500.0    1000.0                         0.0\n",
              "10976  10977   200000.0  1.0  ...     390.0     390.0                         0.0\n",
              "\n",
              "[10977 rows x 25 columns]"
            ]
          },
          "metadata": {},
          "execution_count": 6
        }
      ]
    },
    {
      "cell_type": "code",
      "metadata": {
        "colab": {
          "base_uri": "https://localhost:8080/"
        },
        "id": "swvgiQ5VkMfV",
        "outputId": "a4e3fca1-38bb-4b7c-a634-71fd052e973d"
      },
      "source": [
        "#Using info() function to understand if ther is any null values in the dataset.\n",
        "data.info()"
      ],
      "execution_count": null,
      "outputs": [
        {
          "output_type": "stream",
          "name": "stdout",
          "text": [
            "<class 'pandas.core.frame.DataFrame'>\n",
            "Int64Index: 10977 entries, 0 to 10976\n",
            "Data columns (total 25 columns):\n",
            " #   Column                      Non-Null Count  Dtype  \n",
            "---  ------                      --------------  -----  \n",
            " 0   ID                          10977 non-null  int64  \n",
            " 1   LIMIT_BAL                   10977 non-null  float64\n",
            " 2   SEX                         10977 non-null  float64\n",
            " 3   EDUCATION                   10977 non-null  float64\n",
            " 4   MARRIAGE                    10977 non-null  float64\n",
            " 5   AGE                         10977 non-null  float64\n",
            " 6   PAY_0                       10977 non-null  float64\n",
            " 7   PAY_2                       10977 non-null  float64\n",
            " 8   PAY_3                       10977 non-null  float64\n",
            " 9   PAY_4                       10977 non-null  float64\n",
            " 10  PAY_5                       10977 non-null  float64\n",
            " 11  PAY_6                       10977 non-null  float64\n",
            " 12  BILL_AMT1                   10977 non-null  float64\n",
            " 13  BILL_AMT2                   10977 non-null  float64\n",
            " 14  BILL_AMT3                   10977 non-null  float64\n",
            " 15  BILL_AMT4                   10977 non-null  float64\n",
            " 16  BILL_AMT5                   10977 non-null  float64\n",
            " 17  BILL_AMT6                   10977 non-null  float64\n",
            " 18  PAY_AMT1                    10977 non-null  float64\n",
            " 19  PAY_AMT2                    10977 non-null  float64\n",
            " 20  PAY_AMT3                    10977 non-null  float64\n",
            " 21  PAY_AMT4                    10977 non-null  float64\n",
            " 22  PAY_AMT5                    10977 non-null  float64\n",
            " 23  PAY_AMT6                    10977 non-null  float64\n",
            " 24  default payment next month  10977 non-null  float64\n",
            "dtypes: float64(24), int64(1)\n",
            "memory usage: 2.2 MB\n"
          ]
        }
      ]
    },
    {
      "cell_type": "markdown",
      "metadata": {
        "id": "OM8zyv3wkPUl"
      },
      "source": [
        "Now, we observe that there does not exists any null values thus we can proceed for the analysis"
      ]
    },
    {
      "cell_type": "markdown",
      "metadata": {
        "id": "xnp5h8I5QSeN"
      },
      "source": [
        "Our study variable in the analysis is Y-Default payment next month which takes value **1 if the corresponding client has default payment and -1 otherwise**"
      ]
    },
    {
      "cell_type": "code",
      "metadata": {
        "id": "WTbYU1lBlFzy"
      },
      "source": [
        "#Rename the columns of data\n",
        "data = data.rename(columns = {'default payment next month': 'Y'}, inplace = False)"
      ],
      "execution_count": null,
      "outputs": []
    },
    {
      "cell_type": "code",
      "metadata": {
        "id": "dhZTYLzs9_Os"
      },
      "source": [
        "#The categorical variable Y which is coded as 0 and 1 is eplaced by -1 and 1.\n",
        "data['Y']=data['Y'].replace({1:1,0:-1})"
      ],
      "execution_count": null,
      "outputs": []
    },
    {
      "cell_type": "code",
      "metadata": {
        "colab": {
          "base_uri": "https://localhost:8080/",
          "height": 444
        },
        "id": "LWcMcTqj_C3U",
        "outputId": "2030bf9f-0cba-4104-e3f8-4e70e468e835"
      },
      "source": [
        "#Obtaining the dataset.\n",
        "data"
      ],
      "execution_count": null,
      "outputs": [
        {
          "output_type": "execute_result",
          "data": {
            "text/html": [
              "<div>\n",
              "<style scoped>\n",
              "    .dataframe tbody tr th:only-of-type {\n",
              "        vertical-align: middle;\n",
              "    }\n",
              "\n",
              "    .dataframe tbody tr th {\n",
              "        vertical-align: top;\n",
              "    }\n",
              "\n",
              "    .dataframe thead th {\n",
              "        text-align: right;\n",
              "    }\n",
              "</style>\n",
              "<table border=\"1\" class=\"dataframe\">\n",
              "  <thead>\n",
              "    <tr style=\"text-align: right;\">\n",
              "      <th></th>\n",
              "      <th>ID</th>\n",
              "      <th>LIMIT_BAL</th>\n",
              "      <th>SEX</th>\n",
              "      <th>EDUCATION</th>\n",
              "      <th>MARRIAGE</th>\n",
              "      <th>AGE</th>\n",
              "      <th>PAY_0</th>\n",
              "      <th>PAY_2</th>\n",
              "      <th>PAY_3</th>\n",
              "      <th>PAY_4</th>\n",
              "      <th>PAY_5</th>\n",
              "      <th>PAY_6</th>\n",
              "      <th>BILL_AMT1</th>\n",
              "      <th>BILL_AMT2</th>\n",
              "      <th>BILL_AMT3</th>\n",
              "      <th>BILL_AMT4</th>\n",
              "      <th>BILL_AMT5</th>\n",
              "      <th>BILL_AMT6</th>\n",
              "      <th>PAY_AMT1</th>\n",
              "      <th>PAY_AMT2</th>\n",
              "      <th>PAY_AMT3</th>\n",
              "      <th>PAY_AMT4</th>\n",
              "      <th>PAY_AMT5</th>\n",
              "      <th>PAY_AMT6</th>\n",
              "      <th>Y</th>\n",
              "    </tr>\n",
              "  </thead>\n",
              "  <tbody>\n",
              "    <tr>\n",
              "      <th>0</th>\n",
              "      <td>1</td>\n",
              "      <td>20000.0</td>\n",
              "      <td>2.0</td>\n",
              "      <td>2.0</td>\n",
              "      <td>1.0</td>\n",
              "      <td>24.0</td>\n",
              "      <td>2.0</td>\n",
              "      <td>2.0</td>\n",
              "      <td>-1.0</td>\n",
              "      <td>-1.0</td>\n",
              "      <td>-2.0</td>\n",
              "      <td>-2.0</td>\n",
              "      <td>3913.0</td>\n",
              "      <td>3102.0</td>\n",
              "      <td>689.0</td>\n",
              "      <td>0.0</td>\n",
              "      <td>0.0</td>\n",
              "      <td>0.0</td>\n",
              "      <td>0.0</td>\n",
              "      <td>689.0</td>\n",
              "      <td>0.0</td>\n",
              "      <td>0.0</td>\n",
              "      <td>0.0</td>\n",
              "      <td>0.0</td>\n",
              "      <td>1.0</td>\n",
              "    </tr>\n",
              "    <tr>\n",
              "      <th>1</th>\n",
              "      <td>2</td>\n",
              "      <td>120000.0</td>\n",
              "      <td>2.0</td>\n",
              "      <td>2.0</td>\n",
              "      <td>2.0</td>\n",
              "      <td>26.0</td>\n",
              "      <td>-1.0</td>\n",
              "      <td>2.0</td>\n",
              "      <td>0.0</td>\n",
              "      <td>0.0</td>\n",
              "      <td>0.0</td>\n",
              "      <td>2.0</td>\n",
              "      <td>2682.0</td>\n",
              "      <td>1725.0</td>\n",
              "      <td>2682.0</td>\n",
              "      <td>3272.0</td>\n",
              "      <td>3455.0</td>\n",
              "      <td>3261.0</td>\n",
              "      <td>0.0</td>\n",
              "      <td>1000.0</td>\n",
              "      <td>1000.0</td>\n",
              "      <td>1000.0</td>\n",
              "      <td>0.0</td>\n",
              "      <td>2000.0</td>\n",
              "      <td>1.0</td>\n",
              "    </tr>\n",
              "    <tr>\n",
              "      <th>2</th>\n",
              "      <td>3</td>\n",
              "      <td>90000.0</td>\n",
              "      <td>2.0</td>\n",
              "      <td>2.0</td>\n",
              "      <td>2.0</td>\n",
              "      <td>34.0</td>\n",
              "      <td>0.0</td>\n",
              "      <td>0.0</td>\n",
              "      <td>0.0</td>\n",
              "      <td>0.0</td>\n",
              "      <td>0.0</td>\n",
              "      <td>0.0</td>\n",
              "      <td>29239.0</td>\n",
              "      <td>14027.0</td>\n",
              "      <td>13559.0</td>\n",
              "      <td>14331.0</td>\n",
              "      <td>14948.0</td>\n",
              "      <td>15549.0</td>\n",
              "      <td>1518.0</td>\n",
              "      <td>1500.0</td>\n",
              "      <td>1000.0</td>\n",
              "      <td>1000.0</td>\n",
              "      <td>1000.0</td>\n",
              "      <td>5000.0</td>\n",
              "      <td>-1.0</td>\n",
              "    </tr>\n",
              "    <tr>\n",
              "      <th>3</th>\n",
              "      <td>4</td>\n",
              "      <td>50000.0</td>\n",
              "      <td>2.0</td>\n",
              "      <td>2.0</td>\n",
              "      <td>1.0</td>\n",
              "      <td>37.0</td>\n",
              "      <td>0.0</td>\n",
              "      <td>0.0</td>\n",
              "      <td>0.0</td>\n",
              "      <td>0.0</td>\n",
              "      <td>0.0</td>\n",
              "      <td>0.0</td>\n",
              "      <td>46990.0</td>\n",
              "      <td>48233.0</td>\n",
              "      <td>49291.0</td>\n",
              "      <td>28314.0</td>\n",
              "      <td>28959.0</td>\n",
              "      <td>29547.0</td>\n",
              "      <td>2000.0</td>\n",
              "      <td>2019.0</td>\n",
              "      <td>1200.0</td>\n",
              "      <td>1100.0</td>\n",
              "      <td>1069.0</td>\n",
              "      <td>1000.0</td>\n",
              "      <td>-1.0</td>\n",
              "    </tr>\n",
              "    <tr>\n",
              "      <th>4</th>\n",
              "      <td>5</td>\n",
              "      <td>50000.0</td>\n",
              "      <td>1.0</td>\n",
              "      <td>2.0</td>\n",
              "      <td>1.0</td>\n",
              "      <td>57.0</td>\n",
              "      <td>-1.0</td>\n",
              "      <td>0.0</td>\n",
              "      <td>-1.0</td>\n",
              "      <td>0.0</td>\n",
              "      <td>0.0</td>\n",
              "      <td>0.0</td>\n",
              "      <td>8617.0</td>\n",
              "      <td>5670.0</td>\n",
              "      <td>35835.0</td>\n",
              "      <td>20940.0</td>\n",
              "      <td>19146.0</td>\n",
              "      <td>19131.0</td>\n",
              "      <td>2000.0</td>\n",
              "      <td>36681.0</td>\n",
              "      <td>10000.0</td>\n",
              "      <td>9000.0</td>\n",
              "      <td>689.0</td>\n",
              "      <td>679.0</td>\n",
              "      <td>-1.0</td>\n",
              "    </tr>\n",
              "    <tr>\n",
              "      <th>...</th>\n",
              "      <td>...</td>\n",
              "      <td>...</td>\n",
              "      <td>...</td>\n",
              "      <td>...</td>\n",
              "      <td>...</td>\n",
              "      <td>...</td>\n",
              "      <td>...</td>\n",
              "      <td>...</td>\n",
              "      <td>...</td>\n",
              "      <td>...</td>\n",
              "      <td>...</td>\n",
              "      <td>...</td>\n",
              "      <td>...</td>\n",
              "      <td>...</td>\n",
              "      <td>...</td>\n",
              "      <td>...</td>\n",
              "      <td>...</td>\n",
              "      <td>...</td>\n",
              "      <td>...</td>\n",
              "      <td>...</td>\n",
              "      <td>...</td>\n",
              "      <td>...</td>\n",
              "      <td>...</td>\n",
              "      <td>...</td>\n",
              "      <td>...</td>\n",
              "    </tr>\n",
              "    <tr>\n",
              "      <th>10972</th>\n",
              "      <td>10973</td>\n",
              "      <td>50000.0</td>\n",
              "      <td>2.0</td>\n",
              "      <td>3.0</td>\n",
              "      <td>2.0</td>\n",
              "      <td>22.0</td>\n",
              "      <td>0.0</td>\n",
              "      <td>0.0</td>\n",
              "      <td>0.0</td>\n",
              "      <td>0.0</td>\n",
              "      <td>0.0</td>\n",
              "      <td>0.0</td>\n",
              "      <td>50089.0</td>\n",
              "      <td>41382.0</td>\n",
              "      <td>36995.0</td>\n",
              "      <td>17726.0</td>\n",
              "      <td>13623.0</td>\n",
              "      <td>13781.0</td>\n",
              "      <td>1798.0</td>\n",
              "      <td>1117.0</td>\n",
              "      <td>4749.0</td>\n",
              "      <td>500.0</td>\n",
              "      <td>508.0</td>\n",
              "      <td>250.0</td>\n",
              "      <td>-1.0</td>\n",
              "    </tr>\n",
              "    <tr>\n",
              "      <th>10973</th>\n",
              "      <td>10974</td>\n",
              "      <td>80000.0</td>\n",
              "      <td>2.0</td>\n",
              "      <td>2.0</td>\n",
              "      <td>2.0</td>\n",
              "      <td>48.0</td>\n",
              "      <td>0.0</td>\n",
              "      <td>0.0</td>\n",
              "      <td>0.0</td>\n",
              "      <td>2.0</td>\n",
              "      <td>0.0</td>\n",
              "      <td>0.0</td>\n",
              "      <td>60261.0</td>\n",
              "      <td>60129.0</td>\n",
              "      <td>57488.0</td>\n",
              "      <td>47846.0</td>\n",
              "      <td>48464.0</td>\n",
              "      <td>48940.0</td>\n",
              "      <td>2234.0</td>\n",
              "      <td>5311.0</td>\n",
              "      <td>0.0</td>\n",
              "      <td>1787.0</td>\n",
              "      <td>1700.0</td>\n",
              "      <td>1500.0</td>\n",
              "      <td>-1.0</td>\n",
              "    </tr>\n",
              "    <tr>\n",
              "      <th>10974</th>\n",
              "      <td>10975</td>\n",
              "      <td>30000.0</td>\n",
              "      <td>1.0</td>\n",
              "      <td>2.0</td>\n",
              "      <td>2.0</td>\n",
              "      <td>29.0</td>\n",
              "      <td>2.0</td>\n",
              "      <td>2.0</td>\n",
              "      <td>2.0</td>\n",
              "      <td>2.0</td>\n",
              "      <td>2.0</td>\n",
              "      <td>2.0</td>\n",
              "      <td>21959.0</td>\n",
              "      <td>24685.0</td>\n",
              "      <td>24983.0</td>\n",
              "      <td>25375.0</td>\n",
              "      <td>25923.0</td>\n",
              "      <td>25358.0</td>\n",
              "      <td>3400.0</td>\n",
              "      <td>1000.0</td>\n",
              "      <td>1100.0</td>\n",
              "      <td>1100.0</td>\n",
              "      <td>0.0</td>\n",
              "      <td>2100.0</td>\n",
              "      <td>-1.0</td>\n",
              "    </tr>\n",
              "    <tr>\n",
              "      <th>10975</th>\n",
              "      <td>10976</td>\n",
              "      <td>200000.0</td>\n",
              "      <td>2.0</td>\n",
              "      <td>2.0</td>\n",
              "      <td>2.0</td>\n",
              "      <td>24.0</td>\n",
              "      <td>0.0</td>\n",
              "      <td>0.0</td>\n",
              "      <td>0.0</td>\n",
              "      <td>0.0</td>\n",
              "      <td>0.0</td>\n",
              "      <td>0.0</td>\n",
              "      <td>21447.0</td>\n",
              "      <td>23429.0</td>\n",
              "      <td>26158.0</td>\n",
              "      <td>29486.0</td>\n",
              "      <td>27166.0</td>\n",
              "      <td>25954.0</td>\n",
              "      <td>2649.0</td>\n",
              "      <td>3500.0</td>\n",
              "      <td>4008.0</td>\n",
              "      <td>1098.0</td>\n",
              "      <td>1500.0</td>\n",
              "      <td>1000.0</td>\n",
              "      <td>-1.0</td>\n",
              "    </tr>\n",
              "    <tr>\n",
              "      <th>10976</th>\n",
              "      <td>10977</td>\n",
              "      <td>200000.0</td>\n",
              "      <td>1.0</td>\n",
              "      <td>1.0</td>\n",
              "      <td>1.0</td>\n",
              "      <td>49.0</td>\n",
              "      <td>-1.0</td>\n",
              "      <td>-1.0</td>\n",
              "      <td>-1.0</td>\n",
              "      <td>-1.0</td>\n",
              "      <td>-1.0</td>\n",
              "      <td>-1.0</td>\n",
              "      <td>390.0</td>\n",
              "      <td>390.0</td>\n",
              "      <td>390.0</td>\n",
              "      <td>390.0</td>\n",
              "      <td>390.0</td>\n",
              "      <td>390.0</td>\n",
              "      <td>390.0</td>\n",
              "      <td>390.0</td>\n",
              "      <td>390.0</td>\n",
              "      <td>390.0</td>\n",
              "      <td>390.0</td>\n",
              "      <td>390.0</td>\n",
              "      <td>-1.0</td>\n",
              "    </tr>\n",
              "  </tbody>\n",
              "</table>\n",
              "<p>10977 rows × 25 columns</p>\n",
              "</div>"
            ],
            "text/plain": [
              "          ID  LIMIT_BAL  SEX  EDUCATION  ...  PAY_AMT4  PAY_AMT5  PAY_AMT6    Y\n",
              "0          1    20000.0  2.0        2.0  ...       0.0       0.0       0.0  1.0\n",
              "1          2   120000.0  2.0        2.0  ...    1000.0       0.0    2000.0  1.0\n",
              "2          3    90000.0  2.0        2.0  ...    1000.0    1000.0    5000.0 -1.0\n",
              "3          4    50000.0  2.0        2.0  ...    1100.0    1069.0    1000.0 -1.0\n",
              "4          5    50000.0  1.0        2.0  ...    9000.0     689.0     679.0 -1.0\n",
              "...      ...        ...  ...        ...  ...       ...       ...       ...  ...\n",
              "10972  10973    50000.0  2.0        3.0  ...     500.0     508.0     250.0 -1.0\n",
              "10973  10974    80000.0  2.0        2.0  ...    1787.0    1700.0    1500.0 -1.0\n",
              "10974  10975    30000.0  1.0        2.0  ...    1100.0       0.0    2100.0 -1.0\n",
              "10975  10976   200000.0  2.0        2.0  ...    1098.0    1500.0    1000.0 -1.0\n",
              "10976  10977   200000.0  1.0        1.0  ...     390.0     390.0     390.0 -1.0\n",
              "\n",
              "[10977 rows x 25 columns]"
            ]
          },
          "metadata": {},
          "execution_count": 10
        }
      ]
    },
    {
      "cell_type": "code",
      "metadata": {
        "colab": {
          "base_uri": "https://localhost:8080/",
          "height": 320
        },
        "id": "VlG0zV9czTwY",
        "outputId": "537afe54-d636-4c90-e0d6-d994796a5233"
      },
      "source": [
        "#Obtaining the descriptive measure using describe() function\n",
        "data.describe()"
      ],
      "execution_count": null,
      "outputs": [
        {
          "output_type": "execute_result",
          "data": {
            "text/html": [
              "<div>\n",
              "<style scoped>\n",
              "    .dataframe tbody tr th:only-of-type {\n",
              "        vertical-align: middle;\n",
              "    }\n",
              "\n",
              "    .dataframe tbody tr th {\n",
              "        vertical-align: top;\n",
              "    }\n",
              "\n",
              "    .dataframe thead th {\n",
              "        text-align: right;\n",
              "    }\n",
              "</style>\n",
              "<table border=\"1\" class=\"dataframe\">\n",
              "  <thead>\n",
              "    <tr style=\"text-align: right;\">\n",
              "      <th></th>\n",
              "      <th>ID</th>\n",
              "      <th>LIMIT_BAL</th>\n",
              "      <th>SEX</th>\n",
              "      <th>EDUCATION</th>\n",
              "      <th>MARRIAGE</th>\n",
              "      <th>AGE</th>\n",
              "      <th>PAY_0</th>\n",
              "      <th>PAY_2</th>\n",
              "      <th>PAY_3</th>\n",
              "      <th>PAY_4</th>\n",
              "      <th>PAY_5</th>\n",
              "      <th>PAY_6</th>\n",
              "      <th>BILL_AMT1</th>\n",
              "      <th>BILL_AMT2</th>\n",
              "      <th>BILL_AMT3</th>\n",
              "      <th>BILL_AMT4</th>\n",
              "      <th>BILL_AMT5</th>\n",
              "      <th>BILL_AMT6</th>\n",
              "      <th>PAY_AMT1</th>\n",
              "      <th>PAY_AMT2</th>\n",
              "      <th>PAY_AMT3</th>\n",
              "      <th>PAY_AMT4</th>\n",
              "      <th>PAY_AMT5</th>\n",
              "      <th>PAY_AMT6</th>\n",
              "      <th>Y</th>\n",
              "    </tr>\n",
              "  </thead>\n",
              "  <tbody>\n",
              "    <tr>\n",
              "      <th>count</th>\n",
              "      <td>10977.000000</td>\n",
              "      <td>10977.000000</td>\n",
              "      <td>10977.000000</td>\n",
              "      <td>10977.000000</td>\n",
              "      <td>10977.000000</td>\n",
              "      <td>10977.000000</td>\n",
              "      <td>10977.000000</td>\n",
              "      <td>10977.000000</td>\n",
              "      <td>10977.000000</td>\n",
              "      <td>10977.000000</td>\n",
              "      <td>10977.000000</td>\n",
              "      <td>10977.000000</td>\n",
              "      <td>10977.000000</td>\n",
              "      <td>10977.000000</td>\n",
              "      <td>1.097700e+04</td>\n",
              "      <td>10977.000000</td>\n",
              "      <td>10977.000000</td>\n",
              "      <td>10977.000000</td>\n",
              "      <td>10977.000000</td>\n",
              "      <td>1.097700e+04</td>\n",
              "      <td>10977.000000</td>\n",
              "      <td>10977.000000</td>\n",
              "      <td>10977.000000</td>\n",
              "      <td>10977.000000</td>\n",
              "      <td>10977.000000</td>\n",
              "    </tr>\n",
              "    <tr>\n",
              "      <th>mean</th>\n",
              "      <td>5489.000000</td>\n",
              "      <td>166053.202150</td>\n",
              "      <td>1.579849</td>\n",
              "      <td>1.817163</td>\n",
              "      <td>1.568188</td>\n",
              "      <td>35.399107</td>\n",
              "      <td>0.003006</td>\n",
              "      <td>-0.144666</td>\n",
              "      <td>-0.164617</td>\n",
              "      <td>-0.242234</td>\n",
              "      <td>-0.258541</td>\n",
              "      <td>-0.279676</td>\n",
              "      <td>49815.848593</td>\n",
              "      <td>47917.748201</td>\n",
              "      <td>4.517616e+04</td>\n",
              "      <td>40415.753393</td>\n",
              "      <td>39170.715769</td>\n",
              "      <td>37716.195591</td>\n",
              "      <td>5621.566730</td>\n",
              "      <td>5.739040e+03</td>\n",
              "      <td>4525.927758</td>\n",
              "      <td>4637.487656</td>\n",
              "      <td>4827.600984</td>\n",
              "      <td>5258.881388</td>\n",
              "      <td>-0.549968</td>\n",
              "    </tr>\n",
              "    <tr>\n",
              "      <th>std</th>\n",
              "      <td>3168.931287</td>\n",
              "      <td>130252.412825</td>\n",
              "      <td>0.493605</td>\n",
              "      <td>0.766702</td>\n",
              "      <td>0.522037</td>\n",
              "      <td>9.324109</td>\n",
              "      <td>1.121650</td>\n",
              "      <td>1.203367</td>\n",
              "      <td>1.216742</td>\n",
              "      <td>1.140898</td>\n",
              "      <td>1.129395</td>\n",
              "      <td>1.161416</td>\n",
              "      <td>72064.683649</td>\n",
              "      <td>69969.725890</td>\n",
              "      <td>6.778743e+04</td>\n",
              "      <td>61243.904180</td>\n",
              "      <td>59345.749489</td>\n",
              "      <td>58973.804647</td>\n",
              "      <td>15466.465871</td>\n",
              "      <td>2.334006e+04</td>\n",
              "      <td>15789.990844</td>\n",
              "      <td>14200.033512</td>\n",
              "      <td>15285.041249</td>\n",
              "      <td>18338.429869</td>\n",
              "      <td>0.835224</td>\n",
              "    </tr>\n",
              "    <tr>\n",
              "      <th>min</th>\n",
              "      <td>1.000000</td>\n",
              "      <td>10000.000000</td>\n",
              "      <td>1.000000</td>\n",
              "      <td>0.000000</td>\n",
              "      <td>0.000000</td>\n",
              "      <td>21.000000</td>\n",
              "      <td>-2.000000</td>\n",
              "      <td>-2.000000</td>\n",
              "      <td>-2.000000</td>\n",
              "      <td>-2.000000</td>\n",
              "      <td>-2.000000</td>\n",
              "      <td>-2.000000</td>\n",
              "      <td>-15308.000000</td>\n",
              "      <td>-33350.000000</td>\n",
              "      <td>-3.404100e+04</td>\n",
              "      <td>-170000.000000</td>\n",
              "      <td>-28335.000000</td>\n",
              "      <td>-339603.000000</td>\n",
              "      <td>0.000000</td>\n",
              "      <td>0.000000e+00</td>\n",
              "      <td>0.000000</td>\n",
              "      <td>0.000000</td>\n",
              "      <td>0.000000</td>\n",
              "      <td>0.000000</td>\n",
              "      <td>-1.000000</td>\n",
              "    </tr>\n",
              "    <tr>\n",
              "      <th>25%</th>\n",
              "      <td>2745.000000</td>\n",
              "      <td>50000.000000</td>\n",
              "      <td>1.000000</td>\n",
              "      <td>1.000000</td>\n",
              "      <td>1.000000</td>\n",
              "      <td>28.000000</td>\n",
              "      <td>-1.000000</td>\n",
              "      <td>-1.000000</td>\n",
              "      <td>-1.000000</td>\n",
              "      <td>-1.000000</td>\n",
              "      <td>-1.000000</td>\n",
              "      <td>-1.000000</td>\n",
              "      <td>3391.000000</td>\n",
              "      <td>2874.000000</td>\n",
              "      <td>2.467000e+03</td>\n",
              "      <td>1961.000000</td>\n",
              "      <td>1500.000000</td>\n",
              "      <td>986.000000</td>\n",
              "      <td>907.000000</td>\n",
              "      <td>6.020000e+02</td>\n",
              "      <td>274.000000</td>\n",
              "      <td>223.000000</td>\n",
              "      <td>200.000000</td>\n",
              "      <td>0.000000</td>\n",
              "      <td>-1.000000</td>\n",
              "    </tr>\n",
              "    <tr>\n",
              "      <th>50%</th>\n",
              "      <td>5489.000000</td>\n",
              "      <td>140000.000000</td>\n",
              "      <td>2.000000</td>\n",
              "      <td>2.000000</td>\n",
              "      <td>2.000000</td>\n",
              "      <td>34.000000</td>\n",
              "      <td>0.000000</td>\n",
              "      <td>0.000000</td>\n",
              "      <td>0.000000</td>\n",
              "      <td>0.000000</td>\n",
              "      <td>0.000000</td>\n",
              "      <td>0.000000</td>\n",
              "      <td>21986.000000</td>\n",
              "      <td>21087.000000</td>\n",
              "      <td>1.975300e+04</td>\n",
              "      <td>18527.000000</td>\n",
              "      <td>17781.000000</td>\n",
              "      <td>16412.000000</td>\n",
              "      <td>2103.000000</td>\n",
              "      <td>2.000000e+03</td>\n",
              "      <td>1493.000000</td>\n",
              "      <td>1500.000000</td>\n",
              "      <td>1500.000000</td>\n",
              "      <td>1348.000000</td>\n",
              "      <td>-1.000000</td>\n",
              "    </tr>\n",
              "    <tr>\n",
              "      <th>75%</th>\n",
              "      <td>8233.000000</td>\n",
              "      <td>240000.000000</td>\n",
              "      <td>2.000000</td>\n",
              "      <td>2.000000</td>\n",
              "      <td>2.000000</td>\n",
              "      <td>41.000000</td>\n",
              "      <td>0.000000</td>\n",
              "      <td>0.000000</td>\n",
              "      <td>0.000000</td>\n",
              "      <td>0.000000</td>\n",
              "      <td>0.000000</td>\n",
              "      <td>0.000000</td>\n",
              "      <td>64393.000000</td>\n",
              "      <td>61865.000000</td>\n",
              "      <td>5.801700e+04</td>\n",
              "      <td>49648.000000</td>\n",
              "      <td>49318.000000</td>\n",
              "      <td>48145.000000</td>\n",
              "      <td>5001.000000</td>\n",
              "      <td>5.000000e+03</td>\n",
              "      <td>4000.000000</td>\n",
              "      <td>4000.000000</td>\n",
              "      <td>4003.000000</td>\n",
              "      <td>4000.000000</td>\n",
              "      <td>-1.000000</td>\n",
              "    </tr>\n",
              "    <tr>\n",
              "      <th>max</th>\n",
              "      <td>10977.000000</td>\n",
              "      <td>1000000.000000</td>\n",
              "      <td>2.000000</td>\n",
              "      <td>6.000000</td>\n",
              "      <td>3.000000</td>\n",
              "      <td>75.000000</td>\n",
              "      <td>8.000000</td>\n",
              "      <td>8.000000</td>\n",
              "      <td>8.000000</td>\n",
              "      <td>8.000000</td>\n",
              "      <td>8.000000</td>\n",
              "      <td>8.000000</td>\n",
              "      <td>964511.000000</td>\n",
              "      <td>983931.000000</td>\n",
              "      <td>1.664089e+06</td>\n",
              "      <td>891586.000000</td>\n",
              "      <td>927171.000000</td>\n",
              "      <td>961664.000000</td>\n",
              "      <td>405016.000000</td>\n",
              "      <td>1.684259e+06</td>\n",
              "      <td>896040.000000</td>\n",
              "      <td>497000.000000</td>\n",
              "      <td>379267.000000</td>\n",
              "      <td>528666.000000</td>\n",
              "      <td>1.000000</td>\n",
              "    </tr>\n",
              "  </tbody>\n",
              "</table>\n",
              "</div>"
            ],
            "text/plain": [
              "                 ID       LIMIT_BAL  ...       PAY_AMT6             Y\n",
              "count  10977.000000    10977.000000  ...   10977.000000  10977.000000\n",
              "mean    5489.000000   166053.202150  ...    5258.881388     -0.549968\n",
              "std     3168.931287   130252.412825  ...   18338.429869      0.835224\n",
              "min        1.000000    10000.000000  ...       0.000000     -1.000000\n",
              "25%     2745.000000    50000.000000  ...       0.000000     -1.000000\n",
              "50%     5489.000000   140000.000000  ...    1348.000000     -1.000000\n",
              "75%     8233.000000   240000.000000  ...    4000.000000     -1.000000\n",
              "max    10977.000000  1000000.000000  ...  528666.000000      1.000000\n",
              "\n",
              "[8 rows x 25 columns]"
            ]
          },
          "metadata": {},
          "execution_count": 11
        }
      ]
    },
    {
      "cell_type": "markdown",
      "metadata": {
        "id": "5Fy8KCzczXkY"
      },
      "source": [
        "Thus, from the above summary that the mean of the study variable (default payment next month) is 0.22 which is closer to 0 which concludes that there are more 0s that means there are more clients who do not have  default payment in our dataset which indicates that it is a imbalanced dataset.\n",
        "On similar lines we can draw meaningful insights about the other variables using the summary table."
      ]
    },
    {
      "cell_type": "code",
      "metadata": {
        "colab": {
          "base_uri": "https://localhost:8080/"
        },
        "id": "r5f92IrWV0pE",
        "outputId": "2e9f365f-1e99-4a29-bf03-840c4c4244b3"
      },
      "source": [
        "#Counts of each classes in study variable(fueltype)\n",
        "data['Y'].value_counts()"
      ],
      "execution_count": null,
      "outputs": [
        {
          "output_type": "execute_result",
          "data": {
            "text/plain": [
              "-1.0    8507\n",
              " 1.0    2470\n",
              "Name: Y, dtype: int64"
            ]
          },
          "metadata": {},
          "execution_count": 12
        }
      ]
    },
    {
      "cell_type": "code",
      "metadata": {
        "colab": {
          "base_uri": "https://localhost:8080/",
          "height": 295
        },
        "id": "IlwTbeANXgi1",
        "outputId": "6bc96eed-9fa8-40e8-ab37-36e12a5642df"
      },
      "source": [
        "#Obtaining the bar plot of fueltype visualizing the counts of each classes i.e. Default or Non-Default .\n",
        "sns.countplot(x='Y',data=data, palette=\"pastel\")\n",
        "plt.title(\"BAR PLOT: COUNTS OF DEFAULT  AND NON-DEFAULT CLIENTS [FIGURE 1]\")\n",
        "plt.ylabel(\"Counts of each classes\")\n",
        "plt.xlabel(\"Clients Type (Default or Non-Default) \")\n",
        "plt.show()"
      ],
      "execution_count": null,
      "outputs": [
        {
          "output_type": "display_data",
          "data": {
            "image/png": "[encoded data removed]",
            "text/plain": [
              "<Figure size 432x288 with 1 Axes>"
            ]
          },
          "metadata": {
            "needs_background": "light"
          }
        }
      ]
    },
    {
      "cell_type": "markdown",
      "metadata": {
        "id": "tqP1NER3WiGq"
      },
      "source": [
        "Thus, it is observed from the calculation and figure 1 obtained above that there are around 23364 non-default cvlients and 6636 default clients out of 30000 in 2005 which is still safe for the bank. Since here one class is having more frequency than another class thus we call it as imbalance dataset and we will oversample the minority class ('diesel') using SMOTE in later stage of the analysis.\n"
      ]
    },
    {
      "cell_type": "code",
      "metadata": {
        "colab": {
          "base_uri": "https://localhost:8080/"
        },
        "id": "R3Ks4Zv2Yy59",
        "outputId": "83d518ac-0531-412b-828d-1fc49a3be7e5"
      },
      "source": [
        "#Obtaining the percentage of proportion of each classes of  the study variable i.e. default payment next month (Default or Non-Default).\n",
        "count_non_default = len(data[data['Y']==-1])\n",
        "count_default = len(data[data['Y']==1])\n",
        "pct_of_non_default = count_non_default/(count_non_default+count_default)\n",
        "print(\"percentage of proportion of Non-default clients\", pct_of_non_default*100)\n",
        "pct_of_default = count_default/(count_non_default+count_default)\n",
        "print(\"percentage of  proportion of default clients\", pct_of_default*100)"
      ],
      "execution_count": null,
      "outputs": [
        {
          "output_type": "stream",
          "name": "stdout",
          "text": [
            "percentage of proportion of Non-default clients 77.49840575749293\n",
            "percentage of  proportion of default clients 22.50159424250706\n"
          ]
        }
      ]
    },
    {
      "cell_type": "markdown",
      "metadata": {
        "id": "blCeG-hbWsF3"
      },
      "source": [
        "Thus we observe that there were 22.12% of total clients were default clients in bank of Taiwan in 2005."
      ]
    },
    {
      "cell_type": "code",
      "metadata": {
        "colab": {
          "base_uri": "https://localhost:8080/",
          "height": 163
        },
        "id": "gknc6W87ar8y",
        "outputId": "d4291a56-6f08-4794-a20b-56aaae14671a"
      },
      "source": [
        "#Obtaining the average of each type client(Default or Non-Default)..\n",
        "data.groupby('Y').mean()"
      ],
      "execution_count": null,
      "outputs": [
        {
          "output_type": "execute_result",
          "data": {
            "text/html": [
              "<div>\n",
              "<style scoped>\n",
              "    .dataframe tbody tr th:only-of-type {\n",
              "        vertical-align: middle;\n",
              "    }\n",
              "\n",
              "    .dataframe tbody tr th {\n",
              "        vertical-align: top;\n",
              "    }\n",
              "\n",
              "    .dataframe thead th {\n",
              "        text-align: right;\n",
              "    }\n",
              "</style>\n",
              "<table border=\"1\" class=\"dataframe\">\n",
              "  <thead>\n",
              "    <tr style=\"text-align: right;\">\n",
              "      <th></th>\n",
              "      <th>ID</th>\n",
              "      <th>LIMIT_BAL</th>\n",
              "      <th>SEX</th>\n",
              "      <th>EDUCATION</th>\n",
              "      <th>MARRIAGE</th>\n",
              "      <th>AGE</th>\n",
              "      <th>PAY_0</th>\n",
              "      <th>PAY_2</th>\n",
              "      <th>PAY_3</th>\n",
              "      <th>PAY_4</th>\n",
              "      <th>PAY_5</th>\n",
              "      <th>PAY_6</th>\n",
              "      <th>BILL_AMT1</th>\n",
              "      <th>BILL_AMT2</th>\n",
              "      <th>BILL_AMT3</th>\n",
              "      <th>BILL_AMT4</th>\n",
              "      <th>BILL_AMT5</th>\n",
              "      <th>BILL_AMT6</th>\n",
              "      <th>PAY_AMT1</th>\n",
              "      <th>PAY_AMT2</th>\n",
              "      <th>PAY_AMT3</th>\n",
              "      <th>PAY_AMT4</th>\n",
              "      <th>PAY_AMT5</th>\n",
              "      <th>PAY_AMT6</th>\n",
              "    </tr>\n",
              "    <tr>\n",
              "      <th>Y</th>\n",
              "      <th></th>\n",
              "      <th></th>\n",
              "      <th></th>\n",
              "      <th></th>\n",
              "      <th></th>\n",
              "      <th></th>\n",
              "      <th></th>\n",
              "      <th></th>\n",
              "      <th></th>\n",
              "      <th></th>\n",
              "      <th></th>\n",
              "      <th></th>\n",
              "      <th></th>\n",
              "      <th></th>\n",
              "      <th></th>\n",
              "      <th></th>\n",
              "      <th></th>\n",
              "      <th></th>\n",
              "      <th></th>\n",
              "      <th></th>\n",
              "      <th></th>\n",
              "      <th></th>\n",
              "      <th></th>\n",
              "      <th></th>\n",
              "    </tr>\n",
              "  </thead>\n",
              "  <tbody>\n",
              "    <tr>\n",
              "      <th>-1.0</th>\n",
              "      <td>5476.808746</td>\n",
              "      <td>174462.912895</td>\n",
              "      <td>1.588574</td>\n",
              "      <td>1.811567</td>\n",
              "      <td>1.576231</td>\n",
              "      <td>35.376278</td>\n",
              "      <td>-0.179852</td>\n",
              "      <td>-0.295639</td>\n",
              "      <td>-0.309040</td>\n",
              "      <td>-0.361232</td>\n",
              "      <td>-0.370518</td>\n",
              "      <td>-0.382038</td>\n",
              "      <td>50416.985306</td>\n",
              "      <td>48372.497825</td>\n",
              "      <td>45651.006465</td>\n",
              "      <td>40604.773128</td>\n",
              "      <td>39302.154343</td>\n",
              "      <td>37819.985306</td>\n",
              "      <td>6260.596215</td>\n",
              "      <td>6488.537205</td>\n",
              "      <td>4948.868461</td>\n",
              "      <td>5101.698484</td>\n",
              "      <td>5211.797696</td>\n",
              "      <td>5787.729282</td>\n",
              "    </tr>\n",
              "    <tr>\n",
              "      <th>1.0</th>\n",
              "      <td>5530.988259</td>\n",
              "      <td>137089.068826</td>\n",
              "      <td>1.549798</td>\n",
              "      <td>1.836437</td>\n",
              "      <td>1.540486</td>\n",
              "      <td>35.477733</td>\n",
              "      <td>0.632794</td>\n",
              "      <td>0.375304</td>\n",
              "      <td>0.332794</td>\n",
              "      <td>0.167611</td>\n",
              "      <td>0.127126</td>\n",
              "      <td>0.072874</td>\n",
              "      <td>47745.455870</td>\n",
              "      <td>46351.531579</td>\n",
              "      <td>43540.724291</td>\n",
              "      <td>39764.744939</td>\n",
              "      <td>38718.024291</td>\n",
              "      <td>37358.730364</td>\n",
              "      <td>3420.666397</td>\n",
              "      <td>3157.676518</td>\n",
              "      <td>3069.265182</td>\n",
              "      <td>3038.685425</td>\n",
              "      <td>3504.377733</td>\n",
              "      <td>3437.460729</td>\n",
              "    </tr>\n",
              "  </tbody>\n",
              "</table>\n",
              "</div>"
            ],
            "text/plain": [
              "               ID      LIMIT_BAL  ...     PAY_AMT5     PAY_AMT6\n",
              "Y                                 ...                          \n",
              "-1.0  5476.808746  174462.912895  ...  5211.797696  5787.729282\n",
              " 1.0  5530.988259  137089.068826  ...  3504.377733  3437.460729\n",
              "\n",
              "[2 rows x 24 columns]"
            ]
          },
          "metadata": {},
          "execution_count": 15
        }
      ]
    },
    {
      "cell_type": "markdown",
      "metadata": {
        "id": "4PweEoJmcMGd"
      },
      "source": [
        "On observing the average age of the client in the bank we can see that the average age is 35.4 in non default clients where as among the default clients it is 35.7 which is little more but such small difference wouldn't make any difference thus we can say that the default and non default clients are around the age 35-36.\n",
        "\n",
        "Also it is observed that average sex is closer to 2 in both types of client which indicates that in the both groups there are more female clients since female clients are denoted by 2 i  the dataset .\n",
        "\n",
        "On the similar lines we can make interpretation about other average values under other categorical variables also which are obtained below."
      ]
    },
    {
      "cell_type": "code",
      "metadata": {
        "colab": {
          "base_uri": "https://localhost:8080/",
          "height": 163
        },
        "id": "8IWQhSSpbyMH",
        "outputId": "33dae035-a7e6-4442-a59c-88ad136e3f26"
      },
      "source": [
        "#Obtaining the average of each of the classes of sex of clients.\n",
        "data.groupby('SEX').mean()"
      ],
      "execution_count": null,
      "outputs": [
        {
          "output_type": "execute_result",
          "data": {
            "text/html": [
              "<div>\n",
              "<style scoped>\n",
              "    .dataframe tbody tr th:only-of-type {\n",
              "        vertical-align: middle;\n",
              "    }\n",
              "\n",
              "    .dataframe tbody tr th {\n",
              "        vertical-align: top;\n",
              "    }\n",
              "\n",
              "    .dataframe thead th {\n",
              "        text-align: right;\n",
              "    }\n",
              "</style>\n",
              "<table border=\"1\" class=\"dataframe\">\n",
              "  <thead>\n",
              "    <tr style=\"text-align: right;\">\n",
              "      <th></th>\n",
              "      <th>ID</th>\n",
              "      <th>LIMIT_BAL</th>\n",
              "      <th>EDUCATION</th>\n",
              "      <th>MARRIAGE</th>\n",
              "      <th>AGE</th>\n",
              "      <th>PAY_0</th>\n",
              "      <th>PAY_2</th>\n",
              "      <th>PAY_3</th>\n",
              "      <th>PAY_4</th>\n",
              "      <th>PAY_5</th>\n",
              "      <th>PAY_6</th>\n",
              "      <th>BILL_AMT1</th>\n",
              "      <th>BILL_AMT2</th>\n",
              "      <th>BILL_AMT3</th>\n",
              "      <th>BILL_AMT4</th>\n",
              "      <th>BILL_AMT5</th>\n",
              "      <th>BILL_AMT6</th>\n",
              "      <th>PAY_AMT1</th>\n",
              "      <th>PAY_AMT2</th>\n",
              "      <th>PAY_AMT3</th>\n",
              "      <th>PAY_AMT4</th>\n",
              "      <th>PAY_AMT5</th>\n",
              "      <th>PAY_AMT6</th>\n",
              "      <th>Y</th>\n",
              "    </tr>\n",
              "    <tr>\n",
              "      <th>SEX</th>\n",
              "      <th></th>\n",
              "      <th></th>\n",
              "      <th></th>\n",
              "      <th></th>\n",
              "      <th></th>\n",
              "      <th></th>\n",
              "      <th></th>\n",
              "      <th></th>\n",
              "      <th></th>\n",
              "      <th></th>\n",
              "      <th></th>\n",
              "      <th></th>\n",
              "      <th></th>\n",
              "      <th></th>\n",
              "      <th></th>\n",
              "      <th></th>\n",
              "      <th></th>\n",
              "      <th></th>\n",
              "      <th></th>\n",
              "      <th></th>\n",
              "      <th></th>\n",
              "      <th></th>\n",
              "      <th></th>\n",
              "      <th></th>\n",
              "    </tr>\n",
              "  </thead>\n",
              "  <tbody>\n",
              "    <tr>\n",
              "      <th>1.0</th>\n",
              "      <td>5481.010408</td>\n",
              "      <td>162408.933218</td>\n",
              "      <td>1.798569</td>\n",
              "      <td>1.584779</td>\n",
              "      <td>36.429965</td>\n",
              "      <td>0.066782</td>\n",
              "      <td>-0.052905</td>\n",
              "      <td>-0.079358</td>\n",
              "      <td>-0.171292</td>\n",
              "      <td>-0.191240</td>\n",
              "      <td>-0.238942</td>\n",
              "      <td>52621.296401</td>\n",
              "      <td>50142.849523</td>\n",
              "      <td>46588.877493</td>\n",
              "      <td>41552.934952</td>\n",
              "      <td>39808.535343</td>\n",
              "      <td>38578.343886</td>\n",
              "      <td>5660.194493</td>\n",
              "      <td>5761.444276</td>\n",
              "      <td>4665.851474</td>\n",
              "      <td>4574.935603</td>\n",
              "      <td>5066.387901</td>\n",
              "      <td>5329.942541</td>\n",
              "      <td>-0.517780</td>\n",
              "    </tr>\n",
              "    <tr>\n",
              "      <th>2.0</th>\n",
              "      <td>5494.789159</td>\n",
              "      <td>168693.794187</td>\n",
              "      <td>1.830636</td>\n",
              "      <td>1.556167</td>\n",
              "      <td>34.652160</td>\n",
              "      <td>-0.043205</td>\n",
              "      <td>-0.211155</td>\n",
              "      <td>-0.226394</td>\n",
              "      <td>-0.293637</td>\n",
              "      <td>-0.307306</td>\n",
              "      <td>-0.309191</td>\n",
              "      <td>47783.055931</td>\n",
              "      <td>46305.467400</td>\n",
              "      <td>44152.521288</td>\n",
              "      <td>39591.765750</td>\n",
              "      <td>38708.559623</td>\n",
              "      <td>37091.493637</td>\n",
              "      <td>5593.577533</td>\n",
              "      <td>5722.806913</td>\n",
              "      <td>4424.540770</td>\n",
              "      <td>4682.812097</td>\n",
              "      <td>4654.578947</td>\n",
              "      <td>5207.391359</td>\n",
              "      <td>-0.573291</td>\n",
              "    </tr>\n",
              "  </tbody>\n",
              "</table>\n",
              "</div>"
            ],
            "text/plain": [
              "              ID      LIMIT_BAL  EDUCATION  ...     PAY_AMT5     PAY_AMT6         Y\n",
              "SEX                                         ...                                    \n",
              "1.0  5481.010408  162408.933218   1.798569  ...  5066.387901  5329.942541 -0.517780\n",
              "2.0  5494.789159  168693.794187   1.830636  ...  4654.578947  5207.391359 -0.573291\n",
              "\n",
              "[2 rows x 24 columns]"
            ]
          },
          "metadata": {},
          "execution_count": 16
        }
      ]
    },
    {
      "cell_type": "code",
      "metadata": {
        "colab": {
          "base_uri": "https://localhost:8080/",
          "height": 320
        },
        "id": "P7KMeGfXcOL2",
        "outputId": "e964be86-fae2-4a50-9c23-78c1b6bd67b4"
      },
      "source": [
        "#Obtaining the average of each of the classes of education status of clients.\n",
        "data.groupby('EDUCATION').mean()"
      ],
      "execution_count": null,
      "outputs": [
        {
          "output_type": "execute_result",
          "data": {
            "text/html": [
              "<div>\n",
              "<style scoped>\n",
              "    .dataframe tbody tr th:only-of-type {\n",
              "        vertical-align: middle;\n",
              "    }\n",
              "\n",
              "    .dataframe tbody tr th {\n",
              "        vertical-align: top;\n",
              "    }\n",
              "\n",
              "    .dataframe thead th {\n",
              "        text-align: right;\n",
              "    }\n",
              "</style>\n",
              "<table border=\"1\" class=\"dataframe\">\n",
              "  <thead>\n",
              "    <tr style=\"text-align: right;\">\n",
              "      <th></th>\n",
              "      <th>ID</th>\n",
              "      <th>LIMIT_BAL</th>\n",
              "      <th>SEX</th>\n",
              "      <th>MARRIAGE</th>\n",
              "      <th>AGE</th>\n",
              "      <th>PAY_0</th>\n",
              "      <th>PAY_2</th>\n",
              "      <th>PAY_3</th>\n",
              "      <th>PAY_4</th>\n",
              "      <th>PAY_5</th>\n",
              "      <th>PAY_6</th>\n",
              "      <th>BILL_AMT1</th>\n",
              "      <th>BILL_AMT2</th>\n",
              "      <th>BILL_AMT3</th>\n",
              "      <th>BILL_AMT4</th>\n",
              "      <th>BILL_AMT5</th>\n",
              "      <th>BILL_AMT6</th>\n",
              "      <th>PAY_AMT1</th>\n",
              "      <th>PAY_AMT2</th>\n",
              "      <th>PAY_AMT3</th>\n",
              "      <th>PAY_AMT4</th>\n",
              "      <th>PAY_AMT5</th>\n",
              "      <th>PAY_AMT6</th>\n",
              "      <th>Y</th>\n",
              "    </tr>\n",
              "    <tr>\n",
              "      <th>EDUCATION</th>\n",
              "      <th></th>\n",
              "      <th></th>\n",
              "      <th></th>\n",
              "      <th></th>\n",
              "      <th></th>\n",
              "      <th></th>\n",
              "      <th></th>\n",
              "      <th></th>\n",
              "      <th></th>\n",
              "      <th></th>\n",
              "      <th></th>\n",
              "      <th></th>\n",
              "      <th></th>\n",
              "      <th></th>\n",
              "      <th></th>\n",
              "      <th></th>\n",
              "      <th></th>\n",
              "      <th></th>\n",
              "      <th></th>\n",
              "      <th></th>\n",
              "      <th></th>\n",
              "      <th></th>\n",
              "      <th></th>\n",
              "      <th></th>\n",
              "    </tr>\n",
              "  </thead>\n",
              "  <tbody>\n",
              "    <tr>\n",
              "      <th>0.0</th>\n",
              "      <td>5531.000000</td>\n",
              "      <td>306666.666667</td>\n",
              "      <td>1.333333</td>\n",
              "      <td>2.000000</td>\n",
              "      <td>35.666667</td>\n",
              "      <td>0.666667</td>\n",
              "      <td>-0.666667</td>\n",
              "      <td>-1.000000</td>\n",
              "      <td>-0.666667</td>\n",
              "      <td>-0.666667</td>\n",
              "      <td>-1.333333</td>\n",
              "      <td>13416.666667</td>\n",
              "      <td>11550.666667</td>\n",
              "      <td>28298.333333</td>\n",
              "      <td>18119.333333</td>\n",
              "      <td>12991.000000</td>\n",
              "      <td>503.666667</td>\n",
              "      <td>11543.333333</td>\n",
              "      <td>28523.666667</td>\n",
              "      <td>15140.333333</td>\n",
              "      <td>9201.000000</td>\n",
              "      <td>1082.666667</td>\n",
              "      <td>1100.000000</td>\n",
              "      <td>-1.000000</td>\n",
              "    </tr>\n",
              "    <tr>\n",
              "      <th>1.0</th>\n",
              "      <td>5471.262203</td>\n",
              "      <td>210905.077263</td>\n",
              "      <td>1.563895</td>\n",
              "      <td>1.656610</td>\n",
              "      <td>34.256071</td>\n",
              "      <td>-0.209222</td>\n",
              "      <td>-0.423596</td>\n",
              "      <td>-0.411087</td>\n",
              "      <td>-0.457689</td>\n",
              "      <td>-0.455727</td>\n",
              "      <td>-0.465784</td>\n",
              "      <td>47950.508462</td>\n",
              "      <td>46347.112092</td>\n",
              "      <td>44888.837871</td>\n",
              "      <td>40651.616630</td>\n",
              "      <td>39108.460633</td>\n",
              "      <td>37420.701987</td>\n",
              "      <td>6769.487123</td>\n",
              "      <td>7483.476085</td>\n",
              "      <td>5724.631101</td>\n",
              "      <td>5491.710081</td>\n",
              "      <td>5806.696100</td>\n",
              "      <td>6628.861908</td>\n",
              "      <td>-0.582046</td>\n",
              "    </tr>\n",
              "    <tr>\n",
              "      <th>2.0</th>\n",
              "      <td>5531.891404</td>\n",
              "      <td>144023.426643</td>\n",
              "      <td>1.594997</td>\n",
              "      <td>1.540798</td>\n",
              "      <td>34.549335</td>\n",
              "      <td>0.126663</td>\n",
              "      <td>0.026603</td>\n",
              "      <td>-0.023030</td>\n",
              "      <td>-0.110383</td>\n",
              "      <td>-0.136589</td>\n",
              "      <td>-0.157038</td>\n",
              "      <td>51603.115942</td>\n",
              "      <td>49663.373040</td>\n",
              "      <td>46149.629541</td>\n",
              "      <td>41542.531864</td>\n",
              "      <td>40246.481040</td>\n",
              "      <td>38919.239825</td>\n",
              "      <td>4979.197141</td>\n",
              "      <td>4683.060949</td>\n",
              "      <td>3833.406393</td>\n",
              "      <td>4008.236649</td>\n",
              "      <td>4371.206869</td>\n",
              "      <td>4573.736550</td>\n",
              "      <td>-0.530276</td>\n",
              "    </tr>\n",
              "    <tr>\n",
              "      <th>3.0</th>\n",
              "      <td>5381.495697</td>\n",
              "      <td>124308.663224</td>\n",
              "      <td>1.565691</td>\n",
              "      <td>1.441193</td>\n",
              "      <td>40.548480</td>\n",
              "      <td>0.152610</td>\n",
              "      <td>0.026391</td>\n",
              "      <td>0.021228</td>\n",
              "      <td>-0.105565</td>\n",
              "      <td>-0.138267</td>\n",
              "      <td>-0.183018</td>\n",
              "      <td>47106.231211</td>\n",
              "      <td>44954.434309</td>\n",
              "      <td>41837.700516</td>\n",
              "      <td>35840.250143</td>\n",
              "      <td>35719.658061</td>\n",
              "      <td>34612.641997</td>\n",
              "      <td>4703.516351</td>\n",
              "      <td>4657.616753</td>\n",
              "      <td>3438.809524</td>\n",
              "      <td>4409.226621</td>\n",
              "      <td>3771.165232</td>\n",
              "      <td>3645.141710</td>\n",
              "      <td>-0.508893</td>\n",
              "    </tr>\n",
              "    <tr>\n",
              "      <th>4.0</th>\n",
              "      <td>5639.100000</td>\n",
              "      <td>184666.666667</td>\n",
              "      <td>1.600000</td>\n",
              "      <td>1.600000</td>\n",
              "      <td>33.433333</td>\n",
              "      <td>-0.366667</td>\n",
              "      <td>-0.633333</td>\n",
              "      <td>-0.666667</td>\n",
              "      <td>-0.633333</td>\n",
              "      <td>-0.600000</td>\n",
              "      <td>-0.533333</td>\n",
              "      <td>71373.566667</td>\n",
              "      <td>49161.333333</td>\n",
              "      <td>38768.633333</td>\n",
              "      <td>29508.066667</td>\n",
              "      <td>25558.233333</td>\n",
              "      <td>24920.433333</td>\n",
              "      <td>5240.600000</td>\n",
              "      <td>3231.366667</td>\n",
              "      <td>10654.366667</td>\n",
              "      <td>1706.433333</td>\n",
              "      <td>3955.100000</td>\n",
              "      <td>3435.100000</td>\n",
              "      <td>-0.933333</td>\n",
              "    </tr>\n",
              "    <tr>\n",
              "      <th>5.0</th>\n",
              "      <td>6187.840000</td>\n",
              "      <td>161200.000000</td>\n",
              "      <td>1.733333</td>\n",
              "      <td>1.520000</td>\n",
              "      <td>34.373333</td>\n",
              "      <td>-0.053333</td>\n",
              "      <td>-0.173333</td>\n",
              "      <td>-0.280000</td>\n",
              "      <td>-0.280000</td>\n",
              "      <td>-0.280000</td>\n",
              "      <td>-0.400000</td>\n",
              "      <td>81826.506667</td>\n",
              "      <td>79447.120000</td>\n",
              "      <td>73016.106667</td>\n",
              "      <td>62534.293333</td>\n",
              "      <td>57902.186667</td>\n",
              "      <td>51860.146667</td>\n",
              "      <td>6293.853333</td>\n",
              "      <td>7203.493333</td>\n",
              "      <td>6225.613333</td>\n",
              "      <td>5361.866667</td>\n",
              "      <td>5458.880000</td>\n",
              "      <td>10494.586667</td>\n",
              "      <td>-0.840000</td>\n",
              "    </tr>\n",
              "    <tr>\n",
              "      <th>6.0</th>\n",
              "      <td>4373.250000</td>\n",
              "      <td>186666.666667</td>\n",
              "      <td>1.750000</td>\n",
              "      <td>1.583333</td>\n",
              "      <td>43.750000</td>\n",
              "      <td>-0.416667</td>\n",
              "      <td>-0.583333</td>\n",
              "      <td>-0.666667</td>\n",
              "      <td>-0.916667</td>\n",
              "      <td>-0.833333</td>\n",
              "      <td>-0.916667</td>\n",
              "      <td>82070.500000</td>\n",
              "      <td>88160.916667</td>\n",
              "      <td>65329.250000</td>\n",
              "      <td>46510.250000</td>\n",
              "      <td>33540.000000</td>\n",
              "      <td>36816.333333</td>\n",
              "      <td>13867.250000</td>\n",
              "      <td>4811.416667</td>\n",
              "      <td>17258.500000</td>\n",
              "      <td>13357.833333</td>\n",
              "      <td>16370.750000</td>\n",
              "      <td>34669.250000</td>\n",
              "      <td>-1.000000</td>\n",
              "    </tr>\n",
              "  </tbody>\n",
              "</table>\n",
              "</div>"
            ],
            "text/plain": [
              "                    ID      LIMIT_BAL  ...      PAY_AMT6         Y\n",
              "EDUCATION                              ...                        \n",
              "0.0        5531.000000  306666.666667  ...   1100.000000 -1.000000\n",
              "1.0        5471.262203  210905.077263  ...   6628.861908 -0.582046\n",
              "2.0        5531.891404  144023.426643  ...   4573.736550 -0.530276\n",
              "3.0        5381.495697  124308.663224  ...   3645.141710 -0.508893\n",
              "4.0        5639.100000  184666.666667  ...   3435.100000 -0.933333\n",
              "5.0        6187.840000  161200.000000  ...  10494.586667 -0.840000\n",
              "6.0        4373.250000  186666.666667  ...  34669.250000 -1.000000\n",
              "\n",
              "[7 rows x 24 columns]"
            ]
          },
          "metadata": {},
          "execution_count": 17
        }
      ]
    },
    {
      "cell_type": "code",
      "metadata": {
        "colab": {
          "base_uri": "https://localhost:8080/",
          "height": 226
        },
        "id": "7myf3jFScQyu",
        "outputId": "873b9ef5-5bb2-4759-e665-ef0f079d8a44"
      },
      "source": [
        "#Obtaining the average of each of the classes of marriage status of clients.\n",
        "data.groupby('MARRIAGE').mean()"
      ],
      "execution_count": null,
      "outputs": [
        {
          "output_type": "execute_result",
          "data": {
            "text/html": [
              "<div>\n",
              "<style scoped>\n",
              "    .dataframe tbody tr th:only-of-type {\n",
              "        vertical-align: middle;\n",
              "    }\n",
              "\n",
              "    .dataframe tbody tr th {\n",
              "        vertical-align: top;\n",
              "    }\n",
              "\n",
              "    .dataframe thead th {\n",
              "        text-align: right;\n",
              "    }\n",
              "</style>\n",
              "<table border=\"1\" class=\"dataframe\">\n",
              "  <thead>\n",
              "    <tr style=\"text-align: right;\">\n",
              "      <th></th>\n",
              "      <th>ID</th>\n",
              "      <th>LIMIT_BAL</th>\n",
              "      <th>SEX</th>\n",
              "      <th>EDUCATION</th>\n",
              "      <th>AGE</th>\n",
              "      <th>PAY_0</th>\n",
              "      <th>PAY_2</th>\n",
              "      <th>PAY_3</th>\n",
              "      <th>PAY_4</th>\n",
              "      <th>PAY_5</th>\n",
              "      <th>PAY_6</th>\n",
              "      <th>BILL_AMT1</th>\n",
              "      <th>BILL_AMT2</th>\n",
              "      <th>BILL_AMT3</th>\n",
              "      <th>BILL_AMT4</th>\n",
              "      <th>BILL_AMT5</th>\n",
              "      <th>BILL_AMT6</th>\n",
              "      <th>PAY_AMT1</th>\n",
              "      <th>PAY_AMT2</th>\n",
              "      <th>PAY_AMT3</th>\n",
              "      <th>PAY_AMT4</th>\n",
              "      <th>PAY_AMT5</th>\n",
              "      <th>PAY_AMT6</th>\n",
              "      <th>Y</th>\n",
              "    </tr>\n",
              "    <tr>\n",
              "      <th>MARRIAGE</th>\n",
              "      <th></th>\n",
              "      <th></th>\n",
              "      <th></th>\n",
              "      <th></th>\n",
              "      <th></th>\n",
              "      <th></th>\n",
              "      <th></th>\n",
              "      <th></th>\n",
              "      <th></th>\n",
              "      <th></th>\n",
              "      <th></th>\n",
              "      <th></th>\n",
              "      <th></th>\n",
              "      <th></th>\n",
              "      <th></th>\n",
              "      <th></th>\n",
              "      <th></th>\n",
              "      <th></th>\n",
              "      <th></th>\n",
              "      <th></th>\n",
              "      <th></th>\n",
              "      <th></th>\n",
              "      <th></th>\n",
              "      <th></th>\n",
              "    </tr>\n",
              "  </thead>\n",
              "  <tbody>\n",
              "    <tr>\n",
              "      <th>0.0</th>\n",
              "      <td>4852.333333</td>\n",
              "      <td>110555.555556</td>\n",
              "      <td>1.611111</td>\n",
              "      <td>2.666667</td>\n",
              "      <td>38.777778</td>\n",
              "      <td>-0.222222</td>\n",
              "      <td>-0.222222</td>\n",
              "      <td>-0.500000</td>\n",
              "      <td>-0.611111</td>\n",
              "      <td>-0.444444</td>\n",
              "      <td>-0.500000</td>\n",
              "      <td>23910.500000</td>\n",
              "      <td>28220.555556</td>\n",
              "      <td>19786.444444</td>\n",
              "      <td>18916.000000</td>\n",
              "      <td>15700.722222</td>\n",
              "      <td>14893.611111</td>\n",
              "      <td>10343.444444</td>\n",
              "      <td>3038.277778</td>\n",
              "      <td>4208.277778</td>\n",
              "      <td>1843.277778</td>\n",
              "      <td>1348.333333</td>\n",
              "      <td>2229.000000</td>\n",
              "      <td>-0.888889</td>\n",
              "    </tr>\n",
              "    <tr>\n",
              "      <th>1.0</th>\n",
              "      <td>5504.095967</td>\n",
              "      <td>183546.225440</td>\n",
              "      <td>1.596484</td>\n",
              "      <td>1.944778</td>\n",
              "      <td>40.242606</td>\n",
              "      <td>-0.014271</td>\n",
              "      <td>-0.181593</td>\n",
              "      <td>-0.207653</td>\n",
              "      <td>-0.287073</td>\n",
              "      <td>-0.312306</td>\n",
              "      <td>-0.329059</td>\n",
              "      <td>52418.207653</td>\n",
              "      <td>50531.285419</td>\n",
              "      <td>48145.109824</td>\n",
              "      <td>42644.762771</td>\n",
              "      <td>41578.099483</td>\n",
              "      <td>39850.888521</td>\n",
              "      <td>6139.468666</td>\n",
              "      <td>6431.381386</td>\n",
              "      <td>4869.549948</td>\n",
              "      <td>5039.746019</td>\n",
              "      <td>5060.268666</td>\n",
              "      <td>5374.405171</td>\n",
              "      <td>-0.519338</td>\n",
              "    </tr>\n",
              "    <tr>\n",
              "      <th>2.0</th>\n",
              "      <td>5492.712998</td>\n",
              "      <td>153704.321709</td>\n",
              "      <td>1.565493</td>\n",
              "      <td>1.702486</td>\n",
              "      <td>31.304522</td>\n",
              "      <td>0.012848</td>\n",
              "      <td>-0.119306</td>\n",
              "      <td>-0.133489</td>\n",
              "      <td>-0.209411</td>\n",
              "      <td>-0.218755</td>\n",
              "      <td>-0.243451</td>\n",
              "      <td>47908.536459</td>\n",
              "      <td>46073.324545</td>\n",
              "      <td>43044.855665</td>\n",
              "      <td>39005.015184</td>\n",
              "      <td>37612.349074</td>\n",
              "      <td>36254.325213</td>\n",
              "      <td>5249.108960</td>\n",
              "      <td>5219.228600</td>\n",
              "      <td>4290.742700</td>\n",
              "      <td>4364.505089</td>\n",
              "      <td>4605.208744</td>\n",
              "      <td>5248.430502</td>\n",
              "      <td>-0.573502</td>\n",
              "    </tr>\n",
              "    <tr>\n",
              "      <th>3.0</th>\n",
              "      <td>4849.450382</td>\n",
              "      <td>92977.099237</td>\n",
              "      <td>1.618321</td>\n",
              "      <td>2.236641</td>\n",
              "      <td>43.488550</td>\n",
              "      <td>0.221374</td>\n",
              "      <td>0.068702</td>\n",
              "      <td>0.045802</td>\n",
              "      <td>-0.038168</td>\n",
              "      <td>-0.068702</td>\n",
              "      <td>-0.083969</td>\n",
              "      <td>44582.351145</td>\n",
              "      <td>38541.625954</td>\n",
              "      <td>36588.694656</td>\n",
              "      <td>25639.335878</td>\n",
              "      <td>24835.229008</td>\n",
              "      <td>28941.809160</td>\n",
              "      <td>2897.061069</td>\n",
              "      <td>4337.343511</td>\n",
              "      <td>2646.297710</td>\n",
              "      <td>2663.145038</td>\n",
              "      <td>6892.297710</td>\n",
              "      <td>1889.511450</td>\n",
              "      <td>-0.557252</td>\n",
              "    </tr>\n",
              "  </tbody>\n",
              "</table>\n",
              "</div>"
            ],
            "text/plain": [
              "                   ID      LIMIT_BAL  ...     PAY_AMT6         Y\n",
              "MARRIAGE                              ...                       \n",
              "0.0       4852.333333  110555.555556  ...  2229.000000 -0.888889\n",
              "1.0       5504.095967  183546.225440  ...  5374.405171 -0.519338\n",
              "2.0       5492.712998  153704.321709  ...  5248.430502 -0.573502\n",
              "3.0       4849.450382   92977.099237  ...  1889.511450 -0.557252\n",
              "\n",
              "[4 rows x 24 columns]"
            ]
          },
          "metadata": {},
          "execution_count": 18
        }
      ]
    },
    {
      "cell_type": "code",
      "metadata": {
        "colab": {
          "base_uri": "https://localhost:8080/",
          "height": 143
        },
        "id": "ZfC0Mnjtg35Y",
        "outputId": "b2771c19-a4d2-410e-fbfe-0f8a09fd10cb"
      },
      "source": [
        "#Obtaiing the contingency table.\n",
        "pd.crosstab(data.SEX,data.Y)"
      ],
      "execution_count": null,
      "outputs": [
        {
          "output_type": "execute_result",
          "data": {
            "text/html": [
              "<div>\n",
              "<style scoped>\n",
              "    .dataframe tbody tr th:only-of-type {\n",
              "        vertical-align: middle;\n",
              "    }\n",
              "\n",
              "    .dataframe tbody tr th {\n",
              "        vertical-align: top;\n",
              "    }\n",
              "\n",
              "    .dataframe thead th {\n",
              "        text-align: right;\n",
              "    }\n",
              "</style>\n",
              "<table border=\"1\" class=\"dataframe\">\n",
              "  <thead>\n",
              "    <tr style=\"text-align: right;\">\n",
              "      <th>Y</th>\n",
              "      <th>-1.0</th>\n",
              "      <th>1.0</th>\n",
              "    </tr>\n",
              "    <tr>\n",
              "      <th>SEX</th>\n",
              "      <th></th>\n",
              "      <th></th>\n",
              "    </tr>\n",
              "  </thead>\n",
              "  <tbody>\n",
              "    <tr>\n",
              "      <th>1.0</th>\n",
              "      <td>3500</td>\n",
              "      <td>1112</td>\n",
              "    </tr>\n",
              "    <tr>\n",
              "      <th>2.0</th>\n",
              "      <td>5007</td>\n",
              "      <td>1358</td>\n",
              "    </tr>\n",
              "  </tbody>\n",
              "</table>\n",
              "</div>"
            ],
            "text/plain": [
              "Y    -1.0   1.0\n",
              "SEX            \n",
              "1.0  3500  1112\n",
              "2.0  5007  1358"
            ]
          },
          "metadata": {},
          "execution_count": 19
        }
      ]
    },
    {
      "cell_type": "markdown",
      "metadata": {
        "id": "HALRtxQrhCcb"
      },
      "source": [
        "Thus it is observed that most of the clients who are no- default are males while there are around 2873 default female clients."
      ]
    },
    {
      "cell_type": "code",
      "metadata": {
        "colab": {
          "base_uri": "https://localhost:8080/",
          "height": 206
        },
        "id": "1vcDL5xiel3Z",
        "outputId": "f6179db6-eb1b-4019-dd5c-76bf0cfcc0cd"
      },
      "source": [
        "#Obtaiing the contingency table.\n",
        "pd.crosstab(data.MARRIAGE,data.Y)"
      ],
      "execution_count": null,
      "outputs": [
        {
          "output_type": "execute_result",
          "data": {
            "text/html": [
              "<div>\n",
              "<style scoped>\n",
              "    .dataframe tbody tr th:only-of-type {\n",
              "        vertical-align: middle;\n",
              "    }\n",
              "\n",
              "    .dataframe tbody tr th {\n",
              "        vertical-align: top;\n",
              "    }\n",
              "\n",
              "    .dataframe thead th {\n",
              "        text-align: right;\n",
              "    }\n",
              "</style>\n",
              "<table border=\"1\" class=\"dataframe\">\n",
              "  <thead>\n",
              "    <tr style=\"text-align: right;\">\n",
              "      <th>Y</th>\n",
              "      <th>-1.0</th>\n",
              "      <th>1.0</th>\n",
              "    </tr>\n",
              "    <tr>\n",
              "      <th>MARRIAGE</th>\n",
              "      <th></th>\n",
              "      <th></th>\n",
              "    </tr>\n",
              "  </thead>\n",
              "  <tbody>\n",
              "    <tr>\n",
              "      <th>0.0</th>\n",
              "      <td>17</td>\n",
              "      <td>1</td>\n",
              "    </tr>\n",
              "    <tr>\n",
              "      <th>1.0</th>\n",
              "      <td>3673</td>\n",
              "      <td>1162</td>\n",
              "    </tr>\n",
              "    <tr>\n",
              "      <th>2.0</th>\n",
              "      <td>4715</td>\n",
              "      <td>1278</td>\n",
              "    </tr>\n",
              "    <tr>\n",
              "      <th>3.0</th>\n",
              "      <td>102</td>\n",
              "      <td>29</td>\n",
              "    </tr>\n",
              "  </tbody>\n",
              "</table>\n",
              "</div>"
            ],
            "text/plain": [
              "Y         -1.0   1.0\n",
              "MARRIAGE            \n",
              "0.0         17     1\n",
              "1.0       3673  1162\n",
              "2.0       4715  1278\n",
              "3.0        102    29"
            ]
          },
          "metadata": {},
          "execution_count": 20
        }
      ]
    },
    {
      "cell_type": "markdown",
      "metadata": {
        "id": "-TwLvWmshWUp"
      },
      "source": [
        "Thus it is observed that the maximum number of default female clients are single."
      ]
    },
    {
      "cell_type": "code",
      "metadata": {
        "colab": {
          "base_uri": "https://localhost:8080/",
          "height": 300
        },
        "id": "_A70xMgrX6-J",
        "outputId": "e0aaf2f3-096c-46b1-e0cb-7f58b9d4555d"
      },
      "source": [
        "#Obtaiing the contingency table.\n",
        "pd.crosstab(data.EDUCATION,data.Y)"
      ],
      "execution_count": null,
      "outputs": [
        {
          "output_type": "execute_result",
          "data": {
            "text/html": [
              "<div>\n",
              "<style scoped>\n",
              "    .dataframe tbody tr th:only-of-type {\n",
              "        vertical-align: middle;\n",
              "    }\n",
              "\n",
              "    .dataframe tbody tr th {\n",
              "        vertical-align: top;\n",
              "    }\n",
              "\n",
              "    .dataframe thead th {\n",
              "        text-align: right;\n",
              "    }\n",
              "</style>\n",
              "<table border=\"1\" class=\"dataframe\">\n",
              "  <thead>\n",
              "    <tr style=\"text-align: right;\">\n",
              "      <th>Y</th>\n",
              "      <th>-1.0</th>\n",
              "      <th>1.0</th>\n",
              "    </tr>\n",
              "    <tr>\n",
              "      <th>EDUCATION</th>\n",
              "      <th></th>\n",
              "      <th></th>\n",
              "    </tr>\n",
              "  </thead>\n",
              "  <tbody>\n",
              "    <tr>\n",
              "      <th>0.0</th>\n",
              "      <td>3</td>\n",
              "      <td>0</td>\n",
              "    </tr>\n",
              "    <tr>\n",
              "      <th>1.0</th>\n",
              "      <td>3225</td>\n",
              "      <td>852</td>\n",
              "    </tr>\n",
              "    <tr>\n",
              "      <th>2.0</th>\n",
              "      <td>3854</td>\n",
              "      <td>1183</td>\n",
              "    </tr>\n",
              "    <tr>\n",
              "      <th>3.0</th>\n",
              "      <td>1315</td>\n",
              "      <td>428</td>\n",
              "    </tr>\n",
              "    <tr>\n",
              "      <th>4.0</th>\n",
              "      <td>29</td>\n",
              "      <td>1</td>\n",
              "    </tr>\n",
              "    <tr>\n",
              "      <th>5.0</th>\n",
              "      <td>69</td>\n",
              "      <td>6</td>\n",
              "    </tr>\n",
              "    <tr>\n",
              "      <th>6.0</th>\n",
              "      <td>12</td>\n",
              "      <td>0</td>\n",
              "    </tr>\n",
              "  </tbody>\n",
              "</table>\n",
              "</div>"
            ],
            "text/plain": [
              "Y          -1.0   1.0\n",
              "EDUCATION            \n",
              "0.0           3     0\n",
              "1.0        3225   852\n",
              "2.0        3854  1183\n",
              "3.0        1315   428\n",
              "4.0          29     1\n",
              "5.0          69     6\n",
              "6.0          12     0"
            ]
          },
          "metadata": {},
          "execution_count": 21
        }
      ]
    },
    {
      "cell_type": "markdown",
      "metadata": {
        "id": "a-9sW6oPYAFt"
      },
      "source": [
        "Thus it is observed that the maximum number of default female clients are university graduate and maximum number of non default clients of bank are also university graduates.."
      ]
    },
    {
      "cell_type": "code",
      "metadata": {
        "colab": {
          "base_uri": "https://localhost:8080/",
          "height": 318
        },
        "id": "ObiVgzRzhlXo",
        "outputId": "1031d82a-cd13-4060-caba-a53c80014faf"
      },
      "source": [
        "#BAR PLOT FOR CLIENT TYPE (DEFAULT OR NON DEFAULT) UNDER EACH GENDER CATEGORY\n",
        "pd.crosstab(data.MARRIAGE,data.Y).plot(kind='bar')\n",
        "plt.title('CLIENT TYPE (DEFAULT OR NON DEFAULT) UNDER EACH GENDER CATEGORY[FIGURE 2]')\n",
        "plt.xlabel('Gender')\n",
        "plt.ylabel('Frequency of client type')"
      ],
      "execution_count": null,
      "outputs": [
        {
          "output_type": "execute_result",
          "data": {
            "text/plain": [
              "Text(0, 0.5, 'Frequency of client type')"
            ]
          },
          "metadata": {},
          "execution_count": 22
        },
        {
          "output_type": "display_data",
          "data": {
            "image/png": "[encoded data removed]",
            "text/plain": [
              "<Figure size 432x288 with 1 Axes>"
            ]
          },
          "metadata": {
            "needs_background": "light"
          }
        }
      ]
    },
    {
      "cell_type": "markdown",
      "metadata": {
        "id": "dHQpA3O-m2KW"
      },
      "source": [
        "Thus, it is observed from the visualization that proportion of default and non default female clients is more among all the clients of the bank. "
      ]
    },
    {
      "cell_type": "code",
      "metadata": {
        "colab": {
          "base_uri": "https://localhost:8080/",
          "height": 318
        },
        "id": "IRSE_MMCoOtn",
        "outputId": "084e35f5-90a8-45fc-b62a-3ffbbdc5a823"
      },
      "source": [
        "#BAR PLOT FOR CLIENT TYPE (DEFAULT OR NON DEFAULT) UNDER EACH MARRIAGE STATUS CATEGORY\n",
        "pd.crosstab(data.MARRIAGE,data.Y).plot(kind='bar')\n",
        "plt.title('CLIENT TYPE (DEFAULT OR NON DEFAULT) UNDER EACH MARRIAGE STATUS CATEGORY[FIGURE 3]')\n",
        "plt.xlabel('Marriage status')\n",
        "plt.ylabel('Frequency of client type')"
      ],
      "execution_count": null,
      "outputs": [
        {
          "output_type": "execute_result",
          "data": {
            "text/plain": [
              "Text(0, 0.5, 'Frequency of client type')"
            ]
          },
          "metadata": {},
          "execution_count": 23
        },
        {
          "output_type": "display_data",
          "data": {
            "image/png": "[encoded data removed]",
            "text/plain": [
              "<Figure size 432x288 with 1 Axes>"
            ]
          },
          "metadata": {
            "needs_background": "light"
          }
        }
      ]
    },
    {
      "cell_type": "markdown",
      "metadata": {
        "id": "eWWDmq8snVEU"
      },
      "source": [
        "Thus, from figure 3 it is observed that most of the default clients are single."
      ]
    },
    {
      "cell_type": "code",
      "metadata": {
        "colab": {
          "base_uri": "https://localhost:8080/",
          "height": 318
        },
        "id": "TcG9WwvhYiAv",
        "outputId": "fa03e1ac-3bbe-4389-8bf1-0994fc86f4bd"
      },
      "source": [
        "#BAR PLOT FOR CLIENT TYPE (DEFAULT OR NON DEFAULT) UNDER EACH EDUCATION LEVEL\n",
        "pd.crosstab(data.EDUCATION,data.Y).plot(kind='bar')\n",
        "plt.title('CLIENT TYPE (DEFAULT OR NON DEFAULT) UNDER EACH EDUCATION LEVEL[FIGURE 4]')\n",
        "plt.xlabel('Education level')\n",
        "plt.ylabel('Frequency of client type')"
      ],
      "execution_count": null,
      "outputs": [
        {
          "output_type": "execute_result",
          "data": {
            "text/plain": [
              "Text(0, 0.5, 'Frequency of client type')"
            ]
          },
          "metadata": {},
          "execution_count": 24
        },
        {
          "output_type": "display_data",
          "data": {
            "image/png": "[encoded data removed]",
            "text/plain": [
              "<Figure size 432x288 with 1 Axes>"
            ]
          },
          "metadata": {
            "needs_background": "light"
          }
        }
      ]
    },
    {
      "cell_type": "markdown",
      "metadata": {
        "id": "ElM8OyQYnyJc"
      },
      "source": [
        "From figure 4 we observe that most of the default clients are university student this could be due to the level of irresponsibilty students have"
      ]
    },
    {
      "cell_type": "code",
      "metadata": {
        "colab": {
          "base_uri": "https://localhost:8080/",
          "height": 318
        },
        "id": "7HRBZI9ionHs",
        "outputId": "937a8b0a-802b-46de-99ed-cddb18b863e1"
      },
      "source": [
        "#Stacked Bar Chart of education vs client type\n",
        "table=pd.crosstab(data.EDUCATION,data.Y)\n",
        "table.div(table.sum(1).astype(float), axis=0).plot(kind='bar', stacked=True)\n",
        "plt.title('STACKED BAR CHART OF EDUCATION VS CLIENT TYPE [FIGURE 5]')\n",
        "plt.xlabel('Education')\n",
        "plt.ylabel('Proportion of client type')"
      ],
      "execution_count": null,
      "outputs": [
        {
          "output_type": "execute_result",
          "data": {
            "text/plain": [
              "Text(0, 0.5, 'Proportion of client type')"
            ]
          },
          "metadata": {},
          "execution_count": 25
        },
        {
          "output_type": "display_data",
          "data": {
            "image/png": "[encoded data removed]",
            "text/plain": [
              "<Figure size 432x288 with 1 Axes>"
            ]
          },
          "metadata": {
            "needs_background": "light"
          }
        }
      ]
    },
    {
      "cell_type": "markdown",
      "metadata": {
        "id": "N3glu8gPoR7l"
      },
      "source": [
        "From figure 5 we observe that the proportion of default clients of bank of Taiwan studies in high school."
      ]
    },
    {
      "cell_type": "code",
      "metadata": {
        "colab": {
          "base_uri": "https://localhost:8080/",
          "height": 312
        },
        "id": "ptbYGvdpp0Tw",
        "outputId": "ba2e3425-e6f0-4e0e-e2cb-40321d25942a"
      },
      "source": [
        "#Histogram of limit balance of a client\n",
        "data.LIMIT_BAL.hist()\n",
        "plt.title('HISTOGRAM OF CLIENTS LIMIT BALANCE[FIGURE 6]')\n",
        "plt.xlabel('Limit balance')\n",
        "plt.ylabel('Frequency')\n"
      ],
      "execution_count": null,
      "outputs": [
        {
          "output_type": "execute_result",
          "data": {
            "text/plain": [
              "Text(0, 0.5, 'Frequency')"
            ]
          },
          "metadata": {},
          "execution_count": 26
        },
        {
          "output_type": "display_data",
          "data": {
            "image/png": "[encoded data removed]",
            "text/plain": [
              "<Figure size 432x288 with 1 Axes>"
            ]
          },
          "metadata": {
            "needs_background": "light"
          }
        }
      ]
    },
    {
      "cell_type": "markdown",
      "metadata": {
        "id": "JEh04Gtvol24"
      },
      "source": [
        "From, figure 6 we observe that the client's limit balance is positively skewed."
      ]
    },
    {
      "cell_type": "code",
      "metadata": {
        "colab": {
          "base_uri": "https://localhost:8080/",
          "height": 312
        },
        "id": "bv58AQELqYhz",
        "outputId": "422f3ff3-c739-450c-de45-edff9aa2fb9d"
      },
      "source": [
        "#Histogram of client's age\n",
        "data.AGE.hist()\n",
        "plt.title('HISTOGRAM OF CLIENTS AGE[FIGURE 7]')\n",
        "plt.xlabel('Age')\n",
        "plt.ylabel('Frequency')"
      ],
      "execution_count": null,
      "outputs": [
        {
          "output_type": "execute_result",
          "data": {
            "text/plain": [
              "Text(0, 0.5, 'Frequency')"
            ]
          },
          "metadata": {},
          "execution_count": 27
        },
        {
          "output_type": "display_data",
          "data": {
            "image/png": "[encoded data removed]",
            "text/plain": [
              "<Figure size 432x288 with 1 Axes>"
            ]
          },
          "metadata": {
            "needs_background": "light"
          }
        }
      ]
    },
    {
      "cell_type": "markdown",
      "metadata": {
        "id": "RRRm5P0Po_aw"
      },
      "source": [
        "From, figure 6 we observe that the client's age is also positively skewed."
      ]
    },
    {
      "cell_type": "code",
      "metadata": {
        "colab": {
          "base_uri": "https://localhost:8080/",
          "height": 585
        },
        "id": "NU1QwIJYtJnC",
        "outputId": "099926b2-1f5a-488b-9cd9-44a722bbf893"
      },
      "source": [
        "#Plotting a box plot for Limit Balance.\n",
        "fig=plt.figure(figsize=(20,8))\n",
        "ax=fig.add_subplot(122)\n",
        "sns.boxplot(data=data['LIMIT_BAL'],palette='pastel',width=0.15,ax=ax)\n",
        "ax.set_title('Box Plot: Limit Balance of a client [Figure 8]')\n",
        "ax.set_xlabel('Limit Balance')\n",
        "ax.set_ylabel('Limit Balance')\n",
        "plt.tight_layout()\n",
        "plt.show()"
      ],
      "execution_count": null,
      "outputs": [
        {
          "output_type": "display_data",
          "data": {
            "image/png": "[encoded data removed]",
            "text/plain": [
              "<Figure size 1440x576 with 1 Axes>"
            ]
          },
          "metadata": {
            "needs_background": "light"
          }
        }
      ]
    },
    {
      "cell_type": "markdown",
      "metadata": {
        "id": "WjeaCbPwtelj"
      },
      "source": [
        "Thus we observe that there exist outliers in the datase of limit balance."
      ]
    },
    {
      "cell_type": "code",
      "metadata": {
        "colab": {
          "base_uri": "https://localhost:8080/",
          "height": 585
        },
        "id": "NcgSma0atnZN",
        "outputId": "21e1a75b-079e-4985-f2ee-37155b1326d3"
      },
      "source": [
        "#Plotting a box plot Age.\n",
        "fig=plt.figure(figsize=(20,8))\n",
        "ax=fig.add_subplot(122)\n",
        "sns.boxplot(data=data['AGE'],palette='pastel',width=0.15,ax=ax)\n",
        "ax.set_title('Box Plot: Age of a client [Figure 9]')\n",
        "ax.set_xlabel('Age')\n",
        "ax.set_ylabel('Age')\n",
        "plt.tight_layout()\n",
        "plt.show()"
      ],
      "execution_count": null,
      "outputs": [
        {
          "output_type": "display_data",
          "data": {
            "image/png": "[encoded data removed]",
            "text/plain": [
              "<Figure size 1440x576 with 1 Axes>"
            ]
          },
          "metadata": {
            "needs_background": "light"
          }
        }
      ]
    },
    {
      "cell_type": "markdown",
      "metadata": {
        "id": "5bQvBwgSt-20"
      },
      "source": [
        "Thus we observe that there exist outliers in the datase of limit balance."
      ]
    },
    {
      "cell_type": "code",
      "metadata": {
        "id": "_homSi1FtqKm",
        "colab": {
          "base_uri": "https://localhost:8080/",
          "height": 585
        },
        "outputId": "ff5235a8-1345-48d2-f143-20858f50ea6e"
      },
      "source": [
        "#Plotting a box plot for Limit Balance.\n",
        "fig=plt.figure(figsize=(20,8))\n",
        "ax=fig.add_subplot(122)\n",
        "sns.boxplot(data=data['LIMIT_BAL'],palette='pastel',width=0.15,ax=ax)\n",
        "ax.set_title('Box Plot: Limit Balance of a client [Figure 11]')\n",
        "ax.set_xlabel('Limit Balance')\n",
        "ax.set_ylabel('Limit Balance')\n",
        "plt.tight_layout()\n",
        "plt.show()"
      ],
      "execution_count": null,
      "outputs": [
        {
          "output_type": "display_data",
          "data": {
            "image/png": "[encoded data removed]",
            "text/plain": [
              "<Figure size 1440x576 with 1 Axes>"
            ]
          },
          "metadata": {
            "needs_background": "light"
          }
        }
      ]
    },
    {
      "cell_type": "markdown",
      "metadata": {
        "id": "xeU62Z24zYoO"
      },
      "source": [
        "**ANALYSIS**"
      ]
    },
    {
      "cell_type": "markdown",
      "metadata": {
        "id": "esWkFwbRzel5"
      },
      "source": [
        "Here, in our dataset it is not needed to create a dummy variables since the categorical variables are already existing in numerical or boolean form."
      ]
    },
    {
      "cell_type": "code",
      "metadata": {
        "id": "SOfm1Sup1ZmR"
      },
      "source": [
        "#to remove the variables that are not needed\n",
        "data.drop('ID',axis='columns', inplace=True)"
      ],
      "execution_count": null,
      "outputs": []
    },
    {
      "cell_type": "code",
      "metadata": {
        "id": "_yaiUNoX2qi3"
      },
      "source": [
        "#Diving the variables into the set of x (independent variable) an y (dependent variable)\n",
        "X = data.loc[:, data.columns != 'Y']\n",
        "y = data.loc[:, data.columns == 'Y']"
      ],
      "execution_count": null,
      "outputs": []
    },
    {
      "cell_type": "code",
      "metadata": {
        "id": "GgdlmCdOUgnz"
      },
      "source": [
        "#Dividing the dataset into training and testing set\n",
        "from sklearn.model_selection import train_test_split\n",
        "X_train, X_test, y_train, y_test = train_test_split(X,y, test_size = 0.2, random_state = 10)"
      ],
      "execution_count": null,
      "outputs": []
    },
    {
      "cell_type": "markdown",
      "metadata": {
        "id": "oZgNXYUdB8Fz"
      },
      "source": [
        "SUPPORT VECTOR MACHINE: KERNEL-rbf"
      ]
    },
    {
      "cell_type": "code",
      "metadata": {
        "colab": {
          "base_uri": "https://localhost:8080/"
        },
        "id": "ajFzQb6umKyI",
        "outputId": "222ea412-d049-4afe-fbc2-8d886202da0e"
      },
      "source": [
        "#We create an instance of SVM and fit out data. We do not scale our data since we want to plot the support vectors\n",
        "#C = 1.0 # SVM regularization parameter\n",
        "svc1 = SVC(kernel='rbf', C = 0.1,gamma=0.1)\n",
        "svc1.fit(X_train, y_train)"
      ],
      "execution_count": null,
      "outputs": [
        {
          "output_type": "stream",
          "name": "stderr",
          "text": [
            "/usr/local/lib/python3.7/dist-packages/sklearn/utils/validation.py:985: DataConversionWarning: A column-vector y was passed when a 1d array was expected. Please change the shape of y to (n_samples, ), for example using ravel().\n",
            "  y = column_or_1d(y, warn=True)\n"
          ]
        },
        {
          "output_type": "execute_result",
          "data": {
            "text/plain": [
              "SVC(C=0.1, gamma=0.1)"
            ]
          },
          "metadata": {},
          "execution_count": 34
        }
      ]
    },
    {
      "cell_type": "markdown",
      "metadata": {
        "id": "3irrHpFSBjK4"
      },
      "source": [
        "Computing the accuracy of SVM with rbf kernel."
      ]
    },
    {
      "cell_type": "code",
      "metadata": {
        "id": "piB_a9CUHrCU",
        "colab": {
          "base_uri": "https://localhost:8080/"
        },
        "outputId": "d29be442-42bf-41e7-ec56-b04d51dc5bd4"
      },
      "source": [
        "#Obtaining the accuracy of SVM with rbf kernel\n",
        "y_pred = svc1.predict(X_test)\n",
        "print('Accuracy of SVM on test set: {:.2f}'.format(svc1.score(X_test, y_test)))#score() gives classification accuracy measure"
      ],
      "execution_count": null,
      "outputs": [
        {
          "output_type": "stream",
          "name": "stdout",
          "text": [
            "Accuracy of SVM on test set: 0.78\n"
          ]
        }
      ]
    },
    {
      "cell_type": "markdown",
      "metadata": {
        "id": "ejsaI96OCpqt"
      },
      "source": [
        "Here, it is seen that the accuracy is 0.78 i.e. 78%  thus we can say that the model is only 78% accurate in predicting whether the client of Taiwan bank is default or not."
      ]
    },
    {
      "cell_type": "code",
      "metadata": {
        "id": "W6sRvHOhH64X",
        "colab": {
          "base_uri": "https://localhost:8080/"
        },
        "outputId": "bb6e6c54-f5f4-4a63-a602-9efcfdbdddb7"
      },
      "source": [
        "#Obtaining the accuracy of logistic regression\n",
        "from sklearn.metrics import confusion_matrix\n",
        "confusion_matrix = confusion_matrix(y_test, y_pred)\n",
        "print(confusion_matrix)"
      ],
      "execution_count": null,
      "outputs": [
        {
          "output_type": "stream",
          "name": "stdout",
          "text": [
            "[[1704    0]\n",
            " [ 492    0]]\n"
          ]
        }
      ]
    },
    {
      "cell_type": "markdown",
      "metadata": {
        "id": "1XCapoKxDCGV"
      },
      "source": [
        "From, the above confusion matrix we conclude that 4683 (4683+0) correct predictions are made using the model and 1317(1317+0) wrong predictions are made. But we know that we have in total 30000 observations thus, our model predicts more of correct results."
      ]
    },
    {
      "cell_type": "code",
      "metadata": {
        "colab": {
          "base_uri": "https://localhost:8080/"
        },
        "id": "A7Nht6_-WUKD",
        "outputId": "5faa5a7f-372b-4666-fd05-23816c1be1c3"
      },
      "source": [
        "#Obtaining the confusion matrix to check for the accuracy\n",
        "from sklearn.metrics import classification_report\n",
        "print(classification_report(y_test, y_pred))"
      ],
      "execution_count": null,
      "outputs": [
        {
          "output_type": "stream",
          "name": "stdout",
          "text": [
            "              precision    recall  f1-score   support\n",
            "\n",
            "        -1.0       0.78      1.00      0.87      1704\n",
            "         1.0       0.00      0.00      0.00       492\n",
            "\n",
            "    accuracy                           0.78      2196\n",
            "   macro avg       0.39      0.50      0.44      2196\n",
            "weighted avg       0.60      0.78      0.68      2196\n",
            "\n"
          ]
        },
        {
          "output_type": "stream",
          "name": "stderr",
          "text": [
            "/usr/local/lib/python3.7/dist-packages/sklearn/metrics/_classification.py:1308: UndefinedMetricWarning: Precision and F-score are ill-defined and being set to 0.0 in labels with no predicted samples. Use `zero_division` parameter to control this behavior.\n",
            "  _warn_prf(average, modifier, msg_start, len(result))\n",
            "/usr/local/lib/python3.7/dist-packages/sklearn/metrics/_classification.py:1308: UndefinedMetricWarning: Precision and F-score are ill-defined and being set to 0.0 in labels with no predicted samples. Use `zero_division` parameter to control this behavior.\n",
            "  _warn_prf(average, modifier, msg_start, len(result))\n",
            "/usr/local/lib/python3.7/dist-packages/sklearn/metrics/_classification.py:1308: UndefinedMetricWarning: Precision and F-score are ill-defined and being set to 0.0 in labels with no predicted samples. Use `zero_division` parameter to control this behavior.\n",
            "  _warn_prf(average, modifier, msg_start, len(result))\n"
          ]
        }
      ]
    },
    {
      "cell_type": "markdown",
      "metadata": {
        "id": "LJnrSGKaDHOx"
      },
      "source": [
        "It is observed from the above classification report that the precision of a classifier is 0.78 with respect to classes of non- default clients and 0 with respect to classes of default clients which means the ability of the classifier to not make wrong predictions in case of non-default client is 82% which is good and in case of default client is 0% which is not a good value since it indicates that the ability of classifier to not make wrong classification based on default clients is 0%.\n",
        "\n",
        "It is also observed that the recall for the classifier is  1 with respect to classes of non-default clients and 0 with respect to default clients i.e. the model is 100% good at predicting making the correct predictions in case of non-default clients and classifier is not at all good at classifying the default clients.\n",
        "\n",
        "We know that the f1 score is helpful in understanding the overall performance of the model by taking into account both precision and recall and from the above classification report we observe that the f1-score with respect to non-default and default clients are 0.87 and 0 respectively which indicates that more weightage is given to precision than recall that is the classifier will be more likely to not make wrong predictions in case of non-default clients and more weightage is given to recall than precision that is the classifier will be more likely to make correct predictions in case of default clients.\n",
        "\n"
      ]
    },
    {
      "cell_type": "markdown",
      "metadata": {
        "id": "SHG0CRQaDHw0"
      },
      "source": [
        "SUPPORT VECTOR MACHINE: KERNEAL-sigmoid"
      ]
    },
    {
      "cell_type": "code",
      "metadata": {
        "colab": {
          "base_uri": "https://localhost:8080/"
        },
        "id": "8zyV02sCSwqO",
        "outputId": "ebc750c8-0a74-4082-fb5a-aa8dc9b6c71e"
      },
      "source": [
        "#We create an instance of SVM and fit out data. We do not scale our data since we want to plot the support vectors\n",
        "#C = 1.0 # SVM regularization parameter\n",
        "svc2 = SVC(kernel='sigmoid', C = 0.1,gamma=0.1)\n",
        "svc2.fit(X, y)"
      ],
      "execution_count": null,
      "outputs": [
        {
          "output_type": "stream",
          "name": "stderr",
          "text": [
            "/usr/local/lib/python3.7/dist-packages/sklearn/utils/validation.py:985: DataConversionWarning: A column-vector y was passed when a 1d array was expected. Please change the shape of y to (n_samples, ), for example using ravel().\n",
            "  y = column_or_1d(y, warn=True)\n"
          ]
        },
        {
          "output_type": "execute_result",
          "data": {
            "text/plain": [
              "SVC(C=0.1, gamma=0.1, kernel='sigmoid')"
            ]
          },
          "metadata": {},
          "execution_count": 38
        }
      ]
    },
    {
      "cell_type": "markdown",
      "metadata": {
        "id": "a3kQaS3CP4Wo"
      },
      "source": [
        "Computing the accuracy of SVM with sigmoid kernel."
      ]
    },
    {
      "cell_type": "code",
      "metadata": {
        "id": "4qgFWZNTPziT",
        "colab": {
          "base_uri": "https://localhost:8080/"
        },
        "outputId": "e8f1dbf5-429d-4c15-bdab-3392b6ed2e6f"
      },
      "source": [
        "#Obtaining the accuracy of svm with sigmoid kernel\n",
        "y_pred1 = svc2.predict(X_test)\n",
        "print('Accuracy of lsvm with sigmoid kernel classifier on test set: {:.2f}'.format(svc1.score(X_test, y_test)))#score() gives classification accuracy measure"
      ],
      "execution_count": null,
      "outputs": [
        {
          "output_type": "stream",
          "name": "stdout",
          "text": [
            "Accuracy of lsvm with sigmoid kernel classifier on test set: 0.78\n"
          ]
        }
      ]
    },
    {
      "cell_type": "markdown",
      "metadata": {
        "id": "qTOgLlRYfLFD"
      },
      "source": [
        "Here, it is seen that the accuracy is 0.78 i.e. 78%  thus we can say that the model is only 78% accurate in predicting whether the client of Taiwan bank is default or not."
      ]
    },
    {
      "cell_type": "code",
      "metadata": {
        "id": "5ltIcXfSSMW2",
        "colab": {
          "base_uri": "https://localhost:8080/"
        },
        "outputId": "553f0183-2afd-4f5f-d520-cb5fc64f0af0"
      },
      "source": [
        "#Obtaining the accuracy of logistic regression\n",
        "from sklearn.metrics import confusion_matrix\n",
        "confusion_matrix = confusion_matrix(y_test, y_pred1)\n",
        "print(confusion_matrix)"
      ],
      "execution_count": null,
      "outputs": [
        {
          "output_type": "stream",
          "name": "stdout",
          "text": [
            "[[1704    0]\n",
            " [ 492    0]]\n"
          ]
        }
      ]
    },
    {
      "cell_type": "markdown",
      "metadata": {
        "id": "7qepPP7Qfyq0"
      },
      "source": [
        "From, the above confusion matrix we conclude that 4683 (4683+0) correct predictions are made using the model and 1317 (1317+0) wrong predictions are made. But we know that we have in total 30000 observations thus, our model predicts more correct results."
      ]
    },
    {
      "cell_type": "code",
      "metadata": {
        "id": "co-WzfquSRos",
        "colab": {
          "base_uri": "https://localhost:8080/"
        },
        "outputId": "397a132c-146a-4f5c-9b28-0e4ad2574b12"
      },
      "source": [
        "#Obtaining the confusion matrix to check for the accuracy\n",
        "from sklearn.metrics import classification_report\n",
        "print(classification_report(y_test, y_pred1))"
      ],
      "execution_count": null,
      "outputs": [
        {
          "output_type": "stream",
          "name": "stdout",
          "text": [
            "              precision    recall  f1-score   support\n",
            "\n",
            "        -1.0       0.78      1.00      0.87      1704\n",
            "         1.0       0.00      0.00      0.00       492\n",
            "\n",
            "    accuracy                           0.78      2196\n",
            "   macro avg       0.39      0.50      0.44      2196\n",
            "weighted avg       0.60      0.78      0.68      2196\n",
            "\n"
          ]
        },
        {
          "output_type": "stream",
          "name": "stderr",
          "text": [
            "/usr/local/lib/python3.7/dist-packages/sklearn/metrics/_classification.py:1308: UndefinedMetricWarning: Precision and F-score are ill-defined and being set to 0.0 in labels with no predicted samples. Use `zero_division` parameter to control this behavior.\n",
            "  _warn_prf(average, modifier, msg_start, len(result))\n",
            "/usr/local/lib/python3.7/dist-packages/sklearn/metrics/_classification.py:1308: UndefinedMetricWarning: Precision and F-score are ill-defined and being set to 0.0 in labels with no predicted samples. Use `zero_division` parameter to control this behavior.\n",
            "  _warn_prf(average, modifier, msg_start, len(result))\n",
            "/usr/local/lib/python3.7/dist-packages/sklearn/metrics/_classification.py:1308: UndefinedMetricWarning: Precision and F-score are ill-defined and being set to 0.0 in labels with no predicted samples. Use `zero_division` parameter to control this behavior.\n",
            "  _warn_prf(average, modifier, msg_start, len(result))\n"
          ]
        }
      ]
    },
    {
      "cell_type": "markdown",
      "metadata": {
        "id": "HHX06enAgmK0"
      },
      "source": [
        "It is observed from the above classification report that the precision of a classifier is 0.78 with respect to classes of non- default clients and 0 with respect to classes of default clients which means the ability of the classifier to not make wrong predictions in case of non-default client is 82% which is good and in case of default client is 0% which is not a good value since it indicates that the ability of classifier to not make wrong classification based on default clients is 0%.\n",
        "\n",
        "It is also observed that the recall for the classifier is  1 with respect to classes of non-default clients and 0 with respect to default clients i.e. the model is 100% good at predicting making the correct predictions in case of non-default clients and classifier is not at all good at classifying the default clients.\n",
        "\n",
        "We know that the f1 score is helpful in understanding the overall performance of the model by taking into account both precision and recall and from the above classification report we observe that the f1-score with respect to non-default and default clients are 0.87 and 0 respectively which indicates that more weightage is given to precision than recall that is the classifier will be more likely to not make wrong predictions in case of non-default clients and more weightage is given to recall than precision that is the classifier will be more likely to make correct predictions in case of default clients.\n",
        "\n"
      ]
    },
    {
      "cell_type": "markdown",
      "metadata": {
        "id": "ltPtOjpjhbJC"
      },
      "source": [
        "**CONCLUSION**"
      ]
    },
    {
      "cell_type": "markdown",
      "metadata": {
        "id": "fE1OqzOzhbzg"
      },
      "source": [
        "From the above comparison we observe that we get equal accuracy on using both the kernels where as theoretically rbf is expected to give more accuracy than sigmoid. \n",
        "\n",
        "The accuracy obtained for the classifiers using either of the kernel is 78% while we cannot vclaim that the clssifier is good only on the basis of accuracy because on observing the classification result it is observed that the classifier has like 0% chance of classifying the default clients correctly which is not a good indication thus we may conclude that the classifier is not very accurate."
      ]
    }
  ]
}