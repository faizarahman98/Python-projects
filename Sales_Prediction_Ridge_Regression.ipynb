{
  "nbformat": 4,
  "nbformat_minor": 0,
  "metadata": {
    "colab": {
      "provenance": []
    },
    "kernelspec": {
      "name": "python3",
      "display_name": "Python 3"
    },
    "language_info": {
      "name": "python"
    }
  },
  "cells": [
    {
      "cell_type": "markdown",
      "metadata": {
        "id": "su9HQXgTSTqZ"
      },
      "source": [
        "**TITLE: PREDICTION OF SALES BASED ON THE MONEY SPENT ON TV, RADIO, AND NEWSPAPER FOR MARKETING** "
      ]
    },
    {
      "cell_type": "markdown",
      "metadata": {
        "id": "uZbQ4otSTRO1"
      },
      "source": [
        "**INTRODUCTION**"
      ]
    },
    {
      "cell_type": "markdown",
      "metadata": {
        "id": "J2H-B5cgTYNz"
      },
      "source": [
        "Supervised learning is the machine learning task of learning a function that maps an input to an output based on example input-output pairs. It infers a function from labeled training data consisting of a set of training examples. In supervised learning, each example is a pair consisting of an input object (typically a vector) and a desired output value (also called the supervisory signal). A supervised learning algorithm analyzes the training data and produces an inferred function, which can be used for mapping new examples. An optimal scenario will allow for the algorithm to correctly determine the class labels for unseen instances. Here we will be using linear regression for prediction which is one of the most widely used Supervised ML algorithm.\n",
        "\n",
        "Ridge regression is also a linear model for regression, so the formula it uses to make predictions is the same one used for ordinary least squares. In ridge regression, though, the coefficients (Beta) are chosen not only so that they predict well on the training data, but also to fit an additional constraint. We also want the magnitude of coefficients to be as small as possible; in other words, all entries of Beta should be close to zero. Intuitively, this means each feature should have as little effect on the outcome as possible (which translates to having a small slope), while still predicting well. This constraint is an example of what is called regularization. Regularization means explicitly\n",
        "restricting a model to avoid overfitting. The particular kind used by ridge regression is known as L2 regularization.\n",
        "\n",
        "Linear Regression is a linear approach to model the relationship between a scalar response and one or more explanatory variables (also known as dependent and independent variables). The case of one explanatory variable is called simple linear regression; for more than one, the process is called multiple linear regression."
      ]
    },
    {
      "cell_type": "markdown",
      "metadata": {
        "id": "MnyPuCZ9TflA"
      },
      "source": [
        "**OBJECTIVES**"
      ]
    },
    {
      "cell_type": "markdown",
      "metadata": {
        "id": "Nyy18jICTknG"
      },
      "source": [
        "Here, our main objective is to \n",
        "\n",
        "a) Build a Multiple Linear Regression Model to predict sales based on the money spent on TV, Radio, and Newspaper for advertising using ridge regression.\n",
        "\n",
        "b) To make a comparative study between the results obtained using Ridge regression and Linear Regression.\n",
        "\n",
        "c) To perform the residual analysis."
      ]
    },
    {
      "cell_type": "markdown",
      "metadata": {
        "id": "uYuU_IKZUGq0"
      },
      "source": [
        "**PACKAGES AND LIBRARIES**"
      ]
    },
    {
      "cell_type": "code",
      "metadata": {
        "id": "t3hxg3TvRIVi"
      },
      "source": [
        "#Loading the pandas and numpy that will be used to handle the data.\n",
        "import pandas as pd\n",
        "import numpy as np\n",
        "\n",
        "#Loading matplotlib and seaborn which is required to perform the exploratory data analysis.\n",
        "import seaborn as sns \n",
        "import matplotlib.pyplot as plt\n",
        "\n",
        "#Importing the packages required for ridge regression.\n",
        "from numpy import arange\n",
        "from pandas import read_csv\n",
        "from sklearn.linear_model import RidgeCV\n",
        "from sklearn.model_selection import RepeatedKFold\n",
        "\n",
        "#Importing OLS, Ridge\n",
        "from sklearn.linear_model import LinearRegression, Ridge\n",
        "\n",
        "#Loading the functions required for model evaluation\n",
        "from sklearn.metrics import r2_score, mean_squared_error"
      ],
      "execution_count": null,
      "outputs": []
    },
    {
      "cell_type": "markdown",
      "metadata": {
        "id": "wY0IEPISUXGw"
      },
      "source": [
        "\n",
        "**DATA DESCRIPTION**"
      ]
    },
    {
      "cell_type": "markdown",
      "metadata": {
        "id": "b9xajSZsUcOW"
      },
      "source": [
        "Here in this practical we are considereing the marketing dataset which is a data frame containing the impact of three advertising medias (TV, Radio, Newspaper) on sales. Data are the advertising budget in thousands of dollars along with the sales. The advertising experiment has been repeated 200 times.\n",
        "\n",
        "Here, our response variable is sales and regressors are advertising budget of advertising medias TV, Radio, and Newspaper.\n",
        "\n",
        "\n",
        "The dataset consists of records of 200 observations. the different variables used for buiding the regression model from the dataset are:\n",
        "\n",
        "\n",
        "**Depentent variable-**\n",
        "y: Sales of advertising medias.    \n",
        "**Independent variable-**         \n",
        "x1: Money spent on TV for advertising.       \n",
        "x2: Money spent on Radio for advertising.                            \n",
        "x3: Money spent on Newspaper for advertising.                      \n",
        "           \n"
      ]
    },
    {
      "cell_type": "code",
      "metadata": {
        "colab": {
          "base_uri": "https://localhost:8080/",
          "height": 419
        },
        "id": "ukIpddBRRIBS",
        "outputId": "cd0380e0-04c1-400b-b985-7b95b3561157"
      },
      "source": [
        "#Loading the required dataset.\n",
        "advertising=pd.read_csv(\"/content/advertising.csv\")\n",
        "\n",
        "#Viewing 'advertising' data set.\n",
        "advertising"
      ],
      "execution_count": null,
      "outputs": [
        {
          "output_type": "execute_result",
          "data": {
            "text/html": [
              "<div>\n",
              "<style scoped>\n",
              "    .dataframe tbody tr th:only-of-type {\n",
              "        vertical-align: middle;\n",
              "    }\n",
              "\n",
              "    .dataframe tbody tr th {\n",
              "        vertical-align: top;\n",
              "    }\n",
              "\n",
              "    .dataframe thead th {\n",
              "        text-align: right;\n",
              "    }\n",
              "</style>\n",
              "<table border=\"1\" class=\"dataframe\">\n",
              "  <thead>\n",
              "    <tr style=\"text-align: right;\">\n",
              "      <th></th>\n",
              "      <th>TV</th>\n",
              "      <th>Radio</th>\n",
              "      <th>Newspaper</th>\n",
              "      <th>Sales</th>\n",
              "    </tr>\n",
              "  </thead>\n",
              "  <tbody>\n",
              "    <tr>\n",
              "      <th>0</th>\n",
              "      <td>230.1</td>\n",
              "      <td>37.8</td>\n",
              "      <td>69.2</td>\n",
              "      <td>22.1</td>\n",
              "    </tr>\n",
              "    <tr>\n",
              "      <th>1</th>\n",
              "      <td>44.5</td>\n",
              "      <td>39.3</td>\n",
              "      <td>45.1</td>\n",
              "      <td>10.4</td>\n",
              "    </tr>\n",
              "    <tr>\n",
              "      <th>2</th>\n",
              "      <td>17.2</td>\n",
              "      <td>45.9</td>\n",
              "      <td>69.3</td>\n",
              "      <td>12.0</td>\n",
              "    </tr>\n",
              "    <tr>\n",
              "      <th>3</th>\n",
              "      <td>151.5</td>\n",
              "      <td>41.3</td>\n",
              "      <td>58.5</td>\n",
              "      <td>16.5</td>\n",
              "    </tr>\n",
              "    <tr>\n",
              "      <th>4</th>\n",
              "      <td>180.8</td>\n",
              "      <td>10.8</td>\n",
              "      <td>58.4</td>\n",
              "      <td>17.9</td>\n",
              "    </tr>\n",
              "    <tr>\n",
              "      <th>...</th>\n",
              "      <td>...</td>\n",
              "      <td>...</td>\n",
              "      <td>...</td>\n",
              "      <td>...</td>\n",
              "    </tr>\n",
              "    <tr>\n",
              "      <th>195</th>\n",
              "      <td>38.2</td>\n",
              "      <td>3.7</td>\n",
              "      <td>13.8</td>\n",
              "      <td>7.6</td>\n",
              "    </tr>\n",
              "    <tr>\n",
              "      <th>196</th>\n",
              "      <td>94.2</td>\n",
              "      <td>4.9</td>\n",
              "      <td>8.1</td>\n",
              "      <td>14.0</td>\n",
              "    </tr>\n",
              "    <tr>\n",
              "      <th>197</th>\n",
              "      <td>177.0</td>\n",
              "      <td>9.3</td>\n",
              "      <td>6.4</td>\n",
              "      <td>14.8</td>\n",
              "    </tr>\n",
              "    <tr>\n",
              "      <th>198</th>\n",
              "      <td>283.6</td>\n",
              "      <td>42.0</td>\n",
              "      <td>66.2</td>\n",
              "      <td>25.5</td>\n",
              "    </tr>\n",
              "    <tr>\n",
              "      <th>199</th>\n",
              "      <td>232.1</td>\n",
              "      <td>8.6</td>\n",
              "      <td>8.7</td>\n",
              "      <td>18.4</td>\n",
              "    </tr>\n",
              "  </tbody>\n",
              "</table>\n",
              "<p>200 rows × 4 columns</p>\n",
              "</div>"
            ],
            "text/plain": [
              "        TV  Radio  Newspaper  Sales\n",
              "0    230.1   37.8       69.2   22.1\n",
              "1     44.5   39.3       45.1   10.4\n",
              "2     17.2   45.9       69.3   12.0\n",
              "3    151.5   41.3       58.5   16.5\n",
              "4    180.8   10.8       58.4   17.9\n",
              "..     ...    ...        ...    ...\n",
              "195   38.2    3.7       13.8    7.6\n",
              "196   94.2    4.9        8.1   14.0\n",
              "197  177.0    9.3        6.4   14.8\n",
              "198  283.6   42.0       66.2   25.5\n",
              "199  232.1    8.6        8.7   18.4\n",
              "\n",
              "[200 rows x 4 columns]"
            ]
          },
          "metadata": {},
          "execution_count": 313
        }
      ]
    },
    {
      "cell_type": "markdown",
      "metadata": {
        "id": "9UfL0816WiYY"
      },
      "source": [
        "**EXPLORATORY DATA ANALYSIS**"
      ]
    },
    {
      "cell_type": "code",
      "metadata": {
        "colab": {
          "base_uri": "https://localhost:8080/"
        },
        "id": "PX07eOOUWrTl",
        "outputId": "7595dca6-de3c-4ef1-b605-a0212f33f267"
      },
      "source": [
        "#Obtaining the dimension of the dataset.\n",
        "advertising.shape"
      ],
      "execution_count": null,
      "outputs": [
        {
          "output_type": "execute_result",
          "data": {
            "text/plain": [
              "(200, 4)"
            ]
          },
          "metadata": {},
          "execution_count": 314
        }
      ]
    },
    {
      "cell_type": "markdown",
      "metadata": {
        "id": "t0Y40tK3Wv6E"
      },
      "source": [
        "It is observed that the dataset comprises of 200 records and 4 columns(variables) which are described in the data description. "
      ]
    },
    {
      "cell_type": "code",
      "metadata": {
        "colab": {
          "base_uri": "https://localhost:8080/"
        },
        "id": "fbaeqyYTW0UT",
        "outputId": "fb54d313-6913-44f3-ca1d-34e6d16c3e6c"
      },
      "source": [
        "#Using info() function to understand if ther is any null values in the dataset.\n",
        "advertising.info()"
      ],
      "execution_count": null,
      "outputs": [
        {
          "output_type": "stream",
          "name": "stdout",
          "text": [
            "<class 'pandas.core.frame.DataFrame'>\n",
            "RangeIndex: 200 entries, 0 to 199\n",
            "Data columns (total 4 columns):\n",
            " #   Column     Non-Null Count  Dtype  \n",
            "---  ------     --------------  -----  \n",
            " 0   TV         200 non-null    float64\n",
            " 1   Radio      200 non-null    float64\n",
            " 2   Newspaper  200 non-null    float64\n",
            " 3   Sales      200 non-null    float64\n",
            "dtypes: float64(4)\n",
            "memory usage: 6.4 KB\n"
          ]
        }
      ]
    },
    {
      "cell_type": "markdown",
      "metadata": {
        "id": "_bUk4yNegEWl"
      },
      "source": [
        "From the above table it is observed that there does not exist any null value in the dataset hence we can further proceed with the analysis."
      ]
    },
    {
      "cell_type": "code",
      "metadata": {
        "colab": {
          "base_uri": "https://localhost:8080/",
          "height": 297
        },
        "id": "MEo9XhfAW4Wz",
        "outputId": "61495b1f-db30-44be-c518-c4cc88e248bb"
      },
      "source": [
        "#Obtaining the descriptive measure using describe() function\n",
        "advertising.describe()"
      ],
      "execution_count": null,
      "outputs": [
        {
          "output_type": "execute_result",
          "data": {
            "text/html": [
              "<div>\n",
              "<style scoped>\n",
              "    .dataframe tbody tr th:only-of-type {\n",
              "        vertical-align: middle;\n",
              "    }\n",
              "\n",
              "    .dataframe tbody tr th {\n",
              "        vertical-align: top;\n",
              "    }\n",
              "\n",
              "    .dataframe thead th {\n",
              "        text-align: right;\n",
              "    }\n",
              "</style>\n",
              "<table border=\"1\" class=\"dataframe\">\n",
              "  <thead>\n",
              "    <tr style=\"text-align: right;\">\n",
              "      <th></th>\n",
              "      <th>TV</th>\n",
              "      <th>Radio</th>\n",
              "      <th>Newspaper</th>\n",
              "      <th>Sales</th>\n",
              "    </tr>\n",
              "  </thead>\n",
              "  <tbody>\n",
              "    <tr>\n",
              "      <th>count</th>\n",
              "      <td>200.000000</td>\n",
              "      <td>200.000000</td>\n",
              "      <td>200.000000</td>\n",
              "      <td>200.000000</td>\n",
              "    </tr>\n",
              "    <tr>\n",
              "      <th>mean</th>\n",
              "      <td>147.042500</td>\n",
              "      <td>23.264000</td>\n",
              "      <td>30.554000</td>\n",
              "      <td>15.130500</td>\n",
              "    </tr>\n",
              "    <tr>\n",
              "      <th>std</th>\n",
              "      <td>85.854236</td>\n",
              "      <td>14.846809</td>\n",
              "      <td>21.778621</td>\n",
              "      <td>5.283892</td>\n",
              "    </tr>\n",
              "    <tr>\n",
              "      <th>min</th>\n",
              "      <td>0.700000</td>\n",
              "      <td>0.000000</td>\n",
              "      <td>0.300000</td>\n",
              "      <td>1.600000</td>\n",
              "    </tr>\n",
              "    <tr>\n",
              "      <th>25%</th>\n",
              "      <td>74.375000</td>\n",
              "      <td>9.975000</td>\n",
              "      <td>12.750000</td>\n",
              "      <td>11.000000</td>\n",
              "    </tr>\n",
              "    <tr>\n",
              "      <th>50%</th>\n",
              "      <td>149.750000</td>\n",
              "      <td>22.900000</td>\n",
              "      <td>25.750000</td>\n",
              "      <td>16.000000</td>\n",
              "    </tr>\n",
              "    <tr>\n",
              "      <th>75%</th>\n",
              "      <td>218.825000</td>\n",
              "      <td>36.525000</td>\n",
              "      <td>45.100000</td>\n",
              "      <td>19.050000</td>\n",
              "    </tr>\n",
              "    <tr>\n",
              "      <th>max</th>\n",
              "      <td>296.400000</td>\n",
              "      <td>49.600000</td>\n",
              "      <td>114.000000</td>\n",
              "      <td>27.000000</td>\n",
              "    </tr>\n",
              "  </tbody>\n",
              "</table>\n",
              "</div>"
            ],
            "text/plain": [
              "               TV       Radio   Newspaper       Sales\n",
              "count  200.000000  200.000000  200.000000  200.000000\n",
              "mean   147.042500   23.264000   30.554000   15.130500\n",
              "std     85.854236   14.846809   21.778621    5.283892\n",
              "min      0.700000    0.000000    0.300000    1.600000\n",
              "25%     74.375000    9.975000   12.750000   11.000000\n",
              "50%    149.750000   22.900000   25.750000   16.000000\n",
              "75%    218.825000   36.525000   45.100000   19.050000\n",
              "max    296.400000   49.600000  114.000000   27.000000"
            ]
          },
          "metadata": {},
          "execution_count": 316
        }
      ]
    },
    {
      "cell_type": "markdown",
      "metadata": {
        "id": "z7iCyUSHgmBa"
      },
      "source": [
        "Thus, from the above summary we interpret that radio is all having almost equal mean and median thus we may assume that the variable is normally distributed. We also obsereve from the table for the variables sales, radio, TV, Newspaper that their 75th percentile and maximum value does not have a huge difference thereforewe can assume that there do not exist any outliers in the dataset but we will verify the same in the later stage with the helpof box and whisker plot. On similar lines we can draw meaningful insights about the other variables using the summary table."
      ]
    },
    {
      "cell_type": "code",
      "metadata": {
        "colab": {
          "base_uri": "https://localhost:8080/",
          "height": 284
        },
        "id": "MFZqZJZYyIlF",
        "outputId": "945b0760-c8c8-422a-f3db-a1b676d14e8f"
      },
      "source": [
        "#Obtaining the heatmap of correlation coefficients of all the variables.\n",
        "sns.heatmap(advertising.corr(), annot = True)\n",
        "plt.title('Figure 1: Heatmap of correlation coefficients')\n",
        "plt.show()"
      ],
      "execution_count": null,
      "outputs": [
        {
          "output_type": "display_data",
          "data": {
            "image/png": "[encoded data removed]",
            "text/plain": [
              "<Figure size 432x288 with 2 Axes>"
            ]
          },
          "metadata": {}
        }
      ]
    },
    {
      "cell_type": "code",
      "metadata": {
        "colab": {
          "base_uri": "https://localhost:8080/",
          "height": 742
        },
        "id": "54bDQBYsy6WC",
        "outputId": "6b1df875-3ea6-4029-b8a1-bae73ada3507"
      },
      "source": [
        "#Obtaining the scatterplot matrix for all the variables under study.\n",
        "import seaborn as sns\n",
        "sns.set_theme(style=\"ticks\")\n",
        "sns.pairplot(advertising)\n",
        "plt.title('[Figure 2]')"
      ],
      "execution_count": null,
      "outputs": [
        {
          "output_type": "execute_result",
          "data": {
            "text/plain": [
              "Text(0.5, 1.0, '[Figure 2]')"
            ]
          },
          "metadata": {},
          "execution_count": 318
        },
        {
          "output_type": "display_data",
          "data": {
            "image/png": "[encoded data removed]",
            "text/plain": [
              "<Figure size 720x720 with 20 Axes>"
            ]
          },
          "metadata": {}
        }
      ]
    },
    {
      "cell_type": "markdown",
      "metadata": {
        "id": "WiAuJFCx3JX-"
      },
      "source": [
        "Thus, from the heat map and scatter plot matrix in figure 1 it is observed that  sales and TV is highly positively related with coefficient of correlation 0.901208, sales and Radio is positively related with coefficient of correlation 0.349631, and sales and Newspaper is  positively related with coefficient of correlation 0.157960. It is also observed that the correlation coefficient between regressors is less than 0.5 thus, there does not exist multicolinearity in the dataset.\t"
      ]
    },
    {
      "cell_type": "code",
      "metadata": {
        "colab": {
          "base_uri": "https://localhost:8080/",
          "height": 318
        },
        "id": "LlhprHoWwQR2",
        "outputId": "7b37c1f6-b6f1-4776-f3e3-402018d3079d"
      },
      "source": [
        "#Histogram for sales\n",
        "plt.hist(advertising['Sales'])\n",
        "plt.title('Figure 3: Histogram of sales')\n",
        "plt.xlabel('Sales')\n",
        "plt.ylabel('Sales')"
      ],
      "execution_count": null,
      "outputs": [
        {
          "output_type": "execute_result",
          "data": {
            "text/plain": [
              "Text(0, 0.5, 'Sales')"
            ]
          },
          "metadata": {},
          "execution_count": 319
        },
        {
          "output_type": "display_data",
          "data": {
            "image/png": "[encoded data removed]",
            "text/plain": [
              "<Figure size 432x288 with 1 Axes>"
            ]
          },
          "metadata": {}
        }
      ]
    },
    {
      "cell_type": "code",
      "metadata": {
        "colab": {
          "base_uri": "https://localhost:8080/",
          "height": 372
        },
        "id": "ElmuZDeFO45F",
        "outputId": "29a9f6e1-3967-4b6f-eacd-8503a1f2356d"
      },
      "source": [
        "#Distribution plot for sales\n",
        "sns.distplot(advertising['Sales'], color = 'purple')\n",
        "plt.title('Figure 4: Distribution plot of Sales')\n",
        "plt.xlabel('Sales')\n",
        "plt.ylabel('Sales')\n"
      ],
      "execution_count": null,
      "outputs": [
        {
          "output_type": "stream",
          "name": "stderr",
          "text": [
            "/usr/local/lib/python3.7/dist-packages/seaborn/distributions.py:2619: FutureWarning: `distplot` is a deprecated function and will be removed in a future version. Please adapt your code to use either `displot` (a figure-level function with similar flexibility) or `histplot` (an axes-level function for histograms).\n",
            "  warnings.warn(msg, FutureWarning)\n"
          ]
        },
        {
          "output_type": "execute_result",
          "data": {
            "text/plain": [
              "Text(0, 0.5, 'Sales')"
            ]
          },
          "metadata": {},
          "execution_count": 320
        },
        {
          "output_type": "display_data",
          "data": {
            "image/png": "[encoded data removed]",
            "text/plain": [
              "<Figure size 432x288 with 1 Axes>"
            ]
          },
          "metadata": {}
        }
      ]
    },
    {
      "cell_type": "markdown",
      "metadata": {
        "id": "NKaSAQ9L4Fyn"
      },
      "source": [
        "Thus, from the above histogram and distribution plot (Figure 2 & Figure 3 respectively) it is observed that the data of the sales of advertising media is symmetric thus sales is normally distributed."
      ]
    },
    {
      "cell_type": "code",
      "metadata": {
        "colab": {
          "base_uri": "https://localhost:8080/",
          "height": 1000
        },
        "id": "ZSn_rpOxc0Lm",
        "outputId": "b61f0425-2e1f-4dac-d179-eff526371931"
      },
      "source": [
        "#Here we obtain the boxplot for the variables to check for the outliers of the data.\n",
        "data=advertising.columns\n",
        "data\n",
        "value=data[0:4]\n",
        "value\n",
        "for i in value:\n",
        "  fig=plt.figure(figsize=(10,5))\n",
        "  ax=fig.add_subplot(122)\n",
        "  sns.boxplot(data=advertising[i],palette='deep',width=0.15,ax=ax)\n",
        "  ax.set_title(\"Figure 5: Box Plot of \"+i)\n",
        "  ax.set_xlabel(i)\n",
        "  ax.set_ylabel(i)\n",
        "  plt.tight_layout()\n",
        "  plt.show()"
      ],
      "execution_count": null,
      "outputs": [
        {
          "output_type": "display_data",
          "data": {
            "image/png": "[encoded data removed]",
            "text/plain": [
              "<Figure size 720x360 with 1 Axes>"
            ]
          },
          "metadata": {}
        },
        {
          "output_type": "display_data",
          "data": {
            "image/png": "[encoded data removed]",
            "text/plain": [
              "<Figure size 720x360 with 1 Axes>"
            ]
          },
          "metadata": {}
        },
        {
          "output_type": "display_data",
          "data": {
            "image/png": "[encoded data removed]",
            "text/plain": [
              "<Figure size 720x360 with 1 Axes>"
            ]
          },
          "metadata": {}
        },
        {
          "output_type": "display_data",
          "data": {
            "image/png": "[encoded data removed]",
            "text/plain": [
              "<Figure size 720x360 with 1 Axes>"
            ]
          },
          "metadata": {}
        }
      ]
    },
    {
      "cell_type": "markdown",
      "metadata": {
        "id": "y5LEI3m05V4s"
      },
      "source": [
        "Thus, from the above boxplots for each variable in (Figure 5) it is observed that there exists outliers data of budget associated with Newspaper."
      ]
    },
    {
      "cell_type": "markdown",
      "metadata": {
        "id": "wvonZ14Do-lT"
      },
      "source": [
        "Since, our main objective is to build a multiple linear regression model to predict sales based on the money spent on TV, Radio, and Newspaper for advertising using ridge regression and perform a comparative study with linear regression using ols method. Therefore, the multiple linear regression model is Y = β0 + β1*X1 + β2*X2 + β3*X3 + ε"
      ]
    },
    {
      "cell_type": "markdown",
      "metadata": {
        "id": "4qHx98-Z_E5l"
      },
      "source": [
        "**ANALYSIS**"
      ]
    },
    {
      "cell_type": "code",
      "metadata": {
        "id": "uxIkmPW5gZry"
      },
      "source": [
        "#Dropping the variables from the daataset which is not needed obtaining the subset of independent variables and asigning them to X.\n",
        "X=advertising.drop(['Sales'],axis=1)\n",
        "\n",
        "#Extracting the variable y i.e. independent variable.\n",
        "y=advertising[\"Sales\"]"
      ],
      "execution_count": null,
      "outputs": []
    },
    {
      "cell_type": "code",
      "metadata": {
        "colab": {
          "base_uri": "https://localhost:8080/",
          "height": 419
        },
        "id": "8XlUEKSSuEm4",
        "outputId": "94dab9ed-a1be-4cf4-8d62-7f74cdea633f"
      },
      "source": [
        "#Displaying all the independent variables.\n",
        "X"
      ],
      "execution_count": null,
      "outputs": [
        {
          "output_type": "execute_result",
          "data": {
            "text/html": [
              "<div>\n",
              "<style scoped>\n",
              "    .dataframe tbody tr th:only-of-type {\n",
              "        vertical-align: middle;\n",
              "    }\n",
              "\n",
              "    .dataframe tbody tr th {\n",
              "        vertical-align: top;\n",
              "    }\n",
              "\n",
              "    .dataframe thead th {\n",
              "        text-align: right;\n",
              "    }\n",
              "</style>\n",
              "<table border=\"1\" class=\"dataframe\">\n",
              "  <thead>\n",
              "    <tr style=\"text-align: right;\">\n",
              "      <th></th>\n",
              "      <th>TV</th>\n",
              "      <th>Radio</th>\n",
              "      <th>Newspaper</th>\n",
              "    </tr>\n",
              "  </thead>\n",
              "  <tbody>\n",
              "    <tr>\n",
              "      <th>0</th>\n",
              "      <td>230.1</td>\n",
              "      <td>37.8</td>\n",
              "      <td>69.2</td>\n",
              "    </tr>\n",
              "    <tr>\n",
              "      <th>1</th>\n",
              "      <td>44.5</td>\n",
              "      <td>39.3</td>\n",
              "      <td>45.1</td>\n",
              "    </tr>\n",
              "    <tr>\n",
              "      <th>2</th>\n",
              "      <td>17.2</td>\n",
              "      <td>45.9</td>\n",
              "      <td>69.3</td>\n",
              "    </tr>\n",
              "    <tr>\n",
              "      <th>3</th>\n",
              "      <td>151.5</td>\n",
              "      <td>41.3</td>\n",
              "      <td>58.5</td>\n",
              "    </tr>\n",
              "    <tr>\n",
              "      <th>4</th>\n",
              "      <td>180.8</td>\n",
              "      <td>10.8</td>\n",
              "      <td>58.4</td>\n",
              "    </tr>\n",
              "    <tr>\n",
              "      <th>...</th>\n",
              "      <td>...</td>\n",
              "      <td>...</td>\n",
              "      <td>...</td>\n",
              "    </tr>\n",
              "    <tr>\n",
              "      <th>195</th>\n",
              "      <td>38.2</td>\n",
              "      <td>3.7</td>\n",
              "      <td>13.8</td>\n",
              "    </tr>\n",
              "    <tr>\n",
              "      <th>196</th>\n",
              "      <td>94.2</td>\n",
              "      <td>4.9</td>\n",
              "      <td>8.1</td>\n",
              "    </tr>\n",
              "    <tr>\n",
              "      <th>197</th>\n",
              "      <td>177.0</td>\n",
              "      <td>9.3</td>\n",
              "      <td>6.4</td>\n",
              "    </tr>\n",
              "    <tr>\n",
              "      <th>198</th>\n",
              "      <td>283.6</td>\n",
              "      <td>42.0</td>\n",
              "      <td>66.2</td>\n",
              "    </tr>\n",
              "    <tr>\n",
              "      <th>199</th>\n",
              "      <td>232.1</td>\n",
              "      <td>8.6</td>\n",
              "      <td>8.7</td>\n",
              "    </tr>\n",
              "  </tbody>\n",
              "</table>\n",
              "<p>200 rows × 3 columns</p>\n",
              "</div>"
            ],
            "text/plain": [
              "        TV  Radio  Newspaper\n",
              "0    230.1   37.8       69.2\n",
              "1     44.5   39.3       45.1\n",
              "2     17.2   45.9       69.3\n",
              "3    151.5   41.3       58.5\n",
              "4    180.8   10.8       58.4\n",
              "..     ...    ...        ...\n",
              "195   38.2    3.7       13.8\n",
              "196   94.2    4.9        8.1\n",
              "197  177.0    9.3        6.4\n",
              "198  283.6   42.0       66.2\n",
              "199  232.1    8.6        8.7\n",
              "\n",
              "[200 rows x 3 columns]"
            ]
          },
          "metadata": {},
          "execution_count": 323
        }
      ]
    },
    {
      "cell_type": "code",
      "metadata": {
        "colab": {
          "base_uri": "https://localhost:8080/"
        },
        "id": "fviFjSRFwLzM",
        "outputId": "b64ad734-7f26-4064-cb24-07982d56286b"
      },
      "source": [
        "#Displaying the dependent variable Car price.\n",
        "y"
      ],
      "execution_count": null,
      "outputs": [
        {
          "output_type": "execute_result",
          "data": {
            "text/plain": [
              "0      22.1\n",
              "1      10.4\n",
              "2      12.0\n",
              "3      16.5\n",
              "4      17.9\n",
              "       ... \n",
              "195     7.6\n",
              "196    14.0\n",
              "197    14.8\n",
              "198    25.5\n",
              "199    18.4\n",
              "Name: Sales, Length: 200, dtype: float64"
            ]
          },
          "metadata": {},
          "execution_count": 324
        }
      ]
    },
    {
      "cell_type": "code",
      "metadata": {
        "id": "aB_jb-Z8_Hsb"
      },
      "source": [
        "#importing train_test_split from the sklearn.model_selection library which will help us to split the\n",
        "#data arrays into two subsets i.e. training data and testing data. \n",
        "from sklearn.model_selection import train_test_split"
      ],
      "execution_count": null,
      "outputs": []
    },
    {
      "cell_type": "code",
      "metadata": {
        "id": "bZrszQdC9Nc4"
      },
      "source": [
        "#Splitting the datset into two subsets i.e. training data and testing data.\n",
        "x_train,x_test,y_train,y_test=train_test_split(X, y, train_size = 0.8, test_size = 0.2, random_state = 42)"
      ],
      "execution_count": null,
      "outputs": []
    },
    {
      "cell_type": "markdown",
      "metadata": {
        "id": "8eSijUGW6nCF"
      },
      "source": [
        "Thus, the dataset has been splitted into train and test data."
      ]
    },
    {
      "cell_type": "code",
      "metadata": {
        "colab": {
          "base_uri": "https://localhost:8080/",
          "height": 419
        },
        "id": "0DaP_-dO_POO",
        "outputId": "c0a89d58-c127-4c71-e087-d470083c980f"
      },
      "source": [
        "#viewing the train data for all the independent variable.\n",
        "x_train"
      ],
      "execution_count": null,
      "outputs": [
        {
          "output_type": "execute_result",
          "data": {
            "text/html": [
              "<div>\n",
              "<style scoped>\n",
              "    .dataframe tbody tr th:only-of-type {\n",
              "        vertical-align: middle;\n",
              "    }\n",
              "\n",
              "    .dataframe tbody tr th {\n",
              "        vertical-align: top;\n",
              "    }\n",
              "\n",
              "    .dataframe thead th {\n",
              "        text-align: right;\n",
              "    }\n",
              "</style>\n",
              "<table border=\"1\" class=\"dataframe\">\n",
              "  <thead>\n",
              "    <tr style=\"text-align: right;\">\n",
              "      <th></th>\n",
              "      <th>TV</th>\n",
              "      <th>Radio</th>\n",
              "      <th>Newspaper</th>\n",
              "    </tr>\n",
              "  </thead>\n",
              "  <tbody>\n",
              "    <tr>\n",
              "      <th>79</th>\n",
              "      <td>116.0</td>\n",
              "      <td>7.7</td>\n",
              "      <td>23.1</td>\n",
              "    </tr>\n",
              "    <tr>\n",
              "      <th>197</th>\n",
              "      <td>177.0</td>\n",
              "      <td>9.3</td>\n",
              "      <td>6.4</td>\n",
              "    </tr>\n",
              "    <tr>\n",
              "      <th>38</th>\n",
              "      <td>43.1</td>\n",
              "      <td>26.7</td>\n",
              "      <td>35.1</td>\n",
              "    </tr>\n",
              "    <tr>\n",
              "      <th>24</th>\n",
              "      <td>62.3</td>\n",
              "      <td>12.6</td>\n",
              "      <td>18.3</td>\n",
              "    </tr>\n",
              "    <tr>\n",
              "      <th>122</th>\n",
              "      <td>224.0</td>\n",
              "      <td>2.4</td>\n",
              "      <td>15.6</td>\n",
              "    </tr>\n",
              "    <tr>\n",
              "      <th>...</th>\n",
              "      <td>...</td>\n",
              "      <td>...</td>\n",
              "      <td>...</td>\n",
              "    </tr>\n",
              "    <tr>\n",
              "      <th>106</th>\n",
              "      <td>25.0</td>\n",
              "      <td>11.0</td>\n",
              "      <td>29.7</td>\n",
              "    </tr>\n",
              "    <tr>\n",
              "      <th>14</th>\n",
              "      <td>204.1</td>\n",
              "      <td>32.9</td>\n",
              "      <td>46.0</td>\n",
              "    </tr>\n",
              "    <tr>\n",
              "      <th>92</th>\n",
              "      <td>217.7</td>\n",
              "      <td>33.5</td>\n",
              "      <td>59.0</td>\n",
              "    </tr>\n",
              "    <tr>\n",
              "      <th>179</th>\n",
              "      <td>165.6</td>\n",
              "      <td>10.0</td>\n",
              "      <td>17.6</td>\n",
              "    </tr>\n",
              "    <tr>\n",
              "      <th>102</th>\n",
              "      <td>280.2</td>\n",
              "      <td>10.1</td>\n",
              "      <td>21.4</td>\n",
              "    </tr>\n",
              "  </tbody>\n",
              "</table>\n",
              "<p>160 rows × 3 columns</p>\n",
              "</div>"
            ],
            "text/plain": [
              "        TV  Radio  Newspaper\n",
              "79   116.0    7.7       23.1\n",
              "197  177.0    9.3        6.4\n",
              "38    43.1   26.7       35.1\n",
              "24    62.3   12.6       18.3\n",
              "122  224.0    2.4       15.6\n",
              "..     ...    ...        ...\n",
              "106   25.0   11.0       29.7\n",
              "14   204.1   32.9       46.0\n",
              "92   217.7   33.5       59.0\n",
              "179  165.6   10.0       17.6\n",
              "102  280.2   10.1       21.4\n",
              "\n",
              "[160 rows x 3 columns]"
            ]
          },
          "metadata": {},
          "execution_count": 327
        }
      ]
    },
    {
      "cell_type": "code",
      "metadata": {
        "colab": {
          "base_uri": "https://localhost:8080/"
        },
        "id": "t49vpoWB_Tjr",
        "outputId": "383742fa-03b3-4178-f041-17ad24812f26"
      },
      "source": [
        "#viewing the train data for car price.\n",
        "y_train"
      ],
      "execution_count": null,
      "outputs": [
        {
          "output_type": "execute_result",
          "data": {
            "text/plain": [
              "79     11.0\n",
              "197    14.8\n",
              "38     10.1\n",
              "24      9.7\n",
              "122    16.6\n",
              "       ... \n",
              "106     7.2\n",
              "14     19.0\n",
              "92     19.4\n",
              "179    17.6\n",
              "102    19.8\n",
              "Name: Sales, Length: 160, dtype: float64"
            ]
          },
          "metadata": {},
          "execution_count": 328
        }
      ]
    },
    {
      "cell_type": "markdown",
      "metadata": {
        "id": "t4ORSa00_a7I"
      },
      "source": [
        "MODEL BUILDING"
      ]
    },
    {
      "cell_type": "markdown",
      "metadata": {
        "id": "p9tHzxzI4f4w"
      },
      "source": [
        "**1. MULTIPLE LINEAR REGRESSION USING OLS METHOD**"
      ]
    },
    {
      "cell_type": "code",
      "metadata": {
        "id": "BRCIHn9r4e5V"
      },
      "source": [
        "#Importing the library\n",
        "from sklearn.linear_model import LinearRegression"
      ],
      "execution_count": null,
      "outputs": []
    },
    {
      "cell_type": "code",
      "metadata": {
        "colab": {
          "base_uri": "https://localhost:8080/"
        },
        "id": "wgzQPERW4p85",
        "outputId": "76d3e45e-3ff8-4152-9b41-d5b3b93fdced"
      },
      "source": [
        "#Fitting the Multiple Linear Regression model\n",
        "model_ols = LinearRegression()  \n",
        "model_ols.fit(x_train, y_train)"
      ],
      "execution_count": null,
      "outputs": [
        {
          "output_type": "execute_result",
          "data": {
            "text/plain": [
              "LinearRegression(copy_X=True, fit_intercept=True, n_jobs=None, normalize=False)"
            ]
          },
          "metadata": {},
          "execution_count": 330
        }
      ]
    },
    {
      "cell_type": "markdown",
      "metadata": {
        "id": "CE___3_l5dSr"
      },
      "source": [
        "Thus, the multiple linear regression model is fitted."
      ]
    },
    {
      "cell_type": "code",
      "metadata": {
        "colab": {
          "base_uri": "https://localhost:8080/"
        },
        "id": "OvrgYTbB4w5_",
        "outputId": "23eb1a2d-aab2-40fa-cf48-4edf5b8a43c1"
      },
      "source": [
        "#Intercept and Coefficient for the model equation\n",
        "print(\"Intercept: \", model_ols.intercept_)\n",
        "print(\"Coefficients:\")\n",
        "list(zip(X, model_ols.coef_))"
      ],
      "execution_count": null,
      "outputs": [
        {
          "output_type": "stream",
          "name": "stdout",
          "text": [
            "Intercept:  4.714126402214127\n",
            "Coefficients:\n"
          ]
        },
        {
          "output_type": "execute_result",
          "data": {
            "text/plain": [
              "[('TV', 0.05450927083721978),\n",
              " ('Radio', 0.10094536239295579),\n",
              " ('Newspaper', 0.0043366468220340446)]"
            ]
          },
          "metadata": {},
          "execution_count": 331
        }
      ]
    },
    {
      "cell_type": "markdown",
      "metadata": {
        "id": "3h8YALS15O92"
      },
      "source": [
        "Multiple Linear Regression Equation using OLS method:\n",
        "\n",
        "Sales = 4.7931+ (0.0535 * TV) + (0.1089* Radio) + (-0.0014 * Newspaper) + e\n",
        "\n",
        "From the above-obtained equation for the Multiple Linear Regression Model, we can see that the value of intercept is 4.7931, which shows that if we keep the money spent on TV, Radio, and Newspaper for advertisement as 0, the estimated average sales will be 4.7931 and a single rupee increase in the money spent on TV for advertisement increases sales by 0.0.0535, the money spent on Radio for advertisement increases sales by 0.1089, and the money spent on Newspaper for advertisement increases sales by -0.0014."
      ]
    },
    {
      "cell_type": "code",
      "metadata": {
        "colab": {
          "base_uri": "https://localhost:8080/"
        },
        "id": "VacY0q_EBJFF",
        "outputId": "e6b4e75b-7e3c-40af-8cd6-2dd4043dad3a"
      },
      "source": [
        "#Prediction of test set\n",
        "y_pred_ols= model_ols.predict(x_test)\n",
        "\n",
        "#Predicted values\n",
        "print(\"Prediction for test set: {}\".format(y_pred_ols))"
      ],
      "execution_count": null,
      "outputs": [
        {
          "output_type": "stream",
          "name": "stdout",
          "text": [
            "Prediction for test set: [17.0347724  20.40974033 23.72398873  9.27278518 21.68271879 12.56940161\n",
            " 21.08119452  8.69035045 17.23701254 16.66657475  8.92396497  8.4817344\n",
            " 18.2075123   8.06750728 12.64550975 14.93162809  8.12814594 17.89876565\n",
            " 11.00880637 20.47832788 20.80631846 12.59883297 10.9051829  22.38854775\n",
            "  9.41796094  7.92506736 20.83908497 13.81520938 10.77080925  7.92682509\n",
            " 15.95947357 10.63490851 20.80292008 10.43434164 21.5784752  21.18364487\n",
            " 12.12821771 22.80953262 12.60992766  6.46441252]\n"
          ]
        }
      ]
    },
    {
      "cell_type": "markdown",
      "metadata": {
        "id": "v1zGVotWDZqr"
      },
      "source": [
        "Thus, the predicted sales value are obtained based on test data."
      ]
    },
    {
      "cell_type": "code",
      "metadata": {
        "colab": {
          "base_uri": "https://localhost:8080/",
          "height": 204
        },
        "id": "dU8jveGDCMLs",
        "outputId": "450a4c1a-44c2-4011-9733-dfe0f93527d4"
      },
      "source": [
        "#Actual value and the predicted value(OLS method)\n",
        "mlr_diff_ols = pd.DataFrame({'Actual value': y_test, 'Predicted value': y_pred_ols})\n",
        "mlr_diff_ols.head()"
      ],
      "execution_count": null,
      "outputs": [
        {
          "output_type": "execute_result",
          "data": {
            "text/html": [
              "<div>\n",
              "<style scoped>\n",
              "    .dataframe tbody tr th:only-of-type {\n",
              "        vertical-align: middle;\n",
              "    }\n",
              "\n",
              "    .dataframe tbody tr th {\n",
              "        vertical-align: top;\n",
              "    }\n",
              "\n",
              "    .dataframe thead th {\n",
              "        text-align: right;\n",
              "    }\n",
              "</style>\n",
              "<table border=\"1\" class=\"dataframe\">\n",
              "  <thead>\n",
              "    <tr style=\"text-align: right;\">\n",
              "      <th></th>\n",
              "      <th>Actual value</th>\n",
              "      <th>Predicted value</th>\n",
              "    </tr>\n",
              "  </thead>\n",
              "  <tbody>\n",
              "    <tr>\n",
              "      <th>95</th>\n",
              "      <td>16.9</td>\n",
              "      <td>17.034772</td>\n",
              "    </tr>\n",
              "    <tr>\n",
              "      <th>15</th>\n",
              "      <td>22.4</td>\n",
              "      <td>20.409740</td>\n",
              "    </tr>\n",
              "    <tr>\n",
              "      <th>30</th>\n",
              "      <td>21.4</td>\n",
              "      <td>23.723989</td>\n",
              "    </tr>\n",
              "    <tr>\n",
              "      <th>158</th>\n",
              "      <td>7.3</td>\n",
              "      <td>9.272785</td>\n",
              "    </tr>\n",
              "    <tr>\n",
              "      <th>128</th>\n",
              "      <td>24.7</td>\n",
              "      <td>21.682719</td>\n",
              "    </tr>\n",
              "  </tbody>\n",
              "</table>\n",
              "</div>"
            ],
            "text/plain": [
              "     Actual value  Predicted value\n",
              "95           16.9        17.034772\n",
              "15           22.4        20.409740\n",
              "30           21.4        23.723989\n",
              "158           7.3         9.272785\n",
              "128          24.7        21.682719"
            ]
          },
          "metadata": {},
          "execution_count": 333
        }
      ]
    },
    {
      "cell_type": "markdown",
      "metadata": {
        "id": "XPKxJFY-DJ5r"
      },
      "source": [
        "We compare the predicted values called y_pred_mlr with y_test values to check how accurate our predicted values are."
      ]
    },
    {
      "cell_type": "code",
      "metadata": {
        "colab": {
          "base_uri": "https://localhost:8080/"
        },
        "id": "lLOz6iF2Chny",
        "outputId": "20e7ee9c-661b-44c7-ca9d-ef8e1537d1f9"
      },
      "source": [
        "#Model Evaluation (OLS method)\n",
        "from sklearn import metrics\n",
        "meanAbErr = metrics.mean_absolute_error(y_test, y_pred_ols)\n",
        "meanSqErr = metrics.mean_squared_error(y_test, y_pred_ols)\n",
        "rootMeanSqErr = np.sqrt(metrics.mean_squared_error(y_test, y_pred_ols))\n",
        "print('R squared using OLS Method: {:.2f}'.format(model_ols.score(X,y)*100))\n",
        "print('Mean Absolute Error using OLS Method:', meanAbErr)\n",
        "print('Mean Square Error using OLS Method:', meanSqErr)"
      ],
      "execution_count": null,
      "outputs": [
        {
          "output_type": "stream",
          "name": "stdout",
          "text": [
            "R squared using OLS Method: 90.20\n",
            "Mean Absolute Error using OLS Method: 1.2748262109549338\n",
            "Mean Square Error using OLS Method: 2.9077569102710896\n"
          ]
        }
      ]
    },
    {
      "cell_type": "markdown",
      "metadata": {
        "id": "DJjWzlINt9-V"
      },
      "source": [
        "From the above summary it is observed that the coefficient of determination is 90.20 which idicates that the model is good and the variability in sales is well explained by money spent on advertising media TV, Radi, Newspaper."
      ]
    },
    {
      "cell_type": "code",
      "metadata": {
        "colab": {
          "base_uri": "https://localhost:8080/"
        },
        "id": "xNH8-NQbFZkC",
        "outputId": "f4aff3b1-33ff-4a7c-a8ee-5f3cc468d8a6"
      },
      "source": [
        "#Getting coefficient of determination for multiple linear regression for training data using OLS method\n",
        "print(\"Training set score using OLS Method: {:.2f}\".format(model_ols.score(x_train,y_train)))\n",
        "print(\"Test set score using OLS Method: {:.2f}\".format(model_ols.score(x_test,y_test)))"
      ],
      "execution_count": null,
      "outputs": [
        {
          "output_type": "stream",
          "name": "stdout",
          "text": [
            "Training set score using OLS Method: 0.90\n",
            "Test set score using OLS Method: 0.91\n"
          ]
        }
      ]
    },
    {
      "cell_type": "markdown",
      "metadata": {
        "id": "MAKAkiXsFkRB"
      },
      "source": [
        "This discrepancy between performance on the training set and the test set is a clear sign of overfitting, and therefore we should try to find a model that allows us to control complexity. One of the most commonly used alternatives to standard linear regression is ridge regression, which we will look into next."
      ]
    },
    {
      "cell_type": "markdown",
      "metadata": {
        "id": "7s1DxHk8A4e0"
      },
      "source": [
        "**2. MULTIPLE LINEAR REGRESSION USING RIDGE ESTIMATORS**"
      ]
    },
    {
      "cell_type": "code",
      "metadata": {
        "id": "_1amIhOon5aJ"
      },
      "source": [
        "#Define model evaluation method\n",
        "cv = RepeatedKFold(n_splits=10, n_repeats=3, random_state=1)"
      ],
      "execution_count": null,
      "outputs": []
    },
    {
      "cell_type": "code",
      "metadata": {
        "id": "DHwwXoVMn5pL"
      },
      "source": [
        "#Define model\n",
        "model_ridge = RidgeCV(alphas=arange(0, 2, 0.01), cv=cv, scoring='neg_mean_absolute_error').fit(x_train,y_train)"
      ],
      "execution_count": null,
      "outputs": []
    },
    {
      "cell_type": "code",
      "metadata": {
        "colab": {
          "base_uri": "https://localhost:8080/"
        },
        "id": "I_s8Ro0vn50E",
        "outputId": "fc123a0e-eadb-40e8-e96d-601c398fb0d6"
      },
      "source": [
        "#Summarize chosen configuration\n",
        "print('alpha: %f' % model.alpha_)"
      ],
      "execution_count": null,
      "outputs": [
        {
          "output_type": "stream",
          "name": "stdout",
          "text": [
            "alpha: 0.000000\n"
          ]
        }
      ]
    },
    {
      "cell_type": "markdown",
      "metadata": {
        "id": "XVljTkibuYZp"
      },
      "source": [
        "Thus, the alpha=0 which is a penalty term which will be used to to build a ridge regression model, which means that our ridge regression model will be equivalent to linear regression model by ols method. Thus, we proceed to build a ridge regression model and check our results by comparing."
      ]
    },
    {
      "cell_type": "code",
      "metadata": {
        "colab": {
          "base_uri": "https://localhost:8080/"
        },
        "id": "lSBoKJfln6m4",
        "outputId": "1e4a588d-a2ae-4ebe-9a0e-94ce755f8db0"
      },
      "source": [
        "#Fitting a regression model on th training data\n",
        "model_ridge=Ridge(alpha=0,normalize=True)\n",
        "model_ridge.fit(x_train,y_train)\n"
      ],
      "execution_count": null,
      "outputs": [
        {
          "output_type": "execute_result",
          "data": {
            "text/plain": [
              "Ridge(alpha=0, copy_X=True, fit_intercept=True, max_iter=None, normalize=True,\n",
              "      random_state=None, solver='auto', tol=0.001)"
            ]
          },
          "metadata": {},
          "execution_count": 339
        }
      ]
    },
    {
      "cell_type": "markdown",
      "metadata": {
        "id": "l7Ra9hV4KXMJ"
      },
      "source": [
        "Thus, the Ridge regression model is fitted."
      ]
    },
    {
      "cell_type": "code",
      "metadata": {
        "colab": {
          "base_uri": "https://localhost:8080/"
        },
        "id": "7_Mx1LYIjgOC",
        "outputId": "9e5f00ca-cf9a-4b16-e336-905150400ca9"
      },
      "source": [
        "#Getting the coefficient of regression associated with each regressor.\n",
        "print(pd.Series(model_ridge.coef_, index = X.columns))"
      ],
      "execution_count": null,
      "outputs": [
        {
          "output_type": "stream",
          "name": "stdout",
          "text": [
            "TV           0.054509\n",
            "Radio        0.100945\n",
            "Newspaper    0.004337\n",
            "dtype: float64\n"
          ]
        }
      ]
    },
    {
      "cell_type": "markdown",
      "metadata": {
        "id": "_ZZECxeQu3_D"
      },
      "source": [
        "The coefficient associated with each regressor variables is obtained."
      ]
    },
    {
      "cell_type": "code",
      "metadata": {
        "colab": {
          "base_uri": "https://localhost:8080/"
        },
        "id": "9A0YHY8ynDU2",
        "outputId": "129035c7-70ed-4354-a33b-52e189362f6f"
      },
      "source": [
        "#Getting the intercept of regression model.\n",
        "model_ridge.intercept_"
      ],
      "execution_count": null,
      "outputs": [
        {
          "output_type": "execute_result",
          "data": {
            "text/plain": [
              "4.714126402214134"
            ]
          },
          "metadata": {},
          "execution_count": 341
        }
      ]
    },
    {
      "cell_type": "markdown",
      "metadata": {
        "id": "31p21qnYu-XG"
      },
      "source": [
        "Thus, the intercept term is obtained associated with multiple linear regression model is obtained."
      ]
    },
    {
      "cell_type": "code",
      "metadata": {
        "colab": {
          "base_uri": "https://localhost:8080/"
        },
        "id": "3bnRGJ01KN8O",
        "outputId": "76e59720-fd68-4677-986c-7b99ad74b7bf"
      },
      "source": [
        "#Getting coefficient of determination for multiple linear regression for testing and training data using Ridge method\n",
        "print(\"Training set score using Ridge Regression: {:.2f}\".format(ridge.score(x_train, y_train)))\n",
        "print(\"Test set score using Ridge Regression: {:.2f}\".format(ridge.score(x_test, y_test)))"
      ],
      "execution_count": null,
      "outputs": [
        {
          "output_type": "stream",
          "name": "stdout",
          "text": [
            "Training set score using Ridge Regression: 0.90\n",
            "Test set score using Ridge Regression: 0.91\n"
          ]
        }
      ]
    },
    {
      "cell_type": "markdown",
      "metadata": {
        "id": "rmENCbdOvVqY"
      },
      "source": [
        "From the above calculation it is observed that the testing and training set score for ridge regression model is also obtained same as linear regression by ols method."
      ]
    },
    {
      "cell_type": "code",
      "metadata": {
        "colab": {
          "base_uri": "https://localhost:8080/"
        },
        "id": "c4mLx1ndL5iw",
        "outputId": "44042d07-6eee-4dda-da57-8278a4fca3d6"
      },
      "source": [
        "#Prediction of test set\n",
        "y_pred_ridge= model_ridge.predict(x_test)\n",
        "\n",
        "#Predicted values\n",
        "print(\"Prediction for test set (Ridge Regression): {}\".format(y_pred_ridge))"
      ],
      "execution_count": null,
      "outputs": [
        {
          "output_type": "stream",
          "name": "stdout",
          "text": [
            "Prediction for test set (Ridge Regression): [17.0347724  20.40974033 23.72398873  9.27278518 21.68271879 12.56940161\n",
            " 21.08119452  8.69035045 17.23701254 16.66657475  8.92396497  8.4817344\n",
            " 18.2075123   8.06750728 12.64550975 14.93162809  8.12814594 17.89876565\n",
            " 11.00880637 20.47832788 20.80631846 12.59883297 10.9051829  22.38854775\n",
            "  9.41796094  7.92506736 20.83908497 13.81520938 10.77080925  7.92682509\n",
            " 15.95947357 10.63490851 20.80292008 10.43434164 21.5784752  21.18364487\n",
            " 12.12821771 22.80953262 12.60992766  6.46441252]\n"
          ]
        }
      ]
    },
    {
      "cell_type": "code",
      "metadata": {
        "colab": {
          "base_uri": "https://localhost:8080/",
          "height": 204
        },
        "id": "YIa7qj_rL-bQ",
        "outputId": "43b45bc6-6710-4c74-a366-fd87d2bfadc4"
      },
      "source": [
        "#Actual value and the predicted value (Ridge Regression)\n",
        "mlr_diff_ridge = pd.DataFrame({'Actual value': y_test, 'Predicted value': y_pred_ridge})\n",
        "mlr_diff_ridge.head()"
      ],
      "execution_count": null,
      "outputs": [
        {
          "output_type": "execute_result",
          "data": {
            "text/html": [
              "<div>\n",
              "<style scoped>\n",
              "    .dataframe tbody tr th:only-of-type {\n",
              "        vertical-align: middle;\n",
              "    }\n",
              "\n",
              "    .dataframe tbody tr th {\n",
              "        vertical-align: top;\n",
              "    }\n",
              "\n",
              "    .dataframe thead th {\n",
              "        text-align: right;\n",
              "    }\n",
              "</style>\n",
              "<table border=\"1\" class=\"dataframe\">\n",
              "  <thead>\n",
              "    <tr style=\"text-align: right;\">\n",
              "      <th></th>\n",
              "      <th>Actual value</th>\n",
              "      <th>Predicted value</th>\n",
              "    </tr>\n",
              "  </thead>\n",
              "  <tbody>\n",
              "    <tr>\n",
              "      <th>95</th>\n",
              "      <td>16.9</td>\n",
              "      <td>17.034772</td>\n",
              "    </tr>\n",
              "    <tr>\n",
              "      <th>15</th>\n",
              "      <td>22.4</td>\n",
              "      <td>20.409740</td>\n",
              "    </tr>\n",
              "    <tr>\n",
              "      <th>30</th>\n",
              "      <td>21.4</td>\n",
              "      <td>23.723989</td>\n",
              "    </tr>\n",
              "    <tr>\n",
              "      <th>158</th>\n",
              "      <td>7.3</td>\n",
              "      <td>9.272785</td>\n",
              "    </tr>\n",
              "    <tr>\n",
              "      <th>128</th>\n",
              "      <td>24.7</td>\n",
              "      <td>21.682719</td>\n",
              "    </tr>\n",
              "  </tbody>\n",
              "</table>\n",
              "</div>"
            ],
            "text/plain": [
              "     Actual value  Predicted value\n",
              "95           16.9        17.034772\n",
              "15           22.4        20.409740\n",
              "30           21.4        23.723989\n",
              "158           7.3         9.272785\n",
              "128          24.7        21.682719"
            ]
          },
          "metadata": {},
          "execution_count": 344
        }
      ]
    },
    {
      "cell_type": "code",
      "metadata": {
        "colab": {
          "base_uri": "https://localhost:8080/"
        },
        "id": "HArh5Qu2Lpul",
        "outputId": "67c35150-ee84-42a1-dd75-9f3d9bdad2ed"
      },
      "source": [
        "#Model Evaluation\n",
        "from sklearn import metrics\n",
        "meanAbErr = metrics.mean_absolute_error(y_test, y_pred_ridge)\n",
        "meanSqErr = metrics.mean_squared_error(y_test, y_pred_ridge)\n",
        "rootMeanSqErr = np.sqrt(metrics.mean_squared_error(y_test, y_pred_ridge))\n",
        "print('R squared using Ridge Regression: {:.2f}'.format(model_ridge.score(X,y)*100))\n",
        "print('Mean Absolute Error using Ridge Regression:', meanAbErr)\n",
        "print('Mean Square Error using Ridge Regression:', meanSqErr)"
      ],
      "execution_count": null,
      "outputs": [
        {
          "output_type": "stream",
          "name": "stdout",
          "text": [
            "R squared using Ridge Regression: 90.20\n",
            "Mean Absolute Error using Ridge Regression: 1.274826210954934\n",
            "Mean Square Error using Ridge Regression: 2.9077569102710905\n"
          ]
        }
      ]
    },
    {
      "cell_type": "markdown",
      "metadata": {
        "id": "GVgGdLDevp3H"
      },
      "source": [
        "Thus, in the above calculation all the model evaluation measures are obtained for Ridge regression which is similar to Linear regression using ols method."
      ]
    },
    {
      "cell_type": "code",
      "metadata": {
        "id": "4vQP5UUVIs4F"
      },
      "source": [
        "#Calculation of VIF nad checking multicolinearity\n",
        "from statsmodels.stats.outliers_influence import variance_inflation_factor\n",
        "vif = pd.DataFrame()\n",
        "vif[\"VIF Factor\"] = [variance_inflation_factor(x_train.values, i) for i in range(x_train.shape[1])]\n",
        "vif[\"features\"] = x_train.columns\n",
        "  "
      ],
      "execution_count": null,
      "outputs": []
    },
    {
      "cell_type": "code",
      "metadata": {
        "colab": {
          "base_uri": "https://localhost:8080/",
          "height": 142
        },
        "id": "LMGGw7nwLEPA",
        "outputId": "dd5d3580-ce9d-4375-8c0f-c5ad4cea4a6e"
      },
      "source": [
        "#Obtaining the table of variance inflation factor.\n",
        "vif.round(1)"
      ],
      "execution_count": null,
      "outputs": [
        {
          "output_type": "execute_result",
          "data": {
            "text/html": [
              "<div>\n",
              "<style scoped>\n",
              "    .dataframe tbody tr th:only-of-type {\n",
              "        vertical-align: middle;\n",
              "    }\n",
              "\n",
              "    .dataframe tbody tr th {\n",
              "        vertical-align: top;\n",
              "    }\n",
              "\n",
              "    .dataframe thead th {\n",
              "        text-align: right;\n",
              "    }\n",
              "</style>\n",
              "<table border=\"1\" class=\"dataframe\">\n",
              "  <thead>\n",
              "    <tr style=\"text-align: right;\">\n",
              "      <th></th>\n",
              "      <th>VIF Factor</th>\n",
              "      <th>features</th>\n",
              "    </tr>\n",
              "  </thead>\n",
              "  <tbody>\n",
              "    <tr>\n",
              "      <th>0</th>\n",
              "      <td>2.5</td>\n",
              "      <td>TV</td>\n",
              "    </tr>\n",
              "    <tr>\n",
              "      <th>1</th>\n",
              "      <td>3.5</td>\n",
              "      <td>Radio</td>\n",
              "    </tr>\n",
              "    <tr>\n",
              "      <th>2</th>\n",
              "      <td>3.3</td>\n",
              "      <td>Newspaper</td>\n",
              "    </tr>\n",
              "  </tbody>\n",
              "</table>\n",
              "</div>"
            ],
            "text/plain": [
              "   VIF Factor   features\n",
              "0         2.5         TV\n",
              "1         3.5      Radio\n",
              "2         3.3  Newspaper"
            ]
          },
          "metadata": {},
          "execution_count": 347
        }
      ]
    },
    {
      "cell_type": "markdown",
      "metadata": {
        "id": "27iqANHELQf0"
      },
      "source": [
        "Thus, we observe that the vif associated with each regresseor variable is less than 5 hence we can say that there does not exists multicolinearity between the independent variables."
      ]
    },
    {
      "cell_type": "markdown",
      "metadata": {
        "id": "eukvLsXJ66Y-"
      },
      "source": [
        "**MULTIPLE LINEAR REGRESSION USING RIDGE ESTIMATORS**\n",
        "\n",
        "1. COEFFICIENTS USING RIDGE REGRESSION\n",
        "\n",
        "  Thus, the parameters β0 =  4.7141, β1 =   0.0545, β2 =  0.1009, β3 = 0.0043 obtained using Ridge estimators.\n",
        "\n",
        "\n",
        "2. TRAINING & TEST SET SCORE\n",
        "\n",
        "  Training set score using Ridge Regression: 0.90\n",
        "\n",
        "  Test set score using Ridge Regression: 0.91\n",
        "\n",
        "3. SUMMARY MEASURES\n",
        "\n",
        "  R squared using Ridge Regression: 90.20\n",
        "\n",
        "  Mean Absolute Error using Ridge Regression: 1.2748\n",
        "\n",
        "  Mean Square Error using Ridge Regression: 2.9078\n",
        "\n",
        "**MULTIPLE LINEAR REGRESSION USING OLS METHOD**\n",
        "\n",
        "1. COEFFICIENTS USING OLS METHOD\n",
        "\n",
        "  Thus, the parameters β0 =  4.7141, β1 = 0.0545, β2 = 0.1009, β3 = 0.0043 are obtained above using OLS method.\n",
        "\n",
        "2. TRAINING & TEST SET SCORE\n",
        "\n",
        "  Training set score using OLS Method: 0.90\n",
        "  \n",
        "  Test set score using OLS Method: 0.91\n",
        "\n",
        "3. SUMMARY MEASURES\n",
        "\n",
        "  R squared using OLS Method: 90.20\n",
        "\n",
        "  Mean Absolute Error using OLS Method: 1.2748\n",
        "\n",
        "  Mean Square Error using OLS Method: 2.9078\n",
        "."
      ]
    },
    {
      "cell_type": "markdown",
      "metadata": {
        "id": "lCKmqsndxKDb"
      },
      "source": [
        "Thus, from the above summary for both the methods and on comparison we observe that the estimates, training & testing set scores and model evaluation measures are all equal for both the techniques.\n",
        "\n",
        "It is was also observed that the penalty term obtained using Ridge regression was 0.\n",
        "\n",
        "All these facts are evident to the situation that in this dataset the Ridge regression is equivalent to the linear regression using ols method.\n",
        "\n",
        "Also we observed that there does not exist multicolinearity in the dataset and we apply Ridge regression mostly when we have multicolinearity in the dataset to reduce the complexity and also the coefficient of determination is 90.20 which is a strong evidence to the fact that our model is a good model whith 90.20% variability expained by money spent on TV, Radio, Newspaper in the sales."
      ]
    },
    {
      "cell_type": "markdown",
      "metadata": {
        "id": "mkOBInhYBfcF"
      },
      "source": [
        "**RESIDUAL ANALYSIS**"
      ]
    },
    {
      "cell_type": "markdown",
      "metadata": {
        "id": "-6XGiVg6BiHS"
      },
      "source": [
        "Now, since we have the built regression model, now we check the goodness of fit by validating the assumptions associated with the fitted model.\n",
        "The following are the assumtions regarding the fitted model,\n",
        "1.\tThe relationship beetween y and x1,x2,X3 is linear.\n",
        "2.\tErrors have zero mean.\n",
        "3.\tAssumption of homoscedasticity, i.e. the errors have   constant variance.\n",
        "4.\tErrors are uncorrelated.\n",
        "5.\tErrors are normally distributed random variables.\n"
      ]
    },
    {
      "cell_type": "markdown",
      "metadata": {
        "id": "zoZKzePVByhj"
      },
      "source": [
        "**1. To check if the relationship beetween y and x1, x2, x3 is linear.**\n",
        "\n",
        "From the scatter plot matrix i.e. figure 1 obtained above we can conclude that the relationship between y and x1, x2, x3 is linear."
      ]
    },
    {
      "cell_type": "code",
      "metadata": {
        "colab": {
          "base_uri": "https://localhost:8080/"
        },
        "id": "4JMVhqAHBnrC",
        "outputId": "257a58ad-85ec-4283-f058-145fb9b5b3c6"
      },
      "source": [
        "#Obtaining residuals corresponding to the fitted regression model.\n",
        "y_train_pred = model.predict(x_train)\n",
        "resid = (y_train - y_train_pred)\n",
        "resid"
      ],
      "execution_count": null,
      "outputs": [
        {
          "output_type": "execute_result",
          "data": {
            "text/plain": [
              "79    -0.808969\n",
              "197   -0.471096\n",
              "38     0.139956\n",
              "24     0.225016\n",
              "122   -0.422606\n",
              "         ...   \n",
              "106   -0.088644\n",
              "14    -0.237818\n",
              "92    -0.613293\n",
              "179    2.878180\n",
              "102   -1.061394\n",
              "Name: Sales, Length: 160, dtype: float64"
            ]
          },
          "metadata": {},
          "execution_count": 348
        }
      ]
    },
    {
      "cell_type": "markdown",
      "metadata": {
        "id": "8klZsv_ACE7R"
      },
      "source": [
        "Thus, residual of the fitted model are obtained above."
      ]
    },
    {
      "cell_type": "markdown",
      "metadata": {
        "id": "DGDsad2uCPRg"
      },
      "source": [
        " **2. To check if the mean of the residuals is 0.**"
      ]
    },
    {
      "cell_type": "code",
      "metadata": {
        "colab": {
          "base_uri": "https://localhost:8080/"
        },
        "id": "QX0a7XvSBr1L",
        "outputId": "206ae0c2-ec27-4fd1-8ad2-311ab30d122b"
      },
      "source": [
        "#Obtaining the mean of the residuals\n",
        "import statistics\n",
        "statistics.mean(resid)"
      ],
      "execution_count": null,
      "outputs": [
        {
          "output_type": "execute_result",
          "data": {
            "text/plain": [
              "0.05727579970779725"
            ]
          },
          "metadata": {},
          "execution_count": 349
        }
      ]
    },
    {
      "cell_type": "markdown",
      "metadata": {
        "id": "U8-LIDJACX04"
      },
      "source": [
        "From the above calculation we observe that mean of residuals is 0 hence it can be concluded that the errors has mean zero."
      ]
    },
    {
      "cell_type": "markdown",
      "metadata": {
        "id": "jNAq1nlpDDaH"
      },
      "source": [
        "**3. To check assumption of homscedasticity i.e. variance of residuals is constant.**"
      ]
    },
    {
      "cell_type": "code",
      "metadata": {
        "colab": {
          "base_uri": "https://localhost:8080/",
          "height": 301
        },
        "id": "Ot6qKUEdB0si",
        "outputId": "72ca7fd0-0be2-47f4-c885-bf87809335a9"
      },
      "source": [
        "#Obtaining the scatterplot between predicted values and residuals \n",
        "plt.scatter(resid, y_train_pred)\n",
        "plt.title(\"Residual vs fitted Graph [Figure 6]\")\n",
        "plt.xlabel(\"predicted values\")\n",
        "plt.ylabel(\"fitted values\")\n",
        "plt.show()"
      ],
      "execution_count": null,
      "outputs": [
        {
          "output_type": "display_data",
          "data": {
            "image/png": "[encoded data removed]",
            "text/plain": [
              "<Figure size 432x288 with 1 Axes>"
            ]
          },
          "metadata": {}
        }
      ]
    },
    {
      "cell_type": "markdown",
      "metadata": {
        "id": "5jMZPSesDRqv"
      },
      "source": [
        "Thus, from the figure 6 it is observed that the points are randomly scattered over the plot hence we conclude that the errors have constant variance."
      ]
    },
    {
      "cell_type": "markdown",
      "metadata": {
        "id": "AJl9AqC-ExU3"
      },
      "source": [
        "**4. To check if the errors are uncorrelated.**"
      ]
    },
    {
      "cell_type": "code",
      "metadata": {
        "colab": {
          "base_uri": "https://localhost:8080/"
        },
        "id": "Hx5ctCxtQJjO",
        "outputId": "d09fb85f-f570-463a-ed12-8a6cb590aaf7"
      },
      "source": [
        "#Import numpy and statsmodels\n",
        "import numpy as np\n",
        "from statsmodels.stats.stattools import durbin_watson\n",
        "  \n",
        "#Using statsmodels.durbin_watson() method to check for normality\n",
        "val = durbin_watson(resid)\n",
        "  \n",
        "print(val)"
      ],
      "execution_count": null,
      "outputs": [
        {
          "output_type": "stream",
          "name": "stdout",
          "text": [
            "2.0754479026808315\n"
          ]
        }
      ]
    },
    {
      "cell_type": "markdown",
      "metadata": {
        "id": "iJZggcCVE59P"
      },
      "source": [
        "From the durbin watson test obtained above in the analysis section it is observed that the durbin watson statistics is 2.2459 which means that the errors are uncorrelated. Hence, assumption about normality is also satisfied."
      ]
    },
    {
      "cell_type": "markdown",
      "metadata": {
        "id": "FgdILrm7F78i"
      },
      "source": [
        "**5. To check normality assumption i.e to check if the residuals are normally distributed.**"
      ]
    },
    {
      "cell_type": "code",
      "metadata": {
        "colab": {
          "base_uri": "https://localhost:8080/",
          "height": 359
        },
        "id": "mINslQCUBvEN",
        "outputId": "71f9df3d-8d55-4e5a-cdd4-40ce390d4db5"
      },
      "source": [
        "#Obtaining the distribution plot of residuals.\n",
        "fig = plt.figure()\n",
        "sns.distplot(resid, bins = 15, color = \"purple\")\n",
        "plt.title('Distribution of Residuals [Figure 7]', fontsize = 15)\n",
        "plt.xlabel('Residuals', fontsize = 15)\n",
        "plt.show()"
      ],
      "execution_count": null,
      "outputs": [
        {
          "output_type": "stream",
          "name": "stderr",
          "text": [
            "/usr/local/lib/python3.7/dist-packages/seaborn/distributions.py:2619: FutureWarning: `distplot` is a deprecated function and will be removed in a future version. Please adapt your code to use either `displot` (a figure-level function with similar flexibility) or `histplot` (an axes-level function for histograms).\n",
            "  warnings.warn(msg, FutureWarning)\n"
          ]
        },
        {
          "output_type": "display_data",
          "data": {
            "image/png": "[encoded data removed]",
            "text/plain": [
              "<Figure size 432x288 with 1 Axes>"
            ]
          },
          "metadata": {}
        }
      ]
    },
    {
      "cell_type": "markdown",
      "metadata": {
        "id": "153TTVgCCeE_"
      },
      "source": [
        "Thus, we obtained the histogram we observe from the above (Figure 7) that the histogram  is symmetric and errors are normally distributed."
      ]
    },
    {
      "cell_type": "code",
      "metadata": {
        "colab": {
          "base_uri": "https://localhost:8080/",
          "height": 464
        },
        "id": "cFHvIXsgCGRv",
        "outputId": "3e958706-4c64-49d0-eb45-0a28f6ab236f"
      },
      "source": [
        "#Obtaining the Q-Q plot to check for the normality assumption.\n",
        "import scipy.stats as stats\n",
        "plt.figure(figsize=(7,7))\n",
        "stats.probplot(resid, dist=\"norm\", plot=plt)\n",
        "plt.title(\"Normal Q-Q Plot [Figure 8]\")\n",
        "plt.xlabel(\"Sample quantiles\")\n",
        "plt.ylabel(\"Theoretical quantiles\")\n",
        "plt.show()"
      ],
      "execution_count": null,
      "outputs": [
        {
          "output_type": "display_data",
          "data": {
            "image/png": "[encoded data removed]",
            "text/plain": [
              "<Figure size 504x504 with 1 Axes>"
            ]
          },
          "metadata": {}
        }
      ]
    },
    {
      "cell_type": "markdown",
      "metadata": {
        "id": "9qOO2KNjGCEX"
      },
      "source": [
        "Thus it is observed in the above figure (figure 8 ) that the points almost aligned to the staright line hence we can conclude that the errors are normallly distributed."
      ]
    },
    {
      "cell_type": "code",
      "metadata": {
        "colab": {
          "base_uri": "https://localhost:8080/"
        },
        "id": "oFwdBR-pSuyI",
        "outputId": "2e864c36-7b8a-4c19-c265-7506cd018f1d"
      },
      "source": [
        "#Performing the shapiro-wilks test to check for normality assumption.\n",
        "from scipy import stats\n",
        "shapiro_test = stats.shapiro(resid)\n",
        "shapiro_test"
      ],
      "execution_count": null,
      "outputs": [
        {
          "output_type": "execute_result",
          "data": {
            "text/plain": [
              "(0.9696859121322632, 0.0013798302970826626)"
            ]
          },
          "metadata": {},
          "execution_count": 354
        }
      ]
    },
    {
      "cell_type": "markdown",
      "metadata": {
        "id": "Y3JHHm8YTkd9"
      },
      "source": [
        "Thus, from the above statistical test it is observed that p value = 0.1864 > 0.05 thus we accept the null hypothesis and conclude that the residuals are normally distributed."
      ]
    },
    {
      "cell_type": "markdown",
      "metadata": {
        "id": "Jiybq4GxGUeP"
      },
      "source": [
        "Thus, we observe that all the assumptions about errors are satisfied and hence we can say that our model is a good fit."
      ]
    },
    {
      "cell_type": "markdown",
      "metadata": {
        "id": "3N7kuGyGCOKB"
      },
      "source": [
        "PREDICTION USING TEST DATA"
      ]
    },
    {
      "cell_type": "code",
      "metadata": {
        "colab": {
          "base_uri": "https://localhost:8080/"
        },
        "id": "29DxGMvWCRqr",
        "outputId": "b2116f2b-3c0b-4415-e061-997329ffac8a"
      },
      "source": [
        "#Predicting the hospital discharge cost using the test data.\n",
        "y_test_pred = model_ridge.predict(x_test)\n",
        "y_test_pred"
      ],
      "execution_count": null,
      "outputs": [
        {
          "output_type": "execute_result",
          "data": {
            "text/plain": [
              "array([17.0347724 , 20.40974033, 23.72398873,  9.27278518, 21.68271879,\n",
              "       12.56940161, 21.08119452,  8.69035045, 17.23701254, 16.66657475,\n",
              "        8.92396497,  8.4817344 , 18.2075123 ,  8.06750728, 12.64550975,\n",
              "       14.93162809,  8.12814594, 17.89876565, 11.00880637, 20.47832788,\n",
              "       20.80631846, 12.59883297, 10.9051829 , 22.38854775,  9.41796094,\n",
              "        7.92506736, 20.83908497, 13.81520938, 10.77080925,  7.92682509,\n",
              "       15.95947357, 10.63490851, 20.80292008, 10.43434164, 21.5784752 ,\n",
              "       21.18364487, 12.12821771, 22.80953262, 12.60992766,  6.46441252])"
            ]
          },
          "metadata": {},
          "execution_count": 355
        }
      ]
    },
    {
      "cell_type": "markdown",
      "metadata": {
        "id": "K745PEhuMHhL"
      },
      "source": [
        "Thus, we obtained above the predicted advertising sales for the given test data."
      ]
    },
    {
      "cell_type": "markdown",
      "metadata": {
        "id": "cTuHwMq4QTHK"
      },
      "source": [
        "**CONCLUSION**"
      ]
    },
    {
      "cell_type": "markdown",
      "metadata": {
        "id": "Pm-EqXcvQV1S"
      },
      "source": [
        "Thus, from the above analysis it is observed that since the coefficient of determintion is 90.20 and all the assumptions about errors are satisfied therefore the multiple linear regression model that is fitted to predict  sales based on the money spent on TV, Radio, and Newspaper for marketing is a good fit. We observe that coefficient of determintion is90.20 which is quite high and which means that this model explains about 90.20 of variability in the dependent variable.Also all the assumptions about residuals are satisfied in residual analysis.\n",
        "\n",
        "Thus, the multiple linear regression model obtained above is good to predict  sales based on the money spent on TV, Radio, and Newspaper for marketing.\n",
        "\n",
        "And since our model was good and there was no multicolinearity existing in the dataset thus, the penalty term for ridge regression was coming as 0 and thus, all the results obtained using linear regression by ols method is same as Ridge regresssion."
      ]
    },
    {
      "cell_type": "code",
      "metadata": {
        "id": "dm0YUxaDR5sI"
      },
      "source": [],
      "execution_count": null,
      "outputs": []
    }
  ]
}