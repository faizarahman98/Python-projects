{
  "nbformat": 4,
  "nbformat_minor": 0,
  "metadata": {
    "colab": {
      "provenance": []
    },
    "kernelspec": {
      "name": "python3",
      "display_name": "Python 3"
    },
    "language_info": {
      "name": "python"
    }
  },
  "cells": [
    {
      "cell_type": "code",
      "metadata": {
        "id": "sNgbNRbYyQD8"
      },
      "source": [],
      "execution_count": null,
      "outputs": []
    },
    {
      "cell_type": "markdown",
      "metadata": {
        "id": "E3ovQ-eXyX15"
      },
      "source": [
        "**TITLE: PREDICTION OF DEFAULT OF CREDIT CARD HOLDERS IN A BANK IN TAIWAN, 2005** "
      ]
    },
    {
      "cell_type": "markdown",
      "metadata": {
        "id": "8dXKE6HRyaQI"
      },
      "source": [
        "**INTRODUCTION**"
      ]
    },
    {
      "cell_type": "markdown",
      "metadata": {
        "id": "xByifC6FyeOx"
      },
      "source": [
        "Supervised learning is the machine learning task of learning a function that maps an input to an output based on example input-output pairs. It infers a function from labeled training data consisting of a set of training examples. In supervised learning, each example is a pair consisting of an input object (typically a vector) and a desired output value (also called the supervisory signal). A supervised learning algorithm analyzes the training data and produces an inferred function, which can be used for mapping new examples. An optimal scenario will allow for the algorithm to correctly determine the class labels for unseen instances. Here we will be using linear regression for prediction which is one of the most widely used Supervised ML algorithm.\n",
        "\n",
        "Logistic Regression was used in the biological sciences in early twentieth century. It was then used in many social science applications. Logistic Regression is used when the dependent variable(target) is categorical.\n",
        "For example,\n",
        "\n",
        "To predict whether an email is spam (1) or (0)\n",
        "\n",
        "Whether the tumor is malignant (1) or not (0)\n",
        "\n",
        "-> Logistic regression is a classification algorithm to classify observations into different labels.\n",
        "\n",
        "-> Classification algorithms are predictive modelling (Supervised learning) problems where predicition is made for a discrete class label.\n",
        "\n",
        "-> The classification algorithm predicts probability.\n",
        "\n",
        "-> Mostly used classification algorithm in the industry.\n",
        "\n",
        "*Assumptions*:\n",
        "\n",
        "-> The study variable is a binary categorical variable (success 1, failure 0).\n",
        "\n",
        "-> No multicollinearity.\n",
        "\n",
        "-> The independent variables are linearly related to the log of odds of success.\n",
        "\n",
        "-> Performs better when sample size is large.\n"
      ]
    },
    {
      "cell_type": "markdown",
      "metadata": {
        "id": "VdgZyk3gyh2A"
      },
      "source": [
        "**OBJECTIVE**"
      ]
    },
    {
      "cell_type": "markdown",
      "metadata": {
        "id": "LM0WMYTyyiwJ"
      },
      "source": [
        "To predict the default of credit card holders in a bank in Taiwan, 2005 based on various othere explanotory variables."
      ]
    },
    {
      "cell_type": "markdown",
      "metadata": {
        "id": "sTboNXIDylVR"
      },
      "source": [
        "**BUSINESS GOAL**"
      ]
    },
    {
      "cell_type": "markdown",
      "metadata": {
        "id": "zg_DKf69ypNQ"
      },
      "source": [
        "Sometimes credit card-issuing banks in order to gain large amount of market share issue credit cards to unqualified clients without suffient information about their ability of repayment of the bills. When the card holders overuse their cards to consume servises and goods irrespective of their repayment ability of the bills, they accumulate a heavy debts.\n",
        "\n",
        "In the area of consumer finance it is pivotal for the card issuing banks to be able to estimate the chance for a card holder to become default for risk analysis and approving the credit card applications.\n",
        "\n",
        "We are required to build a logistic model which would help bank to predict the default of credit card holders based on various other explainatory variables. "
      ]
    },
    {
      "cell_type": "markdown",
      "metadata": {
        "id": "sQienfZIytCR"
      },
      "source": [
        "**PACKAGES AND LIBRARIES**"
      ]
    },
    {
      "cell_type": "code",
      "metadata": {
        "id": "qZrTJ6kFyxIE"
      },
      "source": [
        "#Loading the pandas and numpy that will be used to handle the data.\n",
        "import pandas as pd\n",
        "import numpy as np\n",
        "\n",
        "#Loading matplotlib and seaborn which is required to perform the exploratory data analysis.\n",
        "import seaborn as sns \n",
        "import matplotlib.pyplot as plt"
      ],
      "execution_count": null,
      "outputs": []
    },
    {
      "cell_type": "markdown",
      "metadata": {
        "id": "UIPNE345yzXB"
      },
      "source": [
        "**DATA DESCRIPTION**"
      ]
    },
    {
      "cell_type": "markdown",
      "metadata": {
        "id": "VF6iG9M3y4qJ"
      },
      "source": [
        "The dataset ‘Default of credit card clients’ consists of informations about transactions from April 2005 to September 2005 of 30000 clients who were credit holders in a bank in Taiwan. This dataset has binary response variable ‘default.payment.next.month’ that takes the value 1 if the corresponding client has default payment and 0 otherwise. Out of 30000 clients 6636(22.12%) were with default payment. There are 23 other independent or explanatory variables:\n",
        "\n",
        "LIMIT_BAL: Amount of the given credit(NT dollar), it includes both the individual consumer credit as well as the person’s family credit\n",
        "\n",
        "SEX: 1=male and 2= female\n",
        "\n",
        "EDUCATION: 1= graduate school, 2= university,3=high-school , 4=others\n",
        "\n",
        "MARRIAGE: Marital status. 1=married,2=single, 3= others\n",
        "\n",
        "AGE: Age of the client\n",
        "\n",
        "PAY_1-PAY_6: History of past payments from April to September 2005. \n",
        "Like PAY_1=The repayment status in September, …., \n",
        "PAY_6=The repayment status of April 2005. The scaling of the status is as follows -2= no transactions history,-1=paid duly,0=revolving ,1=payment delay for one month ,2= payment delay for 2 months ,….,9=payment delay for 9 months or more.\n",
        "\n",
        "BILL_AMT1-BILL_AMT6: Amount of bill statement (NT dollar).\n",
        "BILL_AMT1=amount of bill statement in September ,…., \n",
        "BILL_AMT6= amount of bill statement in April 2005.\n",
        "\n",
        "PAY_AMT1-PAY_AMT6:Amount of previous payment(NT dollar).\n",
        "PAY_AMT1=amount paid in September ,…., PAY_AMT6=amount paid in April 2005.\n",
        "\n",
        "Y-Default payment next month\n",
        "\n",
        "What is default?\n",
        "\n",
        "When a customer accepts a credit card from a bank or issuer, he/she agrees to certain terms and condition such as he/she needs to make their minimum payment by the due date listed on their credit card statements. If the consumer fails to make the payment for the debt by the due date, the issuer mark the credit card as default and might charge a penulty rate, decreasing credit limit and and in case of serious delniquency, close the account.\n",
        "\n",
        "How credit default happens?\n",
        "\n",
        "Sometimes credit card-issuing banks in order to gain large amount of market share issue credit cards to unqualified clients without suffient information about their ability of repayment of the bills. When the card holders overuse their cards to consume servises and goods irrespective of their repayment ability of the bills, they accumulate a heavy debts.\n",
        "\n",
        "In the area of consumer finance it is pivotal for the card issuing banks to be able to estimate the chance for a card holder to become default for risk analysis and approving the credit card applications.\n",
        "\n"
      ]
    },
    {
      "cell_type": "code",
      "metadata": {
        "colab": {
          "base_uri": "https://localhost:8080/",
          "height": 439
        },
        "id": "fjphSOA5y8qI",
        "outputId": "df4e1f46-a166-4982-ec94-daa67c173c2d"
      },
      "source": [
        "#Loading the required dataset.\n",
        "data=pd.read_excel(\"/content/default of credit card clients.xls\")\n",
        "\n",
        "#Viewing 'bank' data set.\n",
        "data"
      ],
      "execution_count": null,
      "outputs": [
        {
          "output_type": "execute_result",
          "data": {
            "text/html": [
              "<div>\n",
              "<style scoped>\n",
              "    .dataframe tbody tr th:only-of-type {\n",
              "        vertical-align: middle;\n",
              "    }\n",
              "\n",
              "    .dataframe tbody tr th {\n",
              "        vertical-align: top;\n",
              "    }\n",
              "\n",
              "    .dataframe thead th {\n",
              "        text-align: right;\n",
              "    }\n",
              "</style>\n",
              "<table border=\"1\" class=\"dataframe\">\n",
              "  <thead>\n",
              "    <tr style=\"text-align: right;\">\n",
              "      <th></th>\n",
              "      <th>ID</th>\n",
              "      <th>LIMIT_BAL</th>\n",
              "      <th>SEX</th>\n",
              "      <th>EDUCATION</th>\n",
              "      <th>MARRIAGE</th>\n",
              "      <th>AGE</th>\n",
              "      <th>PAY_0</th>\n",
              "      <th>PAY_2</th>\n",
              "      <th>PAY_3</th>\n",
              "      <th>PAY_4</th>\n",
              "      <th>PAY_5</th>\n",
              "      <th>PAY_6</th>\n",
              "      <th>BILL_AMT1</th>\n",
              "      <th>BILL_AMT2</th>\n",
              "      <th>BILL_AMT3</th>\n",
              "      <th>BILL_AMT4</th>\n",
              "      <th>BILL_AMT5</th>\n",
              "      <th>BILL_AMT6</th>\n",
              "      <th>PAY_AMT1</th>\n",
              "      <th>PAY_AMT2</th>\n",
              "      <th>PAY_AMT3</th>\n",
              "      <th>PAY_AMT4</th>\n",
              "      <th>PAY_AMT5</th>\n",
              "      <th>PAY_AMT6</th>\n",
              "      <th>Y</th>\n",
              "    </tr>\n",
              "  </thead>\n",
              "  <tbody>\n",
              "    <tr>\n",
              "      <th>0</th>\n",
              "      <td>1</td>\n",
              "      <td>20000</td>\n",
              "      <td>2</td>\n",
              "      <td>2</td>\n",
              "      <td>1</td>\n",
              "      <td>24</td>\n",
              "      <td>2</td>\n",
              "      <td>2</td>\n",
              "      <td>-1</td>\n",
              "      <td>-1</td>\n",
              "      <td>-2</td>\n",
              "      <td>-2</td>\n",
              "      <td>3913</td>\n",
              "      <td>3102</td>\n",
              "      <td>689</td>\n",
              "      <td>0</td>\n",
              "      <td>0</td>\n",
              "      <td>0</td>\n",
              "      <td>0</td>\n",
              "      <td>689</td>\n",
              "      <td>0</td>\n",
              "      <td>0</td>\n",
              "      <td>0</td>\n",
              "      <td>0</td>\n",
              "      <td>1</td>\n",
              "    </tr>\n",
              "    <tr>\n",
              "      <th>1</th>\n",
              "      <td>2</td>\n",
              "      <td>120000</td>\n",
              "      <td>2</td>\n",
              "      <td>2</td>\n",
              "      <td>2</td>\n",
              "      <td>26</td>\n",
              "      <td>-1</td>\n",
              "      <td>2</td>\n",
              "      <td>0</td>\n",
              "      <td>0</td>\n",
              "      <td>0</td>\n",
              "      <td>2</td>\n",
              "      <td>2682</td>\n",
              "      <td>1725</td>\n",
              "      <td>2682</td>\n",
              "      <td>3272</td>\n",
              "      <td>3455</td>\n",
              "      <td>3261</td>\n",
              "      <td>0</td>\n",
              "      <td>1000</td>\n",
              "      <td>1000</td>\n",
              "      <td>1000</td>\n",
              "      <td>0</td>\n",
              "      <td>2000</td>\n",
              "      <td>1</td>\n",
              "    </tr>\n",
              "    <tr>\n",
              "      <th>2</th>\n",
              "      <td>3</td>\n",
              "      <td>90000</td>\n",
              "      <td>2</td>\n",
              "      <td>2</td>\n",
              "      <td>2</td>\n",
              "      <td>34</td>\n",
              "      <td>0</td>\n",
              "      <td>0</td>\n",
              "      <td>0</td>\n",
              "      <td>0</td>\n",
              "      <td>0</td>\n",
              "      <td>0</td>\n",
              "      <td>29239</td>\n",
              "      <td>14027</td>\n",
              "      <td>13559</td>\n",
              "      <td>14331</td>\n",
              "      <td>14948</td>\n",
              "      <td>15549</td>\n",
              "      <td>1518</td>\n",
              "      <td>1500</td>\n",
              "      <td>1000</td>\n",
              "      <td>1000</td>\n",
              "      <td>1000</td>\n",
              "      <td>5000</td>\n",
              "      <td>0</td>\n",
              "    </tr>\n",
              "    <tr>\n",
              "      <th>3</th>\n",
              "      <td>4</td>\n",
              "      <td>50000</td>\n",
              "      <td>2</td>\n",
              "      <td>2</td>\n",
              "      <td>1</td>\n",
              "      <td>37</td>\n",
              "      <td>0</td>\n",
              "      <td>0</td>\n",
              "      <td>0</td>\n",
              "      <td>0</td>\n",
              "      <td>0</td>\n",
              "      <td>0</td>\n",
              "      <td>46990</td>\n",
              "      <td>48233</td>\n",
              "      <td>49291</td>\n",
              "      <td>28314</td>\n",
              "      <td>28959</td>\n",
              "      <td>29547</td>\n",
              "      <td>2000</td>\n",
              "      <td>2019</td>\n",
              "      <td>1200</td>\n",
              "      <td>1100</td>\n",
              "      <td>1069</td>\n",
              "      <td>1000</td>\n",
              "      <td>0</td>\n",
              "    </tr>\n",
              "    <tr>\n",
              "      <th>4</th>\n",
              "      <td>5</td>\n",
              "      <td>50000</td>\n",
              "      <td>1</td>\n",
              "      <td>2</td>\n",
              "      <td>1</td>\n",
              "      <td>57</td>\n",
              "      <td>-1</td>\n",
              "      <td>0</td>\n",
              "      <td>-1</td>\n",
              "      <td>0</td>\n",
              "      <td>0</td>\n",
              "      <td>0</td>\n",
              "      <td>8617</td>\n",
              "      <td>5670</td>\n",
              "      <td>35835</td>\n",
              "      <td>20940</td>\n",
              "      <td>19146</td>\n",
              "      <td>19131</td>\n",
              "      <td>2000</td>\n",
              "      <td>36681</td>\n",
              "      <td>10000</td>\n",
              "      <td>9000</td>\n",
              "      <td>689</td>\n",
              "      <td>679</td>\n",
              "      <td>0</td>\n",
              "    </tr>\n",
              "    <tr>\n",
              "      <th>...</th>\n",
              "      <td>...</td>\n",
              "      <td>...</td>\n",
              "      <td>...</td>\n",
              "      <td>...</td>\n",
              "      <td>...</td>\n",
              "      <td>...</td>\n",
              "      <td>...</td>\n",
              "      <td>...</td>\n",
              "      <td>...</td>\n",
              "      <td>...</td>\n",
              "      <td>...</td>\n",
              "      <td>...</td>\n",
              "      <td>...</td>\n",
              "      <td>...</td>\n",
              "      <td>...</td>\n",
              "      <td>...</td>\n",
              "      <td>...</td>\n",
              "      <td>...</td>\n",
              "      <td>...</td>\n",
              "      <td>...</td>\n",
              "      <td>...</td>\n",
              "      <td>...</td>\n",
              "      <td>...</td>\n",
              "      <td>...</td>\n",
              "      <td>...</td>\n",
              "    </tr>\n",
              "    <tr>\n",
              "      <th>29995</th>\n",
              "      <td>29996</td>\n",
              "      <td>220000</td>\n",
              "      <td>1</td>\n",
              "      <td>3</td>\n",
              "      <td>1</td>\n",
              "      <td>39</td>\n",
              "      <td>0</td>\n",
              "      <td>0</td>\n",
              "      <td>0</td>\n",
              "      <td>0</td>\n",
              "      <td>0</td>\n",
              "      <td>0</td>\n",
              "      <td>188948</td>\n",
              "      <td>192815</td>\n",
              "      <td>208365</td>\n",
              "      <td>88004</td>\n",
              "      <td>31237</td>\n",
              "      <td>15980</td>\n",
              "      <td>8500</td>\n",
              "      <td>20000</td>\n",
              "      <td>5003</td>\n",
              "      <td>3047</td>\n",
              "      <td>5000</td>\n",
              "      <td>1000</td>\n",
              "      <td>0</td>\n",
              "    </tr>\n",
              "    <tr>\n",
              "      <th>29996</th>\n",
              "      <td>29997</td>\n",
              "      <td>150000</td>\n",
              "      <td>1</td>\n",
              "      <td>3</td>\n",
              "      <td>2</td>\n",
              "      <td>43</td>\n",
              "      <td>-1</td>\n",
              "      <td>-1</td>\n",
              "      <td>-1</td>\n",
              "      <td>-1</td>\n",
              "      <td>0</td>\n",
              "      <td>0</td>\n",
              "      <td>1683</td>\n",
              "      <td>1828</td>\n",
              "      <td>3502</td>\n",
              "      <td>8979</td>\n",
              "      <td>5190</td>\n",
              "      <td>0</td>\n",
              "      <td>1837</td>\n",
              "      <td>3526</td>\n",
              "      <td>8998</td>\n",
              "      <td>129</td>\n",
              "      <td>0</td>\n",
              "      <td>0</td>\n",
              "      <td>0</td>\n",
              "    </tr>\n",
              "    <tr>\n",
              "      <th>29997</th>\n",
              "      <td>29998</td>\n",
              "      <td>30000</td>\n",
              "      <td>1</td>\n",
              "      <td>2</td>\n",
              "      <td>2</td>\n",
              "      <td>37</td>\n",
              "      <td>4</td>\n",
              "      <td>3</td>\n",
              "      <td>2</td>\n",
              "      <td>-1</td>\n",
              "      <td>0</td>\n",
              "      <td>0</td>\n",
              "      <td>3565</td>\n",
              "      <td>3356</td>\n",
              "      <td>2758</td>\n",
              "      <td>20878</td>\n",
              "      <td>20582</td>\n",
              "      <td>19357</td>\n",
              "      <td>0</td>\n",
              "      <td>0</td>\n",
              "      <td>22000</td>\n",
              "      <td>4200</td>\n",
              "      <td>2000</td>\n",
              "      <td>3100</td>\n",
              "      <td>1</td>\n",
              "    </tr>\n",
              "    <tr>\n",
              "      <th>29998</th>\n",
              "      <td>29999</td>\n",
              "      <td>80000</td>\n",
              "      <td>1</td>\n",
              "      <td>3</td>\n",
              "      <td>1</td>\n",
              "      <td>41</td>\n",
              "      <td>1</td>\n",
              "      <td>-1</td>\n",
              "      <td>0</td>\n",
              "      <td>0</td>\n",
              "      <td>0</td>\n",
              "      <td>-1</td>\n",
              "      <td>-1645</td>\n",
              "      <td>78379</td>\n",
              "      <td>76304</td>\n",
              "      <td>52774</td>\n",
              "      <td>11855</td>\n",
              "      <td>48944</td>\n",
              "      <td>85900</td>\n",
              "      <td>3409</td>\n",
              "      <td>1178</td>\n",
              "      <td>1926</td>\n",
              "      <td>52964</td>\n",
              "      <td>1804</td>\n",
              "      <td>1</td>\n",
              "    </tr>\n",
              "    <tr>\n",
              "      <th>29999</th>\n",
              "      <td>30000</td>\n",
              "      <td>50000</td>\n",
              "      <td>1</td>\n",
              "      <td>2</td>\n",
              "      <td>1</td>\n",
              "      <td>46</td>\n",
              "      <td>0</td>\n",
              "      <td>0</td>\n",
              "      <td>0</td>\n",
              "      <td>0</td>\n",
              "      <td>0</td>\n",
              "      <td>0</td>\n",
              "      <td>47929</td>\n",
              "      <td>48905</td>\n",
              "      <td>49764</td>\n",
              "      <td>36535</td>\n",
              "      <td>32428</td>\n",
              "      <td>15313</td>\n",
              "      <td>2078</td>\n",
              "      <td>1800</td>\n",
              "      <td>1430</td>\n",
              "      <td>1000</td>\n",
              "      <td>1000</td>\n",
              "      <td>1000</td>\n",
              "      <td>1</td>\n",
              "    </tr>\n",
              "  </tbody>\n",
              "</table>\n",
              "<p>30000 rows × 25 columns</p>\n",
              "</div>"
            ],
            "text/plain": [
              "          ID  LIMIT_BAL  SEX  EDUCATION  ...  PAY_AMT4  PAY_AMT5  PAY_AMT6  Y\n",
              "0          1      20000    2          2  ...         0         0         0  1\n",
              "1          2     120000    2          2  ...      1000         0      2000  1\n",
              "2          3      90000    2          2  ...      1000      1000      5000  0\n",
              "3          4      50000    2          2  ...      1100      1069      1000  0\n",
              "4          5      50000    1          2  ...      9000       689       679  0\n",
              "...      ...        ...  ...        ...  ...       ...       ...       ... ..\n",
              "29995  29996     220000    1          3  ...      3047      5000      1000  0\n",
              "29996  29997     150000    1          3  ...       129         0         0  0\n",
              "29997  29998      30000    1          2  ...      4200      2000      3100  1\n",
              "29998  29999      80000    1          3  ...      1926     52964      1804  1\n",
              "29999  30000      50000    1          2  ...      1000      1000      1000  1\n",
              "\n",
              "[30000 rows x 25 columns]"
            ]
          },
          "metadata": {},
          "execution_count": 37
        }
      ]
    },
    {
      "cell_type": "markdown",
      "metadata": {
        "id": "EXnL2PNUy5ui"
      },
      "source": [
        "**EXPLORATORY DATA ANALYSIS**"
      ]
    },
    {
      "cell_type": "code",
      "metadata": {
        "colab": {
          "base_uri": "https://localhost:8080/"
        },
        "id": "VIdYXcJfzBHw",
        "outputId": "4d307298-fe38-4080-d167-ea482a27f6c2"
      },
      "source": [
        "#Obtaining the dimension of the dataset.\n",
        "data.shape"
      ],
      "execution_count": null,
      "outputs": [
        {
          "output_type": "execute_result",
          "data": {
            "text/plain": [
              "(30000, 25)"
            ]
          },
          "metadata": {},
          "execution_count": 38
        }
      ]
    },
    {
      "cell_type": "markdown",
      "metadata": {
        "id": "yLOceP0fzFgC"
      },
      "source": [
        "It is observed that the dataset comprises of 30000 records and 25 columns(variables) which are described in the data description. "
      ]
    },
    {
      "cell_type": "code",
      "metadata": {
        "colab": {
          "base_uri": "https://localhost:8080/"
        },
        "id": "Jzf5ltzZzGJg",
        "outputId": "e671f090-19d9-4a74-8094-911a9c104722"
      },
      "source": [
        "#Using info() function to understand if ther is any null values in the dataset.\n",
        "data.info()"
      ],
      "execution_count": null,
      "outputs": [
        {
          "output_type": "stream",
          "text": [
            "<class 'pandas.core.frame.DataFrame'>\n",
            "RangeIndex: 30000 entries, 0 to 29999\n",
            "Data columns (total 25 columns):\n",
            " #   Column     Non-Null Count  Dtype\n",
            "---  ------     --------------  -----\n",
            " 0   ID         30000 non-null  int64\n",
            " 1   LIMIT_BAL  30000 non-null  int64\n",
            " 2   SEX        30000 non-null  int64\n",
            " 3   EDUCATION  30000 non-null  int64\n",
            " 4   MARRIAGE   30000 non-null  int64\n",
            " 5   AGE        30000 non-null  int64\n",
            " 6   PAY_0      30000 non-null  int64\n",
            " 7   PAY_2      30000 non-null  int64\n",
            " 8   PAY_3      30000 non-null  int64\n",
            " 9   PAY_4      30000 non-null  int64\n",
            " 10  PAY_5      30000 non-null  int64\n",
            " 11  PAY_6      30000 non-null  int64\n",
            " 12  BILL_AMT1  30000 non-null  int64\n",
            " 13  BILL_AMT2  30000 non-null  int64\n",
            " 14  BILL_AMT3  30000 non-null  int64\n",
            " 15  BILL_AMT4  30000 non-null  int64\n",
            " 16  BILL_AMT5  30000 non-null  int64\n",
            " 17  BILL_AMT6  30000 non-null  int64\n",
            " 18  PAY_AMT1   30000 non-null  int64\n",
            " 19  PAY_AMT2   30000 non-null  int64\n",
            " 20  PAY_AMT3   30000 non-null  int64\n",
            " 21  PAY_AMT4   30000 non-null  int64\n",
            " 22  PAY_AMT5   30000 non-null  int64\n",
            " 23  PAY_AMT6   30000 non-null  int64\n",
            " 24  Y          30000 non-null  int64\n",
            "dtypes: int64(25)\n",
            "memory usage: 5.7 MB\n"
          ],
          "name": "stdout"
        }
      ]
    },
    {
      "cell_type": "markdown",
      "metadata": {
        "id": "Z2NYSQIXzISg"
      },
      "source": [
        "From the above table it is observed that there does not exist any null value in the dataset hence we can further proceed with the analysis."
      ]
    },
    {
      "cell_type": "markdown",
      "metadata": {
        "id": "xnp5h8I5QSeN"
      },
      "source": [
        "Our study variable in the analysis is Y-Default payment next month which takes value **1 if the corresponding client has default payment and 0 otherwise**"
      ]
    },
    {
      "cell_type": "code",
      "metadata": {
        "colab": {
          "base_uri": "https://localhost:8080/",
          "height": 317
        },
        "id": "VlG0zV9czTwY",
        "outputId": "fb6616f5-575b-4d27-9849-24ebaf35df65"
      },
      "source": [
        "#Obtaining the descriptive measure using describe() function\n",
        "data.describe()"
      ],
      "execution_count": null,
      "outputs": [
        {
          "output_type": "execute_result",
          "data": {
            "text/html": [
              "<div>\n",
              "<style scoped>\n",
              "    .dataframe tbody tr th:only-of-type {\n",
              "        vertical-align: middle;\n",
              "    }\n",
              "\n",
              "    .dataframe tbody tr th {\n",
              "        vertical-align: top;\n",
              "    }\n",
              "\n",
              "    .dataframe thead th {\n",
              "        text-align: right;\n",
              "    }\n",
              "</style>\n",
              "<table border=\"1\" class=\"dataframe\">\n",
              "  <thead>\n",
              "    <tr style=\"text-align: right;\">\n",
              "      <th></th>\n",
              "      <th>ID</th>\n",
              "      <th>LIMIT_BAL</th>\n",
              "      <th>SEX</th>\n",
              "      <th>EDUCATION</th>\n",
              "      <th>MARRIAGE</th>\n",
              "      <th>AGE</th>\n",
              "      <th>PAY_0</th>\n",
              "      <th>PAY_2</th>\n",
              "      <th>PAY_3</th>\n",
              "      <th>PAY_4</th>\n",
              "      <th>PAY_5</th>\n",
              "      <th>PAY_6</th>\n",
              "      <th>BILL_AMT1</th>\n",
              "      <th>BILL_AMT2</th>\n",
              "      <th>BILL_AMT3</th>\n",
              "      <th>BILL_AMT4</th>\n",
              "      <th>BILL_AMT5</th>\n",
              "      <th>BILL_AMT6</th>\n",
              "      <th>PAY_AMT1</th>\n",
              "      <th>PAY_AMT2</th>\n",
              "      <th>PAY_AMT3</th>\n",
              "      <th>PAY_AMT4</th>\n",
              "      <th>PAY_AMT5</th>\n",
              "      <th>PAY_AMT6</th>\n",
              "      <th>Y</th>\n",
              "    </tr>\n",
              "  </thead>\n",
              "  <tbody>\n",
              "    <tr>\n",
              "      <th>count</th>\n",
              "      <td>30000.000000</td>\n",
              "      <td>30000.000000</td>\n",
              "      <td>30000.000000</td>\n",
              "      <td>30000.000000</td>\n",
              "      <td>30000.000000</td>\n",
              "      <td>30000.000000</td>\n",
              "      <td>30000.000000</td>\n",
              "      <td>30000.000000</td>\n",
              "      <td>30000.000000</td>\n",
              "      <td>30000.000000</td>\n",
              "      <td>30000.000000</td>\n",
              "      <td>30000.000000</td>\n",
              "      <td>30000.000000</td>\n",
              "      <td>30000.000000</td>\n",
              "      <td>3.000000e+04</td>\n",
              "      <td>30000.000000</td>\n",
              "      <td>30000.000000</td>\n",
              "      <td>30000.000000</td>\n",
              "      <td>30000.000000</td>\n",
              "      <td>3.000000e+04</td>\n",
              "      <td>30000.00000</td>\n",
              "      <td>30000.000000</td>\n",
              "      <td>30000.000000</td>\n",
              "      <td>30000.000000</td>\n",
              "      <td>30000.000000</td>\n",
              "    </tr>\n",
              "    <tr>\n",
              "      <th>mean</th>\n",
              "      <td>15000.500000</td>\n",
              "      <td>167484.322667</td>\n",
              "      <td>1.603733</td>\n",
              "      <td>1.853133</td>\n",
              "      <td>1.551867</td>\n",
              "      <td>35.485500</td>\n",
              "      <td>-0.016700</td>\n",
              "      <td>-0.133767</td>\n",
              "      <td>-0.166200</td>\n",
              "      <td>-0.220667</td>\n",
              "      <td>-0.266200</td>\n",
              "      <td>-0.291100</td>\n",
              "      <td>51223.330900</td>\n",
              "      <td>49179.075167</td>\n",
              "      <td>4.701315e+04</td>\n",
              "      <td>43262.948967</td>\n",
              "      <td>40311.400967</td>\n",
              "      <td>38871.760400</td>\n",
              "      <td>5663.580500</td>\n",
              "      <td>5.921163e+03</td>\n",
              "      <td>5225.68150</td>\n",
              "      <td>4826.076867</td>\n",
              "      <td>4799.387633</td>\n",
              "      <td>5215.502567</td>\n",
              "      <td>0.221200</td>\n",
              "    </tr>\n",
              "    <tr>\n",
              "      <th>std</th>\n",
              "      <td>8660.398374</td>\n",
              "      <td>129747.661567</td>\n",
              "      <td>0.489129</td>\n",
              "      <td>0.790349</td>\n",
              "      <td>0.521970</td>\n",
              "      <td>9.217904</td>\n",
              "      <td>1.123802</td>\n",
              "      <td>1.197186</td>\n",
              "      <td>1.196868</td>\n",
              "      <td>1.169139</td>\n",
              "      <td>1.133187</td>\n",
              "      <td>1.149988</td>\n",
              "      <td>73635.860576</td>\n",
              "      <td>71173.768783</td>\n",
              "      <td>6.934939e+04</td>\n",
              "      <td>64332.856134</td>\n",
              "      <td>60797.155770</td>\n",
              "      <td>59554.107537</td>\n",
              "      <td>16563.280354</td>\n",
              "      <td>2.304087e+04</td>\n",
              "      <td>17606.96147</td>\n",
              "      <td>15666.159744</td>\n",
              "      <td>15278.305679</td>\n",
              "      <td>17777.465775</td>\n",
              "      <td>0.415062</td>\n",
              "    </tr>\n",
              "    <tr>\n",
              "      <th>min</th>\n",
              "      <td>1.000000</td>\n",
              "      <td>10000.000000</td>\n",
              "      <td>1.000000</td>\n",
              "      <td>0.000000</td>\n",
              "      <td>0.000000</td>\n",
              "      <td>21.000000</td>\n",
              "      <td>-2.000000</td>\n",
              "      <td>-2.000000</td>\n",
              "      <td>-2.000000</td>\n",
              "      <td>-2.000000</td>\n",
              "      <td>-2.000000</td>\n",
              "      <td>-2.000000</td>\n",
              "      <td>-165580.000000</td>\n",
              "      <td>-69777.000000</td>\n",
              "      <td>-1.572640e+05</td>\n",
              "      <td>-170000.000000</td>\n",
              "      <td>-81334.000000</td>\n",
              "      <td>-339603.000000</td>\n",
              "      <td>0.000000</td>\n",
              "      <td>0.000000e+00</td>\n",
              "      <td>0.00000</td>\n",
              "      <td>0.000000</td>\n",
              "      <td>0.000000</td>\n",
              "      <td>0.000000</td>\n",
              "      <td>0.000000</td>\n",
              "    </tr>\n",
              "    <tr>\n",
              "      <th>25%</th>\n",
              "      <td>7500.750000</td>\n",
              "      <td>50000.000000</td>\n",
              "      <td>1.000000</td>\n",
              "      <td>1.000000</td>\n",
              "      <td>1.000000</td>\n",
              "      <td>28.000000</td>\n",
              "      <td>-1.000000</td>\n",
              "      <td>-1.000000</td>\n",
              "      <td>-1.000000</td>\n",
              "      <td>-1.000000</td>\n",
              "      <td>-1.000000</td>\n",
              "      <td>-1.000000</td>\n",
              "      <td>3558.750000</td>\n",
              "      <td>2984.750000</td>\n",
              "      <td>2.666250e+03</td>\n",
              "      <td>2326.750000</td>\n",
              "      <td>1763.000000</td>\n",
              "      <td>1256.000000</td>\n",
              "      <td>1000.000000</td>\n",
              "      <td>8.330000e+02</td>\n",
              "      <td>390.00000</td>\n",
              "      <td>296.000000</td>\n",
              "      <td>252.500000</td>\n",
              "      <td>117.750000</td>\n",
              "      <td>0.000000</td>\n",
              "    </tr>\n",
              "    <tr>\n",
              "      <th>50%</th>\n",
              "      <td>15000.500000</td>\n",
              "      <td>140000.000000</td>\n",
              "      <td>2.000000</td>\n",
              "      <td>2.000000</td>\n",
              "      <td>2.000000</td>\n",
              "      <td>34.000000</td>\n",
              "      <td>0.000000</td>\n",
              "      <td>0.000000</td>\n",
              "      <td>0.000000</td>\n",
              "      <td>0.000000</td>\n",
              "      <td>0.000000</td>\n",
              "      <td>0.000000</td>\n",
              "      <td>22381.500000</td>\n",
              "      <td>21200.000000</td>\n",
              "      <td>2.008850e+04</td>\n",
              "      <td>19052.000000</td>\n",
              "      <td>18104.500000</td>\n",
              "      <td>17071.000000</td>\n",
              "      <td>2100.000000</td>\n",
              "      <td>2.009000e+03</td>\n",
              "      <td>1800.00000</td>\n",
              "      <td>1500.000000</td>\n",
              "      <td>1500.000000</td>\n",
              "      <td>1500.000000</td>\n",
              "      <td>0.000000</td>\n",
              "    </tr>\n",
              "    <tr>\n",
              "      <th>75%</th>\n",
              "      <td>22500.250000</td>\n",
              "      <td>240000.000000</td>\n",
              "      <td>2.000000</td>\n",
              "      <td>2.000000</td>\n",
              "      <td>2.000000</td>\n",
              "      <td>41.000000</td>\n",
              "      <td>0.000000</td>\n",
              "      <td>0.000000</td>\n",
              "      <td>0.000000</td>\n",
              "      <td>0.000000</td>\n",
              "      <td>0.000000</td>\n",
              "      <td>0.000000</td>\n",
              "      <td>67091.000000</td>\n",
              "      <td>64006.250000</td>\n",
              "      <td>6.016475e+04</td>\n",
              "      <td>54506.000000</td>\n",
              "      <td>50190.500000</td>\n",
              "      <td>49198.250000</td>\n",
              "      <td>5006.000000</td>\n",
              "      <td>5.000000e+03</td>\n",
              "      <td>4505.00000</td>\n",
              "      <td>4013.250000</td>\n",
              "      <td>4031.500000</td>\n",
              "      <td>4000.000000</td>\n",
              "      <td>0.000000</td>\n",
              "    </tr>\n",
              "    <tr>\n",
              "      <th>max</th>\n",
              "      <td>30000.000000</td>\n",
              "      <td>1000000.000000</td>\n",
              "      <td>2.000000</td>\n",
              "      <td>6.000000</td>\n",
              "      <td>3.000000</td>\n",
              "      <td>79.000000</td>\n",
              "      <td>8.000000</td>\n",
              "      <td>8.000000</td>\n",
              "      <td>8.000000</td>\n",
              "      <td>8.000000</td>\n",
              "      <td>8.000000</td>\n",
              "      <td>8.000000</td>\n",
              "      <td>964511.000000</td>\n",
              "      <td>983931.000000</td>\n",
              "      <td>1.664089e+06</td>\n",
              "      <td>891586.000000</td>\n",
              "      <td>927171.000000</td>\n",
              "      <td>961664.000000</td>\n",
              "      <td>873552.000000</td>\n",
              "      <td>1.684259e+06</td>\n",
              "      <td>896040.00000</td>\n",
              "      <td>621000.000000</td>\n",
              "      <td>426529.000000</td>\n",
              "      <td>528666.000000</td>\n",
              "      <td>1.000000</td>\n",
              "    </tr>\n",
              "  </tbody>\n",
              "</table>\n",
              "</div>"
            ],
            "text/plain": [
              "                 ID       LIMIT_BAL  ...       PAY_AMT6             Y\n",
              "count  30000.000000    30000.000000  ...   30000.000000  30000.000000\n",
              "mean   15000.500000   167484.322667  ...    5215.502567      0.221200\n",
              "std     8660.398374   129747.661567  ...   17777.465775      0.415062\n",
              "min        1.000000    10000.000000  ...       0.000000      0.000000\n",
              "25%     7500.750000    50000.000000  ...     117.750000      0.000000\n",
              "50%    15000.500000   140000.000000  ...    1500.000000      0.000000\n",
              "75%    22500.250000   240000.000000  ...    4000.000000      0.000000\n",
              "max    30000.000000  1000000.000000  ...  528666.000000      1.000000\n",
              "\n",
              "[8 rows x 25 columns]"
            ]
          },
          "metadata": {},
          "execution_count": 11
        }
      ]
    },
    {
      "cell_type": "markdown",
      "metadata": {
        "id": "5Fy8KCzczXkY"
      },
      "source": [
        "Thus, from the above summary that the mean of the study variable (default payment next month) is 0.22 which is closer to 0 which concludes that there are more 0s that means there are more clients who do not have  default payment in our dataset which indicates that it is a imbalanced dataset.\n",
        "On similar lines we can draw meaningful insights about the other variables using the summary table."
      ]
    },
    {
      "cell_type": "code",
      "metadata": {
        "colab": {
          "base_uri": "https://localhost:8080/"
        },
        "id": "r5f92IrWV0pE",
        "outputId": "8dd9bf43-86bd-4f4c-cd8e-fd17b535a607"
      },
      "source": [
        "#Counts of each classes in study variable(fueltype)\n",
        "data['Y'].value_counts()"
      ],
      "execution_count": null,
      "outputs": [
        {
          "output_type": "execute_result",
          "data": {
            "text/plain": [
              "0    23364\n",
              "1     6636\n",
              "Name: Y, dtype: int64"
            ]
          },
          "metadata": {},
          "execution_count": 12
        }
      ]
    },
    {
      "cell_type": "code",
      "metadata": {
        "colab": {
          "base_uri": "https://localhost:8080/",
          "height": 295
        },
        "id": "IlwTbeANXgi1",
        "outputId": "1c75bc7b-9cd5-464a-c859-1efe6a530c32"
      },
      "source": [
        "#Obtaining the bar plot of fueltype visualizing the counts of each classes i.e. Default or Non-Default .\n",
        "sns.countplot(x='Y',data=data, palette=\"pastel\")\n",
        "plt.title(\"BAR PLOT: COUNTS OF DEFAULT  AND NON-DEFAULT CLIENTS [FIGURE 1]\")\n",
        "plt.ylabel(\"Counts of each classes\")\n",
        "plt.xlabel(\"Clients Type (Default or Non-Default) \")\n",
        "plt.show()"
      ],
      "execution_count": null,
      "outputs": [
        {
          "output_type": "display_data",
          "data": {
            "image/png": "[encoded data removed]",
            "text/plain": [
              "<Figure size 432x288 with 1 Axes>"
            ]
          },
          "metadata": {
            "needs_background": "light"
          }
        }
      ]
    },
    {
      "cell_type": "markdown",
      "metadata": {
        "id": "tqP1NER3WiGq"
      },
      "source": [
        "Thus, it is observed from the calculation and figure 1 obtained above that there are around 23364 non-default cvlients and 6636 default clients out of 30000 in 2005 which is still safe for the bank. Since here one class is having more frequency than another class thus we call it as imbalance dataset and we will oversample the minority class ('diesel') using SMOTE in later stage of the analysis.\n"
      ]
    },
    {
      "cell_type": "code",
      "metadata": {
        "colab": {
          "base_uri": "https://localhost:8080/"
        },
        "id": "R3Ks4Zv2Yy59",
        "outputId": "11007782-9bd1-460d-b212-ad9b46daa8e2"
      },
      "source": [
        "#Obtaining the percentage of proportion of each classes of  the study variable i.e. default payment next month (Default or Non-Default).\n",
        "count_non_default = len(data[data['Y']==0])\n",
        "count_default = len(data[data['Y']==1])\n",
        "pct_of_non_default = count_non_default/(count_non_default+count_default)\n",
        "print(\"percentage of proportion of Non-default clients\", pct_of_non_default*100)\n",
        "pct_of_default = count_default/(count_non_default+count_default)\n",
        "print(\"percentage of  proportion of default clients\", pct_of_default*100)"
      ],
      "execution_count": null,
      "outputs": [
        {
          "output_type": "stream",
          "text": [
            "percentage of proportion of Non-default clients 77.88000000000001\n",
            "percentage of  proportion of default clients 22.12\n"
          ],
          "name": "stdout"
        }
      ]
    },
    {
      "cell_type": "markdown",
      "metadata": {
        "id": "blCeG-hbWsF3"
      },
      "source": [
        "Thus we observe that there were 22.12% of total clients were default clients in bank of Taiwan in 2005."
      ]
    },
    {
      "cell_type": "code",
      "metadata": {
        "colab": {
          "base_uri": "https://localhost:8080/",
          "height": 162
        },
        "id": "gknc6W87ar8y",
        "outputId": "b0d1c519-d77f-4574-d2ae-f695d44320be"
      },
      "source": [
        "#Obtaining the average of each type client(Default or Non-Default)..\n",
        "data.groupby('Y').mean()"
      ],
      "execution_count": null,
      "outputs": [
        {
          "output_type": "execute_result",
          "data": {
            "text/html": [
              "<div>\n",
              "<style scoped>\n",
              "    .dataframe tbody tr th:only-of-type {\n",
              "        vertical-align: middle;\n",
              "    }\n",
              "\n",
              "    .dataframe tbody tr th {\n",
              "        vertical-align: top;\n",
              "    }\n",
              "\n",
              "    .dataframe thead th {\n",
              "        text-align: right;\n",
              "    }\n",
              "</style>\n",
              "<table border=\"1\" class=\"dataframe\">\n",
              "  <thead>\n",
              "    <tr style=\"text-align: right;\">\n",
              "      <th></th>\n",
              "      <th>ID</th>\n",
              "      <th>LIMIT_BAL</th>\n",
              "      <th>SEX</th>\n",
              "      <th>EDUCATION</th>\n",
              "      <th>MARRIAGE</th>\n",
              "      <th>AGE</th>\n",
              "      <th>PAY_0</th>\n",
              "      <th>PAY_2</th>\n",
              "      <th>PAY_3</th>\n",
              "      <th>PAY_4</th>\n",
              "      <th>PAY_5</th>\n",
              "      <th>PAY_6</th>\n",
              "      <th>BILL_AMT1</th>\n",
              "      <th>BILL_AMT2</th>\n",
              "      <th>BILL_AMT3</th>\n",
              "      <th>BILL_AMT4</th>\n",
              "      <th>BILL_AMT5</th>\n",
              "      <th>BILL_AMT6</th>\n",
              "      <th>PAY_AMT1</th>\n",
              "      <th>PAY_AMT2</th>\n",
              "      <th>PAY_AMT3</th>\n",
              "      <th>PAY_AMT4</th>\n",
              "      <th>PAY_AMT5</th>\n",
              "      <th>PAY_AMT6</th>\n",
              "    </tr>\n",
              "    <tr>\n",
              "      <th>Y</th>\n",
              "      <th></th>\n",
              "      <th></th>\n",
              "      <th></th>\n",
              "      <th></th>\n",
              "      <th></th>\n",
              "      <th></th>\n",
              "      <th></th>\n",
              "      <th></th>\n",
              "      <th></th>\n",
              "      <th></th>\n",
              "      <th></th>\n",
              "      <th></th>\n",
              "      <th></th>\n",
              "      <th></th>\n",
              "      <th></th>\n",
              "      <th></th>\n",
              "      <th></th>\n",
              "      <th></th>\n",
              "      <th></th>\n",
              "      <th></th>\n",
              "      <th></th>\n",
              "      <th></th>\n",
              "      <th></th>\n",
              "      <th></th>\n",
              "    </tr>\n",
              "  </thead>\n",
              "  <tbody>\n",
              "    <tr>\n",
              "      <th>0</th>\n",
              "      <td>15064.893982</td>\n",
              "      <td>178099.726074</td>\n",
              "      <td>1.614150</td>\n",
              "      <td>1.841337</td>\n",
              "      <td>1.558637</td>\n",
              "      <td>35.417266</td>\n",
              "      <td>-0.211222</td>\n",
              "      <td>-0.301917</td>\n",
              "      <td>-0.316256</td>\n",
              "      <td>-0.355633</td>\n",
              "      <td>-0.389488</td>\n",
              "      <td>-0.405624</td>\n",
              "      <td>51994.227273</td>\n",
              "      <td>49717.435670</td>\n",
              "      <td>47533.365605</td>\n",
              "      <td>43611.165254</td>\n",
              "      <td>40530.445343</td>\n",
              "      <td>39042.268704</td>\n",
              "      <td>6307.337357</td>\n",
              "      <td>6640.465074</td>\n",
              "      <td>5753.496833</td>\n",
              "      <td>5300.529319</td>\n",
              "      <td>5248.220296</td>\n",
              "      <td>5719.371769</td>\n",
              "    </tr>\n",
              "    <tr>\n",
              "      <th>1</th>\n",
              "      <td>14773.781947</td>\n",
              "      <td>130109.656420</td>\n",
              "      <td>1.567058</td>\n",
              "      <td>1.894665</td>\n",
              "      <td>1.528029</td>\n",
              "      <td>35.725738</td>\n",
              "      <td>0.668174</td>\n",
              "      <td>0.458258</td>\n",
              "      <td>0.362116</td>\n",
              "      <td>0.254521</td>\n",
              "      <td>0.167872</td>\n",
              "      <td>0.112116</td>\n",
              "      <td>48509.162297</td>\n",
              "      <td>47283.617842</td>\n",
              "      <td>45181.598855</td>\n",
              "      <td>42036.950573</td>\n",
              "      <td>39540.190476</td>\n",
              "      <td>38271.435503</td>\n",
              "      <td>3397.044153</td>\n",
              "      <td>3388.649638</td>\n",
              "      <td>3367.351567</td>\n",
              "      <td>3155.626733</td>\n",
              "      <td>3219.139542</td>\n",
              "      <td>3441.482068</td>\n",
              "    </tr>\n",
              "  </tbody>\n",
              "</table>\n",
              "</div>"
            ],
            "text/plain": [
              "             ID      LIMIT_BAL       SEX  ...     PAY_AMT4     PAY_AMT5     PAY_AMT6\n",
              "Y                                         ...                                       \n",
              "0  15064.893982  178099.726074  1.614150  ...  5300.529319  5248.220296  5719.371769\n",
              "1  14773.781947  130109.656420  1.567058  ...  3155.626733  3219.139542  3441.482068\n",
              "\n",
              "[2 rows x 24 columns]"
            ]
          },
          "metadata": {},
          "execution_count": 44
        }
      ]
    },
    {
      "cell_type": "markdown",
      "metadata": {
        "id": "4PweEoJmcMGd"
      },
      "source": [
        "On observing the average age of the client in the bank we can see that the average age is 35.4 in non default clients where as among the default clients it is 35.7 which is little more but such small difference wouldn't make any difference thus we can say that the default and non default clients are around the age 35-36.\n",
        "\n",
        "Also it is observed that average sex is closer to 2 in both types of client which indicates that in the both groups there are more female clients since female clients are denoted by 2 i  the dataset .\n",
        "\n",
        "On the similar lines we can make interpretation about other average values under other categorical variables also which are obtained below."
      ]
    },
    {
      "cell_type": "code",
      "metadata": {
        "colab": {
          "base_uri": "https://localhost:8080/",
          "height": 162
        },
        "id": "8IWQhSSpbyMH",
        "outputId": "9d9f2e17-e046-4844-81d4-d7e3dc0fb180"
      },
      "source": [
        "#Obtaining the average of each of the classes of sex of clients.\n",
        "data.groupby('SEX').mean()"
      ],
      "execution_count": null,
      "outputs": [
        {
          "output_type": "execute_result",
          "data": {
            "text/html": [
              "<div>\n",
              "<style scoped>\n",
              "    .dataframe tbody tr th:only-of-type {\n",
              "        vertical-align: middle;\n",
              "    }\n",
              "\n",
              "    .dataframe tbody tr th {\n",
              "        vertical-align: top;\n",
              "    }\n",
              "\n",
              "    .dataframe thead th {\n",
              "        text-align: right;\n",
              "    }\n",
              "</style>\n",
              "<table border=\"1\" class=\"dataframe\">\n",
              "  <thead>\n",
              "    <tr style=\"text-align: right;\">\n",
              "      <th></th>\n",
              "      <th>ID</th>\n",
              "      <th>LIMIT_BAL</th>\n",
              "      <th>EDUCATION</th>\n",
              "      <th>MARRIAGE</th>\n",
              "      <th>AGE</th>\n",
              "      <th>PAY_0</th>\n",
              "      <th>PAY_2</th>\n",
              "      <th>PAY_3</th>\n",
              "      <th>PAY_4</th>\n",
              "      <th>PAY_5</th>\n",
              "      <th>PAY_6</th>\n",
              "      <th>BILL_AMT1</th>\n",
              "      <th>BILL_AMT2</th>\n",
              "      <th>BILL_AMT3</th>\n",
              "      <th>BILL_AMT4</th>\n",
              "      <th>BILL_AMT5</th>\n",
              "      <th>BILL_AMT6</th>\n",
              "      <th>PAY_AMT1</th>\n",
              "      <th>PAY_AMT2</th>\n",
              "      <th>PAY_AMT3</th>\n",
              "      <th>PAY_AMT4</th>\n",
              "      <th>PAY_AMT5</th>\n",
              "      <th>PAY_AMT6</th>\n",
              "      <th>Y</th>\n",
              "    </tr>\n",
              "    <tr>\n",
              "      <th>SEX</th>\n",
              "      <th></th>\n",
              "      <th></th>\n",
              "      <th></th>\n",
              "      <th></th>\n",
              "      <th></th>\n",
              "      <th></th>\n",
              "      <th></th>\n",
              "      <th></th>\n",
              "      <th></th>\n",
              "      <th></th>\n",
              "      <th></th>\n",
              "      <th></th>\n",
              "      <th></th>\n",
              "      <th></th>\n",
              "      <th></th>\n",
              "      <th></th>\n",
              "      <th></th>\n",
              "      <th></th>\n",
              "      <th></th>\n",
              "      <th></th>\n",
              "      <th></th>\n",
              "      <th></th>\n",
              "      <th></th>\n",
              "      <th></th>\n",
              "    </tr>\n",
              "  </thead>\n",
              "  <tbody>\n",
              "    <tr>\n",
              "      <th>1</th>\n",
              "      <td>14802.770104</td>\n",
              "      <td>163519.825034</td>\n",
              "      <td>1.839250</td>\n",
              "      <td>1.572090</td>\n",
              "      <td>36.519431</td>\n",
              "      <td>0.063257</td>\n",
              "      <td>-0.029189</td>\n",
              "      <td>-0.068557</td>\n",
              "      <td>-0.133832</td>\n",
              "      <td>-0.189182</td>\n",
              "      <td>-0.228634</td>\n",
              "      <td>54281.004038</td>\n",
              "      <td>51918.541723</td>\n",
              "      <td>49115.727961</td>\n",
              "      <td>45000.331090</td>\n",
              "      <td>41587.504963</td>\n",
              "      <td>40101.775320</td>\n",
              "      <td>5668.537264</td>\n",
              "      <td>5960.720138</td>\n",
              "      <td>5412.506057</td>\n",
              "      <td>4869.177995</td>\n",
              "      <td>4830.827052</td>\n",
              "      <td>5276.196753</td>\n",
              "      <td>0.241672</td>\n",
              "    </tr>\n",
              "    <tr>\n",
              "      <th>2</th>\n",
              "      <td>15130.282078</td>\n",
              "      <td>170086.462014</td>\n",
              "      <td>1.862246</td>\n",
              "      <td>1.538593</td>\n",
              "      <td>34.806868</td>\n",
              "      <td>-0.069181</td>\n",
              "      <td>-0.202407</td>\n",
              "      <td>-0.230289</td>\n",
              "      <td>-0.277661</td>\n",
              "      <td>-0.316751</td>\n",
              "      <td>-0.332100</td>\n",
              "      <td>49216.395263</td>\n",
              "      <td>47380.997736</td>\n",
              "      <td>45633.108989</td>\n",
              "      <td>42122.600099</td>\n",
              "      <td>39473.816807</td>\n",
              "      <td>38064.427286</td>\n",
              "      <td>5660.327076</td>\n",
              "      <td>5895.200088</td>\n",
              "      <td>5103.057255</td>\n",
              "      <td>4797.786992</td>\n",
              "      <td>4778.752043</td>\n",
              "      <td>5175.665305</td>\n",
              "      <td>0.207763</td>\n",
              "    </tr>\n",
              "  </tbody>\n",
              "</table>\n",
              "</div>"
            ],
            "text/plain": [
              "               ID      LIMIT_BAL  EDUCATION  ...     PAY_AMT5     PAY_AMT6         Y\n",
              "SEX                                          ...                                    \n",
              "1    14802.770104  163519.825034   1.839250  ...  4830.827052  5276.196753  0.241672\n",
              "2    15130.282078  170086.462014   1.862246  ...  4778.752043  5175.665305  0.207763\n",
              "\n",
              "[2 rows x 24 columns]"
            ]
          },
          "metadata": {},
          "execution_count": 45
        }
      ]
    },
    {
      "cell_type": "code",
      "metadata": {
        "colab": {
          "base_uri": "https://localhost:8080/",
          "height": 317
        },
        "id": "P7KMeGfXcOL2",
        "outputId": "f2c98010-8154-49a9-9373-747495dda52d"
      },
      "source": [
        "#Obtaining the average of each of the classes of education status of clients.\n",
        "data.groupby('EDUCATION').mean()"
      ],
      "execution_count": null,
      "outputs": [
        {
          "output_type": "execute_result",
          "data": {
            "text/html": [
              "<div>\n",
              "<style scoped>\n",
              "    .dataframe tbody tr th:only-of-type {\n",
              "        vertical-align: middle;\n",
              "    }\n",
              "\n",
              "    .dataframe tbody tr th {\n",
              "        vertical-align: top;\n",
              "    }\n",
              "\n",
              "    .dataframe thead th {\n",
              "        text-align: right;\n",
              "    }\n",
              "</style>\n",
              "<table border=\"1\" class=\"dataframe\">\n",
              "  <thead>\n",
              "    <tr style=\"text-align: right;\">\n",
              "      <th></th>\n",
              "      <th>ID</th>\n",
              "      <th>LIMIT_BAL</th>\n",
              "      <th>SEX</th>\n",
              "      <th>MARRIAGE</th>\n",
              "      <th>AGE</th>\n",
              "      <th>PAY_0</th>\n",
              "      <th>PAY_2</th>\n",
              "      <th>PAY_3</th>\n",
              "      <th>PAY_4</th>\n",
              "      <th>PAY_5</th>\n",
              "      <th>PAY_6</th>\n",
              "      <th>BILL_AMT1</th>\n",
              "      <th>BILL_AMT2</th>\n",
              "      <th>BILL_AMT3</th>\n",
              "      <th>BILL_AMT4</th>\n",
              "      <th>BILL_AMT5</th>\n",
              "      <th>BILL_AMT6</th>\n",
              "      <th>PAY_AMT1</th>\n",
              "      <th>PAY_AMT2</th>\n",
              "      <th>PAY_AMT3</th>\n",
              "      <th>PAY_AMT4</th>\n",
              "      <th>PAY_AMT5</th>\n",
              "      <th>PAY_AMT6</th>\n",
              "      <th>Y</th>\n",
              "    </tr>\n",
              "    <tr>\n",
              "      <th>EDUCATION</th>\n",
              "      <th></th>\n",
              "      <th></th>\n",
              "      <th></th>\n",
              "      <th></th>\n",
              "      <th></th>\n",
              "      <th></th>\n",
              "      <th></th>\n",
              "      <th></th>\n",
              "      <th></th>\n",
              "      <th></th>\n",
              "      <th></th>\n",
              "      <th></th>\n",
              "      <th></th>\n",
              "      <th></th>\n",
              "      <th></th>\n",
              "      <th></th>\n",
              "      <th></th>\n",
              "      <th></th>\n",
              "      <th></th>\n",
              "      <th></th>\n",
              "      <th></th>\n",
              "      <th></th>\n",
              "      <th></th>\n",
              "      <th></th>\n",
              "    </tr>\n",
              "  </thead>\n",
              "  <tbody>\n",
              "    <tr>\n",
              "      <th>0</th>\n",
              "      <td>17091.357143</td>\n",
              "      <td>217142.857143</td>\n",
              "      <td>1.428571</td>\n",
              "      <td>1.714286</td>\n",
              "      <td>38.857143</td>\n",
              "      <td>-0.500000</td>\n",
              "      <td>-1.000000</td>\n",
              "      <td>-0.928571</td>\n",
              "      <td>-0.857143</td>\n",
              "      <td>-1.071429</td>\n",
              "      <td>-1.357143</td>\n",
              "      <td>11780.928571</td>\n",
              "      <td>10056.714286</td>\n",
              "      <td>17521.428571</td>\n",
              "      <td>13350.214286</td>\n",
              "      <td>7409.071429</td>\n",
              "      <td>5272.928571</td>\n",
              "      <td>5945.785714</td>\n",
              "      <td>13030.928571</td>\n",
              "      <td>8825.142857</td>\n",
              "      <td>3620.571429</td>\n",
              "      <td>2541.714286</td>\n",
              "      <td>3007.214286</td>\n",
              "      <td>0.000000</td>\n",
              "    </tr>\n",
              "    <tr>\n",
              "      <th>1</th>\n",
              "      <td>14697.212187</td>\n",
              "      <td>212956.069910</td>\n",
              "      <td>1.588663</td>\n",
              "      <td>1.652338</td>\n",
              "      <td>34.231838</td>\n",
              "      <td>-0.233916</td>\n",
              "      <td>-0.408125</td>\n",
              "      <td>-0.425886</td>\n",
              "      <td>-0.461974</td>\n",
              "      <td>-0.479074</td>\n",
              "      <td>-0.485971</td>\n",
              "      <td>48825.437506</td>\n",
              "      <td>47219.101181</td>\n",
              "      <td>45781.689183</td>\n",
              "      <td>42931.065187</td>\n",
              "      <td>40388.891261</td>\n",
              "      <td>38668.076051</td>\n",
              "      <td>6780.933585</td>\n",
              "      <td>7306.622201</td>\n",
              "      <td>6560.585735</td>\n",
              "      <td>5804.565612</td>\n",
              "      <td>5776.562211</td>\n",
              "      <td>6422.554842</td>\n",
              "      <td>0.192348</td>\n",
              "    </tr>\n",
              "    <tr>\n",
              "      <th>2</th>\n",
              "      <td>15024.237776</td>\n",
              "      <td>147062.437634</td>\n",
              "      <td>1.616964</td>\n",
              "      <td>1.523022</td>\n",
              "      <td>34.722096</td>\n",
              "      <td>0.102210</td>\n",
              "      <td>0.022523</td>\n",
              "      <td>-0.018532</td>\n",
              "      <td>-0.083036</td>\n",
              "      <td>-0.141411</td>\n",
              "      <td>-0.170848</td>\n",
              "      <td>53605.533999</td>\n",
              "      <td>51359.611404</td>\n",
              "      <td>48662.161582</td>\n",
              "      <td>44748.779758</td>\n",
              "      <td>41588.566287</td>\n",
              "      <td>40431.943835</td>\n",
              "      <td>5080.463293</td>\n",
              "      <td>5106.711333</td>\n",
              "      <td>4556.800000</td>\n",
              "      <td>4375.387313</td>\n",
              "      <td>4452.678689</td>\n",
              "      <td>4716.487028</td>\n",
              "      <td>0.237349</td>\n",
              "    </tr>\n",
              "    <tr>\n",
              "      <th>3</th>\n",
              "      <td>15342.314013</td>\n",
              "      <td>126550.270490</td>\n",
              "      <td>1.595282</td>\n",
              "      <td>1.421192</td>\n",
              "      <td>40.299980</td>\n",
              "      <td>0.132805</td>\n",
              "      <td>0.040879</td>\n",
              "      <td>0.002644</td>\n",
              "      <td>-0.066504</td>\n",
              "      <td>-0.139313</td>\n",
              "      <td>-0.183649</td>\n",
              "      <td>47563.546065</td>\n",
              "      <td>45520.299776</td>\n",
              "      <td>43440.916616</td>\n",
              "      <td>38718.582266</td>\n",
              "      <td>35957.469392</td>\n",
              "      <td>34704.597315</td>\n",
              "      <td>4866.397397</td>\n",
              "      <td>5053.454139</td>\n",
              "      <td>3964.056742</td>\n",
              "      <td>3992.658532</td>\n",
              "      <td>3599.658938</td>\n",
              "      <td>3825.749034</td>\n",
              "      <td>0.251576</td>\n",
              "    </tr>\n",
              "    <tr>\n",
              "      <th>4</th>\n",
              "      <td>18143.447154</td>\n",
              "      <td>220894.308943</td>\n",
              "      <td>1.658537</td>\n",
              "      <td>1.601626</td>\n",
              "      <td>33.853659</td>\n",
              "      <td>-0.504065</td>\n",
              "      <td>-0.772358</td>\n",
              "      <td>-0.764228</td>\n",
              "      <td>-0.813008</td>\n",
              "      <td>-0.780488</td>\n",
              "      <td>-0.739837</td>\n",
              "      <td>54631.902439</td>\n",
              "      <td>47308.967480</td>\n",
              "      <td>44983.804878</td>\n",
              "      <td>39570.268293</td>\n",
              "      <td>33840.113821</td>\n",
              "      <td>32136.130081</td>\n",
              "      <td>5450.512195</td>\n",
              "      <td>6555.008130</td>\n",
              "      <td>9990.626016</td>\n",
              "      <td>5104.861789</td>\n",
              "      <td>5991.642276</td>\n",
              "      <td>4284.967480</td>\n",
              "      <td>0.056911</td>\n",
              "    </tr>\n",
              "    <tr>\n",
              "      <th>5</th>\n",
              "      <td>17443.664286</td>\n",
              "      <td>168164.285714</td>\n",
              "      <td>1.660714</td>\n",
              "      <td>1.475000</td>\n",
              "      <td>35.600000</td>\n",
              "      <td>-0.121429</td>\n",
              "      <td>-0.303571</td>\n",
              "      <td>-0.375000</td>\n",
              "      <td>-0.375000</td>\n",
              "      <td>-0.389286</td>\n",
              "      <td>-0.521429</td>\n",
              "      <td>81614.232143</td>\n",
              "      <td>75743.992857</td>\n",
              "      <td>71743.357143</td>\n",
              "      <td>62275.767857</td>\n",
              "      <td>53568.014286</td>\n",
              "      <td>46083.860714</td>\n",
              "      <td>5970.714286</td>\n",
              "      <td>8912.921429</td>\n",
              "      <td>7718.510714</td>\n",
              "      <td>4927.332143</td>\n",
              "      <td>4633.246429</td>\n",
              "      <td>7772.114286</td>\n",
              "      <td>0.064286</td>\n",
              "    </tr>\n",
              "    <tr>\n",
              "      <th>6</th>\n",
              "      <td>16895.019608</td>\n",
              "      <td>148235.294118</td>\n",
              "      <td>1.509804</td>\n",
              "      <td>1.490196</td>\n",
              "      <td>43.901961</td>\n",
              "      <td>-0.176471</td>\n",
              "      <td>-0.313725</td>\n",
              "      <td>-0.372549</td>\n",
              "      <td>-0.411765</td>\n",
              "      <td>-0.509804</td>\n",
              "      <td>-0.647059</td>\n",
              "      <td>82165.313725</td>\n",
              "      <td>78260.627451</td>\n",
              "      <td>70586.313725</td>\n",
              "      <td>54259.490196</td>\n",
              "      <td>44510.745098</td>\n",
              "      <td>39578.509804</td>\n",
              "      <td>9780.450980</td>\n",
              "      <td>6176.431373</td>\n",
              "      <td>7644.941176</td>\n",
              "      <td>5179.490196</td>\n",
              "      <td>11691.137255</td>\n",
              "      <td>14773.901961</td>\n",
              "      <td>0.156863</td>\n",
              "    </tr>\n",
              "  </tbody>\n",
              "</table>\n",
              "</div>"
            ],
            "text/plain": [
              "                     ID      LIMIT_BAL  ...      PAY_AMT6         Y\n",
              "EDUCATION                               ...                        \n",
              "0          17091.357143  217142.857143  ...   3007.214286  0.000000\n",
              "1          14697.212187  212956.069910  ...   6422.554842  0.192348\n",
              "2          15024.237776  147062.437634  ...   4716.487028  0.237349\n",
              "3          15342.314013  126550.270490  ...   3825.749034  0.251576\n",
              "4          18143.447154  220894.308943  ...   4284.967480  0.056911\n",
              "5          17443.664286  168164.285714  ...   7772.114286  0.064286\n",
              "6          16895.019608  148235.294118  ...  14773.901961  0.156863\n",
              "\n",
              "[7 rows x 24 columns]"
            ]
          },
          "metadata": {},
          "execution_count": 46
        }
      ]
    },
    {
      "cell_type": "code",
      "metadata": {
        "colab": {
          "base_uri": "https://localhost:8080/",
          "height": 224
        },
        "id": "7myf3jFScQyu",
        "outputId": "00aad84b-8ba9-4627-f642-82828fcdfd3b"
      },
      "source": [
        "#Obtaining the average of each of the classes of marriage status of clients.\n",
        "data.groupby('MARRIAGE').mean()"
      ],
      "execution_count": null,
      "outputs": [
        {
          "output_type": "execute_result",
          "data": {
            "text/html": [
              "<div>\n",
              "<style scoped>\n",
              "    .dataframe tbody tr th:only-of-type {\n",
              "        vertical-align: middle;\n",
              "    }\n",
              "\n",
              "    .dataframe tbody tr th {\n",
              "        vertical-align: top;\n",
              "    }\n",
              "\n",
              "    .dataframe thead th {\n",
              "        text-align: right;\n",
              "    }\n",
              "</style>\n",
              "<table border=\"1\" class=\"dataframe\">\n",
              "  <thead>\n",
              "    <tr style=\"text-align: right;\">\n",
              "      <th></th>\n",
              "      <th>ID</th>\n",
              "      <th>LIMIT_BAL</th>\n",
              "      <th>SEX</th>\n",
              "      <th>EDUCATION</th>\n",
              "      <th>AGE</th>\n",
              "      <th>PAY_0</th>\n",
              "      <th>PAY_2</th>\n",
              "      <th>PAY_3</th>\n",
              "      <th>PAY_4</th>\n",
              "      <th>PAY_5</th>\n",
              "      <th>PAY_6</th>\n",
              "      <th>BILL_AMT1</th>\n",
              "      <th>BILL_AMT2</th>\n",
              "      <th>BILL_AMT3</th>\n",
              "      <th>BILL_AMT4</th>\n",
              "      <th>BILL_AMT5</th>\n",
              "      <th>BILL_AMT6</th>\n",
              "      <th>PAY_AMT1</th>\n",
              "      <th>PAY_AMT2</th>\n",
              "      <th>PAY_AMT3</th>\n",
              "      <th>PAY_AMT4</th>\n",
              "      <th>PAY_AMT5</th>\n",
              "      <th>PAY_AMT6</th>\n",
              "      <th>Y</th>\n",
              "    </tr>\n",
              "    <tr>\n",
              "      <th>MARRIAGE</th>\n",
              "      <th></th>\n",
              "      <th></th>\n",
              "      <th></th>\n",
              "      <th></th>\n",
              "      <th></th>\n",
              "      <th></th>\n",
              "      <th></th>\n",
              "      <th></th>\n",
              "      <th></th>\n",
              "      <th></th>\n",
              "      <th></th>\n",
              "      <th></th>\n",
              "      <th></th>\n",
              "      <th></th>\n",
              "      <th></th>\n",
              "      <th></th>\n",
              "      <th></th>\n",
              "      <th></th>\n",
              "      <th></th>\n",
              "      <th></th>\n",
              "      <th></th>\n",
              "      <th></th>\n",
              "      <th></th>\n",
              "      <th></th>\n",
              "    </tr>\n",
              "  </thead>\n",
              "  <tbody>\n",
              "    <tr>\n",
              "      <th>0</th>\n",
              "      <td>15755.796296</td>\n",
              "      <td>132962.962963</td>\n",
              "      <td>1.740741</td>\n",
              "      <td>2.740741</td>\n",
              "      <td>37.814815</td>\n",
              "      <td>-0.166667</td>\n",
              "      <td>-0.203704</td>\n",
              "      <td>-0.203704</td>\n",
              "      <td>-0.370370</td>\n",
              "      <td>-0.407407</td>\n",
              "      <td>-0.425926</td>\n",
              "      <td>20400.611111</td>\n",
              "      <td>23964.777778</td>\n",
              "      <td>19253.370370</td>\n",
              "      <td>19007.222222</td>\n",
              "      <td>17719.203704</td>\n",
              "      <td>16815.425926</td>\n",
              "      <td>7795.111111</td>\n",
              "      <td>2781.944444</td>\n",
              "      <td>4027.944444</td>\n",
              "      <td>2864.222222</td>\n",
              "      <td>2124.518519</td>\n",
              "      <td>2238.388889</td>\n",
              "      <td>0.092593</td>\n",
              "    </tr>\n",
              "    <tr>\n",
              "      <th>1</th>\n",
              "      <td>15253.288821</td>\n",
              "      <td>182200.893184</td>\n",
              "      <td>1.620031</td>\n",
              "      <td>1.985138</td>\n",
              "      <td>40.016692</td>\n",
              "      <td>-0.036752</td>\n",
              "      <td>-0.163262</td>\n",
              "      <td>-0.206238</td>\n",
              "      <td>-0.259243</td>\n",
              "      <td>-0.308441</td>\n",
              "      <td>-0.331064</td>\n",
              "      <td>53258.129072</td>\n",
              "      <td>50925.088147</td>\n",
              "      <td>48981.229592</td>\n",
              "      <td>44891.819094</td>\n",
              "      <td>41975.121824</td>\n",
              "      <td>40250.686946</td>\n",
              "      <td>5789.741562</td>\n",
              "      <td>6205.714401</td>\n",
              "      <td>5328.491983</td>\n",
              "      <td>5075.922469</td>\n",
              "      <td>4836.070503</td>\n",
              "      <td>5331.664836</td>\n",
              "      <td>0.234717</td>\n",
              "    </tr>\n",
              "    <tr>\n",
              "      <th>2</th>\n",
              "      <td>14807.277813</td>\n",
              "      <td>156413.660737</td>\n",
              "      <td>1.589514</td>\n",
              "      <td>1.729454</td>\n",
              "      <td>31.452706</td>\n",
              "      <td>-0.002819</td>\n",
              "      <td>-0.111000</td>\n",
              "      <td>-0.135680</td>\n",
              "      <td>-0.191118</td>\n",
              "      <td>-0.232085</td>\n",
              "      <td>-0.260085</td>\n",
              "      <td>49749.414746</td>\n",
              "      <td>47955.188111</td>\n",
              "      <td>45621.441493</td>\n",
              "      <td>42194.771674</td>\n",
              "      <td>39207.970120</td>\n",
              "      <td>37974.720308</td>\n",
              "      <td>5523.197194</td>\n",
              "      <td>5648.984465</td>\n",
              "      <td>5123.063518</td>\n",
              "      <td>4612.971185</td>\n",
              "      <td>4781.813581</td>\n",
              "      <td>5162.734340</td>\n",
              "      <td>0.209283</td>\n",
              "    </tr>\n",
              "    <tr>\n",
              "      <th>3</th>\n",
              "      <td>13734.154799</td>\n",
              "      <td>98080.495356</td>\n",
              "      <td>1.594427</td>\n",
              "      <td>2.235294</td>\n",
              "      <td>42.798762</td>\n",
              "      <td>0.170279</td>\n",
              "      <td>0.000000</td>\n",
              "      <td>0.024768</td>\n",
              "      <td>-0.024768</td>\n",
              "      <td>-0.142415</td>\n",
              "      <td>-0.111455</td>\n",
              "      <td>43176.012384</td>\n",
              "      <td>40048.777090</td>\n",
              "      <td>37212.554180</td>\n",
              "      <td>31230.300310</td>\n",
              "      <td>28269.250774</td>\n",
              "      <td>28582.696594</td>\n",
              "      <td>6910.461300</td>\n",
              "      <td>7865.136223</td>\n",
              "      <td>6150.086687</td>\n",
              "      <td>5121.179567</td>\n",
              "      <td>4563.919505</td>\n",
              "      <td>3408.987616</td>\n",
              "      <td>0.260062</td>\n",
              "    </tr>\n",
              "  </tbody>\n",
              "</table>\n",
              "</div>"
            ],
            "text/plain": [
              "                    ID      LIMIT_BAL  ...     PAY_AMT6         Y\n",
              "MARRIAGE                               ...                       \n",
              "0         15755.796296  132962.962963  ...  2238.388889  0.092593\n",
              "1         15253.288821  182200.893184  ...  5331.664836  0.234717\n",
              "2         14807.277813  156413.660737  ...  5162.734340  0.209283\n",
              "3         13734.154799   98080.495356  ...  3408.987616  0.260062\n",
              "\n",
              "[4 rows x 24 columns]"
            ]
          },
          "metadata": {},
          "execution_count": 47
        }
      ]
    },
    {
      "cell_type": "code",
      "metadata": {
        "colab": {
          "base_uri": "https://localhost:8080/",
          "height": 142
        },
        "id": "ZfC0Mnjtg35Y",
        "outputId": "4961c8af-ad6e-4c04-c199-1b2614650866"
      },
      "source": [
        "#Obtaiing the contingency table.\n",
        "pd.crosstab(data.SEX,data.Y)"
      ],
      "execution_count": null,
      "outputs": [
        {
          "output_type": "execute_result",
          "data": {
            "text/html": [
              "<div>\n",
              "<style scoped>\n",
              "    .dataframe tbody tr th:only-of-type {\n",
              "        vertical-align: middle;\n",
              "    }\n",
              "\n",
              "    .dataframe tbody tr th {\n",
              "        vertical-align: top;\n",
              "    }\n",
              "\n",
              "    .dataframe thead th {\n",
              "        text-align: right;\n",
              "    }\n",
              "</style>\n",
              "<table border=\"1\" class=\"dataframe\">\n",
              "  <thead>\n",
              "    <tr style=\"text-align: right;\">\n",
              "      <th>Y</th>\n",
              "      <th>0</th>\n",
              "      <th>1</th>\n",
              "    </tr>\n",
              "    <tr>\n",
              "      <th>SEX</th>\n",
              "      <th></th>\n",
              "      <th></th>\n",
              "    </tr>\n",
              "  </thead>\n",
              "  <tbody>\n",
              "    <tr>\n",
              "      <th>1</th>\n",
              "      <td>9015</td>\n",
              "      <td>2873</td>\n",
              "    </tr>\n",
              "    <tr>\n",
              "      <th>2</th>\n",
              "      <td>14349</td>\n",
              "      <td>3763</td>\n",
              "    </tr>\n",
              "  </tbody>\n",
              "</table>\n",
              "</div>"
            ],
            "text/plain": [
              "Y        0     1\n",
              "SEX             \n",
              "1     9015  2873\n",
              "2    14349  3763"
            ]
          },
          "metadata": {},
          "execution_count": 48
        }
      ]
    },
    {
      "cell_type": "markdown",
      "metadata": {
        "id": "HALRtxQrhCcb"
      },
      "source": [
        "Thus it is observed that most of the clients who are no- default are males while there are around 2873 default female clients."
      ]
    },
    {
      "cell_type": "code",
      "metadata": {
        "colab": {
          "base_uri": "https://localhost:8080/",
          "height": 204
        },
        "id": "1vcDL5xiel3Z",
        "outputId": "652500ba-b6e8-471f-d240-955bc1eabc41"
      },
      "source": [
        "#Obtaiing the contingency table.\n",
        "pd.crosstab(data.MARRIAGE,data.Y)"
      ],
      "execution_count": null,
      "outputs": [
        {
          "output_type": "execute_result",
          "data": {
            "text/html": [
              "<div>\n",
              "<style scoped>\n",
              "    .dataframe tbody tr th:only-of-type {\n",
              "        vertical-align: middle;\n",
              "    }\n",
              "\n",
              "    .dataframe tbody tr th {\n",
              "        vertical-align: top;\n",
              "    }\n",
              "\n",
              "    .dataframe thead th {\n",
              "        text-align: right;\n",
              "    }\n",
              "</style>\n",
              "<table border=\"1\" class=\"dataframe\">\n",
              "  <thead>\n",
              "    <tr style=\"text-align: right;\">\n",
              "      <th>Y</th>\n",
              "      <th>0</th>\n",
              "      <th>1</th>\n",
              "    </tr>\n",
              "    <tr>\n",
              "      <th>MARRIAGE</th>\n",
              "      <th></th>\n",
              "      <th></th>\n",
              "    </tr>\n",
              "  </thead>\n",
              "  <tbody>\n",
              "    <tr>\n",
              "      <th>0</th>\n",
              "      <td>49</td>\n",
              "      <td>5</td>\n",
              "    </tr>\n",
              "    <tr>\n",
              "      <th>1</th>\n",
              "      <td>10453</td>\n",
              "      <td>3206</td>\n",
              "    </tr>\n",
              "    <tr>\n",
              "      <th>2</th>\n",
              "      <td>12623</td>\n",
              "      <td>3341</td>\n",
              "    </tr>\n",
              "    <tr>\n",
              "      <th>3</th>\n",
              "      <td>239</td>\n",
              "      <td>84</td>\n",
              "    </tr>\n",
              "  </tbody>\n",
              "</table>\n",
              "</div>"
            ],
            "text/plain": [
              "Y             0     1\n",
              "MARRIAGE             \n",
              "0            49     5\n",
              "1         10453  3206\n",
              "2         12623  3341\n",
              "3           239    84"
            ]
          },
          "metadata": {},
          "execution_count": 49
        }
      ]
    },
    {
      "cell_type": "markdown",
      "metadata": {
        "id": "-TwLvWmshWUp"
      },
      "source": [
        "Thus it is observed that the maximum number of default female clients are single."
      ]
    },
    {
      "cell_type": "code",
      "metadata": {
        "colab": {
          "base_uri": "https://localhost:8080/",
          "height": 297
        },
        "id": "_A70xMgrX6-J",
        "outputId": "0dd22daa-d966-40b9-e281-c0a996266995"
      },
      "source": [
        "#Obtaiing the contingency table.\n",
        "pd.crosstab(data.EDUCATION,data.Y)"
      ],
      "execution_count": null,
      "outputs": [
        {
          "output_type": "execute_result",
          "data": {
            "text/html": [
              "<div>\n",
              "<style scoped>\n",
              "    .dataframe tbody tr th:only-of-type {\n",
              "        vertical-align: middle;\n",
              "    }\n",
              "\n",
              "    .dataframe tbody tr th {\n",
              "        vertical-align: top;\n",
              "    }\n",
              "\n",
              "    .dataframe thead th {\n",
              "        text-align: right;\n",
              "    }\n",
              "</style>\n",
              "<table border=\"1\" class=\"dataframe\">\n",
              "  <thead>\n",
              "    <tr style=\"text-align: right;\">\n",
              "      <th>Y</th>\n",
              "      <th>0</th>\n",
              "      <th>1</th>\n",
              "    </tr>\n",
              "    <tr>\n",
              "      <th>EDUCATION</th>\n",
              "      <th></th>\n",
              "      <th></th>\n",
              "    </tr>\n",
              "  </thead>\n",
              "  <tbody>\n",
              "    <tr>\n",
              "      <th>0</th>\n",
              "      <td>14</td>\n",
              "      <td>0</td>\n",
              "    </tr>\n",
              "    <tr>\n",
              "      <th>1</th>\n",
              "      <td>8549</td>\n",
              "      <td>2036</td>\n",
              "    </tr>\n",
              "    <tr>\n",
              "      <th>2</th>\n",
              "      <td>10700</td>\n",
              "      <td>3330</td>\n",
              "    </tr>\n",
              "    <tr>\n",
              "      <th>3</th>\n",
              "      <td>3680</td>\n",
              "      <td>1237</td>\n",
              "    </tr>\n",
              "    <tr>\n",
              "      <th>4</th>\n",
              "      <td>116</td>\n",
              "      <td>7</td>\n",
              "    </tr>\n",
              "    <tr>\n",
              "      <th>5</th>\n",
              "      <td>262</td>\n",
              "      <td>18</td>\n",
              "    </tr>\n",
              "    <tr>\n",
              "      <th>6</th>\n",
              "      <td>43</td>\n",
              "      <td>8</td>\n",
              "    </tr>\n",
              "  </tbody>\n",
              "</table>\n",
              "</div>"
            ],
            "text/plain": [
              "Y              0     1\n",
              "EDUCATION             \n",
              "0             14     0\n",
              "1           8549  2036\n",
              "2          10700  3330\n",
              "3           3680  1237\n",
              "4            116     7\n",
              "5            262    18\n",
              "6             43     8"
            ]
          },
          "metadata": {},
          "execution_count": 51
        }
      ]
    },
    {
      "cell_type": "markdown",
      "metadata": {
        "id": "a-9sW6oPYAFt"
      },
      "source": [
        "Thus it is observed that the maximum number of default female clients are university graduate and maximum number of non default clients of bank are also university graduates.."
      ]
    },
    {
      "cell_type": "code",
      "metadata": {
        "colab": {
          "base_uri": "https://localhost:8080/",
          "height": 309
        },
        "id": "ObiVgzRzhlXo",
        "outputId": "d9dcc94d-ddc8-423c-aa40-54da7cffe228"
      },
      "source": [
        "#BAR PLOT FOR CLIENT TYPE (DEFAULT OR NON DEFAULT) UNDER EACH GENDER CATEGORY\n",
        "pd.crosstab(data.MARRIAGE,data.Y).plot(kind='bar')\n",
        "plt.title('CLIENT TYPE (DEFAULT OR NON DEFAULT) UNDER EACH GENDER CATEGORY[FIGURE 2]')\n",
        "plt.xlabel('Gender')\n",
        "plt.ylabel('Frequency of client type')"
      ],
      "execution_count": null,
      "outputs": [
        {
          "output_type": "execute_result",
          "data": {
            "text/plain": [
              "Text(0, 0.5, 'Frequency of client type')"
            ]
          },
          "metadata": {},
          "execution_count": 50
        },
        {
          "output_type": "display_data",
          "data": {
            "image/png": "[encoded data removed]",
            "text/plain": [
              "<Figure size 432x288 with 1 Axes>"
            ]
          },
          "metadata": {
            "needs_background": "light"
          }
        }
      ]
    },
    {
      "cell_type": "markdown",
      "metadata": {
        "id": "dHQpA3O-m2KW"
      },
      "source": [
        "Thus, it is observed from the visualization that proportion of default and non default female clients is more among all the clients of the bank. "
      ]
    },
    {
      "cell_type": "code",
      "metadata": {
        "colab": {
          "base_uri": "https://localhost:8080/",
          "height": 309
        },
        "id": "IRSE_MMCoOtn",
        "outputId": "ca6ec77c-1e28-42c0-fd89-7066880a7355"
      },
      "source": [
        "#BAR PLOT FOR CLIENT TYPE (DEFAULT OR NON DEFAULT) UNDER EACH MARRIAGE STATUS CATEGORY\n",
        "pd.crosstab(data.MARRIAGE,data.Y).plot(kind='bar')\n",
        "plt.title('CLIENT TYPE (DEFAULT OR NON DEFAULT) UNDER EACH MARRIAGE STATUS CATEGORY[FIGURE 3]')\n",
        "plt.xlabel('Marriage status')\n",
        "plt.ylabel('Frequency of client type')"
      ],
      "execution_count": null,
      "outputs": [
        {
          "output_type": "execute_result",
          "data": {
            "text/plain": [
              "Text(0, 0.5, 'Frequency of client type')"
            ]
          },
          "metadata": {},
          "execution_count": 52
        },
        {
          "output_type": "display_data",
          "data": {
            "image/png": "[encoded data removed]",
            "text/plain": [
              "<Figure size 432x288 with 1 Axes>"
            ]
          },
          "metadata": {
            "needs_background": "light"
          }
        }
      ]
    },
    {
      "cell_type": "markdown",
      "metadata": {
        "id": "eWWDmq8snVEU"
      },
      "source": [
        "Thus, from figure 3 it is observed that most of the default clients are single."
      ]
    },
    {
      "cell_type": "code",
      "metadata": {
        "colab": {
          "base_uri": "https://localhost:8080/",
          "height": 309
        },
        "id": "TcG9WwvhYiAv",
        "outputId": "6bbb3f21-3623-40b3-9924-15e4295fe5c6"
      },
      "source": [
        "#BAR PLOT FOR CLIENT TYPE (DEFAULT OR NON DEFAULT) UNDER EACH EDUCATION LEVEL\n",
        "pd.crosstab(data.EDUCATION,data.Y).plot(kind='bar')\n",
        "plt.title('CLIENT TYPE (DEFAULT OR NON DEFAULT) UNDER EACH EDUCATION LEVEL[FIGURE 4]')\n",
        "plt.xlabel('Education level')\n",
        "plt.ylabel('Frequency of client type')"
      ],
      "execution_count": null,
      "outputs": [
        {
          "output_type": "execute_result",
          "data": {
            "text/plain": [
              "Text(0, 0.5, 'Frequency of client type')"
            ]
          },
          "metadata": {},
          "execution_count": 54
        },
        {
          "output_type": "display_data",
          "data": {
            "image/png": "[encoded data removed]",
            "text/plain": [
              "<Figure size 432x288 with 1 Axes>"
            ]
          },
          "metadata": {
            "needs_background": "light"
          }
        }
      ]
    },
    {
      "cell_type": "markdown",
      "metadata": {
        "id": "ElM8OyQYnyJc"
      },
      "source": [
        "From figure 4 we observe that most of the default clients are university student this could be due to the level of irresponsibilty students have"
      ]
    },
    {
      "cell_type": "code",
      "metadata": {
        "colab": {
          "base_uri": "https://localhost:8080/",
          "height": 309
        },
        "id": "7HRBZI9ionHs",
        "outputId": "b7121c50-7f27-4adf-dac5-6580ee30ee96"
      },
      "source": [
        "#Stacked Bar Chart of education vs client type\n",
        "table=pd.crosstab(data.EDUCATION,data.Y)\n",
        "table.div(table.sum(1).astype(float), axis=0).plot(kind='bar', stacked=True)\n",
        "plt.title('STACKED BAR CHART OF EDUCATION VS CLIENT TYPE [FIGURE 5]')\n",
        "plt.xlabel('Education')\n",
        "plt.ylabel('Proportion of client type')"
      ],
      "execution_count": null,
      "outputs": [
        {
          "output_type": "execute_result",
          "data": {
            "text/plain": [
              "Text(0, 0.5, 'Proportion of client type')"
            ]
          },
          "metadata": {},
          "execution_count": 55
        },
        {
          "output_type": "display_data",
          "data": {
            "image/png": "[encoded data removed]",
            "text/plain": [
              "<Figure size 432x288 with 1 Axes>"
            ]
          },
          "metadata": {
            "needs_background": "light"
          }
        }
      ]
    },
    {
      "cell_type": "markdown",
      "metadata": {
        "id": "N3glu8gPoR7l"
      },
      "source": [
        "From figure 5 we observe that the proportion of default clients of bank of Taiwan studies in high school."
      ]
    },
    {
      "cell_type": "code",
      "metadata": {
        "colab": {
          "base_uri": "https://localhost:8080/",
          "height": 312
        },
        "id": "ptbYGvdpp0Tw",
        "outputId": "2aabbd4a-c2f5-4d22-d6cc-bbd9a0e34f7c"
      },
      "source": [
        "#Histogram of limit balance of a client\n",
        "data.LIMIT_BAL.hist()\n",
        "plt.title('HISTOGRAM OF CLIENTS LIMIT BALANCE[FIGURE 6]')\n",
        "plt.xlabel('Limit balance')\n",
        "plt.ylabel('Frequency')\n"
      ],
      "execution_count": null,
      "outputs": [
        {
          "output_type": "execute_result",
          "data": {
            "text/plain": [
              "Text(0, 0.5, 'Frequency')"
            ]
          },
          "metadata": {},
          "execution_count": 58
        },
        {
          "output_type": "display_data",
          "data": {
            "image/png": "[encoded data removed]",
            "text/plain": [
              "<Figure size 432x288 with 1 Axes>"
            ]
          },
          "metadata": {
            "needs_background": "light"
          }
        }
      ]
    },
    {
      "cell_type": "markdown",
      "metadata": {
        "id": "JEh04Gtvol24"
      },
      "source": [
        "From, figure 6 we observe that the client's limit balance is positively skewed."
      ]
    },
    {
      "cell_type": "code",
      "metadata": {
        "colab": {
          "base_uri": "https://localhost:8080/",
          "height": 312
        },
        "id": "bv58AQELqYhz",
        "outputId": "9f9567bf-a245-4f6e-e48d-4187ad1c406b"
      },
      "source": [
        "#Histogram of client's age\n",
        "data.AGE.hist()\n",
        "plt.title('HISTOGRAM OF CLIENTS AGE[FIGURE 7]')\n",
        "plt.xlabel('Age')\n",
        "plt.ylabel('Frequency')"
      ],
      "execution_count": null,
      "outputs": [
        {
          "output_type": "execute_result",
          "data": {
            "text/plain": [
              "Text(0, 0.5, 'Frequency')"
            ]
          },
          "metadata": {},
          "execution_count": 59
        },
        {
          "output_type": "display_data",
          "data": {
            "image/png": "[encoded data removed]",
            "text/plain": [
              "<Figure size 432x288 with 1 Axes>"
            ]
          },
          "metadata": {
            "needs_background": "light"
          }
        }
      ]
    },
    {
      "cell_type": "markdown",
      "metadata": {
        "id": "RRRm5P0Po_aw"
      },
      "source": [
        "From, figure 6 we observe that the client's age is also positively skewed."
      ]
    },
    {
      "cell_type": "code",
      "metadata": {
        "colab": {
          "base_uri": "https://localhost:8080/",
          "height": 585
        },
        "id": "NU1QwIJYtJnC",
        "outputId": "be9bb1df-992c-43ca-fe66-8dbef6474d40"
      },
      "source": [
        "#Plotting a box plot for Limit Balance.\n",
        "fig=plt.figure(figsize=(20,8))\n",
        "ax=fig.add_subplot(122)\n",
        "sns.boxplot(data=data['LIMIT_BAL'],palette='pastel',width=0.15,ax=ax)\n",
        "ax.set_title('Box Plot: Limit Balance of a client [Figure 8]')\n",
        "ax.set_xlabel('Limit Balance')\n",
        "ax.set_ylabel('Limit Balance')\n",
        "plt.tight_layout()\n",
        "plt.show()"
      ],
      "execution_count": null,
      "outputs": [
        {
          "output_type": "display_data",
          "data": {
            "image/png": "[encoded data removed]",
            "text/plain": [
              "<Figure size 1440x576 with 1 Axes>"
            ]
          },
          "metadata": {
            "needs_background": "light"
          }
        }
      ]
    },
    {
      "cell_type": "markdown",
      "metadata": {
        "id": "WjeaCbPwtelj"
      },
      "source": [
        "Thus we observe that there exist outliers in the datase of limit balance."
      ]
    },
    {
      "cell_type": "code",
      "metadata": {
        "colab": {
          "base_uri": "https://localhost:8080/",
          "height": 585
        },
        "id": "NcgSma0atnZN",
        "outputId": "d61e61e0-97ea-4007-d0b6-899730ebba3f"
      },
      "source": [
        "#Plotting a box plot Age.\n",
        "fig=plt.figure(figsize=(20,8))\n",
        "ax=fig.add_subplot(122)\n",
        "sns.boxplot(data=data['AGE'],palette='pastel',width=0.15,ax=ax)\n",
        "ax.set_title('Box Plot: Age of a client [Figure 9]')\n",
        "ax.set_xlabel('Age')\n",
        "ax.set_ylabel('Age')\n",
        "plt.tight_layout()\n",
        "plt.show()"
      ],
      "execution_count": null,
      "outputs": [
        {
          "output_type": "display_data",
          "data": {
            "image/png": "[encoded data removed]",
            "text/plain": [
              "<Figure size 1440x576 with 1 Axes>"
            ]
          },
          "metadata": {
            "needs_background": "light"
          }
        }
      ]
    },
    {
      "cell_type": "markdown",
      "metadata": {
        "id": "5bQvBwgSt-20"
      },
      "source": [
        "Thus we observe that there exist outliers in the datase of limit balance."
      ]
    },
    {
      "cell_type": "code",
      "metadata": {
        "id": "_homSi1FtqKm"
      },
      "source": [
        "#Plotting a box plot for Limit Balance.\n",
        "fig=plt.figure(figsize=(20,8))\n",
        "ax=fig.add_subplot(122)\n",
        "sns.boxplot(data=data['LIMIT_BAL'],palette='pastel',width=0.15,ax=ax)\n",
        "ax.set_title('Box Plot: Limit Balance of a client [Figure 11]')\n",
        "ax.set_xlabel('Limit Balance')\n",
        "ax.set_ylabel('Limit Balance')\n",
        "plt.tight_layout()\n",
        "plt.show()"
      ],
      "execution_count": null,
      "outputs": []
    },
    {
      "cell_type": "markdown",
      "metadata": {
        "id": "xeU62Z24zYoO"
      },
      "source": [
        "**ANALYSIS**"
      ]
    },
    {
      "cell_type": "markdown",
      "metadata": {
        "id": "esWkFwbRzel5"
      },
      "source": [
        "CODING CATEGORICAL VARIABLES: Here in our dataset it is not needed to create a dummy variables since the categorical variables are already existing in numerical or boolean form."
      ]
    },
    {
      "cell_type": "code",
      "metadata": {
        "id": "SOfm1Sup1ZmR"
      },
      "source": [
        "#Specifying the column names that is to be remove from the dataset which will be used for the analysis.\n",
        "cat_vars=['ID']\n",
        "\n",
        "#converting column names to list\n",
        "data_vars=data.columns.values.tolist() \n",
        "\n",
        "#to remove the variables that are not needed\n",
        "to_keep=[i for i in data_vars if i not in cat_vars]"
      ],
      "execution_count": null,
      "outputs": []
    },
    {
      "cell_type": "code",
      "metadata": {
        "colab": {
          "base_uri": "https://localhost:8080/"
        },
        "id": "XsXm38yF12FP",
        "outputId": "63f01413-a3e4-4fe1-8959-eb7071e7ab06"
      },
      "source": [
        "#Variable names list of all the variables present in the dataset.\n",
        "data_vars"
      ],
      "execution_count": null,
      "outputs": [
        {
          "output_type": "execute_result",
          "data": {
            "text/plain": [
              "['ID',\n",
              " 'LIMIT_BAL',\n",
              " 'SEX',\n",
              " 'EDUCATION',\n",
              " 'MARRIAGE',\n",
              " 'AGE',\n",
              " 'PAY_0',\n",
              " 'PAY_2',\n",
              " 'PAY_3',\n",
              " 'PAY_4',\n",
              " 'PAY_5',\n",
              " 'PAY_6',\n",
              " 'BILL_AMT1',\n",
              " 'BILL_AMT2',\n",
              " 'BILL_AMT3',\n",
              " 'BILL_AMT4',\n",
              " 'BILL_AMT5',\n",
              " 'BILL_AMT6',\n",
              " 'PAY_AMT1',\n",
              " 'PAY_AMT2',\n",
              " 'PAY_AMT3',\n",
              " 'PAY_AMT4',\n",
              " 'PAY_AMT5',\n",
              " 'PAY_AMT6',\n",
              " 'Y']"
            ]
          },
          "metadata": {},
          "execution_count": 69
        }
      ]
    },
    {
      "cell_type": "code",
      "metadata": {
        "colab": {
          "base_uri": "https://localhost:8080/"
        },
        "id": "mi3qVMFm2DxH",
        "outputId": "c7aa4f23-39f6-4dca-bf05-245d09f2327e"
      },
      "source": [
        "#Final data which will be used for the analysis by removing all the unnecessary columns.\n",
        "data_final=data[to_keep]\n",
        "data_final.columns.values"
      ],
      "execution_count": null,
      "outputs": [
        {
          "output_type": "execute_result",
          "data": {
            "text/plain": [
              "array(['LIMIT_BAL', 'SEX', 'EDUCATION', 'MARRIAGE', 'AGE', 'PAY_0',\n",
              "       'PAY_2', 'PAY_3', 'PAY_4', 'PAY_5', 'PAY_6', 'BILL_AMT1',\n",
              "       'BILL_AMT2', 'BILL_AMT3', 'BILL_AMT4', 'BILL_AMT5', 'BILL_AMT6',\n",
              "       'PAY_AMT1', 'PAY_AMT2', 'PAY_AMT3', 'PAY_AMT4', 'PAY_AMT5',\n",
              "       'PAY_AMT6', 'Y'], dtype=object)"
            ]
          },
          "metadata": {},
          "execution_count": 70
        }
      ]
    },
    {
      "cell_type": "markdown",
      "metadata": {
        "id": "77DdD_Eqbg9N"
      },
      "source": [
        "Thus, these are the names of the columns which are to be kept for the analysis."
      ]
    },
    {
      "cell_type": "markdown",
      "metadata": {
        "id": "8QQCvZ0j0UI4"
      },
      "source": [
        "SYNTHETIC MINORITY OVERSAMPLING TECHNIQUE (SMOTE)"
      ]
    },
    {
      "cell_type": "code",
      "metadata": {
        "id": "_yaiUNoX2qi3"
      },
      "source": [
        "#Diving the variables into the set of x (independent variable) an y (dependent variable)\n",
        "X = data_final.loc[:, data_final.columns != 'Y']\n",
        "y = data_final.loc[:, data_final.columns == 'Y']"
      ],
      "execution_count": null,
      "outputs": []
    },
    {
      "cell_type": "code",
      "metadata": {
        "colab": {
          "base_uri": "https://localhost:8080/"
        },
        "id": "JPcEPOPX26JP",
        "outputId": "0b19c8da-0d2b-4c26-a5c3-70b11d8c8f78"
      },
      "source": [
        "#Installing the library\n",
        "!pip install imbalanced-learn "
      ],
      "execution_count": null,
      "outputs": [
        {
          "output_type": "stream",
          "text": [
            "Requirement already satisfied: imbalanced-learn in /usr/local/lib/python3.7/dist-packages (0.4.3)\n",
            "Requirement already satisfied: scipy>=0.13.3 in /usr/local/lib/python3.7/dist-packages (from imbalanced-learn) (1.4.1)\n",
            "Requirement already satisfied: numpy>=1.8.2 in /usr/local/lib/python3.7/dist-packages (from imbalanced-learn) (1.19.5)\n",
            "Requirement already satisfied: scikit-learn>=0.20 in /usr/local/lib/python3.7/dist-packages (from imbalanced-learn) (0.22.2.post1)\n",
            "Requirement already satisfied: joblib>=0.11 in /usr/local/lib/python3.7/dist-packages (from scikit-learn>=0.20->imbalanced-learn) (1.0.1)\n"
          ],
          "name": "stdout"
        }
      ]
    },
    {
      "cell_type": "code",
      "metadata": {
        "colab": {
          "base_uri": "https://localhost:8080/"
        },
        "id": "uhIw_2Cm4Djm",
        "outputId": "5181300f-7b1f-4022-eccc-5fc671a5a0ce"
      },
      "source": [
        "#Performing SMOTE to deal with the minority class in imbalance data.\n",
        "from imblearn.over_sampling import SMOTE\n",
        "from sklearn.model_selection import train_test_split\n",
        "os = SMOTE(random_state=0)\n",
        "X_train, X_test, y_train, y_test = train_test_split(X, y, test_size=0.3, random_state=0)\n",
        "columns = X_train.columns\n",
        "os_data_X,os_data_y=os.fit_resample(X_train, y_train)\n",
        "os_data_X = pd.DataFrame(data=os_data_X,columns=columns )\n",
        "os_data_y= pd.DataFrame(data=os_data_y,columns=['Y'])\n",
        "# Checking the numbers of our data\n",
        "print(\"length of oversampled data is \",len(os_data_X))\n",
        "print(\"Number of automobile having 'gas' fueltype in oversampled data\",len(os_data_y[os_data_y['Y']==0]))\n",
        "print(\"Number of automobile having 'diesel' fueltype\",len(os_data_y[os_data_y['Y']==1]))\n",
        "print(\"Proportion of automobile having 'gas' fueltype in oversampled data is \",len(os_data_y[os_data_y['Y']==0])/len(os_data_X))\n",
        "print(\"Proportion of automobile having 'diesel' fueltype in oversampled data is \",len(os_data_y[os_data_y['Y']==1])/len(os_data_X))"
      ],
      "execution_count": null,
      "outputs": [
        {
          "output_type": "stream",
          "text": [
            "/usr/local/lib/python3.7/dist-packages/sklearn/externals/six.py:31: FutureWarning: The module is deprecated in version 0.21 and will be removed in version 0.23 since we've dropped support for Python 2.7. Please rely on the official version of six (https://pypi.org/project/six/).\n",
            "  \"(https://pypi.org/project/six/).\", FutureWarning)\n",
            "/usr/local/lib/python3.7/dist-packages/sklearn/utils/deprecation.py:144: FutureWarning: The sklearn.neighbors.base module is  deprecated in version 0.22 and will be removed in version 0.24. The corresponding classes / functions should instead be imported from sklearn.neighbors. Anything that cannot be imported from sklearn.neighbors is now part of the private API.\n",
            "  warnings.warn(message, FutureWarning)\n",
            "/usr/local/lib/python3.7/dist-packages/sklearn/utils/validation.py:760: DataConversionWarning: A column-vector y was passed when a 1d array was expected. Please change the shape of y to (n_samples, ), for example using ravel().\n",
            "  y = column_or_1d(y, warn=True)\n",
            "/usr/local/lib/python3.7/dist-packages/sklearn/utils/deprecation.py:87: FutureWarning: Function safe_indexing is deprecated; safe_indexing is deprecated in version 0.22 and will be removed in version 0.24.\n",
            "  warnings.warn(msg, category=FutureWarning)\n"
          ],
          "name": "stderr"
        },
        {
          "output_type": "stream",
          "text": [
            "length of oversampled data is  32608\n",
            "Number of automobile having 'gas' fueltype in oversampled data 16304\n",
            "Number of automobile having 'diesel' fueltype 16304\n",
            "Proportion of automobile having 'gas' fueltype in oversampled data is  0.5\n",
            "Proportion of automobile having 'diesel' fueltype in oversampled data is  0.5\n"
          ],
          "name": "stdout"
        }
      ]
    },
    {
      "cell_type": "markdown",
      "metadata": {
        "id": "usmoC5XH5rJM"
      },
      "source": [
        "Thus, the minority class is oversampled using SMOTE above in the above cell."
      ]
    },
    {
      "cell_type": "markdown",
      "metadata": {
        "id": "5n3DtoFQ6UvO"
      },
      "source": [
        "FEATURE SELECTION- RECURSIVE FEATURE ELIMINATION"
      ]
    },
    {
      "cell_type": "code",
      "metadata": {
        "colab": {
          "base_uri": "https://localhost:8080/"
        },
        "id": "mfpuWgq56SZP",
        "outputId": "d2c1876c-3dae-4eb7-97e6-7463a9116601"
      },
      "source": [
        "#Eliminating all the least important features and Selecting the most important predictors.\n",
        "data_final_vars=data_final.columns.values.tolist()\n",
        "y=['y']\n",
        "X=[i for i in data_final_vars if i not in y]\n",
        "from sklearn.feature_selection import RFE\n",
        "from sklearn.linear_model import LogisticRegression\n",
        "logreg = LogisticRegression()\n",
        "#20 is the number of features to be selected for the model\n",
        "rfe = RFE(logreg, 20)\n",
        "#RFE wrapper is used to fit logistic regression for the oversampled data\n",
        "rfe = rfe.fit(os_data_X, os_data_y.values.ravel())"
      ],
      "execution_count": null,
      "outputs": [
        {
          "output_type": "stream",
          "text": [
            "/usr/local/lib/python3.7/dist-packages/sklearn/linear_model/_logistic.py:940: ConvergenceWarning: lbfgs failed to converge (status=1):\n",
            "STOP: TOTAL NO. of ITERATIONS REACHED LIMIT.\n",
            "\n",
            "Increase the number of iterations (max_iter) or scale the data as shown in:\n",
            "    https://scikit-learn.org/stable/modules/preprocessing.html\n",
            "Please also refer to the documentation for alternative solver options:\n",
            "    https://scikit-learn.org/stable/modules/linear_model.html#logistic-regression\n",
            "  extra_warning_msg=_LOGISTIC_SOLVER_CONVERGENCE_MSG)\n",
            "/usr/local/lib/python3.7/dist-packages/sklearn/linear_model/_logistic.py:940: ConvergenceWarning: lbfgs failed to converge (status=1):\n",
            "STOP: TOTAL NO. of ITERATIONS REACHED LIMIT.\n",
            "\n",
            "Increase the number of iterations (max_iter) or scale the data as shown in:\n",
            "    https://scikit-learn.org/stable/modules/preprocessing.html\n",
            "Please also refer to the documentation for alternative solver options:\n",
            "    https://scikit-learn.org/stable/modules/linear_model.html#logistic-regression\n",
            "  extra_warning_msg=_LOGISTIC_SOLVER_CONVERGENCE_MSG)\n",
            "/usr/local/lib/python3.7/dist-packages/sklearn/linear_model/_logistic.py:940: ConvergenceWarning: lbfgs failed to converge (status=1):\n",
            "STOP: TOTAL NO. of ITERATIONS REACHED LIMIT.\n",
            "\n",
            "Increase the number of iterations (max_iter) or scale the data as shown in:\n",
            "    https://scikit-learn.org/stable/modules/preprocessing.html\n",
            "Please also refer to the documentation for alternative solver options:\n",
            "    https://scikit-learn.org/stable/modules/linear_model.html#logistic-regression\n",
            "  extra_warning_msg=_LOGISTIC_SOLVER_CONVERGENCE_MSG)\n",
            "/usr/local/lib/python3.7/dist-packages/sklearn/linear_model/_logistic.py:940: ConvergenceWarning: lbfgs failed to converge (status=1):\n",
            "STOP: TOTAL NO. of ITERATIONS REACHED LIMIT.\n",
            "\n",
            "Increase the number of iterations (max_iter) or scale the data as shown in:\n",
            "    https://scikit-learn.org/stable/modules/preprocessing.html\n",
            "Please also refer to the documentation for alternative solver options:\n",
            "    https://scikit-learn.org/stable/modules/linear_model.html#logistic-regression\n",
            "  extra_warning_msg=_LOGISTIC_SOLVER_CONVERGENCE_MSG)\n"
          ],
          "name": "stderr"
        }
      ]
    },
    {
      "cell_type": "code",
      "metadata": {
        "colab": {
          "base_uri": "https://localhost:8080/"
        },
        "id": "bmvdIAKf6poY",
        "outputId": "4eff9ae3-9b5c-4ed3-8435-23b090d0787c"
      },
      "source": [
        "#Obtaining all the selected features.\n",
        "print(rfe.support_)\n",
        "X_cols=os_data_X.columns.values.tolist()\n",
        "selected_features= [i for indx,i in enumerate(X_cols) if rfe.support_[indx] == True]#select columns that are significant\n",
        "selected_features"
      ],
      "execution_count": null,
      "outputs": [
        {
          "output_type": "stream",
          "text": [
            "[False  True  True  True  True  True  True  True  True  True  True  True\n",
            " False  True  True False  True  True  True  True  True  True  True]\n"
          ],
          "name": "stdout"
        },
        {
          "output_type": "execute_result",
          "data": {
            "text/plain": [
              "['SEX',\n",
              " 'EDUCATION',\n",
              " 'MARRIAGE',\n",
              " 'AGE',\n",
              " 'PAY_0',\n",
              " 'PAY_2',\n",
              " 'PAY_3',\n",
              " 'PAY_4',\n",
              " 'PAY_5',\n",
              " 'PAY_6',\n",
              " 'BILL_AMT1',\n",
              " 'BILL_AMT3',\n",
              " 'BILL_AMT4',\n",
              " 'BILL_AMT6',\n",
              " 'PAY_AMT1',\n",
              " 'PAY_AMT2',\n",
              " 'PAY_AMT3',\n",
              " 'PAY_AMT4',\n",
              " 'PAY_AMT5',\n",
              " 'PAY_AMT6']"
            ]
          },
          "metadata": {},
          "execution_count": 77
        }
      ]
    },
    {
      "cell_type": "markdown",
      "metadata": {
        "id": "41PI56MY6yHm"
      },
      "source": [
        "Thus, the selected features using RFE for our logistic model are, SEX, EDUCATION, MARRIAGE, AGE, PAY_0, PAY_2, PAY_3, PAY_4, PAY_5, PAY_6, BILL_AMT1, BILL_AMT3, BILL_AMT4, BILL_AMT6, PAY_AMT1, PAY_AMT2, PAY_AMT3, PAY_AMT4, PAY_AMT5, PAY_AMT6'"
      ]
    },
    {
      "cell_type": "code",
      "metadata": {
        "id": "Mk8-MyTi67l4"
      },
      "source": [
        "#Assigning the finally selected features to x(set of independent variables) and fueltype to y (independent variable)\n",
        "X=os_data_X[selected_features]\n",
        "y=os_data_y['Y']"
      ],
      "execution_count": null,
      "outputs": []
    },
    {
      "cell_type": "code",
      "metadata": {
        "colab": {
          "base_uri": "https://localhost:8080/"
        },
        "id": "W3hb9A9I7I_z",
        "outputId": "db0498f8-8c2a-4f4c-9e1a-77442c381db6"
      },
      "source": [
        "#Fitting the logistic regression and obtaining the summary.\n",
        "import statsmodels.api as sm\n",
        "logit_model=sm.Logit(y,X)\n",
        "result=logit_model.fit()\n",
        "print(result.summary2())"
      ],
      "execution_count": null,
      "outputs": [
        {
          "output_type": "stream",
          "text": [
            "Optimization terminated successfully.\n",
            "         Current function value: 0.589387\n",
            "         Iterations 7\n",
            "                         Results: Logit\n",
            "=================================================================\n",
            "Model:              Logit            Pseudo R-squared: 0.150     \n",
            "Dependent Variable: Y                AIC:              38477.4495\n",
            "Date:               2021-08-28 15:48 BIC:              38645.2958\n",
            "No. Observations:   32608            Log-Likelihood:   -19219.   \n",
            "Df Model:           19               LL-Null:          -22602.   \n",
            "Df Residuals:       32588            LLR p-value:      0.0000    \n",
            "Converged:          1.0000           Scale:            1.0000    \n",
            "No. Iterations:     7.0000                                       \n",
            "------------------------------------------------------------------\n",
            "              Coef.   Std.Err.     z      P>|z|    [0.025   0.975]\n",
            "------------------------------------------------------------------\n",
            "SEX          -0.2912    0.0223  -13.0700  0.0000  -0.3349  -0.2475\n",
            "EDUCATION    -0.3259    0.0176  -18.5625  0.0000  -0.3603  -0.2915\n",
            "MARRIAGE     -0.2188    0.0197  -11.1157  0.0000  -0.2574  -0.1802\n",
            "AGE           0.0418    0.0011   37.9719  0.0000   0.0396   0.0439\n",
            "PAY_0         0.5453    0.0159   34.3678  0.0000   0.5142   0.5765\n",
            "PAY_2         0.1357    0.0181    7.4992  0.0000   0.1002   0.1712\n",
            "PAY_3         0.0619    0.0202    3.0598  0.0022   0.0223   0.1016\n",
            "PAY_4         0.0099    0.0225    0.4380  0.6614  -0.0342   0.0540\n",
            "PAY_5         0.0717    0.0242    2.9604  0.0031   0.0242   0.1192\n",
            "PAY_6         0.0279    0.0197    1.4174  0.1564  -0.0107   0.0664\n",
            "BILL_AMT1    -0.0000    0.0000  -11.0318  0.0000  -0.0000  -0.0000\n",
            "BILL_AMT3     0.0000    0.0000    4.9766  0.0000   0.0000   0.0000\n",
            "BILL_AMT4     0.0000    0.0000    0.3064  0.7593  -0.0000   0.0000\n",
            "BILL_AMT6     0.0000    0.0000    1.8121  0.0700  -0.0000   0.0000\n",
            "PAY_AMT1     -0.0000    0.0000  -10.4400  0.0000  -0.0000  -0.0000\n",
            "PAY_AMT2     -0.0000    0.0000   -9.7493  0.0000  -0.0000  -0.0000\n",
            "PAY_AMT3     -0.0000    0.0000   -5.2733  0.0000  -0.0000  -0.0000\n",
            "PAY_AMT4     -0.0000    0.0000   -4.8857  0.0000  -0.0000  -0.0000\n",
            "PAY_AMT5     -0.0000    0.0000   -3.7743  0.0002  -0.0000  -0.0000\n",
            "PAY_AMT6     -0.0000    0.0000   -3.0552  0.0022  -0.0000  -0.0000\n",
            "=================================================================\n",
            "\n"
          ],
          "name": "stdout"
        }
      ]
    },
    {
      "cell_type": "markdown",
      "metadata": {
        "id": "ndrTinOFc0Hw"
      },
      "source": [
        "It is observed from the above table that p value of PAY_4, PAY_6, BILL_AMT4, BILL_AMT6 are > 0.05 , thus we reject the null hypothesis and conclude that these variables are not having any significant effect on predicting dependent variable i.e. client type if the  client is default or non-default. Thus,we can remove these variables from the model. \n",
        "\n",
        "Also, we observe that the pseudo r squred value is 0.15 which is quite less which indicates the fact that this model is not good in prediction of default of a clients."
      ]
    },
    {
      "cell_type": "markdown",
      "metadata": {
        "id": "LojbkNPVPscX"
      },
      "source": [
        "IMPLEMENTING LOGISTIC REGRESSION"
      ]
    },
    {
      "cell_type": "code",
      "metadata": {
        "id": "QviUsbKoPhVT",
        "colab": {
          "base_uri": "https://localhost:8080/"
        },
        "outputId": "73eb130a-97a0-4ef2-e3ac-39847eea13e3"
      },
      "source": [
        "#Implementation of logistic regression\n",
        "from sklearn.linear_model import LogisticRegression\n",
        "from sklearn import metrics\n",
        "X_train, X_test, y_train, y_test = train_test_split(X, y, test_size=0.2, random_state=0)\n",
        "logreg = LogisticRegression()\n",
        "logreg.fit(X_train, y_train)"
      ],
      "execution_count": null,
      "outputs": [
        {
          "output_type": "stream",
          "text": [
            "/usr/local/lib/python3.7/dist-packages/sklearn/linear_model/_logistic.py:940: ConvergenceWarning: lbfgs failed to converge (status=1):\n",
            "STOP: TOTAL NO. of ITERATIONS REACHED LIMIT.\n",
            "\n",
            "Increase the number of iterations (max_iter) or scale the data as shown in:\n",
            "    https://scikit-learn.org/stable/modules/preprocessing.html\n",
            "Please also refer to the documentation for alternative solver options:\n",
            "    https://scikit-learn.org/stable/modules/linear_model.html#logistic-regression\n",
            "  extra_warning_msg=_LOGISTIC_SOLVER_CONVERGENCE_MSG)\n"
          ],
          "name": "stderr"
        },
        {
          "output_type": "execute_result",
          "data": {
            "text/plain": [
              "LogisticRegression(C=1.0, class_weight=None, dual=False, fit_intercept=True,\n",
              "                   intercept_scaling=1, l1_ratio=None, max_iter=100,\n",
              "                   multi_class='auto', n_jobs=None, penalty='l2',\n",
              "                   random_state=None, solver='lbfgs', tol=0.0001, verbose=0,\n",
              "                   warm_start=False)"
            ]
          },
          "metadata": {},
          "execution_count": 80
        }
      ]
    },
    {
      "cell_type": "markdown",
      "metadata": {
        "id": "a3kQaS3CP4Wo"
      },
      "source": [
        "PREDICTION AND CALCULATIONS OF ACCURACY MEASURE"
      ]
    },
    {
      "cell_type": "code",
      "metadata": {
        "id": "4qgFWZNTPziT",
        "colab": {
          "base_uri": "https://localhost:8080/"
        },
        "outputId": "3d39c2d1-9394-4ee1-e788-883356353e7b"
      },
      "source": [
        "#Obtaining the accuracy of logistic regression\n",
        "y_pred = logreg.predict(X_test)\n",
        "print('Accuracy of logistic regression classifier on test set: {:.2f}'.format(logreg.score(X_test, y_test)))#score() gives classification accuracy measure"
      ],
      "execution_count": null,
      "outputs": [
        {
          "output_type": "stream",
          "text": [
            "Accuracy of logistic regression classifier on test set: 0.62\n"
          ],
          "name": "stdout"
        }
      ]
    },
    {
      "cell_type": "markdown",
      "metadata": {
        "id": "qTOgLlRYfLFD"
      },
      "source": [
        "Here, it is seen that the accuracy is 0.62 i.e. 62%  thus we can say that the model is only 62% accurate in predicting whether the client of Taiwan bank is default or not."
      ]
    },
    {
      "cell_type": "code",
      "metadata": {
        "id": "5ltIcXfSSMW2",
        "colab": {
          "base_uri": "https://localhost:8080/"
        },
        "outputId": "23b5f1c9-2341-4479-d81d-287bd5b319c5"
      },
      "source": [
        "#Obtaining the accuracy of logistic regression\n",
        "from sklearn.metrics import confusion_matrix\n",
        "confusion_matrix = confusion_matrix(y_test, y_pred)\n",
        "print(confusion_matrix)"
      ],
      "execution_count": null,
      "outputs": [
        {
          "output_type": "stream",
          "text": [
            "[[1369 1913]\n",
            " [ 593 2647]]\n"
          ],
          "name": "stdout"
        }
      ]
    },
    {
      "cell_type": "markdown",
      "metadata": {
        "id": "7qepPP7Qfyq0"
      },
      "source": [
        "From, the above confusion matrix we conclude that 4016 (1369+2647) correct predictions are made using the model and 2506 (593+1913) wrong predictions are made. But we know that we have in total 30000 observations thus, our model predicts more correct results."
      ]
    },
    {
      "cell_type": "code",
      "metadata": {
        "id": "co-WzfquSRos",
        "colab": {
          "base_uri": "https://localhost:8080/"
        },
        "outputId": "806c326e-0d2f-430b-9610-2be484c11795"
      },
      "source": [
        "#Obtaining the confusion matrix to check for the accuracy\n",
        "from sklearn.metrics import classification_report\n",
        "print(classification_report(y_test, y_pred))"
      ],
      "execution_count": null,
      "outputs": [
        {
          "output_type": "stream",
          "text": [
            "              precision    recall  f1-score   support\n",
            "\n",
            "           0       0.70      0.42      0.52      3282\n",
            "           1       0.58      0.82      0.68      3240\n",
            "\n",
            "    accuracy                           0.62      6522\n",
            "   macro avg       0.64      0.62      0.60      6522\n",
            "weighted avg       0.64      0.62      0.60      6522\n",
            "\n"
          ],
          "name": "stdout"
        }
      ]
    },
    {
      "cell_type": "markdown",
      "metadata": {
        "id": "HHX06enAgmK0"
      },
      "source": [
        "From the above table it is observed that the precision for both the class '0' is 0.70 and class '1' is 0.58 which indicates the good case thus the  ability of a classifier not to predict a client as default if he is non-default client (or vice versa) is good. \n",
        "\n",
        "Also we observe that recall for the class '0' is 0.42 and class '1' is 0.82 which indicates that the ability of a classifier to predict all non-default client is non-default not very good but ability of a classifier to predict all default client as default is  good. \n",
        "\n",
        "It is observed that F1score is 0.52 and 0.68 respectively for each non-default and default class which indicates that more weight is given to precission and lessweight is given to recall.\n",
        "\n",
        "Thus from all the above results we conclude that our binary classifier is moderately good."
      ]
    },
    {
      "cell_type": "code",
      "metadata": {
        "id": "ijA6BZfMSXZ3",
        "colab": {
          "base_uri": "https://localhost:8080/",
          "height": 295
        },
        "outputId": "60813f65-827f-420a-dab0-a6851682e1f6"
      },
      "source": [
        "#Obtaining the ROC curve\n",
        "from sklearn.metrics import roc_auc_score\n",
        "from sklearn.metrics import roc_curve\n",
        "logit_roc_auc = roc_auc_score(y_test, logreg.predict(X_test))#computes AUC under ROC\n",
        "fpr, tpr, thresholds = roc_curve(y_test, logreg.predict_proba(X_test)[:,1])#creates ROC \n",
        "plt.figure()\n",
        "plt.plot(fpr, tpr, label='Logistic Regression (area = %0.2f)' % logit_roc_auc)\n",
        "plt.plot([0, 1], [0, 1],'r--')\n",
        "plt.xlim([0.0, 1.0])\n",
        "plt.ylim([0.0, 1.05])\n",
        "plt.xlabel('False Positive Rate')\n",
        "plt.ylabel('True Positive Rate')\n",
        "plt.title('RECEIVER OPERATING CHARACTERSTIC [FIGURE 12]')\n",
        "plt.legend(loc=\"lower right\")\n",
        "plt.savefig('Log_ROC')\n",
        "plt.show()"
      ],
      "execution_count": null,
      "outputs": [
        {
          "output_type": "display_data",
          "data": {
            "image/png": "[encoded data removed]",
            "text/plain": [
              "<Figure size 432x288 with 1 Axes>"
            ]
          },
          "metadata": {
            "needs_background": "light"
          }
        }
      ]
    },
    {
      "cell_type": "markdown",
      "metadata": {
        "id": "GWI8d_PohSVW"
      },
      "source": [
        "From the above figure we observe that the red dotted line is not very farther from blue line which is not a good indication and also since the AUC value is 0.62 which is a moderately good value for binary classifier. Thus,we conclude that the binary classifier is moderately accurate."
      ]
    },
    {
      "cell_type": "markdown",
      "metadata": {
        "id": "ltPtOjpjhbJC"
      },
      "source": [
        "**CONCLUSION**"
      ]
    },
    {
      "cell_type": "markdown",
      "metadata": {
        "id": "fE1OqzOzhbzg"
      },
      "source": [
        "From the above analysis it is observed that the binary classifier is moderately accurate in predicting the default customers for Taiwan bank in 2005."
      ]
    }
  ]
}