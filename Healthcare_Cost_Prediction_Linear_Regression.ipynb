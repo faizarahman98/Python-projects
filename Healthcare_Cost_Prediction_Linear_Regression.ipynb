{
  "nbformat": 4,
  "nbformat_minor": 0,
  "metadata": {
    "kernelspec": {
      "display_name": "Python 3",
      "language": "python",
      "name": "python3"
    },
    "language_info": {
      "codemirror_mode": {
        "name": "ipython",
        "version": 3
      },
      "file_extension": ".py",
      "mimetype": "text/x-python",
      "name": "python",
      "nbconvert_exporter": "python",
      "pygments_lexer": "ipython3",
      "version": "3.7.0"
    },
    "colab": {
      "provenance": []
    }
  },
  "cells": [
    {
      "cell_type": "markdown",
      "metadata": {
        "id": "3UHdAuIr-imS"
      },
      "source": [
        "### TITLE: PREDICTION OF HEALTHCARE COST BASED ON THE LENGTH OF STAY IN WISCONSIN HOSPITAL"
      ]
    },
    {
      "cell_type": "markdown",
      "metadata": {
        "id": "76GhrnpO-imX"
      },
      "source": [
        "### INTRODUCTION"
      ]
    },
    {
      "cell_type": "markdown",
      "metadata": {
        "id": "D6NWWkhY-imZ"
      },
      "source": [
        "Supervised learning is the machine learning task of learning a function that maps an input to an output based on example input-output pairs. It infers a function from labeled training data consisting of a set of training examples. In supervised learning, each example is a pair consisting of an input object (typically a vector) and a desired output value (also called the supervisory signal). A supervised learning algorithm analyzes the training data and produces an inferred function, which can be used for mapping new examples. An optimal scenario will allow for the algorithm to correctly determine the class labels for unseen instances. Here we will be using linear regression for prediction which is one of the most widely used Supervised ML algorithm.\n",
        "\n",
        "Linear Regression is a linear approach to model the relationship between a scalar response and one or more explanatory variables (also known as dependent and independent variables). The case of one explanatory variable is called simple linear regression; for more than one, the process is called multiple linear regression."
      ]
    },
    {
      "cell_type": "markdown",
      "metadata": {
        "id": "McMgzf2A-imb"
      },
      "source": [
        "### OBJECTIVES"
      ]
    },
    {
      "cell_type": "markdown",
      "metadata": {
        "id": "h82elhct-imc"
      },
      "source": [
        "Here our main objective is,  \n",
        "\n",
        "1) To analyze if there is any relationship between the healthcare cost of patients and their length of stay.\n",
        "\n",
        "2) Also, we want to predict Healthcare cost for the given length of stay of a patient in the wisconsin hospital."
      ]
    },
    {
      "cell_type": "markdown",
      "metadata": {
        "id": "zELcV75J-imd"
      },
      "source": [
        "### PACKAGES AND LIBRARIES"
      ]
    },
    {
      "cell_type": "code",
      "metadata": {
        "id": "eJM6PjMM-ime"
      },
      "source": [
        "#Loading the pandas and numpy that will be used to handle the data.\n",
        "import pandas as pd\n",
        "import numpy as np\n",
        "\n",
        "#Loading matplotlib and seaborn which is required to perform the exploratory data analysis.\n",
        "import seaborn as sns \n",
        "import matplotlib.pyplot as plt"
      ],
      "execution_count": null,
      "outputs": []
    },
    {
      "cell_type": "markdown",
      "metadata": {
        "id": "YO8n1IU_-img"
      },
      "source": [
        "### DATA DESCRIPTION"
      ]
    },
    {
      "cell_type": "markdown",
      "metadata": {
        "id": "Ye5675Ie-imi"
      },
      "source": [
        "A nationwide survey of hospital costs conducted by the US Agency for Healthcare consists of hospital records of inpatient samples. The given data is restricted to the city of Wisconsin and relates to patients in the age group 0-17 years. The dataset consists of total 6 variables which can be listed below,\n",
        "\n",
        "AGE: Age of the patient discharged.\n",
        "\n",
        "FEMALE: Binary variable that indicates if the patient is female.\n",
        "\n",
        "LOS: Length of stay, in days\n",
        "\n",
        "RACE: Race of the patient (specified numerically).\n",
        "\n",
        "TOTCHG: Hospital discharge costs.\n",
        "\n",
        "APRDRG: All Patient Refined Diagnosis Related Groups"
      ]
    },
    {
      "cell_type": "code",
      "metadata": {
        "colab": {
          "base_uri": "https://localhost:8080/",
          "height": 419
        },
        "id": "cJCM6DnU-imm",
        "outputId": "acec23ae-1370-4551-fb87-9c48e3438d32"
      },
      "source": [
        "#Loading the required dataset.\n",
        "Hospital=pd.read_csv(\"/content/sample_data/HospitalCosts.csv\")\n",
        "\n",
        "#Viewing 'Hospital' data set.\n",
        "Hospital"
      ],
      "execution_count": null,
      "outputs": [
        {
          "output_type": "execute_result",
          "data": {
            "text/html": [
              "<div>\n",
              "<style scoped>\n",
              "    .dataframe tbody tr th:only-of-type {\n",
              "        vertical-align: middle;\n",
              "    }\n",
              "\n",
              "    .dataframe tbody tr th {\n",
              "        vertical-align: top;\n",
              "    }\n",
              "\n",
              "    .dataframe thead th {\n",
              "        text-align: right;\n",
              "    }\n",
              "</style>\n",
              "<table border=\"1\" class=\"dataframe\">\n",
              "  <thead>\n",
              "    <tr style=\"text-align: right;\">\n",
              "      <th></th>\n",
              "      <th>AGE</th>\n",
              "      <th>FEMALE</th>\n",
              "      <th>LOS</th>\n",
              "      <th>RACE</th>\n",
              "      <th>TOTCHG</th>\n",
              "      <th>APRDRG</th>\n",
              "    </tr>\n",
              "  </thead>\n",
              "  <tbody>\n",
              "    <tr>\n",
              "      <th>0</th>\n",
              "      <td>17</td>\n",
              "      <td>1</td>\n",
              "      <td>2</td>\n",
              "      <td>1.0</td>\n",
              "      <td>2660</td>\n",
              "      <td>560</td>\n",
              "    </tr>\n",
              "    <tr>\n",
              "      <th>1</th>\n",
              "      <td>17</td>\n",
              "      <td>0</td>\n",
              "      <td>2</td>\n",
              "      <td>1.0</td>\n",
              "      <td>1689</td>\n",
              "      <td>753</td>\n",
              "    </tr>\n",
              "    <tr>\n",
              "      <th>2</th>\n",
              "      <td>17</td>\n",
              "      <td>1</td>\n",
              "      <td>7</td>\n",
              "      <td>1.0</td>\n",
              "      <td>20060</td>\n",
              "      <td>930</td>\n",
              "    </tr>\n",
              "    <tr>\n",
              "      <th>3</th>\n",
              "      <td>17</td>\n",
              "      <td>1</td>\n",
              "      <td>1</td>\n",
              "      <td>1.0</td>\n",
              "      <td>736</td>\n",
              "      <td>758</td>\n",
              "    </tr>\n",
              "    <tr>\n",
              "      <th>4</th>\n",
              "      <td>17</td>\n",
              "      <td>1</td>\n",
              "      <td>1</td>\n",
              "      <td>1.0</td>\n",
              "      <td>1194</td>\n",
              "      <td>754</td>\n",
              "    </tr>\n",
              "    <tr>\n",
              "      <th>...</th>\n",
              "      <td>...</td>\n",
              "      <td>...</td>\n",
              "      <td>...</td>\n",
              "      <td>...</td>\n",
              "      <td>...</td>\n",
              "      <td>...</td>\n",
              "    </tr>\n",
              "    <tr>\n",
              "      <th>495</th>\n",
              "      <td>0</td>\n",
              "      <td>1</td>\n",
              "      <td>6</td>\n",
              "      <td>1.0</td>\n",
              "      <td>5881</td>\n",
              "      <td>636</td>\n",
              "    </tr>\n",
              "    <tr>\n",
              "      <th>496</th>\n",
              "      <td>0</td>\n",
              "      <td>1</td>\n",
              "      <td>2</td>\n",
              "      <td>1.0</td>\n",
              "      <td>1171</td>\n",
              "      <td>640</td>\n",
              "    </tr>\n",
              "    <tr>\n",
              "      <th>497</th>\n",
              "      <td>0</td>\n",
              "      <td>1</td>\n",
              "      <td>2</td>\n",
              "      <td>1.0</td>\n",
              "      <td>1171</td>\n",
              "      <td>640</td>\n",
              "    </tr>\n",
              "    <tr>\n",
              "      <th>498</th>\n",
              "      <td>0</td>\n",
              "      <td>1</td>\n",
              "      <td>2</td>\n",
              "      <td>1.0</td>\n",
              "      <td>1086</td>\n",
              "      <td>640</td>\n",
              "    </tr>\n",
              "    <tr>\n",
              "      <th>499</th>\n",
              "      <td>0</td>\n",
              "      <td>0</td>\n",
              "      <td>4</td>\n",
              "      <td>1.0</td>\n",
              "      <td>4931</td>\n",
              "      <td>640</td>\n",
              "    </tr>\n",
              "  </tbody>\n",
              "</table>\n",
              "<p>500 rows × 6 columns</p>\n",
              "</div>"
            ],
            "text/plain": [
              "     AGE  FEMALE  LOS  RACE  TOTCHG  APRDRG\n",
              "0     17       1    2   1.0    2660     560\n",
              "1     17       0    2   1.0    1689     753\n",
              "2     17       1    7   1.0   20060     930\n",
              "3     17       1    1   1.0     736     758\n",
              "4     17       1    1   1.0    1194     754\n",
              "..   ...     ...  ...   ...     ...     ...\n",
              "495    0       1    6   1.0    5881     636\n",
              "496    0       1    2   1.0    1171     640\n",
              "497    0       1    2   1.0    1171     640\n",
              "498    0       1    2   1.0    1086     640\n",
              "499    0       0    4   1.0    4931     640\n",
              "\n",
              "[500 rows x 6 columns]"
            ]
          },
          "metadata": {
            "tags": []
          },
          "execution_count": 7
        }
      ]
    },
    {
      "cell_type": "markdown",
      "metadata": {
        "id": "vNXhgUJJ-imp"
      },
      "source": [
        "### EXPLORATORY DATA ANALYSIS"
      ]
    },
    {
      "cell_type": "code",
      "metadata": {
        "id": "NywR71S--imq",
        "colab": {
          "base_uri": "https://localhost:8080/"
        },
        "outputId": "86124274-4817-4ca4-faaa-757fec7505a0"
      },
      "source": [
        "#Obtaining the dimension of the dataset.\n",
        "Hospital.shape"
      ],
      "execution_count": null,
      "outputs": [
        {
          "output_type": "execute_result",
          "data": {
            "text/plain": [
              "(500, 6)"
            ]
          },
          "metadata": {
            "tags": []
          },
          "execution_count": 8
        }
      ]
    },
    {
      "cell_type": "markdown",
      "metadata": {
        "id": "o3JChpQP-imr"
      },
      "source": [
        "It is observed that the dataset comprises of 500 records and 6 columns(variables) which are described in the data description. "
      ]
    },
    {
      "cell_type": "code",
      "metadata": {
        "id": "2SCv7afj-ims",
        "colab": {
          "base_uri": "https://localhost:8080/"
        },
        "outputId": "652931a7-ca90-48c2-e2ea-1193ca9c7994"
      },
      "source": [
        "#Using info() function to understand if ther is any nul values in the dataset.\n",
        "Hospital.info()"
      ],
      "execution_count": null,
      "outputs": [
        {
          "output_type": "stream",
          "text": [
            "<class 'pandas.core.frame.DataFrame'>\n",
            "RangeIndex: 500 entries, 0 to 499\n",
            "Data columns (total 6 columns):\n",
            " #   Column  Non-Null Count  Dtype  \n",
            "---  ------  --------------  -----  \n",
            " 0   AGE     500 non-null    int64  \n",
            " 1   FEMALE  500 non-null    int64  \n",
            " 2   LOS     500 non-null    int64  \n",
            " 3   RACE    499 non-null    float64\n",
            " 4   TOTCHG  500 non-null    int64  \n",
            " 5   APRDRG  500 non-null    int64  \n",
            "dtypes: float64(1), int64(5)\n",
            "memory usage: 23.6 KB\n"
          ],
          "name": "stdout"
        }
      ]
    },
    {
      "cell_type": "markdown",
      "metadata": {
        "id": "49-2H2FK-ims"
      },
      "source": [
        "From the above table it is observed that there exist one null valuefor the variable race and hence we first have to remove the null value and then we can further proceed with the analysis."
      ]
    },
    {
      "cell_type": "code",
      "metadata": {
        "id": "2iZQ7L62-imt",
        "colab": {
          "base_uri": "https://localhost:8080/"
        },
        "outputId": "ddadc30b-c76f-4683-c377-7dc60231b6e5"
      },
      "source": [
        "#Here, in this step we remove the null values from the dataset.\n",
        "Hospital_N=Hospital.dropna(axis=0,how='any')\n",
        "\n",
        "#Checking for the null values.\n",
        "Hospital_N.isnull().sum()"
      ],
      "execution_count": null,
      "outputs": [
        {
          "output_type": "execute_result",
          "data": {
            "text/plain": [
              "AGE       0\n",
              "FEMALE    0\n",
              "LOS       0\n",
              "RACE      0\n",
              "TOTCHG    0\n",
              "APRDRG    0\n",
              "dtype: int64"
            ]
          },
          "metadata": {
            "tags": []
          },
          "execution_count": 10
        }
      ]
    },
    {
      "cell_type": "markdown",
      "metadata": {
        "id": "ndGBJCOw-imt"
      },
      "source": [
        "Now, it is observed that there does not exist any null values, thus we can proceed further with the cleaned dataset."
      ]
    },
    {
      "cell_type": "code",
      "metadata": {
        "id": "w3b8cllt-imu",
        "colab": {
          "base_uri": "https://localhost:8080/",
          "height": 297
        },
        "outputId": "b9ad7607-77e8-4b06-bd7a-1ed6d87fa913"
      },
      "source": [
        "#Obtaining the descriptive measure using describe() function\n",
        "Hospital_N.describe()"
      ],
      "execution_count": null,
      "outputs": [
        {
          "output_type": "execute_result",
          "data": {
            "text/html": [
              "<div>\n",
              "<style scoped>\n",
              "    .dataframe tbody tr th:only-of-type {\n",
              "        vertical-align: middle;\n",
              "    }\n",
              "\n",
              "    .dataframe tbody tr th {\n",
              "        vertical-align: top;\n",
              "    }\n",
              "\n",
              "    .dataframe thead th {\n",
              "        text-align: right;\n",
              "    }\n",
              "</style>\n",
              "<table border=\"1\" class=\"dataframe\">\n",
              "  <thead>\n",
              "    <tr style=\"text-align: right;\">\n",
              "      <th></th>\n",
              "      <th>AGE</th>\n",
              "      <th>FEMALE</th>\n",
              "      <th>LOS</th>\n",
              "      <th>RACE</th>\n",
              "      <th>TOTCHG</th>\n",
              "      <th>APRDRG</th>\n",
              "    </tr>\n",
              "  </thead>\n",
              "  <tbody>\n",
              "    <tr>\n",
              "      <th>count</th>\n",
              "      <td>499.000000</td>\n",
              "      <td>499.000000</td>\n",
              "      <td>499.000000</td>\n",
              "      <td>499.000000</td>\n",
              "      <td>499.000000</td>\n",
              "      <td>499.000000</td>\n",
              "    </tr>\n",
              "    <tr>\n",
              "      <th>mean</th>\n",
              "      <td>5.096192</td>\n",
              "      <td>0.511022</td>\n",
              "      <td>2.829659</td>\n",
              "      <td>1.078156</td>\n",
              "      <td>2777.631263</td>\n",
              "      <td>616.312625</td>\n",
              "    </tr>\n",
              "    <tr>\n",
              "      <th>std</th>\n",
              "      <td>6.952706</td>\n",
              "      <td>0.500380</td>\n",
              "      <td>3.366657</td>\n",
              "      <td>0.514746</td>\n",
              "      <td>3891.632405</td>\n",
              "      <td>178.491837</td>\n",
              "    </tr>\n",
              "    <tr>\n",
              "      <th>min</th>\n",
              "      <td>0.000000</td>\n",
              "      <td>0.000000</td>\n",
              "      <td>0.000000</td>\n",
              "      <td>1.000000</td>\n",
              "      <td>532.000000</td>\n",
              "      <td>21.000000</td>\n",
              "    </tr>\n",
              "    <tr>\n",
              "      <th>25%</th>\n",
              "      <td>0.000000</td>\n",
              "      <td>0.000000</td>\n",
              "      <td>2.000000</td>\n",
              "      <td>1.000000</td>\n",
              "      <td>1218.500000</td>\n",
              "      <td>640.000000</td>\n",
              "    </tr>\n",
              "    <tr>\n",
              "      <th>50%</th>\n",
              "      <td>0.000000</td>\n",
              "      <td>1.000000</td>\n",
              "      <td>2.000000</td>\n",
              "      <td>1.000000</td>\n",
              "      <td>1538.000000</td>\n",
              "      <td>640.000000</td>\n",
              "    </tr>\n",
              "    <tr>\n",
              "      <th>75%</th>\n",
              "      <td>13.000000</td>\n",
              "      <td>1.000000</td>\n",
              "      <td>3.000000</td>\n",
              "      <td>1.000000</td>\n",
              "      <td>2530.500000</td>\n",
              "      <td>751.000000</td>\n",
              "    </tr>\n",
              "    <tr>\n",
              "      <th>max</th>\n",
              "      <td>17.000000</td>\n",
              "      <td>1.000000</td>\n",
              "      <td>41.000000</td>\n",
              "      <td>6.000000</td>\n",
              "      <td>48388.000000</td>\n",
              "      <td>952.000000</td>\n",
              "    </tr>\n",
              "  </tbody>\n",
              "</table>\n",
              "</div>"
            ],
            "text/plain": [
              "              AGE      FEMALE         LOS        RACE        TOTCHG      APRDRG\n",
              "count  499.000000  499.000000  499.000000  499.000000    499.000000  499.000000\n",
              "mean     5.096192    0.511022    2.829659    1.078156   2777.631263  616.312625\n",
              "std      6.952706    0.500380    3.366657    0.514746   3891.632405  178.491837\n",
              "min      0.000000    0.000000    0.000000    1.000000    532.000000   21.000000\n",
              "25%      0.000000    0.000000    2.000000    1.000000   1218.500000  640.000000\n",
              "50%      0.000000    1.000000    2.000000    1.000000   1538.000000  640.000000\n",
              "75%     13.000000    1.000000    3.000000    1.000000   2530.500000  751.000000\n",
              "max     17.000000    1.000000   41.000000    6.000000  48388.000000  952.000000"
            ]
          },
          "metadata": {
            "tags": []
          },
          "execution_count": 11
        }
      ]
    },
    {
      "cell_type": "markdown",
      "metadata": {
        "id": "UaYQcT9o-imu"
      },
      "source": [
        "Thus, from the above summary we can make out that maximum length of stay for a patient in the hospital is 41 days, which could be due to some severe disease or surgery and the minimum length of stay is 0 day that is the patient might have just visited the hospitalto consult the doctor. It is also observed that the average total charge costed to patients in the hospital is 2777.631263. On similar lines we can draw meaningful insights about the other variables using the summary table."
      ]
    },
    {
      "cell_type": "markdown",
      "metadata": {
        "id": "Kd7cEiwg-imv"
      },
      "source": [
        "Since, our main objective is to build a simple linear regression model to predict the Healthcare cost for the given length of stay of a patient in the wisconsin hospital, thus we only concentrate on two variables of the dataset i.e. TOTCHG and LOS. Therefore, we will obtain the visualization of these variables only.Healthcare cost can be taken\n",
        "as dependent variable (y) and length of stay as dependent variable (x). The model is Y = β0 + β1X + ε"
      ]
    },
    {
      "cell_type": "code",
      "metadata": {
        "id": "zaCKCwlw-imv"
      },
      "source": [
        "y=Hospital_N[\"TOTCHG\"]\n",
        "x=Hospital_N[\"LOS\"]"
      ],
      "execution_count": null,
      "outputs": []
    },
    {
      "cell_type": "code",
      "metadata": {
        "id": "FXSmMpQ6-imv"
      },
      "source": [
        "# Intialising data of lists.\n",
        "data1 = {'x':x,'y':y}\n",
        "# Creating a DataFrame \n",
        "hsptl_data = pd.DataFrame(data1)"
      ],
      "execution_count": null,
      "outputs": []
    },
    {
      "cell_type": "code",
      "metadata": {
        "id": "3MH9wisn-imw",
        "colab": {
          "base_uri": "https://localhost:8080/",
          "height": 585
        },
        "outputId": "dcd54f20-97fc-4fe4-bd22-7e93c17c1698"
      },
      "source": [
        "#Plotting a box plot for Length of stay.\n",
        "fig=plt.figure(figsize=(20,8))\n",
        "ax=fig.add_subplot(122)\n",
        "sns.boxplot(data=x,palette='deep',width=0.15,ax=ax)\n",
        "ax.set_title('Box Plot: Length of stay [Figure 1]')\n",
        "ax.set_ylabel('Length of stay')\n",
        "plt.tight_layout()\n",
        "plt.show()"
      ],
      "execution_count": null,
      "outputs": [
        {
          "output_type": "display_data",
          "data": {
            "image/png": "[encoded data removed]",
            "text/plain": [
              "<Figure size 1440x576 with 1 Axes>"
            ]
          },
          "metadata": {
            "tags": [],
            "needs_background": "light"
          }
        }
      ]
    },
    {
      "cell_type": "markdown",
      "metadata": {
        "id": "4cwJn9se-imx"
      },
      "source": [
        "From the above box plot (figure 1) it is observed that there exists outliers in the data of length of stay of patients in the hospital."
      ]
    },
    {
      "cell_type": "code",
      "metadata": {
        "id": "uTbqj7Fv-imx",
        "colab": {
          "base_uri": "https://localhost:8080/",
          "height": 585
        },
        "outputId": "b255ed00-6cdb-4ad2-9a0a-462defd5a051"
      },
      "source": [
        "#Plotting a box plot for Hospital discharge costs.\n",
        "fig=plt.figure(figsize=(20,8))\n",
        "ax=fig.add_subplot(122)\n",
        "sns.boxplot(data=y,palette='pastel',width=0.15,ax=ax)\n",
        "ax.set_title('Box Plot: Hospital discharge costs [Figure 2]')\n",
        "ax.set_ylabel('Hospital discharge cost')\n",
        "plt.tight_layout()\n",
        "plt.show()"
      ],
      "execution_count": null,
      "outputs": [
        {
          "output_type": "display_data",
          "data": {
            "image/png": "[encoded data removed]",
            "text/plain": [
              "<Figure size 1440x576 with 1 Axes>"
            ]
          },
          "metadata": {
            "tags": [],
            "needs_background": "light"
          }
        }
      ]
    },
    {
      "cell_type": "markdown",
      "metadata": {
        "id": "HwnmK7Fa-imy"
      },
      "source": [
        "From the above box plot (figure 2) it is observed that there exists outliers in the data of Hospital discharge costs of patients in the hospital."
      ]
    },
    {
      "cell_type": "code",
      "metadata": {
        "id": "sCl1E4DZ-imy",
        "colab": {
          "base_uri": "https://localhost:8080/",
          "height": 312
        },
        "outputId": "c9042498-e3d8-4f10-fc55-673185c3cd2d"
      },
      "source": [
        "#histogram for Hospital discharge cost\n",
        "plt.hist(Hospital_N['TOTCHG'], color = 'yellow', edgecolor = 'black',\n",
        "         bins = int(180/5))\n",
        "# Adding labels\n",
        "plt.title('Histogram of Hospital discharge costs [Figure 3]')\n",
        "plt.xlabel('Hospital discharge cost')\n",
        "plt.ylabel('Patients')"
      ],
      "execution_count": null,
      "outputs": [
        {
          "output_type": "execute_result",
          "data": {
            "text/plain": [
              "Text(0, 0.5, 'Patients')"
            ]
          },
          "metadata": {
            "tags": []
          },
          "execution_count": 16
        },
        {
          "output_type": "display_data",
          "data": {
            "image/png": "[encoded data removed]",
            "text/plain": [
              "<Figure size 432x288 with 1 Axes>"
            ]
          },
          "metadata": {
            "tags": [],
            "needs_background": "light"
          }
        }
      ]
    },
    {
      "cell_type": "markdown",
      "metadata": {
        "id": "t2e9y9vS-imz"
      },
      "source": [
        "From the above histogram i.e. figure 3 it is observed that the data of hospital discharge cost is right skewed."
      ]
    },
    {
      "cell_type": "markdown",
      "metadata": {
        "id": "98ShlumJ-im1"
      },
      "source": [
        "From the above histogram i.e. figure 4 again it is observed that the data of no. of days of stay is right skewed."
      ]
    },
    {
      "cell_type": "code",
      "metadata": {
        "id": "1fuekmZU-im1",
        "colab": {
          "base_uri": "https://localhost:8080/",
          "height": 585
        },
        "outputId": "dc0e6165-7f6e-48ec-a83a-5464849c219d"
      },
      "source": [
        "#Obtaining the scatter plot\n",
        "fig=plt.figure(figsize=(20,8))\n",
        "ax=fig.add_subplot(121)\n",
        "sns.scatterplot(x=Hospital_N.LOS,y=Hospital_N.TOTCHG,ax=ax)\n",
        "ax.set_title('Scatter plot: Length of stay vs Total hospital discharge cost [Figure 5]')\n",
        "ax.set_xlabel('Length of stay')\n",
        "ax.set_ylabel('Total hospital discharge cost')\n",
        "plt.tight_layout()\n",
        "plt.show()"
      ],
      "execution_count": null,
      "outputs": [
        {
          "output_type": "display_data",
          "data": {
            "image/png": "[encoded data removed]",
            "text/plain": [
              "<Figure size 1440x576 with 1 Axes>"
            ]
          },
          "metadata": {
            "tags": [],
            "needs_background": "light"
          }
        }
      ]
    },
    {
      "cell_type": "markdown",
      "metadata": {
        "id": "u_B4U9L8-im2"
      },
      "source": [
        "Thus, it is observed that the hospital discharge cost and length of stay are positively correlated that is more the number of days of stay higher will be the discharge cost of that particular patient. "
      ]
    },
    {
      "cell_type": "markdown",
      "metadata": {
        "id": "WjxRqDi1-im2"
      },
      "source": [
        "### ANALYSIS"
      ]
    },
    {
      "cell_type": "markdown",
      "metadata": {
        "id": "n2Xl-Knu-im3"
      },
      "source": [
        "##### Splitting the dataset into train and test data."
      ]
    },
    {
      "cell_type": "code",
      "metadata": {
        "id": "VFOSliJR-im3"
      },
      "source": [
        "#importing train_test_split from the sklearn.model_selection library which will help us to split the\n",
        "#data arrays into two subsets i.e. training data and testing data. \n",
        "from sklearn.model_selection import train_test_split"
      ],
      "execution_count": null,
      "outputs": []
    },
    {
      "cell_type": "code",
      "metadata": {
        "id": "TAGCgEi7-im4"
      },
      "source": [
        "#Splitting the datset into two subsets i.e. training data and testing data.\n",
        "x_train,x_test,y_train,y_test=train_test_split(x, y, train_size = 0.8, test_size = 0.2, random_state = 10)"
      ],
      "execution_count": null,
      "outputs": []
    },
    {
      "cell_type": "markdown",
      "metadata": {
        "id": "lm8iQy9gC0SE"
      },
      "source": [
        "Thus, the dataset has been splitted into train and test data.\n"
      ]
    },
    {
      "cell_type": "code",
      "metadata": {
        "id": "UpN1gW3G-im4",
        "colab": {
          "base_uri": "https://localhost:8080/"
        },
        "outputId": "0722e095-5acb-42ec-e63d-7548ae08bdd9"
      },
      "source": [
        "#viewing the train data for length of stay.\n",
        "x_train"
      ],
      "execution_count": null,
      "outputs": [
        {
          "output_type": "execute_result",
          "data": {
            "text/plain": [
              "306    1\n",
              "107    2\n",
              "351    5\n",
              "335    6\n",
              "142    2\n",
              "      ..\n",
              "321    1\n",
              "15     4\n",
              "485    2\n",
              "125    2\n",
              "265    2\n",
              "Name: LOS, Length: 399, dtype: int64"
            ]
          },
          "metadata": {
            "tags": []
          },
          "execution_count": 21
        }
      ]
    },
    {
      "cell_type": "code",
      "metadata": {
        "id": "HtcCL71F-im4",
        "colab": {
          "base_uri": "https://localhost:8080/"
        },
        "outputId": "2086b614-7d71-49fa-b7c9-4ca21f007b43"
      },
      "source": [
        "#viewing the train data for hospital discharge cost.\n",
        "y_train"
      ],
      "execution_count": null,
      "outputs": [
        {
          "output_type": "execute_result",
          "data": {
            "text/plain": [
              "306     783\n",
              "107    1105\n",
              "351    4296\n",
              "335    3656\n",
              "142    1139\n",
              "       ... \n",
              "321     869\n",
              "15     2181\n",
              "485    1273\n",
              "125    1246\n",
              "265    1446\n",
              "Name: TOTCHG, Length: 399, dtype: int64"
            ]
          },
          "metadata": {
            "tags": []
          },
          "execution_count": 22
        }
      ]
    },
    {
      "cell_type": "markdown",
      "metadata": {
        "id": "0nu_PwHa-im5"
      },
      "source": [
        "##### Model Building"
      ]
    },
    {
      "cell_type": "raw",
      "metadata": {
        "id": "cciKKw7h-im5"
      },
      "source": [
        "pip install statsmodels"
      ]
    },
    {
      "cell_type": "code",
      "metadata": {
        "id": "4hT-L9X3-im6",
        "colab": {
          "base_uri": "https://localhost:8080/"
        },
        "outputId": "bc77300e-f55a-4b95-d49b-ceb6e9a7f0ad"
      },
      "source": [
        "#Importing statsmodels.api library from statsmodels package which is required to build the linear regression model.\n",
        "import statsmodels.api as lm"
      ],
      "execution_count": null,
      "outputs": [
        {
          "output_type": "stream",
          "text": [
            "/usr/local/lib/python3.7/dist-packages/statsmodels/tools/_testing.py:19: FutureWarning: pandas.util.testing is deprecated. Use the functions in the public API at pandas.testing instead.\n",
            "  import pandas.util.testing as tm\n"
          ],
          "name": "stderr"
        }
      ]
    },
    {
      "cell_type": "code",
      "metadata": {
        "id": "2NEZHgM5-im6"
      },
      "source": [
        "x_train_lm=lm.add_constant(x_train)"
      ],
      "execution_count": null,
      "outputs": []
    },
    {
      "cell_type": "code",
      "metadata": {
        "id": "IhsLzzv0-im6"
      },
      "source": [
        "#Now we next proceed to build the linear regression model using OLS present in the statsmodels.api.\n",
        "model=lm.OLS(y_train,x_train_lm).fit()"
      ],
      "execution_count": null,
      "outputs": []
    },
    {
      "cell_type": "code",
      "metadata": {
        "id": "EOGGcdPc-im7",
        "colab": {
          "base_uri": "https://localhost:8080/"
        },
        "outputId": "85d1e86f-6971-4bdf-f446-dc38d8cc00ca"
      },
      "source": [
        "#Printing the parameter estimates.\n",
        "model.params"
      ],
      "execution_count": null,
      "outputs": [
        {
          "output_type": "execute_result",
          "data": {
            "text/plain": [
              "const    681.783000\n",
              "LOS      733.596241\n",
              "dtype: float64"
            ]
          },
          "metadata": {
            "tags": []
          },
          "execution_count": 26
        }
      ]
    },
    {
      "cell_type": "markdown",
      "metadata": {
        "id": "Nrw-B2ieDQK8"
      },
      "source": [
        "Thus, the parameters Beta0 = 681.783000 and Beta1 =  733.596241 are obtained above."
      ]
    },
    {
      "cell_type": "code",
      "metadata": {
        "id": "1Z1mvWA7-im7",
        "colab": {
          "base_uri": "https://localhost:8080/",
          "height": 444
        },
        "outputId": "2cd17dce-2508-421e-a925-1a05c799aad1"
      },
      "source": [
        "#Obtaining the summary of the fitted model\n",
        "model.summary()"
      ],
      "execution_count": null,
      "outputs": [
        {
          "output_type": "execute_result",
          "data": {
            "text/html": [
              "<table class=\"simpletable\">\n",
              "<caption>OLS Regression Results</caption>\n",
              "<tr>\n",
              "  <th>Dep. Variable:</th>         <td>TOTCHG</td>      <th>  R-squared:         </th> <td>   0.416</td>\n",
              "</tr>\n",
              "<tr>\n",
              "  <th>Model:</th>                   <td>OLS</td>       <th>  Adj. R-squared:    </th> <td>   0.415</td>\n",
              "</tr>\n",
              "<tr>\n",
              "  <th>Method:</th>             <td>Least Squares</td>  <th>  F-statistic:       </th> <td>   283.1</td>\n",
              "</tr>\n",
              "<tr>\n",
              "  <th>Date:</th>             <td>Fri, 06 Aug 2021</td> <th>  Prob (F-statistic):</th> <td>2.45e-48</td>\n",
              "</tr>\n",
              "<tr>\n",
              "  <th>Time:</th>                 <td>15:11:09</td>     <th>  Log-Likelihood:    </th> <td> -3783.2</td>\n",
              "</tr>\n",
              "<tr>\n",
              "  <th>No. Observations:</th>      <td>   399</td>      <th>  AIC:               </th> <td>   7570.</td>\n",
              "</tr>\n",
              "<tr>\n",
              "  <th>Df Residuals:</th>          <td>   397</td>      <th>  BIC:               </th> <td>   7578.</td>\n",
              "</tr>\n",
              "<tr>\n",
              "  <th>Df Model:</th>              <td>     1</td>      <th>                     </th>     <td> </td>   \n",
              "</tr>\n",
              "<tr>\n",
              "  <th>Covariance Type:</th>      <td>nonrobust</td>    <th>                     </th>     <td> </td>   \n",
              "</tr>\n",
              "</table>\n",
              "<table class=\"simpletable\">\n",
              "<tr>\n",
              "    <td></td>       <th>coef</th>     <th>std err</th>      <th>t</th>      <th>P>|t|</th>  <th>[0.025</th>    <th>0.975]</th>  \n",
              "</tr>\n",
              "<tr>\n",
              "  <th>const</th> <td>  681.7830</td> <td>  204.596</td> <td>    3.332</td> <td> 0.001</td> <td>  279.557</td> <td> 1084.009</td>\n",
              "</tr>\n",
              "<tr>\n",
              "  <th>LOS</th>   <td>  733.5962</td> <td>   43.603</td> <td>   16.825</td> <td> 0.000</td> <td>  647.876</td> <td>  819.317</td>\n",
              "</tr>\n",
              "</table>\n",
              "<table class=\"simpletable\">\n",
              "<tr>\n",
              "  <th>Omnibus:</th>       <td>578.440</td> <th>  Durbin-Watson:     </th>  <td>   2.013</td> \n",
              "</tr>\n",
              "<tr>\n",
              "  <th>Prob(Omnibus):</th> <td> 0.000</td>  <th>  Jarque-Bera (JB):  </th> <td>118174.704</td>\n",
              "</tr>\n",
              "<tr>\n",
              "  <th>Skew:</th>          <td> 7.386</td>  <th>  Prob(JB):          </th>  <td>    0.00</td> \n",
              "</tr>\n",
              "<tr>\n",
              "  <th>Kurtosis:</th>      <td>86.006</td>  <th>  Cond. No.          </th>  <td>    6.14</td> \n",
              "</tr>\n",
              "</table><br/><br/>Warnings:<br/>[1] Standard Errors assume that the covariance matrix of the errors is correctly specified."
            ],
            "text/plain": [
              "<class 'statsmodels.iolib.summary.Summary'>\n",
              "\"\"\"\n",
              "                            OLS Regression Results                            \n",
              "==============================================================================\n",
              "Dep. Variable:                 TOTCHG   R-squared:                       0.416\n",
              "Model:                            OLS   Adj. R-squared:                  0.415\n",
              "Method:                 Least Squares   F-statistic:                     283.1\n",
              "Date:                Fri, 06 Aug 2021   Prob (F-statistic):           2.45e-48\n",
              "Time:                        15:11:09   Log-Likelihood:                -3783.2\n",
              "No. Observations:                 399   AIC:                             7570.\n",
              "Df Residuals:                     397   BIC:                             7578.\n",
              "Df Model:                           1                                         \n",
              "Covariance Type:            nonrobust                                         \n",
              "==============================================================================\n",
              "                 coef    std err          t      P>|t|      [0.025      0.975]\n",
              "------------------------------------------------------------------------------\n",
              "const        681.7830    204.596      3.332      0.001     279.557    1084.009\n",
              "LOS          733.5962     43.603     16.825      0.000     647.876     819.317\n",
              "==============================================================================\n",
              "Omnibus:                      578.440   Durbin-Watson:                   2.013\n",
              "Prob(Omnibus):                  0.000   Jarque-Bera (JB):           118174.704\n",
              "Skew:                           7.386   Prob(JB):                         0.00\n",
              "Kurtosis:                      86.006   Cond. No.                         6.14\n",
              "==============================================================================\n",
              "\n",
              "Warnings:\n",
              "[1] Standard Errors assume that the covariance matrix of the errors is correctly specified.\n",
              "\"\"\""
            ]
          },
          "metadata": {
            "tags": []
          },
          "execution_count": 27
        }
      ]
    },
    {
      "cell_type": "markdown",
      "metadata": {
        "id": "DF75KyRnEAhx"
      },
      "source": [
        "Hence from the above summary of fitted regression model we get the following results,\n",
        "\n",
        "1. We observe that the intercept is 681.7830 which means that when the length of stay of patient in the hopital is 0 the hospital discharge cost will be 681.7830 that might be basically just the doctor's feetests charge and medicines cost for a patient because in this case patient is just coming consulting the doctor and going back home after taking medicines prescribed or tests done.\n",
        "\n",
        "2. Next we observe that the slope i.e. the regression coefficient is 733.5962 which means that when the   length of stay is increased by 1 day the hospital discharge cost increases by 733.5962 amount.\n",
        "\n",
        "3. Hence the fitted simple linear regression model is,\n",
        "             y=Beta0+(Beta1*x)\n",
        "             y=681.7830+(733.5962*x)\n",
        "\n",
        "Hospital discharge cost = 681.7830+(733.5962*Length of stay)\n",
        "             \n",
        "4. From the above summary it is also observed that the rvalue that is correlation of coefficient is 0.416 which is evident to the fact that the two variables are slightly positively correlated as mentioned previously observing the scatter plot. Also we observe that the rsquare value that is coefficient of determination is 0.416 which idicates that our model is not a good fit i.e.it is not a good model.\n",
        "\n",
        "Since p value is less than 0.05 we conclude that the regression coefficients are significant that mean length of stay is having significant effect on hospital discharge cost.\n",
        "\n",
        "Also from durbin watson statistic 2.013 we say that there is no autocorrelation between errors."
      ]
    },
    {
      "cell_type": "code",
      "metadata": {
        "id": "8UgOdRf3-im7",
        "colab": {
          "base_uri": "https://localhost:8080/",
          "height": 295
        },
        "outputId": "7bf95735-99b8-46d7-b5ff-71cad0213927"
      },
      "source": [
        "#Obtaining the visualization of fitted regression line to the train data.\n",
        "import matplotlib.pyplot as plt\n",
        "plt.scatter(x_train, y_train)\n",
        "plt.plot(x_train, 681.783000 + 733.596241*x_train, 'r')\n",
        "plt.title(\"Fitted Regression Line [Figure 6]\")\n",
        "plt.xlabel(\"Length of stay\")\n",
        "plt.ylabel(\"Hospital discharge cost\")\n",
        "plt.show()"
      ],
      "execution_count": null,
      "outputs": [
        {
          "output_type": "display_data",
          "data": {
            "image/png": "[encoded data removed]",
            "text/plain": [
              "<Figure size 432x288 with 1 Axes>"
            ]
          },
          "metadata": {
            "tags": [],
            "needs_background": "light"
          }
        }
      ]
    },
    {
      "cell_type": "markdown",
      "metadata": {
        "id": "UZNfIFUkHTG7"
      },
      "source": [
        "Thus, the fitted regressionline is obtained and we conclude that the variables are positively correlated."
      ]
    },
    {
      "cell_type": "markdown",
      "metadata": {
        "id": "oMCOCB22-im7"
      },
      "source": [
        "##### Residual Analysis"
      ]
    },
    {
      "cell_type": "markdown",
      "metadata": {
        "id": "1IM9i-ZeH6Iu"
      },
      "source": [
        "Now, since we have the built regression model, now we check the goodness of fit by validating the assumptions associated with the fitted model.\n",
        "The following are the assumtions regarding the fitted model,\n",
        "1.\tThe relationship beetween y and x1,x2,…x10 is linear.\n",
        "2.\tErrors have zero mean.\n",
        "3.\tAssumption of homoscedasticity, i.e. the errors have   constant variance.\n",
        "4.\tErrors are uncorrelated.\n",
        "5.\tErrors are normally distributed random variables.\n"
      ]
    },
    {
      "cell_type": "markdown",
      "metadata": {
        "id": "qyQyuGVoJsmj"
      },
      "source": [
        "To check if the relationship beetween y and x is linear.\n",
        "\n",
        "From the scatter plot i.e. figure 5 obtained above we can conclude that the relationship between y and x is linear."
      ]
    },
    {
      "cell_type": "code",
      "metadata": {
        "id": "yUv7TvFB-im8",
        "colab": {
          "base_uri": "https://localhost:8080/"
        },
        "outputId": "e7120663-ce34-479e-b342-2ab7f274a5e6"
      },
      "source": [
        "#Obtaining residuals corresponding to the fitted regression model.\n",
        "y_train_pred = model.predict(x_train_lm)\n",
        "resid = (y_train - y_train_pred)\n",
        "resid"
      ],
      "execution_count": null,
      "outputs": [
        {
          "output_type": "execute_result",
          "data": {
            "text/plain": [
              "306    -632.379241\n",
              "107   -1043.975482\n",
              "351     -53.764204\n",
              "335   -1427.360445\n",
              "142   -1009.975482\n",
              "          ...     \n",
              "321    -546.379241\n",
              "15    -1435.167963\n",
              "485    -875.975482\n",
              "125    -902.975482\n",
              "265    -702.975482\n",
              "Length: 399, dtype: float64"
            ]
          },
          "metadata": {
            "tags": []
          },
          "execution_count": 30
        }
      ]
    },
    {
      "cell_type": "markdown",
      "metadata": {
        "id": "8bus0PyPHjNi"
      },
      "source": [
        "Thus, residual of the fitted model are obtained above."
      ]
    },
    {
      "cell_type": "markdown",
      "metadata": {
        "id": "YYxMzLgHKQR3"
      },
      "source": [
        "2. To check if the mean of the residuals is 0."
      ]
    },
    {
      "cell_type": "code",
      "metadata": {
        "colab": {
          "base_uri": "https://localhost:8080/"
        },
        "id": "tHBEcyZoIj5W",
        "outputId": "9a979a34-c223-4131-eacb-1e25996c40a1"
      },
      "source": [
        "#Obtaining the mean of the residuals\n",
        "import statistics\n",
        "statistics.mean(resid)"
      ],
      "execution_count": null,
      "outputs": [
        {
          "output_type": "execute_result",
          "data": {
            "text/plain": [
              "-1.869136981087221e-12"
            ]
          },
          "metadata": {
            "tags": []
          },
          "execution_count": 39
        }
      ]
    },
    {
      "cell_type": "markdown",
      "metadata": {
        "id": "f1Hym74IJkSk"
      },
      "source": [
        "From the above calculation we observe that mean of residuals is 0 hence it can be concluded that the errors has mean zero"
      ]
    },
    {
      "cell_type": "code",
      "metadata": {
        "id": "DAZ7Rn_F-im8",
        "colab": {
          "base_uri": "https://localhost:8080/",
          "height": 356
        },
        "outputId": "ded414f4-9e69-4401-9349-388b90a3c81f"
      },
      "source": [
        "#Obtaining the distribution plot of residuals.\n",
        "fig = plt.figure()\n",
        "sns.distplot(resid, bins = 15)\n",
        "plt.title('Distribution of Residuals [Figure 7]', fontsize = 15)\n",
        "plt.xlabel('Residuals', fontsize = 15)\n",
        "plt.show()"
      ],
      "execution_count": null,
      "outputs": [
        {
          "output_type": "stream",
          "text": [
            "/usr/local/lib/python3.7/dist-packages/seaborn/distributions.py:2557: FutureWarning: `distplot` is a deprecated function and will be removed in a future version. Please adapt your code to use either `displot` (a figure-level function with similar flexibility) or `histplot` (an axes-level function for histograms).\n",
            "  warnings.warn(msg, FutureWarning)\n"
          ],
          "name": "stderr"
        },
        {
          "output_type": "display_data",
          "data": {
            "image/png": "[encoded data removed]",
            "text/plain": [
              "<Figure size 432x288 with 1 Axes>"
            ]
          },
          "metadata": {
            "tags": [],
            "needs_background": "light"
          }
        }
      ]
    },
    {
      "cell_type": "markdown",
      "metadata": {
        "id": "Yw6zqkf_MsnR"
      },
      "source": [
        "Thus, it is observed that the residuals are right skewed distributed."
      ]
    },
    {
      "cell_type": "markdown",
      "metadata": {
        "id": "Bpj_Fq3YK6pm"
      },
      "source": [
        "2. To check assumption of homscedasticity i.e. variance of residuals is constant."
      ]
    },
    {
      "cell_type": "code",
      "metadata": {
        "id": "5Ltz-3-S-im8",
        "colab": {
          "base_uri": "https://localhost:8080/",
          "height": 295
        },
        "outputId": "9209f84c-ba63-4df5-8fff-11574ce1ee10"
      },
      "source": [
        "#Obtaining the scatterplot between predicted values and residuals \n",
        "plt.scatter(resid, y_train_pred)\n",
        "plt.title(\"Residual vs fitted Graph [Figure 8]\")\n",
        "plt.xlabel(\"predicted values\")\n",
        "plt.ylabel(\"fitted values\")\n",
        "plt.show()"
      ],
      "execution_count": null,
      "outputs": [
        {
          "output_type": "display_data",
          "data": {
            "image/png": "[encoded data removed]",
            "text/plain": [
              "<Figure size 432x288 with 1 Axes>"
            ]
          },
          "metadata": {
            "tags": [],
            "needs_background": "light"
          }
        }
      ]
    },
    {
      "cell_type": "markdown",
      "metadata": {
        "id": "H4zwDYXMLB5R"
      },
      "source": [
        "Since, the points are not randomly distributed we conclude that the residuals do not have constant variance."
      ]
    },
    {
      "cell_type": "code",
      "metadata": {
        "id": "2-JbPQyI-im9",
        "colab": {
          "base_uri": "https://localhost:8080/",
          "height": 295
        },
        "outputId": "cbcc2937-547a-4429-edda-928a3e7be7dc"
      },
      "source": [
        "#Obtaining Length of stay vs Residuals.\n",
        "plt.scatter(x_train,resid)\n",
        "plt.title(\"Length of stay vs Residuals [Figure 9]\")\n",
        "plt.xlabel(\"Length of stay\")\n",
        "plt.ylabel(\"Residuals\")\n",
        "plt.show()\n"
      ],
      "execution_count": null,
      "outputs": [
        {
          "output_type": "display_data",
          "data": {
            "image/png": "[encoded data removed]",
            "text/plain": [
              "<Figure size 432x288 with 1 Axes>"
            ]
          },
          "metadata": {
            "tags": [],
            "needs_background": "light"
          }
        }
      ]
    },
    {
      "cell_type": "markdown",
      "metadata": {
        "id": "xzr-TiWXN16d"
      },
      "source": [
        "5. To check normality assumption i.e to check if the residuals are normally distributed."
      ]
    },
    {
      "cell_type": "code",
      "metadata": {
        "id": "8VytfgAM-im9",
        "colab": {
          "base_uri": "https://localhost:8080/",
          "height": 458
        },
        "outputId": "1bcfbedf-1559-4fbe-fd1d-e07ac8687df6"
      },
      "source": [
        "#Obtaining the Q-Q plot to check for the normality assumption.\n",
        "import scipy.stats as stats\n",
        "plt.figure(figsize=(7,7))\n",
        "stats.probplot(resid, dist=\"norm\", plot=plt)\n",
        "plt.title(\"Normal Q-Q Plot [Figure 10]\")\n",
        "plt.xlabel(\"Sample quantiles\")\n",
        "plt.ylabel(\"Theoretical quantiles\")\n",
        "plt.show()"
      ],
      "execution_count": null,
      "outputs": [
        {
          "output_type": "display_data",
          "data": {
            "image/png": "[encoded data removed]",
            "text/plain": [
              "<Figure size 504x504 with 1 Axes>"
            ]
          },
          "metadata": {
            "tags": [],
            "needs_background": "light"
          }
        }
      ]
    },
    {
      "cell_type": "markdown",
      "metadata": {
        "id": "FBBFddr0OByv"
      },
      "source": [
        "Thus, it is observed that the above plot is not a straight line hence the errors are not normally distributed."
      ]
    },
    {
      "cell_type": "markdown",
      "metadata": {
        "id": "NBOsPP8Y-im9"
      },
      "source": [
        "##### Prediction using test data"
      ]
    },
    {
      "cell_type": "code",
      "metadata": {
        "id": "n_jO_RbU-im9",
        "colab": {
          "base_uri": "https://localhost:8080/"
        },
        "outputId": "fb1c5ac9-20de-43c8-8915-c0787cf1e536"
      },
      "source": [
        "#Predicting the hospital discharge cost using the test data.\n",
        "x_test_lm = lm.add_constant(x_test)\n",
        "y_test_pred = model.predict(x_test_lm)\n",
        "y_test_pred"
      ],
      "execution_count": null,
      "outputs": [
        {
          "output_type": "execute_result",
          "data": {
            "text/plain": [
              "151    2148.975482\n",
              "424    2882.571723\n",
              "154    2148.975482\n",
              "190    2882.571723\n",
              "131    2148.975482\n",
              "          ...     \n",
              "50     4349.764204\n",
              "264    2882.571723\n",
              "34     2882.571723\n",
              "78     2148.975482\n",
              "223    1415.379241\n",
              "Length: 100, dtype: float64"
            ]
          },
          "metadata": {
            "tags": []
          },
          "execution_count": 35
        }
      ]
    },
    {
      "cell_type": "markdown",
      "metadata": {
        "id": "xWa8vjGwOP1c"
      },
      "source": [
        "Thus, we obtain above the predicted values for tes data using the trained model."
      ]
    },
    {
      "cell_type": "code",
      "metadata": {
        "id": "31J9W4lz-im-",
        "colab": {
          "base_uri": "https://localhost:8080/",
          "height": 295
        },
        "outputId": "a6d53ebd-7ab6-4f34-e1fa-cbb8065902e3"
      },
      "source": [
        "#Obtaining the visualization of fitted regression line to the test data.\n",
        "plt.scatter(x_test, y_test)\n",
        "plt.plot(x_test, y_test_pred, 'r')\n",
        "plt.title(\"Fitted regression line for Test data [Figure 11]\")\n",
        "plt.xlabel(\"Length of stay (test data) \")\n",
        "plt.ylabel(\"Hospital discharge cost (test data)\")\n",
        "plt.show()"
      ],
      "execution_count": null,
      "outputs": [
        {
          "output_type": "display_data",
          "data": {
            "image/png": "[encoded data removed]",
            "text/plain": [
              "<Figure size 432x288 with 1 Axes>"
            ]
          },
          "metadata": {
            "tags": [],
            "needs_background": "light"
          }
        }
      ]
    },
    {
      "cell_type": "markdown",
      "metadata": {
        "id": "qoF4H12VObKh"
      },
      "source": [
        "Above is the fitted regression line to the tested data whose equation is given by,\n",
        "Hospital discharge cost = 681.7830+(733.5962*Length of stay)"
      ]
    },
    {
      "cell_type": "markdown",
      "metadata": {
        "id": "at1lOY5nSWmS"
      },
      "source": [
        "CONCLUSION\n",
        "Since coeff of determination is also less than 0.5\n",
        "Since all the assumptions are not satisfied, Hence we conclude that the model obtained is not good. THat is length of stay do not describe the total discharge cost properly."
      ]
    }
  ]
}